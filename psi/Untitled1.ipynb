{
 "cells": [
  {
   "cell_type": "code",
   "execution_count": 1,
   "metadata": {},
   "outputs": [
    {
     "name": "stderr",
     "output_type": "stream",
     "text": [
      "┌ Info: Precompiling PyCall [438e738f-606a-5dbb-bf0a-cddfbfd45ab0]\n",
      "└ @ Base loading.jl:1186\n",
      "┌ Warning: Module Conda with build ID 31612930917402 is missing from the cache.\n",
      "│ This may mean Conda [8f4d0f93-b110-5947-807f-2305c1781a2d] does not support precompilation but is imported by a module that does.\n",
      "└ @ Base loading.jl:947\n",
      "proj_create: init=epsg:/init=IGNF: syntax not supported in non-PROJ4 emulation mode\n",
      "┌ Info: Precompiling Plots [91a5bcdd-55d7-5caf-9e0b-520d859cae80]\n",
      "└ @ Base loading.jl:1186\n",
      "┌ Warning: Module JSON with build ID 31609151785648 is missing from the cache.\n",
      "│ This may mean JSON [682c06a0-de6a-54ab-a142-c8b1cf79cde6] does not support precompilation but is imported by a module that does.\n",
      "└ @ Base loading.jl:947\n"
     ]
    }
   ],
   "source": [
    "include(\"../ToolBox/ToolBox.jl\")\n",
    "using .ToolBox\n",
    "using .UnitTest\n",
    "using .Geometry\n",
    "using .Load\n",
    "using .Misc\n",
    "using Plots"
   ]
  },
  {
   "cell_type": "code",
   "execution_count": 2,
   "metadata": {},
   "outputs": [
    {
     "data": {
      "text/plain": [
       "(\"2017-04-08T05:39:51.390773\", \"2017-04-08T05:40:19.352505\")"
      ]
     },
     "execution_count": 2,
     "metadata": {},
     "output_type": "execute_result"
    }
   ],
   "source": [
    "## LOADING\n",
    "path_to_gamma_json = \"/Users/eyu/Google Drive/DTU/10_semester/Persistent_scaterer/phase bug investigation/forEigil20200407/srdem_subset.json\"\n",
    "gamma_dem = UnitTest.gamma_dem_json(path_to_gamma_json)\n",
    "\n",
    "master_safe_path = \"/Users/eyu/local_data/data/phase_bug/BB/S1B_IW_SLC__1SDV_20170408T053951_20170408T054019_005065_008DBC_AEEF.SAFE\"\n",
    "m_data_path, m_meta_path, m_calibration_path = Load.slc_paths(master_safe_path, \"VV\", 3);\n",
    "m_meta = Load.slc_meta(m_meta_path);\n",
    "m_pod = Load.precise_orbit(Load.pod_path(m_meta[\"t_0\"], m_meta[\"mission_id\"],\n",
    "                        \"/Users/eyu/local_data/data/phase_bug/POD\"), m_meta[\"t_0\"])\n",
    "m_start_time, m_stop_time = UnitTest.meta_start_datetime(m_meta_path)"
   ]
  },
  {
   "cell_type": "code",
   "execution_count": 4,
   "metadata": {},
   "outputs": [
    {
     "ename": "KeyError",
     "evalue": "KeyError: key 1 not found",
     "output_type": "error",
     "traceback": [
      "KeyError: key 1 not found",
      "",
      "Stacktrace:",
      " [1] getindex(::Dict{Any,Any}, ::Int64) at ./dict.jl:478",
      " [2] top-level scope at In[4]:1"
     ]
    }
   ],
   "source": []
  },
  {
   "cell_type": "code",
   "execution_count": null,
   "metadata": {},
   "outputs": [],
   "source": [
    "using JSON\n",
    "\n",
    "path_to_gamma_json = \"/Users/eyu/Google Drive/DTU/10_semester/Persistent_scaterer/phase bug investigation/forEigil20200407/srdem_subset.json\"\n",
    "srdem_subset = Dict()\n",
    "open(path_to_gamma_json, \"r\") do f\n",
    "    global srdem_subset\n",
    "    dicttxt = read(f)  # file information to string\n",
    "    srdem_subset = JSON.parse(String(dicttxt))  # parse and transform data\n",
    "end\n",
    "\n"
   ]
  },
  {
   "cell_type": "code",
   "execution_count": null,
   "metadata": {},
   "outputs": [],
   "source": [
    "# coded like this for now,\n",
    "# TODO: look into loading gamma .par and get these params out\n",
    "c = 299792458\n",
    "gamma_meta = Dict()\n",
    "gamma_meta[\"t_start\"] = m_meta[\"t_start\"] + 20394.149330 - UnitTest.seconds_since_midnight(m_start_time)\n",
    "gamma_meta[\"t_stop\"] = m_meta[\"t_stop\"] + 20402.797055 - UnitTest.seconds_since_midnight(m_stop_time)\n",
    "gamma_meta[\"right_looking\"] = true\n",
    "gamma_meta[\"incidence_angle_mid\"] = 43.5926\n",
    "gamma_meta[\"range_sampling_rate\"] = 6.4345241e+07\n",
    "gamma_meta[\"azimuth_frequency\"] = 486.4863103\n",
    "gamma_meta[\"slant_range_time\"] = 902747.0461 * 2 / c"
   ]
  },
  {
   "cell_type": "code",
   "execution_count": null,
   "metadata": {},
   "outputs": [],
   "source": [
    "# input\n",
    "master_view = [1:size(gamma_dem)[1], 1:size(gamma_dem)[2]]\n",
    "stride = (1,1)"
   ]
  },
  {
   "cell_type": "code",
   "execution_count": null,
   "metadata": {},
   "outputs": [],
   "source": [
    "## FIRST PART OF LUT, INTERPOLATE HEIGHTS\n",
    "lut  = Dict{String,Any}()\n",
    "\n",
    "line = collect(master_view[1])\n",
    "sample = collect(master_view[2])\n",
    "\n",
    "# Get master line and sample\n",
    "master_line, master_sample = Misc.flatten(line, sample)\n",
    "\n",
    "line_sample = hcat(master_line, master_sample)\n",
    "heights = vec(gamma_dem)\n",
    "state_vectors = m_pod[1]\n",
    "time_state_vectors = m_pod[2]\n",
    "\n",
    "lat_lon = Geometry.to_lat_lon(line_sample, heights, state_vectors, time_state_vectors, gamma_meta; c = 299792458)"
   ]
  },
  {
   "cell_type": "code",
   "execution_count": null,
   "metadata": {},
   "outputs": [],
   "source": [
    "json_path = \"/Users/eyu/Google Drive/DTU/10_semester/Persistent_scaterer/phase bug investigation/forEigil20200407/test.json\"\n",
    "gamma_lut_dictionary = Dict()\n",
    "open(json_path, \"r\") do f\n",
    "    global gamma_lut_dictionary\n",
    "    dicttxt = read(f)  # file information to string\n",
    "    #print(dicttxt)\n",
    "    gamma_lut_dictionary = JSON.parse(String(dicttxt))  # parse and transform data\n",
    "end"
   ]
  },
  {
   "cell_type": "code",
   "execution_count": null,
   "metadata": {},
   "outputs": [],
   "source": [
    "\n",
    "gamma_lats = gamma_lut_dictionary[3][\"values\"]\n",
    "gamma_lons = gamma_lut_dictionary[4][\"values\"]\n",
    "\n",
    "lat_grid = reshape(lat_lon[:, 1], (length(line), length(sample)))\n",
    "lon_grid = reshape(lat_lon[:, 2], (length(line), length(sample)))\n",
    "\n",
    "indices_1 = gamma_lut_dictionary[1][\"values\"]\n",
    "indices_2 = gamma_lut_dictionary[2][\"values\"]\n",
    "\n",
    "latitude_difference = Array{Float64}(undef, 100, 1)\n",
    "longitude_difference = Array{Float64}(undef, 100, 1)\n",
    "\n",
    "for i in range(1, stop=100)\n",
    "    latitude_difference[i] = gamma_lats[i] - lat_grid[indices_2[i], indices_1[i]]\n",
    "    longitude_difference[i] = gamma_lons[i] - lon_grid[indices_2[i], indices_1[i]]\n",
    "end"
   ]
  },
  {
   "cell_type": "code",
   "execution_count": null,
   "metadata": {},
   "outputs": [],
   "source": [
    "scatter(gamma_lons, longitude_difference)\n",
    "scatter(gamma_lats, latitude_difference)\n",
    "\n",
    "maximum(longitude_difference) * cosd(56) * 111120\n",
    "maximum(latitude_difference) * 111120\n",
    "\n",
    "scatter(gamma_lons, longitude_difference .* cosd(56) .* 111120)\n",
    "scatter(gamma_lats, latitude_difference .* 111120)\n",
    "\n",
    "using JLD\n",
    "\n",
    "save(\"longitude_difference.jld\", \"diff_in_deg\", longitude_difference)\n",
    "save(\"latitude_difference.jld\", \"diff_in_deg\", latitude_difference)"
   ]
  }
 ],
 "metadata": {
  "kernelspec": {
   "display_name": "Julia 1.1.1",
   "language": "julia",
   "name": "julia-1.1"
  },
  "language_info": {
   "file_extension": ".jl",
   "mimetype": "application/julia",
   "name": "julia",
   "version": "1.1.1"
  }
 },
 "nbformat": 4,
 "nbformat_minor": 2
}
