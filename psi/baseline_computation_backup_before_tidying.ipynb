{
 "cells": [
  {
   "cell_type": "markdown",
   "metadata": {},
   "source": [
    "### Computation of the baseline"
   ]
  },
  {
   "cell_type": "markdown",
   "metadata": {},
   "source": [
    "#### Load relevante moduler"
   ]
  },
  {
   "cell_type": "code",
   "execution_count": 1,
   "metadata": {},
   "outputs": [
    {
     "name": "stderr",
     "output_type": "stream",
     "text": [
      "proj_create: init=epsg:/init=IGNF: syntax not supported in non-PROJ4 emulation mode\n"
     ]
    }
   ],
   "source": [
    "include(\"../ToolBox/ToolBox.jl\")\n",
    "using .ToolBox\n",
    "using .Geometry\n",
    "using .SlcUtil\n",
    "using .Load\n",
    "using .Misc\n",
    "using PyCall\n",
    "scipy_interp = pyimport(\"scipy.interpolate\");\n",
    "ndimage = pyimport(\"scipy.ndimage\");\n",
    "rasterio = PyCall.pyimport(\"rasterio\")\n",
    "\n",
    "using LinearAlgebra\n",
    "using Dates"
   ]
  },
  {
   "cell_type": "code",
   "execution_count": 2,
   "metadata": {},
   "outputs": [
    {
     "data": {
      "text/plain": [
       "days_between_acquisitions (generic function with 1 method)"
      ]
     },
     "execution_count": 2,
     "metadata": {},
     "output_type": "execute_result"
    }
   ],
   "source": [
    "\"\"\"\n",
    "Load dem subset, wraps dem function.\n",
    "\"\"\"\n",
    "function dem_subset(dem_path, meta, view; nan_fill= 0, padding=[90,90])\n",
    "    footprint = SlcUtil.footprint(meta, view)\n",
    "    latlon_window = ((minimum(footprint[1]),maximum(footprint[1])),(minimum(footprint[2]),maximum(footprint[2])))\n",
    "    dem = Load.dem(dem_path, latlon_window; nan_fill= 0, padding=padding);\n",
    "    return dem\n",
    "end\n",
    "\n",
    "function mosaic2normal_view(mosaic_view, meta)\n",
    "    @assert mosaic_view[1].start >= meta[\"burst_meta\"][\"first_line_mosaic\"][1]\n",
    "    @assert mosaic_view[1].stop <= (meta[\"burst_meta\"][\"first_line_mosaic\"][end] + meta[\"lines_per_burst\"])\n",
    "    mosaic_view\n",
    "    \n",
    "    start_burst = findlast(\n",
    "    meta[\"burst_meta\"][\"first_line_mosaic\"].<= mosaic_view[1].start)\n",
    "\n",
    "    lines_in_first_burst = mosaic_view[1].start -meta[\"burst_meta\"][\"first_line_mosaic\"][start_burst] +1\n",
    "    line_start = lines_in_first_burst + (start_burst-1)* meta[\"lines_per_burst\"]\n",
    "\n",
    "    end_burst = 0\n",
    "    if mosaic_view[1].stop < meta[\"lines_per_burst\"]\n",
    "        end_burst = 1\n",
    "    else\n",
    "        end_burst = findlast(\n",
    "            (meta[\"burst_meta\"][\"first_line_mosaic\"] .+meta[\"lines_per_burst\"] ).< mosaic_view[1].stop)+1\n",
    "    end\n",
    "\n",
    "    lines_in_last_burst =  mosaic_view[1].stop - meta[\"burst_meta\"][\"first_line_mosaic\"][end_burst] +1\n",
    "    line_end = lines_in_last_burst+ (end_burst-1)* meta[\"lines_per_burst\"]\n",
    "    return [line_start:line_end,mosaic_view[2]]\n",
    "end\n",
    "    \n",
    "function extract_datetime(SAFE_path; start_date=true)\n",
    "    extract_SAFE_name = split(SAFE_path, \"/\")[end]\n",
    "    if start_date\n",
    "        date_string = split(extract_SAFE_name, \"_\")[6]\n",
    "    else\n",
    "        date_string = split(extract_SAFE_name, \"_\")[7]\n",
    "    end\n",
    "    year = date_string[1:4]\n",
    "    month = date_string[5:6]\n",
    "    day = date_string[7:8]\n",
    "    hour = date_string[10:11]\n",
    "    minute = date_string[12:13]\n",
    "    second = date_string[14:end]\n",
    "    date_int = parse.(Int, [year, month, day, hour, minute, second])\n",
    "    return DateTime(date_int...)\n",
    "end\n",
    "\n",
    "function days_between_acquisitions(date1, date2)\n",
    "    return Dates.value(Date(date1) - Date(date2))\n",
    "end"
   ]
  },
  {
   "cell_type": "code",
   "execution_count": 25,
   "metadata": {},
   "outputs": [
    {
     "data": {
      "text/plain": [
       "baseline_perpendicular (generic function with 1 method)"
      ]
     },
     "execution_count": 25,
     "metadata": {},
     "output_type": "execute_result"
    }
   ],
   "source": [
    "#input: view, dem, meta\n",
    "function get_elevation(view, dem, meta, pod)\n",
    "    # initilize lut\n",
    "    line, sample = Misc.flatten(collect(view[1]), collect(view[2])) # line, sample\n",
    "\n",
    "    # Get heights\n",
    "    lat_dem, lon_dem, heights = Misc.flatten(dem...)\n",
    "    line_sample_dem = to_line_sample(hcat(lat_dem, lon_dem), heights, pod..., meta);\n",
    "    elevation = Misc.interp(line_sample_dem[:,1], line_sample_dem[:,2], heights,\n",
    "                            line, sample)\n",
    "    @assert sum(isnan.(elevation)) == 0\n",
    "    return elevation\n",
    "end\n",
    "\n",
    "function satellite_orbit(line, meta, pod)\n",
    "    azimuth_time = meta[\"t_start\"] + (line - 1) * 1 / meta[\"azimuth_frequency\"]\n",
    "    state_vectors_poly, state_vectors_mean, state_vectors_std = Geometry.satellite_trajectory(pod[1], pod[2], meta[\"t_start\"], meta[\"t_stop\"]);\n",
    "    tmp = Geometry.polyval_state_vectors(state_vectors_poly, azimuth_time, state_vectors_mean, state_vectors_std)\n",
    "    sat2_position, sat2_velocity = tmp[1:3], tmp[4:6]\n",
    "    \n",
    "    return sat2_position, sat2_velocity\n",
    "end\n",
    "\n",
    "function line_of_sight_point(line, pixel_position, meta, pod)\n",
    "    sat1_position, _ = satellite_orbit(line, meta, pod)\n",
    "    los = sat1_position .- pixel_position\n",
    "    return los\n",
    "end\n",
    "\n",
    "function baseline_perpendicular(mosaic_view, dem, meta, pod)\n",
    "    # get sample and line corresponding to view\n",
    "    line1, sample1 = Misc.flatten(mosaic_view[1], mosaic_view[2])  # line, sample. Needed input structure for to_lat_lon\n",
    "    \n",
    "    # get elevation at view\n",
    "    height = get_elevation(mosaic_view, dem, meta[1], pod[1])\n",
    "    \n",
    "    # compute lat, lon from line sample and height\n",
    "    lat, lon = Geometry.to_lat_lon(hcat(line1, sample1), height, pod[1][1], pod[1][2], meta[1])\n",
    "    \n",
    "    # get the position of the pixel on ground in cartesian coordinates\n",
    "    pixel_position = Geometry.ellipsoid2xyz(deg2rad(lat), deg2rad(lon), height...)\n",
    "    \n",
    "    # compute the line of sight vector\n",
    "    los1 = line_of_sight_point(line1[1], pixel_position, meta[1], pod[1])\n",
    "    \n",
    "    # compute the 2nd line of sight vector based on lat lon on ground\n",
    "    line2, sample2 = to_line_sample(hcat(lat, lon), height, pod[2][1], pod[2][2], meta[2])\n",
    "    los2 = line_of_sight_point(line2[1], pixel_position, meta[2], pod[2])\n",
    "    \n",
    "    # find the correct sign\n",
    "    s = sign(norm(los1) - norm(los2));\n",
    "    \n",
    "    # the area of the parallelogram spanned by the unit vector and the direct baseline is equal to the perpendicular baseline\n",
    "    perpendicular_baseline = s * norm(cross(los1 - los2, los1 ./ norm(los1)))\n",
    "    return perpendicular_baseline\n",
    "end"
   ]
  },
  {
   "cell_type": "markdown",
   "metadata": {},
   "source": [
    "#### 0) Load relevant data"
   ]
  },
  {
   "cell_type": "markdown",
   "metadata": {},
   "source": [
    "##### Paths"
   ]
  },
  {
   "cell_type": "code",
   "execution_count": 4,
   "metadata": {},
   "outputs": [],
   "source": [
    "dem_path = \"/Users/eyu/local_data/data/srtm_38_01/srtm_38_01.tif\"\n",
    "slc1_safe_path = \"/Users/eyu/local_data/data/phase_bug/BB/S1B_IW_SLC__1SDV_20170408T053951_20170408T054019_005065_008DBC_AEEF.SAFE\"\n",
    "slc2_safe_path = \"/Users/eyu/local_data/data/phase_bug/BB/S1B_IW_SLC__1SDV_20170420T053952_20170420T054019_005240_0092C6_3820.SAFE\";"
   ]
  },
  {
   "cell_type": "markdown",
   "metadata": {},
   "source": [
    "##### Load SLC1"
   ]
  },
  {
   "cell_type": "code",
   "execution_count": 5,
   "metadata": {},
   "outputs": [],
   "source": [
    "slc1_data_path, slc1_meta_path, slc1_calibration_path = Load.slc_paths(slc1_safe_path, \"VV\", 3);\n",
    "slc1_meta = Load.slc_meta(slc1_meta_path);\n",
    "slc1_pod = Load.precise_orbit(Load.pod_path(slc1_meta[\"t_0\"], slc1_meta[\"mission_id\"],\n",
    "                        \"/Users/eyu/local_data/data/phase_bug/POD\"), slc1_meta[\"t_0\"]);\n",
    "#slc1_start_time, slc1_stop_time = UnitTest.meta_start_datetime(slc1_meta_path);\n"
   ]
  },
  {
   "cell_type": "markdown",
   "metadata": {},
   "source": [
    "##### Load SLC2"
   ]
  },
  {
   "cell_type": "code",
   "execution_count": 6,
   "metadata": {},
   "outputs": [],
   "source": [
    "slc2_data_path, slc2_meta_path, slc2_calibration_path = Load.slc_paths(slc2_safe_path, \"VV\", 3);\n",
    "slc2_meta = Load.slc_meta(slc2_meta_path);\n",
    "slc2_pod = Load.precise_orbit(Load.pod_path(slc2_meta[\"t_0\"], slc2_meta[\"mission_id\"],\n",
    "                        \"/Users/eyu/local_data/data/phase_bug/POD\"), slc2_meta[\"t_0\"]);"
   ]
  },
  {
   "cell_type": "markdown",
   "metadata": {},
   "source": [
    "##### Load DEM"
   ]
  },
  {
   "cell_type": "code",
   "execution_count": 7,
   "metadata": {},
   "outputs": [],
   "source": [
    "padding = 0;\n",
    "burst_middle = Int((slc1_meta[\"lines_per_burst\"] * slc1_meta[\"burst_count\"]) / 2);\n",
    "swath_middle = Int((slc1_meta[\"samples_per_burst\"]) / 2);\n",
    "mosaic_view = [(burst_middle):(burst_middle), swath_middle:swath_middle];  # in mosaic geometry\n",
    "#mosaic_view = [2104:2104, 12665:12665];  # in mosaic geometry\n",
    "\n",
    "interest_view = mosaic2normal_view(mosaic_view, slc1_meta);  # in raw geometry"
   ]
  },
  {
   "cell_type": "code",
   "execution_count": 9,
   "metadata": {},
   "outputs": [
    {
     "name": "stderr",
     "output_type": "stream",
     "text": [
      "proj_create: init=epsg:/init=IGNF: syntax not supported in non-PROJ4 emulation mode\n"
     ]
    }
   ],
   "source": [
    "dem = dem_subset(dem_path, slc1_meta, interest_view; nan_fill= 0, padding=[180,180]);"
   ]
  },
  {
   "cell_type": "markdown",
   "metadata": {},
   "source": [
    "#### Compute perpendicular baseline"
   ]
  },
  {
   "cell_type": "code",
   "execution_count": 26,
   "metadata": {},
   "outputs": [
    {
     "data": {
      "text/plain": [
       "-48.624954511700345"
      ]
     },
     "execution_count": 26,
     "metadata": {},
     "output_type": "execute_result"
    }
   ],
   "source": [
    "baseline_perpendicular(interest_view, dem, [slc1_meta, slc2_meta], [slc1_pod, slc2_pod])"
   ]
  },
  {
   "cell_type": "code",
   "execution_count": 42,
   "metadata": {},
   "outputs": [
    {
     "data": {
      "text/plain": [
       "-12"
      ]
     },
     "execution_count": 42,
     "metadata": {},
     "output_type": "execute_result"
    }
   ],
   "source": [
    "days_between_acquisitions(extract_datetime(slc1_safe_path), extract_datetime(slc2_safe_path))"
   ]
  },
  {
   "cell_type": "markdown",
   "metadata": {},
   "source": [
    "# Step by step solution:"
   ]
  },
  {
   "cell_type": "markdown",
   "metadata": {},
   "source": [
    "#### Get line, sample, height from point of interest"
   ]
  },
  {
   "cell_type": "code",
   "execution_count": 31,
   "metadata": {},
   "outputs": [
    {
     "data": {
      "text/plain": [
       "68.92261268269999"
      ]
     },
     "execution_count": 31,
     "metadata": {},
     "output_type": "execute_result"
    }
   ],
   "source": [
    "line1, sample1 = Misc.flatten(interest_view[1], interest_view[2])  # line, sample. Needed input structure for to_lat_lon\n",
    "height = get_elevation(interest_view, dem, slc1_meta, slc1_pod)"
   ]
  },
  {
   "cell_type": "markdown",
   "metadata": {},
   "source": [
    "#### Compute the corresponding lat lon coordinates, and convert to cartesian coordinates"
   ]
  },
  {
   "cell_type": "code",
   "execution_count": 32,
   "metadata": {},
   "outputs": [],
   "source": [
    "lat, lon = Geometry.to_lat_lon(hcat(line1, sample1), height, slc1_pod[1], slc1_pod[2], slc1_meta)\n",
    "pixel_position = Geometry.ellipsoid2xyz(deg2rad(lat), deg2rad(lon), height...)"
   ]
  },
  {
   "cell_type": "markdown",
   "metadata": {},
   "source": [
    "#### Compute the satellite position at the azimuth time corresponding to the line of interest"
   ]
  },
  {
   "cell_type": "code",
   "execution_count": 33,
   "metadata": {},
   "outputs": [
    {
     "data": {
      "text/plain": [
       "([3.94765e6, 1.17327e6, 5.74427e6], [6285.76, -359.364, -4236.19])"
      ]
     },
     "execution_count": 33,
     "metadata": {},
     "output_type": "execute_result"
    }
   ],
   "source": [
    "azimuth_time = slc1_meta[\"t_start\"] + (line[1] - 1) * 1 / slc1_meta[\"azimuth_frequency\"]\n",
    "state_vectors_poly, state_vectors_mean, state_vectors_std = Geometry.satellite_trajectory(slc1_pod[1], slc1_pod[2], slc1_meta[\"t_start\"], slc1_meta[\"t_stop\"]);\n",
    "tmp = Geometry.polyval_state_vectors(state_vectors_poly, azimuth_time, state_vectors_mean, state_vectors_std)\n",
    "sat1_position, sat1_velocity = tmp[1:3], tmp[4:6];"
   ]
  },
  {
   "cell_type": "markdown",
   "metadata": {},
   "source": [
    "#### Compute line of sight 1"
   ]
  },
  {
   "cell_type": "code",
   "execution_count": 35,
   "metadata": {},
   "outputs": [
    {
     "data": {
      "text/plain": [
       "3-element Array{Float64,1}:\n",
       " 376165.2779512401 \n",
       " 691432.9649579779 \n",
       " 499507.38678614516"
      ]
     },
     "execution_count": 35,
     "metadata": {},
     "output_type": "execute_result"
    }
   ],
   "source": [
    "LOS1 = sat1_position .- pixel_position"
   ]
  },
  {
   "cell_type": "markdown",
   "metadata": {},
   "source": [
    "#### Compute line sample in slc2 geometry from the lat, lon point"
   ]
  },
  {
   "cell_type": "code",
   "execution_count": null,
   "metadata": {},
   "outputs": [],
   "source": [
    "line2, sample2 = to_line_sample(hcat(lat, lon), height, slc2_pod[1], slc2_pod[2], slc2_meta)"
   ]
  },
  {
   "cell_type": "markdown",
   "metadata": {},
   "source": [
    "#### Compute the satellite position at the azimuth time corresponding to the line of interest"
   ]
  },
  {
   "cell_type": "code",
   "execution_count": 37,
   "metadata": {},
   "outputs": [
    {
     "data": {
      "text/plain": [
       "([3.94765e6, 1.17334e6, 5.74426e6], [6285.77, -359.421, -4236.19])"
      ]
     },
     "execution_count": 37,
     "metadata": {},
     "output_type": "execute_result"
    }
   ],
   "source": [
    "azimuth_time = slc2_meta[\"t_start\"] + (line2[1] - 1) * 1 / slc2_meta[\"azimuth_frequency\"]\n",
    "state_vectors_poly, state_vectors_mean, state_vectors_std = Geometry.satellite_trajectory(slc2_pod[1], slc2_pod[2], slc2_meta[\"t_start\"], slc2_meta[\"t_stop\"]);\n",
    "tmp = Geometry.polyval_state_vectors(state_vectors_poly, azimuth_time, state_vectors_mean, state_vectors_std)\n",
    "sat2_position, sat2_velocity = tmp[1:3], tmp[4:6];"
   ]
  },
  {
   "cell_type": "markdown",
   "metadata": {},
   "source": [
    "#### Compute line of sight 2"
   ]
  },
  {
   "cell_type": "code",
   "execution_count": 39,
   "metadata": {},
   "outputs": [
    {
     "data": {
      "text/plain": [
       "3-element Array{Float64,1}:\n",
       " 376166.50496910745\n",
       " 691495.0362815189 \n",
       " 499495.7727967473 "
      ]
     },
     "execution_count": 39,
     "metadata": {},
     "output_type": "execute_result"
    }
   ],
   "source": [
    "LOS2 = sat2_position .- pixel_position"
   ]
  },
  {
   "cell_type": "markdown",
   "metadata": {},
   "source": [
    "#### Calculate the perpenducular baseline.\n",
    "The sign keeps sign across many baseline computations consistent wrt to a given master. The norm of the cross product is the area of the parallelogram spanned by the direct baseline btw slc1 and slc2 and the unit vector of slc1. Hence the area only depends on length of perpendicular baseline btw slc 1 and slc2."
   ]
  },
  {
   "cell_type": "code",
   "execution_count": 40,
   "metadata": {},
   "outputs": [],
   "source": [
    "s = sign(norm(LOS1) - norm(LOS2));"
   ]
  },
  {
   "cell_type": "code",
   "execution_count": 41,
   "metadata": {},
   "outputs": [
    {
     "data": {
      "text/plain": [
       "-48.624954511700345"
      ]
     },
     "execution_count": 41,
     "metadata": {},
     "output_type": "execute_result"
    }
   ],
   "source": [
    "bperp = s * norm(cross(LOS1 - LOS2, LOS1 ./ norm(LOS1)))"
   ]
  },
  {
   "cell_type": "markdown",
   "metadata": {},
   "source": [
    "#### The days btw the acquisitions"
   ]
  },
  {
   "cell_type": "code",
   "execution_count": 212,
   "metadata": {},
   "outputs": [
    {
     "data": {
      "text/plain": [
       "-12"
      ]
     },
     "execution_count": 212,
     "metadata": {},
     "output_type": "execute_result"
    }
   ],
   "source": [
    "days_between_acquisitions(extract_datetime(slc1_safe_path), extract_datetime(slc2_safe_path))"
   ]
  },
  {
   "cell_type": "code",
   "execution_count": 183,
   "metadata": {},
   "outputs": [
    {
     "data": {
      "text/plain": [
       "1"
      ]
     },
     "execution_count": 183,
     "metadata": {},
     "output_type": "execute_result"
    }
   ],
   "source": []
  },
  {
   "cell_type": "code",
   "execution_count": 193,
   "metadata": {},
   "outputs": [
    {
     "data": {
      "text/plain": [
       "([8530], [12665])"
      ]
     },
     "execution_count": 193,
     "metadata": {},
     "output_type": "execute_result"
    }
   ],
   "source": [
    "line, sample = Misc.flatten(interest_view[1], interest_view[2])  # line, sample. Needed input structure for to_lat_lon"
   ]
  },
  {
   "cell_type": "code",
   "execution_count": 194,
   "metadata": {},
   "outputs": [
    {
     "data": {
      "text/plain": [
       "1-element Array{Float64,1}:\n",
       " 0.0"
      ]
     },
     "execution_count": 194,
     "metadata": {},
     "output_type": "execute_result"
    }
   ],
   "source": [
    "height = get_elevation(interest_view, dem, slc1_meta, slc1_pod)"
   ]
  },
  {
   "cell_type": "code",
   "execution_count": 195,
   "metadata": {},
   "outputs": [
    {
     "data": {
      "text/plain": [
       "1×2 Array{Float64,2}:\n",
       " 55.6852  7.68356"
      ]
     },
     "execution_count": 195,
     "metadata": {},
     "output_type": "execute_result"
    }
   ],
   "source": [
    "function line_of_sight_point(line_sample, height, meta, pod)\n",
    "\n",
    "    sat1_position, sat1_velocity = satellite_orbit(line_sample[1], meta, pod)\n",
    "    los = sat1_position .- pixel_position\n",
    "    return los\n",
    "end"
   ]
  },
  {
   "cell_type": "code",
   "execution_count": 197,
   "metadata": {},
   "outputs": [
    {
     "data": {
      "text/plain": [
       "(3.5714867991038603e6, 481840.1801384752, 5.24476468370043e6)"
      ]
     },
     "execution_count": 197,
     "metadata": {},
     "output_type": "execute_result"
    }
   ],
   "source": []
  },
  {
   "cell_type": "code",
   "execution_count": 217,
   "metadata": {},
   "outputs": [
    {
     "data": {
      "text/plain": [
       "([3.94765e6, 1.17327e6, 5.74427e6], [6285.76, -359.364, -4236.19])"
      ]
     },
     "execution_count": 217,
     "metadata": {},
     "output_type": "execute_result"
    }
   ],
   "source": []
  },
  {
   "cell_type": "code",
   "execution_count": 218,
   "metadata": {},
   "outputs": [
    {
     "data": {
      "text/plain": [
       "3-element Array{Float64,1}:\n",
       " 376165.2779512401 \n",
       " 691432.9649579779 \n",
       " 499507.38678614516"
      ]
     },
     "execution_count": 218,
     "metadata": {},
     "output_type": "execute_result"
    }
   ],
   "source": []
  },
  {
   "cell_type": "code",
   "execution_count": 202,
   "metadata": {},
   "outputs": [
    {
     "data": {
      "text/plain": [
       "1×2 Array{Float64,2}:\n",
       " 8530.25  12682.3"
      ]
     },
     "execution_count": 202,
     "metadata": {},
     "output_type": "execute_result"
    }
   ],
   "source": [
    "line2, sample2 = to_line_sample(hcat(lat, lon), height, slc2_pod[1], slc2_pod[2], slc2_meta)"
   ]
  },
  {
   "cell_type": "code",
   "execution_count": 203,
   "metadata": {},
   "outputs": [
    {
     "data": {
      "text/plain": [
       "69.53920089416022"
      ]
     },
     "execution_count": 203,
     "metadata": {},
     "output_type": "execute_result"
    }
   ],
   "source": []
  },
  {
   "cell_type": "code",
   "execution_count": 204,
   "metadata": {},
   "outputs": [],
   "source": [
    "azimuth_time = slc2_meta[\"t_start\"] + (line2[1] - 1) * 1 / slc2_meta[\"azimuth_frequency\"]\n",
    "state_vectors_poly, state_vectors_mean, state_vectors_std = Geometry.satellite_trajectory(slc2_pod[1], slc2_pod[2], slc2_meta[\"t_start\"], slc2_meta[\"t_stop\"]);\n",
    "tmp = Geometry.polyval_state_vectors(state_vectors_poly, azimuth_time, state_vectors_mean, state_vectors_std)\n",
    "sat2_position, sat2_velocity = tmp[1:3], tmp[4:6]"
   ]
  },
  {
   "cell_type": "code",
   "execution_count": 205,
   "metadata": {},
   "outputs": [
    {
     "data": {
      "text/plain": [
       "([3.94765e6, 1.17334e6, 5.74426e6], [6285.77, -359.421, -4236.19])"
      ]
     },
     "execution_count": 205,
     "metadata": {},
     "output_type": "execute_result"
    }
   ],
   "source": []
  },
  {
   "cell_type": "code",
   "execution_count": 206,
   "metadata": {},
   "outputs": [
    {
     "data": {
      "text/plain": [
       "3-element Array{Float64,1}:\n",
       " 376166.50496910745\n",
       " 691495.0362815189 \n",
       " 499495.7727967473 "
      ]
     },
     "execution_count": 206,
     "metadata": {},
     "output_type": "execute_result"
    }
   ],
   "source": [
    "LOS2 = sat2_position .- pixel1_position"
   ]
  },
  {
   "cell_type": "code",
   "execution_count": 219,
   "metadata": {},
   "outputs": [],
   "source": [
    "s = sign(norm(LOS1) - norm(LOS2));"
   ]
  },
  {
   "cell_type": "code",
   "execution_count": 220,
   "metadata": {},
   "outputs": [
    {
     "data": {
      "text/plain": [
       "-48.624954511700345"
      ]
     },
     "execution_count": 220,
     "metadata": {},
     "output_type": "execute_result"
    }
   ],
   "source": [
    "bperp = s * norm(cross(LOS1 - LOS2, LOS1 ./ norm(LOS1)))"
   ]
  },
  {
   "cell_type": "code",
   "execution_count": 13,
   "metadata": {},
   "outputs": [
    {
     "data": {
      "text/plain": [
       "get_elevation (generic function with 1 method)"
      ]
     },
     "execution_count": 13,
     "metadata": {},
     "output_type": "execute_result"
    }
   ],
   "source": []
  },
  {
   "cell_type": "code",
   "execution_count": 252,
   "metadata": {},
   "outputs": [
    {
     "data": {
      "text/plain": [
       "get_pixel_position (generic function with 1 method)"
      ]
     },
     "execution_count": 252,
     "metadata": {},
     "output_type": "execute_result"
    }
   ],
   "source": [
    "function get_satellite_pos_vel(line, pod, meta)\n",
    "    c = 299792458\n",
    "    t_start = meta[\"t_start\"]\n",
    "    t_stop = meta[\"t_stop\"]\n",
    "    inv_azimuth_frequency =  1 / meta[\"azimuth_frequency\"]\n",
    "    state_vectors = pod[1]\n",
    "    time_state_vectors = pod[2];\n",
    "\n",
    "    state_vectors_poly, state_vectors_mean, state_vectors_std = Geometry.satellite_trajectory(state_vectors, time_state_vectors, t_start, t_stop); \n",
    "\n",
    "    time =  t_start + (line - 1) * inv_azimuth_frequency\n",
    "    state_vectors_0 = Geometry.polyval_state_vectors(state_vectors_poly, time, state_vectors_mean, state_vectors_std)\n",
    "    satellite_position = state_vectors_0[1:3]\n",
    "    satellite_velocity = state_vectors_0[4:6]\n",
    "\n",
    "    return satellite_position, satellite_velocity\n",
    "end\n",
    "\n",
    "function get_pixel_position(sample, elevation, satellite_position, satellite_velocity, meta)\n",
    "    theta_0 = sign_angle * abs(slc1_meta[\"incidence_angle_mid\"]*pi/180)\n",
    "    r_near =  meta[\"slant_range_time\"]  * c / 2\n",
    "    range_pixel_spacing =  c / (2 * meta[\"range_sampling_rate\"])\n",
    "\n",
    "    range = r_near + (sample - 1) * range_pixel_spacing\n",
    "\n",
    "    pixel_position_0 = Geometry.ellipsoid_intersect(satellite_position, Geometry.approx_line_of_sight(satellite_position, satellite_velocity, theta_0))\n",
    "    pixel_position = Geometry.solve_radar(range, elevation, pixel_position_0, satellite_position, satellite_velocity)\n",
    "    return pixel_position\n",
    "end"
   ]
  },
  {
   "cell_type": "code",
   "execution_count": 253,
   "metadata": {},
   "outputs": [
    {
     "data": {
      "text/plain": [
       "1-element Array{Float64,1}:\n",
       " 0.0"
      ]
     },
     "execution_count": 253,
     "metadata": {},
     "output_type": "execute_result"
    }
   ],
   "source": [
    "elevation = get_elevation(interest_view, dem, slc1_meta, slc1_pod)"
   ]
  },
  {
   "cell_type": "code",
   "execution_count": 254,
   "metadata": {},
   "outputs": [
    {
     "data": {
      "text/plain": [
       "([2286], [12665])"
      ]
     },
     "execution_count": 254,
     "metadata": {},
     "output_type": "execute_result"
    }
   ],
   "source": [
    "line, sample = Misc.flatten(interest_view[1], interest_view[2])  # line, sample. Needed input structure for to_lat_lon\n"
   ]
  },
  {
   "cell_type": "code",
   "execution_count": 255,
   "metadata": {},
   "outputs": [
    {
     "data": {
      "text/plain": [
       "([3.86661e6, 1.1777e6, 5.79811e6], [6342.58, -330.643, -4152.61])"
      ]
     },
     "execution_count": 255,
     "metadata": {},
     "output_type": "execute_result"
    }
   ],
   "source": [
    "satellite_position, satellite_velocity = get_satellite_pos_vel(line..., slc1_pod, slc1_meta)"
   ]
  },
  {
   "cell_type": "code",
   "execution_count": 256,
   "metadata": {},
   "outputs": [
    {
     "data": {
      "text/plain": [
       "3-element Array{Float64,1}:\n",
       "      3.499453703803955e6\n",
       " 485928.2519566412       \n",
       "      5.292405763882056e6"
      ]
     },
     "execution_count": 256,
     "metadata": {},
     "output_type": "execute_result"
    }
   ],
   "source": [
    "pixel_position = get_pixel_position(sample..., elevation..., satellite_position, satellite_velocity, slc1_meta)"
   ]
  },
  {
   "cell_type": "code",
   "execution_count": 257,
   "metadata": {},
   "outputs": [
    {
     "data": {
      "text/plain": [
       "3-element Array{Float64,1}:\n",
       " 367155.33699074807\n",
       " 691773.1556225147 \n",
       " 505701.8395259371 "
      ]
     },
     "execution_count": 257,
     "metadata": {},
     "output_type": "execute_result"
    }
   ],
   "source": [
    "LOS1 = satellite_position - pixel_position"
   ]
  },
  {
   "cell_type": "code",
   "execution_count": 258,
   "metadata": {},
   "outputs": [],
   "source": [
    "elevation = get_elevation(interest_view, dem, slc2_meta, slc2_pod);"
   ]
  },
  {
   "cell_type": "code",
   "execution_count": 259,
   "metadata": {},
   "outputs": [],
   "source": [
    "line, sample = Misc.flatten(interest_view[1], interest_view[2]);  # line, sample. Needed input structure for to_lat_lon\n"
   ]
  },
  {
   "cell_type": "code",
   "execution_count": 260,
   "metadata": {},
   "outputs": [],
   "source": [
    "satellite_position, satellite_velocity = get_satellite_pos_vel(line..., slc2_pod, slc2_meta);"
   ]
  },
  {
   "cell_type": "code",
   "execution_count": 261,
   "metadata": {},
   "outputs": [],
   "source": [
    "pixel_position = get_pixel_position(sample..., elevation..., satellite_position, satellite_velocity, slc2_meta);"
   ]
  },
  {
   "cell_type": "code",
   "execution_count": 262,
   "metadata": {},
   "outputs": [
    {
     "data": {
      "text/plain": [
       "3-element Array{Float64,1}:\n",
       " 367156.3318909472\n",
       " 691777.1691301952\n",
       " 505695.6268777065"
      ]
     },
     "execution_count": 262,
     "metadata": {},
     "output_type": "execute_result"
    }
   ],
   "source": [
    "LOS2 = satellite_position - pixel_position"
   ]
  },
  {
   "cell_type": "code",
   "execution_count": 263,
   "metadata": {},
   "outputs": [],
   "source": [
    "s = sign(norm(LOS1) - norm(LOS2));"
   ]
  },
  {
   "cell_type": "code",
   "execution_count": 264,
   "metadata": {},
   "outputs": [
    {
     "data": {
      "text/plain": [
       "-7.462912859199071"
      ]
     },
     "execution_count": 264,
     "metadata": {},
     "output_type": "execute_result"
    }
   ],
   "source": [
    "bperp = s * norm(cross(LOS1 - LOS2, LOS1 ./ norm(LOS1)))"
   ]
  },
  {
   "cell_type": "code",
   "execution_count": null,
   "metadata": {},
   "outputs": [],
   "source": [
    "\n",
    "# Get latitude and longitude\n",
    "lat_lon = to_lat_lon(hcat(master_line, master_sample), lut[\"heights\"],\n",
    "precise_orbit[1]...,meta[1])\n",
    "lut[\"latitude\"] = lat_lon[:,1]\n",
    "lut[\"longitude\"] = lat_lon[:,2]\n",
    "@assert sum(isnan.(lut[\"latitude\"])) == 0\n",
    "@assert sum(isnan.(lut[\"longitude\"])) == 0"
   ]
  },
  {
   "cell_type": "code",
   "execution_count": 200,
   "metadata": {},
   "outputs": [
    {
     "data": {
      "text/plain": [
       "1×2 Array{Float64,2}:\n",
       " 55.6214  8.36889"
      ]
     },
     "execution_count": 200,
     "metadata": {},
     "output_type": "execute_result"
    }
   ],
   "source": [
    "lat_lon"
   ]
  },
  {
   "cell_type": "markdown",
   "metadata": {},
   "source": [
    "### SLC1\n",
    "#### 1) Udregn koordinaterne (lat, lon) for et udvalgt (sample,line) punkt baseret på SLC 1 parametre. \n",
    "Brug det miderste i swath"
   ]
  },
  {
   "cell_type": "code",
   "execution_count": 10,
   "metadata": {},
   "outputs": [],
   "source": [
    "state_vectors = slc1_pod[1]\n",
    "time_state_vectors = slc1_pod[2];"
   ]
  },
  {
   "cell_type": "code",
   "execution_count": 43,
   "metadata": {},
   "outputs": [],
   "source": [
    "## FIRST PART OF LUT, INTERPOLATE HEIGHTS\n",
    "slc1_line_sample = hcat(Misc.flatten(interest_view[1], interest_view[2])...)  # line, sample. Needed input structure for to_lat_lon\n",
    "\n",
    "lat_lon, point, x = to_lat_lon_single_point_version(slc1_line_sample, heights, state_vectors, time_state_vectors, slc1_meta);"
   ]
  },
  {
   "cell_type": "code",
   "execution_count": 44,
   "metadata": {},
   "outputs": [
    {
     "data": {
      "text/plain": [
       "([55.6214 8.36886], (0.9707764316805281, 0.14606410755674515, 5.999992641620338), [3.57128e6, 525377.0, 5.24076e6])"
      ]
     },
     "execution_count": 44,
     "metadata": {},
     "output_type": "execute_result"
    }
   ],
   "source": [
    "lat_lon, point, x"
   ]
  },
  {
   "cell_type": "code",
   "execution_count": 25,
   "metadata": {},
   "outputs": [],
   "source": [
    "n_1 = length(dem[1])\n",
    "n_2 = length(dem[2])\n",
    "\n",
    "index1_grid =  Array{eltype(dem[1])}(undef, n_1, n_2)\n",
    "index2_grid =  Array{eltype(dem[2])}(undef, n_1, n_2)\n",
    "\n",
    "for i in 1:n_2\n",
    "    index1_grid[:,i] .= dem[1]\n",
    "end\n",
    "\n",
    "for j in 1:n_1\n",
    "    index2_grid[j,:] .= dem[2]\n",
    "end"
   ]
  },
  {
   "cell_type": "code",
   "execution_count": 33,
   "metadata": {},
   "outputs": [],
   "source": [
    "test = scipy_interp.griddata(hcat(vec(index1_grid), vec(index2_grid)), vec(dem[3]), hcat(55.70, 8.36));\n",
    "#Misc.interp(index1_grid, index2_grid, dem[3], lat_lon...)"
   ]
  },
  {
   "cell_type": "markdown",
   "metadata": {},
   "source": [
    "##### interpolate to above lat_lon point using dem[1] and dem[2]"
   ]
  },
  {
   "cell_type": "markdown",
   "metadata": {},
   "source": [
    "#### 2) Konverter (lat, lon)-punktet til kartesiske koordinater\n",
    "punktet på jorden / den ene ende af vores LOS vektor"
   ]
  },
  {
   "cell_type": "code",
   "execution_count": null,
   "metadata": {},
   "outputs": [],
   "source": [
    "[x,y,z] = Geometry.ellipsoid2xyz(lat, lon, height; semi_major_axis=6378137.,\n",
    "                       flattening=1/298.257223563)\n",
    "\n",
    "for i in 1:size(lat_lon)[1]\n",
    "point_xyz = ellipsoid2xyz(lat_lon[i,1]* deg2rad, lat_lon[i,2]* deg2rad ,height[i])\n",
    "\n",
    "\n"
   ]
  },
  {
   "cell_type": "markdown",
   "metadata": {},
   "source": [
    "#### 3) Udregn satellitens position og hastighed fra state vectors tilhørende SLC 1"
   ]
  },
  {
   "cell_type": "code",
   "execution_count": null,
   "metadata": {},
   "outputs": [],
   "source": [
    "state_vectors_poly, state_vectors_mean, state_vectors_std = satellite_trajectory(state_vectors,time_state_vectors, t_start, t_stop; poly_degree=4, max_time_margin=80.)"
   ]
  },
  {
   "cell_type": "markdown",
   "metadata": {},
   "source": [
    "#### 3a) Find satellitens interpolerede position (polyval)"
   ]
  },
  {
   "cell_type": "code",
   "execution_count": null,
   "metadata": {},
   "outputs": [],
   "source": [
    "state_vectors = polyval_state_vectors(state_vectors_poly, trial_time, state_vectors_mean, state_vectors_std)\n",
    "        trial_sat_position = state_vectors[1:3]\n",
    "        line_of_sight = point_xyz .- trial_sat_position"
   ]
  },
  {
   "cell_type": "markdown",
   "metadata": {},
   "source": [
    "#### 4) Udregn LOS1 ved at trække xyz punktet fra satellitens interpolerede position"
   ]
  },
  {
   "cell_type": "code",
   "execution_count": null,
   "metadata": {},
   "outputs": [],
   "source": []
  },
  {
   "cell_type": "markdown",
   "metadata": {},
   "source": [
    "### SLC2\n",
    "#### 5) Udregn de (sample, line) koordinater svarende til (lat,lon,height) punktet fra SLC1\n",
    "Brug SLC2 parametre"
   ]
  },
  {
   "cell_type": "code",
   "execution_count": null,
   "metadata": {},
   "outputs": [],
   "source": []
  },
  {
   "cell_type": "markdown",
   "metadata": {},
   "source": [
    "#### 6) Udregn satellitens position og hastighed fra state vectors tilhørende SLC 2"
   ]
  },
  {
   "cell_type": "code",
   "execution_count": null,
   "metadata": {},
   "outputs": [],
   "source": []
  },
  {
   "cell_type": "markdown",
   "metadata": {},
   "source": [
    "#### 6a) Find satellitens interpolerede position (polyval)"
   ]
  },
  {
   "cell_type": "code",
   "execution_count": null,
   "metadata": {},
   "outputs": [],
   "source": []
  },
  {
   "cell_type": "markdown",
   "metadata": {},
   "source": [
    "#### 7) Udregn LOS2 ved at trække xyz punktet fra satellitens interpolerede position"
   ]
  },
  {
   "cell_type": "code",
   "execution_count": null,
   "metadata": {},
   "outputs": [],
   "source": []
  },
  {
   "cell_type": "markdown",
   "metadata": {},
   "source": [
    "#### 8)\n",
    "sign = sign(norm(LOS1 - LOS2)\n",
    "baseline = LOS1 - LOS2\n",
    "LOS1_unit_vector = LOS1 ./ norm(LOS1)\n",
    "baseline_perpendicular = sign * norm(cross(baseline, LOS1_norm))"
   ]
  },
  {
   "cell_type": "markdown",
   "metadata": {},
   "source": [
    "### Trash"
   ]
  },
  {
   "cell_type": "code",
   "execution_count": 87,
   "metadata": {},
   "outputs": [
    {
     "data": {
      "text/plain": [
       "dem_test (generic function with 1 method)"
      ]
     },
     "execution_count": 87,
     "metadata": {},
     "output_type": "execute_result"
    }
   ],
   "source": [
    "function dem_test(path, lat_lon_window; nan_fill= NaN, padding=[0,0],nan_value =-32768)\n",
    "\n",
    "    dem_annotations = rasterio.open(path)\n",
    "    # find the corresponding slc corner in row, col of the dem and add padding\n",
    "    (max_row, min_col) = dem_annotations.index(lat_lon_window[2][1], lat_lon_window[1][1])\n",
    "    (min_row, max_col) = dem_annotations.index(lat_lon_window[2][2], lat_lon_window[1][2]);\n",
    "\n",
    "\n",
    "    # make intervals with padding for .read's window function\n",
    "    min_row = min_row - padding[1]\n",
    "    max_row = max_row + padding[1]\n",
    "    min_col = min_col - padding[2]\n",
    "    max_col = max_col + padding[2]\n",
    "\n",
    "\n",
    "    if min_row < 0\n",
    "        min_row = 0\n",
    "        println(\"Warning min row are not in the picture.\")\n",
    "    end\n",
    "\n",
    "    if max_row > dem_annotations.height\n",
    "        max_row = dem_annotations.height\n",
    "        println(\"Warning max row are not in the picture.\")\n",
    "    end\n",
    "\n",
    "    if min_col < 0\n",
    "        min_col = 0\n",
    "        println(\"Warning min column are not in the picture.\")\n",
    "    end\n",
    "\n",
    "    if max_col > dem_annotations.width\n",
    "        max_col = dem_annotations.width\n",
    "        println(\"Warning max column are not in the picture.\")\n",
    "    end\n",
    "\n",
    "\n",
    "    row_interval = (min_row , max_row)\n",
    "    col_interval = (min_col , max_col)\n",
    "\n",
    "    # load subset of dem\n",
    "    if padding[1] == 0 && padding[2] == 0\n",
    "        dem_data = dem_annotations.read(1)\n",
    "    else\n",
    "        dem_data = dem_annotations.read(1, window=(row_interval, col_interval))\n",
    "    end\n",
    "    #dem_data = dem_annotations.read(1, window=(row_interval, col_interval))\n",
    "    \n",
    "    dem_data[dem_data .== (nan_value)] .= nan_fill;\n",
    "\n",
    "    #dem_view = [row_interval[1]:row_interval[2], col_interval[1]:col_interval[2]]\n",
    "    transform = dem_annotations.get_transform()\n",
    "\n",
    "    rows = collect(1:dem_annotations.height).-1;\n",
    "    columns = collect(1:dem_annotations.width).-1;\n",
    "    lon = transform[1] .+ rows .* transform[2];\n",
    "    lat  = transform[4] .+ columns .* transform[6];\n",
    "\n",
    "    #dem = dem[index1,index2];\n",
    "    lat = lat[row_interval[1]:row_interval[2]-1]\n",
    "    lon = lon[col_interval[1]:col_interval[2]-1];\n",
    "\n",
    "    # return subset of dem and dem_view\n",
    "    return lat, lon, dem_data\n",
    "end"
   ]
  }
 ],
 "metadata": {
  "kernelspec": {
   "display_name": "Julia 1.1.1",
   "language": "julia",
   "name": "julia-1.1"
  },
  "language_info": {
   "file_extension": ".jl",
   "mimetype": "application/julia",
   "name": "julia",
   "version": "1.1.1"
  }
 },
 "nbformat": 4,
 "nbformat_minor": 2
}
