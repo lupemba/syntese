{
 "cells": [
  {
   "cell_type": "code",
   "execution_count": null,
   "metadata": {},
   "outputs": [],
   "source": [
    "include(\"../path.jl\")\n",
    "include(\"../ToolBox/ToolBox.jl\")\n",
    "import FileIO\n",
    "using .ToolBox\n",
    "using .Geometry\n",
    "using Colors"
   ]
  },
  {
   "cell_type": "code",
   "execution_count": null,
   "metadata": {},
   "outputs": [],
   "source": []
  },
  {
   "cell_type": "code",
   "execution_count": null,
   "metadata": {},
   "outputs": [],
   "source": [
    "lat_lon = hcat([8.17108154296875, 56.38350163536175],\n",
    "               [8.5638427734375, 56.38350163536175],\n",
    "               [8.5638427734375, 56.615442833370906],\n",
    "               [8.17108154296875, 56.615442833370906])\n",
    "#reflector_index = to_line_sample(lat_lon, heights, precise_orbit...,meta)"
   ]
  }
 ],
 "metadata": {
  "kernelspec": {
   "display_name": "Julia 1.1.1",
   "language": "julia",
   "name": "julia-1.1"
  },
  "language_info": {
   "file_extension": ".jl",
   "mimetype": "application/julia",
   "name": "julia",
   "version": "1.1.1"
  }
 },
 "nbformat": 4,
 "nbformat_minor": 2
}
