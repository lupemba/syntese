{
 "cells": [
  {
   "cell_type": "code",
   "execution_count": 1,
   "metadata": {},
   "outputs": [
    {
     "name": "stderr",
     "output_type": "stream",
     "text": [
      "proj_create: init=epsg:/init=IGNF: syntax not supported in non-PROJ4 emulation mode\n"
     ]
    }
   ],
   "source": [
    "include(\"../ToolBox/ToolBox.jl\")\n",
    "using .ToolBox\n",
    "using .UnitTest\n",
    "using .Geometry\n",
    "using .Load\n",
    "using .Misc\n",
    "using Plots\n",
    "using Statistics\n",
    "using Polynomials"
   ]
  },
  {
   "cell_type": "markdown",
   "metadata": {},
   "source": [
    "## Noter\n",
    "- Der er noget med fortegnet på vores statevectors og dem fra Johns kode\n",
    "- Hvor for gamma 15 state vectors fra? Vi vælger 49 ud fra POE\n",
    "- hvor kommer \"time_state_vectors\" in i billedet i Johns kode\n",
    "    - Når der er styr på det er det muligt at sammenligne polyfit og polyval på de 15 vektorer\n",
    "    - sammenlign de to metoders fejl på polyval af den manglende vektore. \n",
    "\n",
    "- hvis du får lavet en oversættelse mellem vores og gamma state vectors så kør unit test med gamma SV igen.\n",
    "- plottet viser at der er noget der er rigtigt, men skal de lige lægges det rigtige tidspunkt. du kan bruge gamma starttid for første sv: 20342.0000 s og intervallet mellem sv's = 10 s"
   ]
  },
  {
   "cell_type": "markdown",
   "metadata": {},
   "source": [
    "#### Hard-coded state-vectors from gamma .par"
   ]
  },
  {
   "cell_type": "code",
   "execution_count": 2,
   "metadata": {},
   "outputs": [],
   "source": [
    "state_vector_position_1 = [3517345.9262,    1192277.2110,    6013022.4307] \n",
    "state_vector_velocity_1 = [  6568.41746,      -207.88353,     -3792.11336] \n",
    "state_vector_position_2 = [3582830.3513,    1190083.8479,    5974762.8150] \n",
    "state_vector_velocity_2 = [  6528.33957,      -230.77535,     -3859.73816] \n",
    "state_vector_position_3 = [3647910.1657,    1187661.9861,    5935829.1124] \n",
    "state_vector_velocity_3 = [  6487.49607,      -253.58267,     -3926.92946] \n",
    "state_vector_position_4 = [3712577.7365,    1185012.4887,    5896225.6959] \n",
    "state_vector_velocity_4 = [  6445.89162,      -276.30184,     -3993.67967] \n",
    "state_vector_position_5 = [3776825.4776,    1182136.2556,    5855957.0142] \n",
    "state_vector_velocity_5 = [  6403.53094,      -298.92921,     -4059.98125] \n",
    "state_vector_position_6 = [3840645.8508,    1179034.2230,    5815027.5910] \n",
    "state_vector_velocity_6 = [  6360.41887,      -321.46114,     -4125.82670] \n",
    "state_vector_position_7 = [3904031.3668,    1175707.3634,    5773442.0251] \n",
    "state_vector_velocity_7 = [  6316.56033,      -343.89401,     -4191.20858] \n",
    "state_vector_position_8 = [3966974.5859,    1172156.6854,    5731204.9893] \n",
    "state_vector_velocity_8 = [  6271.96032,      -366.22423,     -4256.11948] \n",
    "state_vector_position_9 = [4029468.1188,    1168383.2333,    5688321.2299] \n",
    "state_vector_velocity_9 = [  6226.62394,      -388.44822,     -4320.55207] \n",
    "state_vector_position_10 = [4091504.6276,    1164388.0873,    5644795.5666]\n",
    "state_vector_velocity_10 = [  6180.55637,      -410.56242,     -4384.49904]\n",
    "state_vector_position_11 = [4153076.8268,    1160172.3631,    5600632.8917]\n",
    "state_vector_velocity_11 = [  6133.76289,      -432.56328,     -4447.95315]\n",
    "state_vector_position_12 = [4214177.4839,    1155737.2116,    5555838.1700]\n",
    "state_vector_velocity_12 = [  6086.24886,      -454.44728,     -4510.90721]\n",
    "state_vector_position_13 = [4274799.4204,    1151083.8190,    5510416.4376]\n",
    "state_vector_velocity_13 = [  6038.01972,      -476.21093,     -4573.35409]\n",
    "state_vector_position_14 = [4334935.5130,    1146213.4062,    5464372.8021]\n",
    "state_vector_velocity_14 = [  5989.08103,      -497.85074,     -4635.28668]\n",
    "state_vector_position_15 = [4394578.6942,    1141127.2288,    5417712.4415]\n",
    "state_vector_velocity_15 = [  5939.43838,      -519.36326,     -4696.69797];"
   ]
  },
  {
   "cell_type": "code",
   "execution_count": 3,
   "metadata": {},
   "outputs": [],
   "source": [
    "state_vector_position = vcat(transpose(state_vector_position_1), transpose(state_vector_position_2),\n",
    "        transpose(state_vector_position_3), transpose(state_vector_position_4),\n",
    "        transpose(state_vector_position_5), transpose(state_vector_position_6),\n",
    "        transpose(state_vector_position_7), transpose(state_vector_position_8),\n",
    "        transpose(state_vector_position_9), transpose(state_vector_position_10),\n",
    "        transpose(state_vector_position_11), transpose(state_vector_position_12),\n",
    "        transpose(state_vector_position_13), transpose(state_vector_position_14), \n",
    "        transpose(state_vector_position_15));"
   ]
  },
  {
   "cell_type": "code",
   "execution_count": 4,
   "metadata": {},
   "outputs": [],
   "source": [
    "state_vector_velocity = vcat(transpose(state_vector_velocity_1), transpose(state_vector_velocity_2),\n",
    "        transpose(state_vector_velocity_3), transpose(state_vector_velocity_4),\n",
    "        transpose(state_vector_velocity_5), transpose(state_vector_velocity_6),\n",
    "        transpose(state_vector_velocity_7), transpose(state_vector_velocity_8),\n",
    "        transpose(state_vector_velocity_9), transpose(state_vector_velocity_10),\n",
    "        transpose(state_vector_velocity_11), transpose(state_vector_velocity_12),\n",
    "        transpose(state_vector_velocity_13), transpose(state_vector_velocity_14), \n",
    "        transpose(state_vector_velocity_15));"
   ]
  },
  {
   "cell_type": "code",
   "execution_count": 5,
   "metadata": {},
   "outputs": [],
   "source": [
    "state_vector_gamma = hcat(state_vector_position, state_vector_velocity);"
   ]
  },
  {
   "cell_type": "code",
   "execution_count": 6,
   "metadata": {},
   "outputs": [
    {
     "data": {
      "text/plain": [
       "(\"2017-04-08T05:39:51.390773\", \"2017-04-08T05:40:19.352505\")"
      ]
     },
     "execution_count": 6,
     "metadata": {},
     "output_type": "execute_result"
    }
   ],
   "source": [
    "## LOADING\n",
    "master_safe_path = \"/Users/eyu/local_data/data/phase_bug/BB/S1B_IW_SLC__1SDV_20170408T053951_20170408T054019_005065_008DBC_AEEF.SAFE\"\n",
    "m_data_path, m_meta_path, m_calibration_path = Load.slc_paths(master_safe_path, \"VV\", 3);\n",
    "m_meta = Load.slc_meta(m_meta_path);\n",
    "m_pod = Load.precise_orbit(Load.pod_path(m_meta[\"t_0\"], m_meta[\"mission_id\"],\n",
    "                        \"/Users/eyu/local_data/data/phase_bug/POD\"), m_meta[\"t_0\"])\n",
    "m_start_time, m_stop_time = UnitTest.meta_start_datetime(m_meta_path)"
   ]
  },
  {
   "cell_type": "code",
   "execution_count": 125,
   "metadata": {},
   "outputs": [
    {
     "data": {
      "text/plain": [
       "1.999999999989086:10.0:141.9999999999891"
      ]
     },
     "execution_count": 125,
     "metadata": {},
     "output_type": "execute_result"
    }
   ],
   "source": [
    "time_gamma = (20342 - UnitTest.seconds_since_midnight(m_meta[\"t_0\"])):10:(20342 - UnitTest.seconds_since_midnight(m_meta[\"t_0\"]) + 10*14)"
   ]
  },
  {
   "cell_type": "code",
   "execution_count": 7,
   "metadata": {},
   "outputs": [
    {
     "data": {
      "text/plain": [
       "240.0"
      ]
     },
     "execution_count": 7,
     "metadata": {},
     "output_type": "execute_result"
    }
   ],
   "source": [
    "# coded like this for now,\n",
    "# TODO: look into loading gamma .par and get these params out\n",
    "c = 299792458\n",
    "gamma_meta = Dict()\n",
    "t_start = m_meta[\"t_start\"] + 20394.149330 - UnitTest.seconds_since_midnight(m_start_time)\n",
    "t_stop = m_meta[\"t_stop\"] + 20402.797055 - UnitTest.seconds_since_midnight(m_stop_time)\n",
    "state_vectors = m_pod[1]\n",
    "time_state_vectors = m_pod[2]\n",
    "poly_degree=4\n",
    "max_time_margin=240.;"
   ]
  },
  {
   "cell_type": "code",
   "execution_count": 44,
   "metadata": {},
   "outputs": [
    {
     "data": {
      "text/plain": [
       "(54.15010299998903, 62.79755999998815, 58.47383149998859)"
      ]
     },
     "execution_count": 44,
     "metadata": {},
     "output_type": "execute_result"
    }
   ],
   "source": [
    "t_start, t_stop, t_mid"
   ]
  },
  {
   "cell_type": "code",
   "execution_count": 94,
   "metadata": {},
   "outputs": [],
   "source": [
    "dt = t_stop - t_start;  # i Matlab=8.6477253540906531270593404769897\n",
    "t_mid = t_start + dt / 2\n",
    "t_step = time_gamma[2]-time_gamma[1]\n",
    "max_time_margin = max(max_time_margin, (poly_degree + 2) / 2 * t_step)\n",
    "# vælger 49 state vectors ud, !!! potentiel fejl: time_state_vectors er stadig rel til time of day.\n",
    "gamma_nearby_state_vector_idx = abs.(time_gamma .- t_mid) .<= dt/2 + max_time_margin\n",
    "\n",
    "# Check if enough point are selected\n",
    "#if sum(nearby_state_vector_idx) < poly_degree + 1\n",
    "#    println(\"Insufficient number of state vectors exiting.\")\n",
    "#    return\n",
    "#end\n",
    "\n",
    "# slice data to close times\n",
    "gamma_nearby_state_vector_t_sv = time_gamma[gamma_nearby_state_vector_idx];\n",
    "gamma_nearby_state_vector_state_vectors = state_vector_gamma[gamma_nearby_state_vector_idx, :];\n",
    "time_10 = gamma_nearby_state_vector_t_sv[10];\n",
    "vector_10 = gamma_nearby_state_vector_state_vectors[10, :];"
   ]
  },
  {
   "cell_type": "code",
   "execution_count": 95,
   "metadata": {},
   "outputs": [],
   "source": [
    "gamma_nearby_state_vector_state_vectors = gamma_nearby_state_vector_state_vectors[1:end .!= 10, :]\n",
    "gamma_nearby_state_vector_t_sv = gamma_nearby_state_vector_t_sv[1:end .!= 10];"
   ]
  },
  {
   "cell_type": "code",
   "execution_count": 96,
   "metadata": {},
   "outputs": [],
   "source": [
    "state_vectors_poly, state_vectors_mean, state_vectors_std = Geometry.polyfit_state_vectors(gamma_nearby_state_vector_state_vectors, \n",
    "                                                                            gamma_nearby_state_vector_t_sv, \n",
    "                                                                            poly_degree=poly_degree, \n",
    "                                                                            do_scale=1);"
   ]
  },
  {
   "cell_type": "code",
   "execution_count": 97,
   "metadata": {},
   "outputs": [
    {
     "data": {
      "text/plain": [
       "6-element Array{Float64,1}:\n",
       "     4.091504618865968e6\n",
       "     1.164388089194282e6\n",
       "     5.644795571480106e6\n",
       "  6180.556374301196     \n",
       "  -410.56241051416475   \n",
       " -4384.49903238004      "
      ]
     },
     "execution_count": 97,
     "metadata": {},
     "output_type": "execute_result"
    }
   ],
   "source": [
    "poly_list = state_vectors_poly\n",
    "y_mean = state_vectors_mean\n",
    "y_std = state_vectors_std\n",
    "\n",
    "#function polyval_state_vectors(poly_list,time,y_mean,y_std)\n",
    "y_norm_fit = [Polynomials.polyval(poly_elem, time_10) for poly_elem in poly_list]\n",
    "\n",
    "# re-normalize the fitted data\n",
    "y_fit = y_norm_fit .* y_std .+ y_mean\n",
    "#end\n",
    "#function polyval_state_vectors(poly_list,time)\n",
    "#end"
   ]
  },
  {
   "cell_type": "code",
   "execution_count": 104,
   "metadata": {},
   "outputs": [
    {
     "name": "stdout",
     "output_type": "stream",
     "text": [
      "[4.0915e6, 1.16439e6, 5.6448e6, 6180.56, -410.562, -4384.5]\n",
      "[4.0915e6, 1.16439e6, 5.6448e6, 6180.56, -410.562, -4384.5]\n"
     ]
    }
   ],
   "source": [
    "println(y_fit)\n",
    "println(vector_10)"
   ]
  },
  {
   "cell_type": "code",
   "execution_count": 111,
   "metadata": {},
   "outputs": [
    {
     "data": {
      "text/plain": [
       "(0.005878975167221586, 7.450841977478858e-6)"
      ]
     },
     "execution_count": 111,
     "metadata": {},
     "output_type": "execute_result"
    }
   ],
   "source": [
    "# errors in julia\n",
    "sqrt(mean((y_fit[1:3] - vector_10[1:3]).^2)), sqrt(mean((y_fit[4:end] - vector_10[4:end]).^2))"
   ]
  },
  {
   "cell_type": "code",
   "execution_count": 112,
   "metadata": {},
   "outputs": [
    {
     "data": {
      "text/plain": [
       "(0.00590566448509737, 7.475707359516e-6)"
      ]
     },
     "execution_count": 112,
     "metadata": {},
     "output_type": "execute_result"
    }
   ],
   "source": [
    "# errors in matlab\n",
    "0.005905664485097370, 0.000007475707359516"
   ]
  },
  {
   "cell_type": "code",
   "execution_count": 113,
   "metadata": {},
   "outputs": [],
   "source": [
    "gamma_xsat = [4091504.618826714344322681427002, 1164388.0891962570603936910629272, 5644795.5715055363252758979797363]\n",
    "gamma_vsat = [6180.5563743279981281375512480736, -410.56241050029103689666953869164, -4384.4990323395450104726478457451];"
   ]
  },
  {
   "cell_type": "code",
   "execution_count": 117,
   "metadata": {},
   "outputs": [
    {
     "data": {
      "text/plain": [
       "(2.7027676810621955e-5, 2.91586877745659e-8)"
      ]
     },
     "execution_count": 117,
     "metadata": {},
     "output_type": "execute_result"
    }
   ],
   "source": [
    "sqrt(mean((y_fit[1:3] - gamma_xsat).^2)), sqrt(mean((y_fit[4:end] - gamma_vsat).^2))"
   ]
  },
  {
   "cell_type": "code",
   "execution_count": 114,
   "metadata": {},
   "outputs": [
    {
     "name": "stdout",
     "output_type": "stream",
     "text": [
      "[4.0915e6, 1.16439e6, 5.6448e6]\n",
      "[4.0915e6, 1.16439e6, 5.6448e6]\n"
     ]
    }
   ],
   "source": [
    "println(y_fit[1:3])\n",
    "println(gamma_xsat)"
   ]
  },
  {
   "cell_type": "code",
   "execution_count": 116,
   "metadata": {},
   "outputs": [
    {
     "name": "stdout",
     "output_type": "stream",
     "text": [
      "[6180.56, -410.562, -4384.5]\n",
      "[6180.56, -410.562, -4384.5]\n"
     ]
    }
   ],
   "source": [
    "println(y_fit[4:end])\n",
    "println(gamma_vsat)"
   ]
  },
  {
   "cell_type": "code",
   "execution_count": 10,
   "metadata": {},
   "outputs": [
    {
     "name": "stderr",
     "output_type": "stream",
     "text": [
      "┌ Warning: `polyfit(x, y, n=length(x) - 1, sym=:x)` is deprecated, use `fit(Poly, x, y, n; var=sym)` instead.\n",
      "│   caller = polyfit(::Array{Float64,1}, ::Array{Float64,1}, ::Int64) at deprecated.jl:56\n",
      "└ @ Polynomials ./deprecated.jl:56\n"
     ]
    }
   ],
   "source": [
    "dt = t_stop - t_start;  # i Matlab=8.6477253540906531270593404769897\n",
    "t_mid = t_start + dt / 2\n",
    "t_step = time_state_vectors[2]-time_state_vectors[1]\n",
    "max_time_margin = max(max_time_margin, (poly_degree + 2) / 2 * t_step)\n",
    "\n",
    "# vælger 49 state vectors ud, !!!\n",
    "nearby_state_vector_idx = abs.(time_state_vectors .- t_mid) .<= dt/2 + max_time_margin\n",
    "\n",
    "# Check if enough point are selected\n",
    "if sum(nearby_state_vector_idx) < poly_degree + 1\n",
    "    println(\"Insufficient number of state vectors exiting.\")\n",
    "    return\n",
    "end\n",
    "\n",
    "# slice data to close times\n",
    "nearby_state_vector_t_sv = time_state_vectors[nearby_state_vector_idx];\n",
    "nearby_state_vector_state_vectors = state_vectors[nearby_state_vector_idx,:];\n",
    "\n",
    "state_vectors_poly, state_vectors_mean, state_vectors_std = Geometry.polyfit_state_vectors(nearby_state_vector_state_vectors, \n",
    "                                                                            nearby_state_vector_t_sv, \n",
    "                                                                            poly_degree=poly_degree, \n",
    "                                                                            do_scale=1);\n"
   ]
  },
  {
   "cell_type": "code",
   "execution_count": 124,
   "metadata": {},
   "outputs": [
    {
     "data": {
      "text/plain": [
       "49-element Array{Int64,1}:\n",
       " 2379\n",
       " 2380\n",
       " 2381\n",
       " 2382\n",
       " 2383\n",
       " 2384\n",
       " 2385\n",
       " 2386\n",
       " 2387\n",
       " 2388\n",
       " 2389\n",
       " 2390\n",
       " 2391\n",
       "    ⋮\n",
       " 2416\n",
       " 2417\n",
       " 2418\n",
       " 2419\n",
       " 2420\n",
       " 2421\n",
       " 2422\n",
       " 2423\n",
       " 2424\n",
       " 2425\n",
       " 2426\n",
       " 2427"
      ]
     },
     "execution_count": 124,
     "metadata": {},
     "output_type": "execute_result"
    }
   ],
   "source": [
    "findall(abs.(time_state_vectors .- t_mid) .<= dt/2 + max_time_margin)"
   ]
  },
  {
   "cell_type": "code",
   "execution_count": 35,
   "metadata": {},
   "outputs": [
    {
     "data": {
      "text/plain": [
       "-49.39000000001033:10.0:90.60999999998967"
      ]
     },
     "execution_count": 35,
     "metadata": {},
     "output_type": "execute_result"
    }
   ],
   "source": [
    "#gamma_time = (20342 - UnitTest.seconds_since_midnight(m_start_time)):10:((20342 + 10*15) - UnitTest.seconds_since_midnight(m_stop_time))\n"
   ]
  },
  {
   "cell_type": "code",
   "execution_count": 130,
   "metadata": {},
   "outputs": [
    {
     "data": {
      "image/svg+xml": [
       "<?xml version=\"1.0\" encoding=\"utf-8\"?>\n",
       "<svg xmlns=\"http://www.w3.org/2000/svg\" xmlns:xlink=\"http://www.w3.org/1999/xlink\" width=\"600\" height=\"400\" viewBox=\"0 0 2400 1600\">\n",
       "<defs>\n",
       "  <clipPath id=\"clip0300\">\n",
       "    <rect x=\"0\" y=\"0\" width=\"2400\" height=\"1600\"/>\n",
       "  </clipPath>\n",
       "</defs>\n",
       "<path clip-path=\"url(#clip0300)\" d=\"\n",
       "M0 1600 L2400 1600 L2400 0 L0 0  Z\n",
       "  \" fill=\"#ffffff\" fill-rule=\"evenodd\" fill-opacity=\"1\"/>\n",
       "<defs>\n",
       "  <clipPath id=\"clip0301\">\n",
       "    <rect x=\"480\" y=\"0\" width=\"1681\" height=\"1600\"/>\n",
       "  </clipPath>\n",
       "</defs>\n",
       "<path clip-path=\"url(#clip0300)\" d=\"\n",
       "M260.273 1487.47 L2352.76 1487.47 L2352.76 47.2441 L260.273 47.2441  Z\n",
       "  \" fill=\"#ffffff\" fill-rule=\"evenodd\" fill-opacity=\"1\"/>\n",
       "<defs>\n",
       "  <clipPath id=\"clip0302\">\n",
       "    <rect x=\"260\" y=\"47\" width=\"2093\" height=\"1441\"/>\n",
       "  </clipPath>\n",
       "</defs>\n",
       "<polyline clip-path=\"url(#clip0302)\" style=\"stroke:#000000; stroke-width:2; stroke-opacity:0.1; fill:none\" points=\"\n",
       "  640.276,1487.47 640.276,47.2441 \n",
       "  \"/>\n",
       "<polyline clip-path=\"url(#clip0302)\" style=\"stroke:#000000; stroke-width:2; stroke-opacity:0.1; fill:none\" points=\"\n",
       "  1051.53,1487.47 1051.53,47.2441 \n",
       "  \"/>\n",
       "<polyline clip-path=\"url(#clip0302)\" style=\"stroke:#000000; stroke-width:2; stroke-opacity:0.1; fill:none\" points=\"\n",
       "  1462.79,1487.47 1462.79,47.2441 \n",
       "  \"/>\n",
       "<polyline clip-path=\"url(#clip0302)\" style=\"stroke:#000000; stroke-width:2; stroke-opacity:0.1; fill:none\" points=\"\n",
       "  1874.05,1487.47 1874.05,47.2441 \n",
       "  \"/>\n",
       "<polyline clip-path=\"url(#clip0302)\" style=\"stroke:#000000; stroke-width:2; stroke-opacity:0.1; fill:none\" points=\"\n",
       "  2285.31,1487.47 2285.31,47.2441 \n",
       "  \"/>\n",
       "<polyline clip-path=\"url(#clip0302)\" style=\"stroke:#000000; stroke-width:2; stroke-opacity:0.1; fill:none\" points=\"\n",
       "  260.273,1454.44 2352.76,1454.44 \n",
       "  \"/>\n",
       "<polyline clip-path=\"url(#clip0302)\" style=\"stroke:#000000; stroke-width:2; stroke-opacity:0.1; fill:none\" points=\"\n",
       "  260.273,1209.64 2352.76,1209.64 \n",
       "  \"/>\n",
       "<polyline clip-path=\"url(#clip0302)\" style=\"stroke:#000000; stroke-width:2; stroke-opacity:0.1; fill:none\" points=\"\n",
       "  260.273,964.845 2352.76,964.845 \n",
       "  \"/>\n",
       "<polyline clip-path=\"url(#clip0302)\" style=\"stroke:#000000; stroke-width:2; stroke-opacity:0.1; fill:none\" points=\"\n",
       "  260.273,720.048 2352.76,720.048 \n",
       "  \"/>\n",
       "<polyline clip-path=\"url(#clip0302)\" style=\"stroke:#000000; stroke-width:2; stroke-opacity:0.1; fill:none\" points=\"\n",
       "  260.273,475.251 2352.76,475.251 \n",
       "  \"/>\n",
       "<polyline clip-path=\"url(#clip0302)\" style=\"stroke:#000000; stroke-width:2; stroke-opacity:0.1; fill:none\" points=\"\n",
       "  260.273,230.454 2352.76,230.454 \n",
       "  \"/>\n",
       "<polyline clip-path=\"url(#clip0300)\" style=\"stroke:#000000; stroke-width:4; stroke-opacity:1; fill:none\" points=\"\n",
       "  260.273,1487.47 2352.76,1487.47 \n",
       "  \"/>\n",
       "<polyline clip-path=\"url(#clip0300)\" style=\"stroke:#000000; stroke-width:4; stroke-opacity:1; fill:none\" points=\"\n",
       "  260.273,1487.47 260.273,47.2441 \n",
       "  \"/>\n",
       "<polyline clip-path=\"url(#clip0300)\" style=\"stroke:#000000; stroke-width:4; stroke-opacity:1; fill:none\" points=\"\n",
       "  640.276,1487.47 640.276,1470.19 \n",
       "  \"/>\n",
       "<polyline clip-path=\"url(#clip0300)\" style=\"stroke:#000000; stroke-width:4; stroke-opacity:1; fill:none\" points=\"\n",
       "  1051.53,1487.47 1051.53,1470.19 \n",
       "  \"/>\n",
       "<polyline clip-path=\"url(#clip0300)\" style=\"stroke:#000000; stroke-width:4; stroke-opacity:1; fill:none\" points=\"\n",
       "  1462.79,1487.47 1462.79,1470.19 \n",
       "  \"/>\n",
       "<polyline clip-path=\"url(#clip0300)\" style=\"stroke:#000000; stroke-width:4; stroke-opacity:1; fill:none\" points=\"\n",
       "  1874.05,1487.47 1874.05,1470.19 \n",
       "  \"/>\n",
       "<polyline clip-path=\"url(#clip0300)\" style=\"stroke:#000000; stroke-width:4; stroke-opacity:1; fill:none\" points=\"\n",
       "  2285.31,1487.47 2285.31,1470.19 \n",
       "  \"/>\n",
       "<polyline clip-path=\"url(#clip0300)\" style=\"stroke:#000000; stroke-width:4; stroke-opacity:1; fill:none\" points=\"\n",
       "  260.273,1454.44 285.383,1454.44 \n",
       "  \"/>\n",
       "<polyline clip-path=\"url(#clip0300)\" style=\"stroke:#000000; stroke-width:4; stroke-opacity:1; fill:none\" points=\"\n",
       "  260.273,1209.64 285.383,1209.64 \n",
       "  \"/>\n",
       "<polyline clip-path=\"url(#clip0300)\" style=\"stroke:#000000; stroke-width:4; stroke-opacity:1; fill:none\" points=\"\n",
       "  260.273,964.845 285.383,964.845 \n",
       "  \"/>\n",
       "<polyline clip-path=\"url(#clip0300)\" style=\"stroke:#000000; stroke-width:4; stroke-opacity:1; fill:none\" points=\"\n",
       "  260.273,720.048 285.383,720.048 \n",
       "  \"/>\n",
       "<polyline clip-path=\"url(#clip0300)\" style=\"stroke:#000000; stroke-width:4; stroke-opacity:1; fill:none\" points=\"\n",
       "  260.273,475.251 285.383,475.251 \n",
       "  \"/>\n",
       "<polyline clip-path=\"url(#clip0300)\" style=\"stroke:#000000; stroke-width:4; stroke-opacity:1; fill:none\" points=\"\n",
       "  260.273,230.454 285.383,230.454 \n",
       "  \"/>\n",
       "<g clip-path=\"url(#clip0300)\">\n",
       "<text style=\"fill:#000000; fill-opacity:1; font-family:Arial,Helvetica Neue,Helvetica,sans-serif; font-size:48px; text-anchor:middle;\" transform=\"rotate(0, 640.276, 1541.47)\" x=\"640.276\" y=\"1541.47\">-100</text>\n",
       "</g>\n",
       "<g clip-path=\"url(#clip0300)\">\n",
       "<text style=\"fill:#000000; fill-opacity:1; font-family:Arial,Helvetica Neue,Helvetica,sans-serif; font-size:48px; text-anchor:middle;\" transform=\"rotate(0, 1051.53, 1541.47)\" x=\"1051.53\" y=\"1541.47\">0</text>\n",
       "</g>\n",
       "<g clip-path=\"url(#clip0300)\">\n",
       "<text style=\"fill:#000000; fill-opacity:1; font-family:Arial,Helvetica Neue,Helvetica,sans-serif; font-size:48px; text-anchor:middle;\" transform=\"rotate(0, 1462.79, 1541.47)\" x=\"1462.79\" y=\"1541.47\">100</text>\n",
       "</g>\n",
       "<g clip-path=\"url(#clip0300)\">\n",
       "<text style=\"fill:#000000; fill-opacity:1; font-family:Arial,Helvetica Neue,Helvetica,sans-serif; font-size:48px; text-anchor:middle;\" transform=\"rotate(0, 1874.05, 1541.47)\" x=\"1874.05\" y=\"1541.47\">200</text>\n",
       "</g>\n",
       "<g clip-path=\"url(#clip0300)\">\n",
       "<text style=\"fill:#000000; fill-opacity:1; font-family:Arial,Helvetica Neue,Helvetica,sans-serif; font-size:48px; text-anchor:middle;\" transform=\"rotate(0, 2285.31, 1541.47)\" x=\"2285.31\" y=\"1541.47\">300</text>\n",
       "</g>\n",
       "<g clip-path=\"url(#clip0300)\">\n",
       "<text style=\"fill:#000000; fill-opacity:1; font-family:Arial,Helvetica Neue,Helvetica,sans-serif; font-size:48px; text-anchor:start;\" transform=\"rotate(0, 106.132, 1478.17)\" x=\"106.132\" y=\"1478.17\">1×10</text>\n",
       "</g>\n",
       "<g clip-path=\"url(#clip0300)\">\n",
       "<text style=\"fill:#000000; fill-opacity:1; font-family:Arial,Helvetica Neue,Helvetica,sans-serif; font-size:38px; text-anchor:start;\" transform=\"rotate(0, 214.529, 1450.76)\" x=\"214.529\" y=\"1450.76\">6</text>\n",
       "</g>\n",
       "<g clip-path=\"url(#clip0300)\">\n",
       "<text style=\"fill:#000000; fill-opacity:1; font-family:Arial,Helvetica Neue,Helvetica,sans-serif; font-size:48px; text-anchor:start;\" transform=\"rotate(0, 106.132, 1233.37)\" x=\"106.132\" y=\"1233.37\">2×10</text>\n",
       "</g>\n",
       "<g clip-path=\"url(#clip0300)\">\n",
       "<text style=\"fill:#000000; fill-opacity:1; font-family:Arial,Helvetica Neue,Helvetica,sans-serif; font-size:38px; text-anchor:start;\" transform=\"rotate(0, 214.529, 1205.96)\" x=\"214.529\" y=\"1205.96\">6</text>\n",
       "</g>\n",
       "<g clip-path=\"url(#clip0300)\">\n",
       "<text style=\"fill:#000000; fill-opacity:1; font-family:Arial,Helvetica Neue,Helvetica,sans-serif; font-size:48px; text-anchor:start;\" transform=\"rotate(0, 106.132, 988.573)\" x=\"106.132\" y=\"988.573\">3×10</text>\n",
       "</g>\n",
       "<g clip-path=\"url(#clip0300)\">\n",
       "<text style=\"fill:#000000; fill-opacity:1; font-family:Arial,Helvetica Neue,Helvetica,sans-serif; font-size:38px; text-anchor:start;\" transform=\"rotate(0, 214.529, 961.162)\" x=\"214.529\" y=\"961.162\">6</text>\n",
       "</g>\n",
       "<g clip-path=\"url(#clip0300)\">\n",
       "<text style=\"fill:#000000; fill-opacity:1; font-family:Arial,Helvetica Neue,Helvetica,sans-serif; font-size:48px; text-anchor:start;\" transform=\"rotate(0, 106.132, 743.776)\" x=\"106.132\" y=\"743.776\">4×10</text>\n",
       "</g>\n",
       "<g clip-path=\"url(#clip0300)\">\n",
       "<text style=\"fill:#000000; fill-opacity:1; font-family:Arial,Helvetica Neue,Helvetica,sans-serif; font-size:38px; text-anchor:start;\" transform=\"rotate(0, 214.529, 716.365)\" x=\"214.529\" y=\"716.365\">6</text>\n",
       "</g>\n",
       "<g clip-path=\"url(#clip0300)\">\n",
       "<text style=\"fill:#000000; fill-opacity:1; font-family:Arial,Helvetica Neue,Helvetica,sans-serif; font-size:48px; text-anchor:start;\" transform=\"rotate(0, 106.132, 498.979)\" x=\"106.132\" y=\"498.979\">5×10</text>\n",
       "</g>\n",
       "<g clip-path=\"url(#clip0300)\">\n",
       "<text style=\"fill:#000000; fill-opacity:1; font-family:Arial,Helvetica Neue,Helvetica,sans-serif; font-size:38px; text-anchor:start;\" transform=\"rotate(0, 214.529, 471.568)\" x=\"214.529\" y=\"471.568\">6</text>\n",
       "</g>\n",
       "<g clip-path=\"url(#clip0300)\">\n",
       "<text style=\"fill:#000000; fill-opacity:1; font-family:Arial,Helvetica Neue,Helvetica,sans-serif; font-size:48px; text-anchor:start;\" transform=\"rotate(0, 106.132, 254.182)\" x=\"106.132\" y=\"254.182\">6×10</text>\n",
       "</g>\n",
       "<g clip-path=\"url(#clip0300)\">\n",
       "<text style=\"fill:#000000; fill-opacity:1; font-family:Arial,Helvetica Neue,Helvetica,sans-serif; font-size:38px; text-anchor:start;\" transform=\"rotate(0, 214.529, 226.771)\" x=\"214.529\" y=\"226.771\">6</text>\n",
       "</g>\n",
       "<polyline clip-path=\"url(#clip0302)\" style=\"stroke:#009af9; stroke-width:4; stroke-opacity:1; fill:none\" points=\"\n",
       "  319.495,1141.49 360.62,1124.01 401.746,1106.59 442.872,1089.24 483.998,1071.95 525.124,1054.74 566.25,1037.6 607.376,1020.53 648.501,1003.53 689.627,986.617 \n",
       "  730.753,969.782 771.879,953.027 813.005,936.357 854.131,919.772 895.256,903.275 936.382,886.867 977.508,870.551 1018.63,854.328 1059.76,838.2 1100.89,822.17 \n",
       "  1142.01,806.239 1183.14,790.408 1224.26,774.681 1265.39,759.058 1306.51,743.541 1347.64,728.133 1388.77,712.835 1429.89,697.648 1471.02,682.575 1512.14,667.618 \n",
       "  1553.27,652.778 1594.4,638.057 1635.52,623.457 1676.65,608.978 1717.77,594.624 1758.9,580.396 1800.02,566.295 1841.15,552.324 1882.28,538.483 1923.4,524.774 \n",
       "  1964.53,511.2 2005.65,497.761 2046.78,484.459 2087.91,471.296 2129.03,458.273 2170.16,445.392 2211.28,432.654 2252.41,420.061 2293.53,407.615 \n",
       "  \"/>\n",
       "<polyline clip-path=\"url(#clip0302)\" style=\"stroke:#e26f46; stroke-width:4; stroke-opacity:1; fill:none\" points=\"\n",
       "  319.495,1407.46 360.62,1406.96 401.746,1406.52 442.872,1406.14 483.998,1405.82 525.124,1405.56 566.25,1405.35 607.376,1405.21 648.501,1405.12 689.627,1405.09 \n",
       "  730.753,1405.11 771.879,1405.19 813.005,1405.33 854.131,1405.53 895.256,1405.79 936.382,1406.1 977.508,1406.47 1018.63,1406.89 1059.76,1407.37 1100.89,1407.91 \n",
       "  1142.01,1408.5 1183.14,1409.15 1224.26,1409.85 1265.39,1410.61 1306.51,1411.43 1347.64,1412.3 1388.77,1413.22 1429.89,1414.2 1471.02,1415.23 1512.14,1416.32 \n",
       "  1553.27,1417.45 1594.4,1418.65 1635.52,1419.89 1676.65,1421.19 1717.77,1422.54 1758.9,1423.94 1800.02,1425.39 1841.15,1426.9 1882.28,1428.45 1923.4,1430.06 \n",
       "  1964.53,1431.71 2005.65,1433.42 2046.78,1435.17 2087.91,1436.98 2129.03,1438.83 2170.16,1440.73 2211.28,1442.68 2252.41,1444.67 2293.53,1446.71 \n",
       "  \"/>\n",
       "<polyline clip-path=\"url(#clip0302)\" style=\"stroke:#3da44d; stroke-width:4; stroke-opacity:1; fill:none\" points=\"\n",
       "  319.495,88.0053 360.62,94.2396 401.746,100.655 442.872,107.25 483.998,114.026 525.124,120.979 566.25,128.111 607.376,135.42 648.501,142.906 689.627,150.567 \n",
       "  730.753,158.402 771.879,166.412 813.005,174.594 854.131,182.949 895.256,191.474 936.382,200.169 977.508,209.034 1018.63,218.067 1059.76,227.266 1100.89,236.632 \n",
       "  1142.01,246.163 1183.14,255.858 1224.26,265.715 1265.39,275.735 1306.51,285.915 1347.64,296.254 1388.77,306.752 1429.89,317.407 1471.02,328.218 1512.14,339.184 \n",
       "  1553.27,350.303 1594.4,361.574 1635.52,372.996 1676.65,384.568 1717.77,396.289 1758.9,408.156 1800.02,420.169 1841.15,432.327 1882.28,444.628 1923.4,457.07 \n",
       "  1964.53,469.652 2005.65,482.374 2046.78,495.232 2087.91,508.227 2129.03,521.356 2170.16,534.618 2211.28,548.011 2252.41,561.535 2293.53,575.187 \n",
       "  \"/>\n",
       "<polyline clip-path=\"url(#clip0302)\" style=\"stroke:#c271d2; stroke-width:20; stroke-opacity:1; fill:none\" points=\"\n",
       "  1059.76,838.2 1100.89,822.17 1142.01,806.239 1183.14,790.408 1224.26,774.681 1265.39,759.058 1306.51,743.541 1347.64,728.133 1388.77,712.835 1429.89,697.648 \n",
       "  1471.02,682.575 1512.14,667.618 1553.27,652.778 1594.4,638.057 1635.52,623.457 \n",
       "  \"/>\n",
       "<polyline clip-path=\"url(#clip0302)\" style=\"stroke:#ac8d18; stroke-width:20; stroke-opacity:1; fill:none\" points=\"\n",
       "  1059.76,1407.37 1100.89,1407.91 1142.01,1408.5 1183.14,1409.15 1224.26,1409.85 1265.39,1410.61 1306.51,1411.43 1347.64,1412.3 1388.77,1413.22 1429.89,1414.2 \n",
       "  1471.02,1415.23 1512.14,1416.32 1553.27,1417.45 1594.4,1418.65 1635.52,1419.89 \n",
       "  \"/>\n",
       "<polyline clip-path=\"url(#clip0302)\" style=\"stroke:#00a9ad; stroke-width:20; stroke-opacity:1; fill:none\" points=\"\n",
       "  1059.76,227.266 1100.89,236.632 1142.01,246.163 1183.14,255.858 1224.26,265.715 1265.39,275.735 1306.51,285.915 1347.64,296.254 1388.77,306.752 1429.89,317.407 \n",
       "  1471.02,328.218 1512.14,339.184 1553.27,350.303 1594.4,361.574 1635.52,372.996 \n",
       "  \"/>\n",
       "<path clip-path=\"url(#clip0300)\" d=\"\n",
       "M2008.65 554.124 L2280.76 554.124 L2280.76 130.764 L2008.65 130.764  Z\n",
       "  \" fill=\"#ffffff\" fill-rule=\"evenodd\" fill-opacity=\"1\"/>\n",
       "<polyline clip-path=\"url(#clip0300)\" style=\"stroke:#000000; stroke-width:4; stroke-opacity:1; fill:none\" points=\"\n",
       "  2008.65,554.124 2280.76,554.124 2280.76,130.764 2008.65,130.764 2008.65,554.124 \n",
       "  \"/>\n",
       "<polyline clip-path=\"url(#clip0300)\" style=\"stroke:#009af9; stroke-width:4; stroke-opacity:1; fill:none\" points=\"\n",
       "  2032.65,191.244 2176.65,191.244 \n",
       "  \"/>\n",
       "<g clip-path=\"url(#clip0300)\">\n",
       "<text style=\"fill:#000000; fill-opacity:1; font-family:Arial,Helvetica Neue,Helvetica,sans-serif; font-size:48px; text-anchor:start;\" transform=\"rotate(0, 2200.65, 208.744)\" x=\"2200.65\" y=\"208.744\">X</text>\n",
       "</g>\n",
       "<polyline clip-path=\"url(#clip0300)\" style=\"stroke:#e26f46; stroke-width:4; stroke-opacity:1; fill:none\" points=\"\n",
       "  2032.65,251.724 2176.65,251.724 \n",
       "  \"/>\n",
       "<g clip-path=\"url(#clip0300)\">\n",
       "<text style=\"fill:#000000; fill-opacity:1; font-family:Arial,Helvetica Neue,Helvetica,sans-serif; font-size:48px; text-anchor:start;\" transform=\"rotate(0, 2200.65, 269.224)\" x=\"2200.65\" y=\"269.224\">Y</text>\n",
       "</g>\n",
       "<polyline clip-path=\"url(#clip0300)\" style=\"stroke:#3da44d; stroke-width:4; stroke-opacity:1; fill:none\" points=\"\n",
       "  2032.65,312.204 2176.65,312.204 \n",
       "  \"/>\n",
       "<g clip-path=\"url(#clip0300)\">\n",
       "<text style=\"fill:#000000; fill-opacity:1; font-family:Arial,Helvetica Neue,Helvetica,sans-serif; font-size:48px; text-anchor:start;\" transform=\"rotate(0, 2200.65, 329.704)\" x=\"2200.65\" y=\"329.704\">Z</text>\n",
       "</g>\n",
       "<polyline clip-path=\"url(#clip0300)\" style=\"stroke:#c271d2; stroke-width:20; stroke-opacity:1; fill:none\" points=\"\n",
       "  2032.65,372.684 2176.65,372.684 \n",
       "  \"/>\n",
       "<g clip-path=\"url(#clip0300)\">\n",
       "<text style=\"fill:#000000; fill-opacity:1; font-family:Arial,Helvetica Neue,Helvetica,sans-serif; font-size:48px; text-anchor:start;\" transform=\"rotate(0, 2200.65, 390.184)\" x=\"2200.65\" y=\"390.184\">X</text>\n",
       "</g>\n",
       "<polyline clip-path=\"url(#clip0300)\" style=\"stroke:#ac8d18; stroke-width:20; stroke-opacity:1; fill:none\" points=\"\n",
       "  2032.65,433.164 2176.65,433.164 \n",
       "  \"/>\n",
       "<g clip-path=\"url(#clip0300)\">\n",
       "<text style=\"fill:#000000; fill-opacity:1; font-family:Arial,Helvetica Neue,Helvetica,sans-serif; font-size:48px; text-anchor:start;\" transform=\"rotate(0, 2200.65, 450.664)\" x=\"2200.65\" y=\"450.664\">Y</text>\n",
       "</g>\n",
       "<polyline clip-path=\"url(#clip0300)\" style=\"stroke:#00a9ad; stroke-width:20; stroke-opacity:1; fill:none\" points=\"\n",
       "  2032.65,493.644 2176.65,493.644 \n",
       "  \"/>\n",
       "<g clip-path=\"url(#clip0300)\">\n",
       "<text style=\"fill:#000000; fill-opacity:1; font-family:Arial,Helvetica Neue,Helvetica,sans-serif; font-size:48px; text-anchor:start;\" transform=\"rotate(0, 2200.65, 511.144)\" x=\"2200.65\" y=\"511.144\">Z</text>\n",
       "</g>\n",
       "</svg>\n"
      ]
     },
     "execution_count": 130,
     "metadata": {},
     "output_type": "execute_result"
    }
   ],
   "source": [
    "plot(nearby_state_vector_t_sv, nearby_state_vector_state_vectors[:, 1:3], label = [\"X\" \"Y\" \"Z\"])\n",
    "plot!(time_gamma, state_vector_gamma[:, 1:3], linewidth=5, label = [\"X\" \"Y\" \"Z\"])"
   ]
  },
  {
   "cell_type": "code",
   "execution_count": 101,
   "metadata": {},
   "outputs": [
    {
     "data": {
      "text/plain": [
       "0.6099999999896681:10.0:140.60999999998967"
      ]
     },
     "execution_count": 101,
     "metadata": {},
     "output_type": "execute_result"
    }
   ],
   "source": [
    "50 .+ time_gamma"
   ]
  },
  {
   "cell_type": "code",
   "execution_count": 37,
   "metadata": {},
   "outputs": [
    {
     "data": {
      "image/svg+xml": [
       "<?xml version=\"1.0\" encoding=\"utf-8\"?>\n",
       "<svg xmlns=\"http://www.w3.org/2000/svg\" xmlns:xlink=\"http://www.w3.org/1999/xlink\" width=\"600\" height=\"400\" viewBox=\"0 0 2400 1600\">\n",
       "<defs>\n",
       "  <clipPath id=\"clip6700\">\n",
       "    <rect x=\"0\" y=\"0\" width=\"2400\" height=\"1600\"/>\n",
       "  </clipPath>\n",
       "</defs>\n",
       "<path clip-path=\"url(#clip6700)\" d=\"\n",
       "M0 1600 L2400 1600 L2400 0 L0 0  Z\n",
       "  \" fill=\"#ffffff\" fill-rule=\"evenodd\" fill-opacity=\"1\"/>\n",
       "<defs>\n",
       "  <clipPath id=\"clip6701\">\n",
       "    <rect x=\"480\" y=\"0\" width=\"1681\" height=\"1600\"/>\n",
       "  </clipPath>\n",
       "</defs>\n",
       "<path clip-path=\"url(#clip6700)\" d=\"\n",
       "M260.273 1487.47 L2352.76 1487.47 L2352.76 47.2441 L260.273 47.2441  Z\n",
       "  \" fill=\"#ffffff\" fill-rule=\"evenodd\" fill-opacity=\"1\"/>\n",
       "<defs>\n",
       "  <clipPath id=\"clip6702\">\n",
       "    <rect x=\"260\" y=\"47\" width=\"2093\" height=\"1441\"/>\n",
       "  </clipPath>\n",
       "</defs>\n",
       "<polyline clip-path=\"url(#clip6702)\" style=\"stroke:#000000; stroke-width:2; stroke-opacity:0.1; fill:none\" points=\"\n",
       "  640.276,1487.47 640.276,47.2441 \n",
       "  \"/>\n",
       "<polyline clip-path=\"url(#clip6702)\" style=\"stroke:#000000; stroke-width:2; stroke-opacity:0.1; fill:none\" points=\"\n",
       "  1051.53,1487.47 1051.53,47.2441 \n",
       "  \"/>\n",
       "<polyline clip-path=\"url(#clip6702)\" style=\"stroke:#000000; stroke-width:2; stroke-opacity:0.1; fill:none\" points=\"\n",
       "  1462.79,1487.47 1462.79,47.2441 \n",
       "  \"/>\n",
       "<polyline clip-path=\"url(#clip6702)\" style=\"stroke:#000000; stroke-width:2; stroke-opacity:0.1; fill:none\" points=\"\n",
       "  1874.05,1487.47 1874.05,47.2441 \n",
       "  \"/>\n",
       "<polyline clip-path=\"url(#clip6702)\" style=\"stroke:#000000; stroke-width:2; stroke-opacity:0.1; fill:none\" points=\"\n",
       "  2285.31,1487.47 2285.31,47.2441 \n",
       "  \"/>\n",
       "<polyline clip-path=\"url(#clip6702)\" style=\"stroke:#000000; stroke-width:2; stroke-opacity:0.1; fill:none\" points=\"\n",
       "  260.273,1445.56 2352.76,1445.56 \n",
       "  \"/>\n",
       "<polyline clip-path=\"url(#clip6702)\" style=\"stroke:#000000; stroke-width:2; stroke-opacity:0.1; fill:none\" points=\"\n",
       "  260.273,1239.3 2352.76,1239.3 \n",
       "  \"/>\n",
       "<polyline clip-path=\"url(#clip6702)\" style=\"stroke:#000000; stroke-width:2; stroke-opacity:0.1; fill:none\" points=\"\n",
       "  260.273,1033.05 2352.76,1033.05 \n",
       "  \"/>\n",
       "<polyline clip-path=\"url(#clip6702)\" style=\"stroke:#000000; stroke-width:2; stroke-opacity:0.1; fill:none\" points=\"\n",
       "  260.273,826.792 2352.76,826.792 \n",
       "  \"/>\n",
       "<polyline clip-path=\"url(#clip6702)\" style=\"stroke:#000000; stroke-width:2; stroke-opacity:0.1; fill:none\" points=\"\n",
       "  260.273,620.537 2352.76,620.537 \n",
       "  \"/>\n",
       "<polyline clip-path=\"url(#clip6702)\" style=\"stroke:#000000; stroke-width:2; stroke-opacity:0.1; fill:none\" points=\"\n",
       "  260.273,414.282 2352.76,414.282 \n",
       "  \"/>\n",
       "<polyline clip-path=\"url(#clip6702)\" style=\"stroke:#000000; stroke-width:2; stroke-opacity:0.1; fill:none\" points=\"\n",
       "  260.273,208.026 2352.76,208.026 \n",
       "  \"/>\n",
       "<polyline clip-path=\"url(#clip6700)\" style=\"stroke:#000000; stroke-width:4; stroke-opacity:1; fill:none\" points=\"\n",
       "  260.273,1487.47 2352.76,1487.47 \n",
       "  \"/>\n",
       "<polyline clip-path=\"url(#clip6700)\" style=\"stroke:#000000; stroke-width:4; stroke-opacity:1; fill:none\" points=\"\n",
       "  260.273,1487.47 260.273,47.2441 \n",
       "  \"/>\n",
       "<polyline clip-path=\"url(#clip6700)\" style=\"stroke:#000000; stroke-width:4; stroke-opacity:1; fill:none\" points=\"\n",
       "  640.276,1487.47 640.276,1470.19 \n",
       "  \"/>\n",
       "<polyline clip-path=\"url(#clip6700)\" style=\"stroke:#000000; stroke-width:4; stroke-opacity:1; fill:none\" points=\"\n",
       "  1051.53,1487.47 1051.53,1470.19 \n",
       "  \"/>\n",
       "<polyline clip-path=\"url(#clip6700)\" style=\"stroke:#000000; stroke-width:4; stroke-opacity:1; fill:none\" points=\"\n",
       "  1462.79,1487.47 1462.79,1470.19 \n",
       "  \"/>\n",
       "<polyline clip-path=\"url(#clip6700)\" style=\"stroke:#000000; stroke-width:4; stroke-opacity:1; fill:none\" points=\"\n",
       "  1874.05,1487.47 1874.05,1470.19 \n",
       "  \"/>\n",
       "<polyline clip-path=\"url(#clip6700)\" style=\"stroke:#000000; stroke-width:4; stroke-opacity:1; fill:none\" points=\"\n",
       "  2285.31,1487.47 2285.31,1470.19 \n",
       "  \"/>\n",
       "<polyline clip-path=\"url(#clip6700)\" style=\"stroke:#000000; stroke-width:4; stroke-opacity:1; fill:none\" points=\"\n",
       "  260.273,1445.56 285.383,1445.56 \n",
       "  \"/>\n",
       "<polyline clip-path=\"url(#clip6700)\" style=\"stroke:#000000; stroke-width:4; stroke-opacity:1; fill:none\" points=\"\n",
       "  260.273,1239.3 285.383,1239.3 \n",
       "  \"/>\n",
       "<polyline clip-path=\"url(#clip6700)\" style=\"stroke:#000000; stroke-width:4; stroke-opacity:1; fill:none\" points=\"\n",
       "  260.273,1033.05 285.383,1033.05 \n",
       "  \"/>\n",
       "<polyline clip-path=\"url(#clip6700)\" style=\"stroke:#000000; stroke-width:4; stroke-opacity:1; fill:none\" points=\"\n",
       "  260.273,826.792 285.383,826.792 \n",
       "  \"/>\n",
       "<polyline clip-path=\"url(#clip6700)\" style=\"stroke:#000000; stroke-width:4; stroke-opacity:1; fill:none\" points=\"\n",
       "  260.273,620.537 285.383,620.537 \n",
       "  \"/>\n",
       "<polyline clip-path=\"url(#clip6700)\" style=\"stroke:#000000; stroke-width:4; stroke-opacity:1; fill:none\" points=\"\n",
       "  260.273,414.282 285.383,414.282 \n",
       "  \"/>\n",
       "<polyline clip-path=\"url(#clip6700)\" style=\"stroke:#000000; stroke-width:4; stroke-opacity:1; fill:none\" points=\"\n",
       "  260.273,208.026 285.383,208.026 \n",
       "  \"/>\n",
       "<g clip-path=\"url(#clip6700)\">\n",
       "<text style=\"fill:#000000; fill-opacity:1; font-family:Arial,Helvetica Neue,Helvetica,sans-serif; font-size:48px; text-anchor:middle;\" transform=\"rotate(0, 640.276, 1541.47)\" x=\"640.276\" y=\"1541.47\">-100</text>\n",
       "</g>\n",
       "<g clip-path=\"url(#clip6700)\">\n",
       "<text style=\"fill:#000000; fill-opacity:1; font-family:Arial,Helvetica Neue,Helvetica,sans-serif; font-size:48px; text-anchor:middle;\" transform=\"rotate(0, 1051.53, 1541.47)\" x=\"1051.53\" y=\"1541.47\">0</text>\n",
       "</g>\n",
       "<g clip-path=\"url(#clip6700)\">\n",
       "<text style=\"fill:#000000; fill-opacity:1; font-family:Arial,Helvetica Neue,Helvetica,sans-serif; font-size:48px; text-anchor:middle;\" transform=\"rotate(0, 1462.79, 1541.47)\" x=\"1462.79\" y=\"1541.47\">100</text>\n",
       "</g>\n",
       "<g clip-path=\"url(#clip6700)\">\n",
       "<text style=\"fill:#000000; fill-opacity:1; font-family:Arial,Helvetica Neue,Helvetica,sans-serif; font-size:48px; text-anchor:middle;\" transform=\"rotate(0, 1874.05, 1541.47)\" x=\"1874.05\" y=\"1541.47\">200</text>\n",
       "</g>\n",
       "<g clip-path=\"url(#clip6700)\">\n",
       "<text style=\"fill:#000000; fill-opacity:1; font-family:Arial,Helvetica Neue,Helvetica,sans-serif; font-size:48px; text-anchor:middle;\" transform=\"rotate(0, 2285.31, 1541.47)\" x=\"2285.31\" y=\"1541.47\">300</text>\n",
       "</g>\n",
       "<g clip-path=\"url(#clip6700)\">\n",
       "<text style=\"fill:#000000; fill-opacity:1; font-family:Arial,Helvetica Neue,Helvetica,sans-serif; font-size:48px; text-anchor:end;\" transform=\"rotate(0, 236.273, 1463.06)\" x=\"236.273\" y=\"1463.06\">0</text>\n",
       "</g>\n",
       "<g clip-path=\"url(#clip6700)\">\n",
       "<text style=\"fill:#000000; fill-opacity:1; font-family:Arial,Helvetica Neue,Helvetica,sans-serif; font-size:48px; text-anchor:start;\" transform=\"rotate(0, 106.132, 1263.03)\" x=\"106.132\" y=\"1263.03\">1×10</text>\n",
       "</g>\n",
       "<g clip-path=\"url(#clip6700)\">\n",
       "<text style=\"fill:#000000; fill-opacity:1; font-family:Arial,Helvetica Neue,Helvetica,sans-serif; font-size:38px; text-anchor:start;\" transform=\"rotate(0, 214.529, 1235.62)\" x=\"214.529\" y=\"1235.62\">6</text>\n",
       "</g>\n",
       "<g clip-path=\"url(#clip6700)\">\n",
       "<text style=\"fill:#000000; fill-opacity:1; font-family:Arial,Helvetica Neue,Helvetica,sans-serif; font-size:48px; text-anchor:start;\" transform=\"rotate(0, 106.132, 1056.78)\" x=\"106.132\" y=\"1056.78\">2×10</text>\n",
       "</g>\n",
       "<g clip-path=\"url(#clip6700)\">\n",
       "<text style=\"fill:#000000; fill-opacity:1; font-family:Arial,Helvetica Neue,Helvetica,sans-serif; font-size:38px; text-anchor:start;\" transform=\"rotate(0, 214.529, 1029.36)\" x=\"214.529\" y=\"1029.36\">6</text>\n",
       "</g>\n",
       "<g clip-path=\"url(#clip6700)\">\n",
       "<text style=\"fill:#000000; fill-opacity:1; font-family:Arial,Helvetica Neue,Helvetica,sans-serif; font-size:48px; text-anchor:start;\" transform=\"rotate(0, 106.132, 850.52)\" x=\"106.132\" y=\"850.52\">3×10</text>\n",
       "</g>\n",
       "<g clip-path=\"url(#clip6700)\">\n",
       "<text style=\"fill:#000000; fill-opacity:1; font-family:Arial,Helvetica Neue,Helvetica,sans-serif; font-size:38px; text-anchor:start;\" transform=\"rotate(0, 214.529, 823.109)\" x=\"214.529\" y=\"823.109\">6</text>\n",
       "</g>\n",
       "<g clip-path=\"url(#clip6700)\">\n",
       "<text style=\"fill:#000000; fill-opacity:1; font-family:Arial,Helvetica Neue,Helvetica,sans-serif; font-size:48px; text-anchor:start;\" transform=\"rotate(0, 106.132, 644.265)\" x=\"106.132\" y=\"644.265\">4×10</text>\n",
       "</g>\n",
       "<g clip-path=\"url(#clip6700)\">\n",
       "<text style=\"fill:#000000; fill-opacity:1; font-family:Arial,Helvetica Neue,Helvetica,sans-serif; font-size:38px; text-anchor:start;\" transform=\"rotate(0, 214.529, 616.854)\" x=\"214.529\" y=\"616.854\">6</text>\n",
       "</g>\n",
       "<g clip-path=\"url(#clip6700)\">\n",
       "<text style=\"fill:#000000; fill-opacity:1; font-family:Arial,Helvetica Neue,Helvetica,sans-serif; font-size:48px; text-anchor:start;\" transform=\"rotate(0, 106.132, 438.009)\" x=\"106.132\" y=\"438.009\">5×10</text>\n",
       "</g>\n",
       "<g clip-path=\"url(#clip6700)\">\n",
       "<text style=\"fill:#000000; fill-opacity:1; font-family:Arial,Helvetica Neue,Helvetica,sans-serif; font-size:38px; text-anchor:start;\" transform=\"rotate(0, 214.529, 410.599)\" x=\"214.529\" y=\"410.599\">6</text>\n",
       "</g>\n",
       "<g clip-path=\"url(#clip6700)\">\n",
       "<text style=\"fill:#000000; fill-opacity:1; font-family:Arial,Helvetica Neue,Helvetica,sans-serif; font-size:48px; text-anchor:start;\" transform=\"rotate(0, 106.132, 231.754)\" x=\"106.132\" y=\"231.754\">6×10</text>\n",
       "</g>\n",
       "<g clip-path=\"url(#clip6700)\">\n",
       "<text style=\"fill:#000000; fill-opacity:1; font-family:Arial,Helvetica Neue,Helvetica,sans-serif; font-size:38px; text-anchor:start;\" transform=\"rotate(0, 214.529, 204.344)\" x=\"214.529\" y=\"204.344\">6</text>\n",
       "</g>\n",
       "<polyline clip-path=\"url(#clip6702)\" style=\"stroke:#009af9; stroke-width:4; stroke-opacity:1; fill:none\" points=\"\n",
       "  319.495,88.0053 360.62,93.2581 401.746,98.6633 442.872,104.22 483.998,109.929 525.124,115.788 566.25,121.797 607.376,127.955 648.501,134.262 689.627,140.717 \n",
       "  730.753,147.319 771.879,154.067 813.005,160.961 854.131,168 895.256,175.183 936.382,182.51 977.508,189.979 1018.63,197.589 1059.76,205.341 1100.89,213.232 \n",
       "  1142.01,221.262 1183.14,229.43 1224.26,237.736 1265.39,246.178 1306.51,254.755 1347.64,263.467 1388.77,272.312 1429.89,281.289 1471.02,290.398 1512.14,299.637 \n",
       "  1553.27,309.006 1594.4,318.502 1635.52,328.126 1676.65,337.876 1717.77,347.751 1758.9,357.75 1800.02,367.872 1841.15,378.116 1882.28,388.48 1923.4,398.963 \n",
       "  1964.53,409.564 2005.65,420.283 2046.78,431.117 2087.91,442.065 2129.03,453.127 2170.16,464.301 2211.28,475.586 2252.41,486.98 2293.53,498.483 \n",
       "  \"/>\n",
       "<polyline clip-path=\"url(#clip6702)\" style=\"stroke:#e26f46; stroke-width:4; stroke-opacity:1; fill:none\" points=\"\n",
       "  319.495,1444.08 360.62,1444.09 401.746,1444.09 442.872,1444.1 483.998,1444.1 525.124,1444.11 566.25,1444.12 607.376,1444.12 648.501,1444.13 689.627,1444.14 \n",
       "  730.753,1444.14 771.879,1444.15 813.005,1444.16 854.131,1444.16 895.256,1444.17 936.382,1444.18 977.508,1444.19 1018.63,1444.19 1059.76,1444.2 1100.89,1444.21 \n",
       "  1142.01,1444.22 1183.14,1444.23 1224.26,1444.24 1265.39,1444.25 1306.51,1444.26 1347.64,1444.26 1388.77,1444.27 1429.89,1444.28 1471.02,1444.29 1512.14,1444.3 \n",
       "  1553.27,1444.31 1594.4,1444.32 1635.52,1444.33 1676.65,1444.34 1717.77,1444.35 1758.9,1444.36 1800.02,1444.38 1841.15,1444.39 1882.28,1444.4 1923.4,1444.41 \n",
       "  1964.53,1444.42 2005.65,1444.43 2046.78,1444.44 2087.91,1444.45 2129.03,1444.47 2170.16,1444.48 2211.28,1444.49 2252.41,1444.5 2293.53,1444.52 \n",
       "  \"/>\n",
       "<polyline clip-path=\"url(#clip6702)\" style=\"stroke:#3da44d; stroke-width:4; stroke-opacity:1; fill:none\" points=\"\n",
       "  319.495,1445.51 360.62,1445.52 401.746,1445.52 442.872,1445.53 483.998,1445.53 525.124,1445.54 566.25,1445.54 607.376,1445.55 648.501,1445.55 689.627,1445.56 \n",
       "  730.753,1445.56 771.879,1445.57 813.005,1445.57 854.131,1445.58 895.256,1445.58 936.382,1445.59 977.508,1445.59 1018.63,1445.6 1059.76,1445.6 1100.89,1445.61 \n",
       "  1142.01,1445.61 1183.14,1445.61 1224.26,1445.62 1265.39,1445.62 1306.51,1445.63 1347.64,1445.63 1388.77,1445.64 1429.89,1445.64 1471.02,1445.65 1512.14,1445.65 \n",
       "  1553.27,1445.66 1594.4,1445.66 1635.52,1445.66 1676.65,1445.67 1717.77,1445.67 1758.9,1445.68 1800.02,1445.68 1841.15,1445.69 1882.28,1445.69 1923.4,1445.7 \n",
       "  1964.53,1445.7 2005.65,1445.7 2046.78,1445.71 2087.91,1445.71 2129.03,1445.72 2170.16,1445.72 2211.28,1445.72 2252.41,1445.73 2293.53,1445.73 \n",
       "  \"/>\n",
       "<polyline clip-path=\"url(#clip6702)\" style=\"stroke:#c271d2; stroke-width:4; stroke-opacity:1; fill:none\" points=\"\n",
       "  319.495,1446.08 360.62,1446.09 401.746,1446.11 442.872,1446.12 483.998,1446.14 525.124,1446.15 566.25,1446.17 607.376,1446.18 648.501,1446.2 689.627,1446.21 \n",
       "  730.753,1446.23 771.879,1446.24 813.005,1446.25 854.131,1446.27 895.256,1446.28 936.382,1446.3 977.508,1446.31 1018.63,1446.33 1059.76,1446.34 1100.89,1446.35 \n",
       "  1142.01,1446.37 1183.14,1446.38 1224.26,1446.4 1265.39,1446.41 1306.51,1446.42 1347.64,1446.44 1388.77,1446.45 1429.89,1446.46 1471.02,1446.48 1512.14,1446.49 \n",
       "  1553.27,1446.5 1594.4,1446.51 1635.52,1446.53 1676.65,1446.54 1717.77,1446.55 1758.9,1446.56 1800.02,1446.58 1841.15,1446.59 1882.28,1446.6 1923.4,1446.61 \n",
       "  1964.53,1446.62 2005.65,1446.64 2046.78,1446.65 2087.91,1446.66 2129.03,1446.67 2170.16,1446.68 2211.28,1446.69 2252.41,1446.7 2293.53,1446.71 \n",
       "  \"/>\n",
       "<polyline clip-path=\"url(#clip6702)\" style=\"stroke:#ac8d18; stroke-width:4; stroke-opacity:1; fill:none\" points=\"\n",
       "  848.414,205.341 889.54,213.232 930.666,221.262 971.792,229.43 1012.92,237.736 1054.04,246.178 1095.17,254.755 1136.29,263.467 1177.42,272.312 1218.55,281.289 \n",
       "  1259.67,290.398 1300.8,299.637 1341.92,309.006 1383.05,318.502 1424.18,328.126 \n",
       "  \"/>\n",
       "<polyline clip-path=\"url(#clip6702)\" style=\"stroke:#00a9ad; stroke-width:4; stroke-opacity:1; fill:none\" points=\"\n",
       "  848.414,1444.2 889.54,1444.21 930.666,1444.22 971.792,1444.23 1012.92,1444.24 1054.04,1444.25 1095.17,1444.26 1136.29,1444.26 1177.42,1444.27 1218.55,1444.28 \n",
       "  1259.67,1444.29 1300.8,1444.3 1341.92,1444.31 1383.05,1444.32 1424.18,1444.33 \n",
       "  \"/>\n",
       "<polyline clip-path=\"url(#clip6702)\" style=\"stroke:#ed5d92; stroke-width:4; stroke-opacity:1; fill:none\" points=\"\n",
       "  848.414,1445.6 889.54,1445.61 930.666,1445.61 971.792,1445.61 1012.92,1445.62 1054.04,1445.62 1095.17,1445.63 1136.29,1445.63 1177.42,1445.64 1218.55,1445.64 \n",
       "  1259.67,1445.65 1300.8,1445.65 1341.92,1445.66 1383.05,1445.66 1424.18,1445.66 \n",
       "  \"/>\n",
       "<polyline clip-path=\"url(#clip6702)\" style=\"stroke:#c68125; stroke-width:4; stroke-opacity:1; fill:none\" points=\"\n",
       "  848.414,1446.34 889.54,1446.35 930.666,1446.37 971.792,1446.38 1012.92,1446.4 1054.04,1446.41 1095.17,1446.42 1136.29,1446.44 1177.42,1446.45 1218.55,1446.46 \n",
       "  1259.67,1446.48 1300.8,1446.49 1341.92,1446.5 1383.05,1446.51 1424.18,1446.53 \n",
       "  \"/>\n",
       "<path clip-path=\"url(#clip6700)\" d=\"\n",
       "M1989.93 675.084 L2280.76 675.084 L2280.76 130.764 L1989.93 130.764  Z\n",
       "  \" fill=\"#ffffff\" fill-rule=\"evenodd\" fill-opacity=\"1\"/>\n",
       "<polyline clip-path=\"url(#clip6700)\" style=\"stroke:#000000; stroke-width:4; stroke-opacity:1; fill:none\" points=\"\n",
       "  1989.93,675.084 2280.76,675.084 2280.76,130.764 1989.93,130.764 1989.93,675.084 \n",
       "  \"/>\n",
       "<polyline clip-path=\"url(#clip6700)\" style=\"stroke:#009af9; stroke-width:4; stroke-opacity:1; fill:none\" points=\"\n",
       "  2013.93,191.244 2157.93,191.244 \n",
       "  \"/>\n",
       "<g clip-path=\"url(#clip6700)\">\n",
       "<text style=\"fill:#000000; fill-opacity:1; font-family:Arial,Helvetica Neue,Helvetica,sans-serif; font-size:48px; text-anchor:start;\" transform=\"rotate(0, 2181.93, 208.744)\" x=\"2181.93\" y=\"208.744\">y1</text>\n",
       "</g>\n",
       "<polyline clip-path=\"url(#clip6700)\" style=\"stroke:#e26f46; stroke-width:4; stroke-opacity:1; fill:none\" points=\"\n",
       "  2013.93,251.724 2157.93,251.724 \n",
       "  \"/>\n",
       "<g clip-path=\"url(#clip6700)\">\n",
       "<text style=\"fill:#000000; fill-opacity:1; font-family:Arial,Helvetica Neue,Helvetica,sans-serif; font-size:48px; text-anchor:start;\" transform=\"rotate(0, 2181.93, 269.224)\" x=\"2181.93\" y=\"269.224\">y2</text>\n",
       "</g>\n",
       "<polyline clip-path=\"url(#clip6700)\" style=\"stroke:#3da44d; stroke-width:4; stroke-opacity:1; fill:none\" points=\"\n",
       "  2013.93,312.204 2157.93,312.204 \n",
       "  \"/>\n",
       "<g clip-path=\"url(#clip6700)\">\n",
       "<text style=\"fill:#000000; fill-opacity:1; font-family:Arial,Helvetica Neue,Helvetica,sans-serif; font-size:48px; text-anchor:start;\" transform=\"rotate(0, 2181.93, 329.704)\" x=\"2181.93\" y=\"329.704\">y3</text>\n",
       "</g>\n",
       "<polyline clip-path=\"url(#clip6700)\" style=\"stroke:#c271d2; stroke-width:4; stroke-opacity:1; fill:none\" points=\"\n",
       "  2013.93,372.684 2157.93,372.684 \n",
       "  \"/>\n",
       "<g clip-path=\"url(#clip6700)\">\n",
       "<text style=\"fill:#000000; fill-opacity:1; font-family:Arial,Helvetica Neue,Helvetica,sans-serif; font-size:48px; text-anchor:start;\" transform=\"rotate(0, 2181.93, 390.184)\" x=\"2181.93\" y=\"390.184\">y4</text>\n",
       "</g>\n",
       "<polyline clip-path=\"url(#clip6700)\" style=\"stroke:#ac8d18; stroke-width:4; stroke-opacity:1; fill:none\" points=\"\n",
       "  2013.93,433.164 2157.93,433.164 \n",
       "  \"/>\n",
       "<g clip-path=\"url(#clip6700)\">\n",
       "<text style=\"fill:#000000; fill-opacity:1; font-family:Arial,Helvetica Neue,Helvetica,sans-serif; font-size:48px; text-anchor:start;\" transform=\"rotate(0, 2181.93, 450.664)\" x=\"2181.93\" y=\"450.664\">y5</text>\n",
       "</g>\n",
       "<polyline clip-path=\"url(#clip6700)\" style=\"stroke:#00a9ad; stroke-width:4; stroke-opacity:1; fill:none\" points=\"\n",
       "  2013.93,493.644 2157.93,493.644 \n",
       "  \"/>\n",
       "<g clip-path=\"url(#clip6700)\">\n",
       "<text style=\"fill:#000000; fill-opacity:1; font-family:Arial,Helvetica Neue,Helvetica,sans-serif; font-size:48px; text-anchor:start;\" transform=\"rotate(0, 2181.93, 511.144)\" x=\"2181.93\" y=\"511.144\">y6</text>\n",
       "</g>\n",
       "<polyline clip-path=\"url(#clip6700)\" style=\"stroke:#ed5d92; stroke-width:4; stroke-opacity:1; fill:none\" points=\"\n",
       "  2013.93,554.124 2157.93,554.124 \n",
       "  \"/>\n",
       "<g clip-path=\"url(#clip6700)\">\n",
       "<text style=\"fill:#000000; fill-opacity:1; font-family:Arial,Helvetica Neue,Helvetica,sans-serif; font-size:48px; text-anchor:start;\" transform=\"rotate(0, 2181.93, 571.624)\" x=\"2181.93\" y=\"571.624\">y7</text>\n",
       "</g>\n",
       "<polyline clip-path=\"url(#clip6700)\" style=\"stroke:#c68125; stroke-width:4; stroke-opacity:1; fill:none\" points=\"\n",
       "  2013.93,614.604 2157.93,614.604 \n",
       "  \"/>\n",
       "<g clip-path=\"url(#clip6700)\">\n",
       "<text style=\"fill:#000000; fill-opacity:1; font-family:Arial,Helvetica Neue,Helvetica,sans-serif; font-size:48px; text-anchor:start;\" transform=\"rotate(0, 2181.93, 632.104)\" x=\"2181.93\" y=\"632.104\">y8</text>\n",
       "</g>\n",
       "</svg>\n"
      ]
     },
     "execution_count": 37,
     "metadata": {},
     "output_type": "execute_result"
    }
   ],
   "source": [
    "plot(nearby_state_vector_t_sv, nearby_state_vector_state_vectors[:, 3:end])\n",
    "plot!(time_gamma, state_vector_gamma[:, 3:end])"
   ]
  },
  {
   "cell_type": "code",
   "execution_count": 21,
   "metadata": {},
   "outputs": [
    {
     "data": {
      "text/plain": [
       "20-element Array{Float64,1}:\n",
       " -178.0\n",
       " -168.0\n",
       " -158.0\n",
       " -148.0\n",
       " -138.0\n",
       " -128.0\n",
       " -118.0\n",
       " -108.0\n",
       "  -98.0\n",
       "  -88.0\n",
       "  -78.0\n",
       "  -68.0\n",
       "  -58.0\n",
       "  -48.0\n",
       "  -38.0\n",
       "  -28.0\n",
       "  -18.0\n",
       "   -8.0\n",
       "    2.0\n",
       "   12.0"
      ]
     },
     "execution_count": 21,
     "metadata": {},
     "output_type": "execute_result"
    }
   ],
   "source": [
    "nearby_state_vector_t_sv[1:20]"
   ]
  },
  {
   "cell_type": "code",
   "execution_count": null,
   "metadata": {},
   "outputs": [],
   "source": []
  },
  {
   "cell_type": "code",
   "execution_count": 26,
   "metadata": {},
   "outputs": [
    {
     "data": {
      "text/plain": [
       "1×6 Array{Float64,2}:\n",
       " 8.97102e5  52272.1  5.9772e5  631.198  316.882  925.545"
      ]
     },
     "execution_count": 26,
     "metadata": {},
     "output_type": "execute_result"
    }
   ],
   "source": [
    "y = nearby_state_vector_state_vectors\n",
    "time = nearby_state_vector_t_sv\n",
    "poly_degree=4\n",
    "do_scale=1\n",
    "\n",
    "y_mean = mean(y,dims=1)\n",
    "y_std = std(y,dims=1)\n",
    "y_norm = (y.-y_mean)./y_std"
   ]
  },
  {
   "cell_type": "code",
   "execution_count": 34,
   "metadata": {},
   "outputs": [
    {
     "data": {
      "text/plain": [
       "49-element Array{Float64,1}:\n",
       " -178.0\n",
       " -168.0\n",
       " -158.0\n",
       " -148.0\n",
       " -138.0\n",
       " -128.0\n",
       " -118.0\n",
       " -108.0\n",
       "  -98.0\n",
       "  -88.0\n",
       "  -78.0\n",
       "  -68.0\n",
       "  -58.0\n",
       "    ⋮  \n",
       "  192.0\n",
       "  202.0\n",
       "  212.0\n",
       "  222.0\n",
       "  232.0\n",
       "  242.0\n",
       "  252.0\n",
       "  262.0\n",
       "  272.0\n",
       "  282.0\n",
       "  292.0\n",
       "  302.0"
      ]
     },
     "execution_count": 34,
     "metadata": {},
     "output_type": "execute_result"
    }
   ],
   "source": [
    "time"
   ]
  },
  {
   "cell_type": "code",
   "execution_count": 32,
   "metadata": {},
   "outputs": [
    {
     "data": {
      "text/html": [
       "&#45;0.3965530106954035 &#43; 0.007330634606562362&#8729;x &#45; 2.2045595767170277e-6&#8729;x<sup>2</sup> &#45; 1.4300860464064747e-9&#8729;x<sup>3</sup> &#43; 2.3412362494786853e-13&#8729;x<sup>4</sup>"
      ],
      "text/latex": [
       "$-0.3965530106954035 + 0.007330634606562362\\cdot x - 2.2045595767170277e-6\\cdot x^{2} - 1.4300860464064747e-9\\cdot x^{3} + 2.3412362494786853e-13\\cdot x^{4}$"
      ],
      "text/plain": [
       "Poly(-0.3965530106954035 + 0.007330634606562362*x - 2.2045595767170277e-6*x^2 - 1.4300860464064747e-9*x^3 + 2.3412362494786853e-13*x^4)"
      ]
     },
     "execution_count": 32,
     "metadata": {},
     "output_type": "execute_result"
    }
   ],
   "source": [
    "\n",
    "Polynomials.polyfit(time, y_norm[:, 1], poly_degree)"
   ]
  },
  {
   "cell_type": "code",
   "execution_count": null,
   "metadata": {},
   "outputs": [],
   "source": [
    "\n",
    "y_norm = (y.-y_mean)./y_std\n",
    "poly_list = [Polynomials.polyfit(time, y_norm[:,i],poly_degree) for i in 1:size(y)[2]]\n"
   ]
  },
  {
   "cell_type": "code",
   "execution_count": 23,
   "metadata": {},
   "outputs": [
    {
     "data": {
      "text/plain": [
       "49×6 Array{Float64,2}:\n",
       " 2.2784e6   1.19192e6  6.58191e6  7154.16   214.353   -2509.65\n",
       " 2.34981e6  1.19395e6  6.55644e6  7128.55   190.583   -2583.73\n",
       " 2.42096e6  1.19573e6  6.53023e6  7102.11   166.829   -2657.52\n",
       " 2.49185e6  1.19728e6  6.50329e6  7074.84   143.095   -2731.02\n",
       " 2.56246e6  1.1986e6   6.47561e6  7046.74   119.386   -2804.2 \n",
       " 2.63278e6  1.19967e6  6.44721e6  7017.81    95.7037  -2877.08\n",
       " 2.70281e6  1.20051e6  6.41807e6  6988.07    72.0537  -2949.63\n",
       " 2.77254e6  1.20111e6  6.38821e6  6957.51    48.4392  -3021.84\n",
       " 2.84196e6  1.20148e6  6.35764e6  6926.13    24.8641  -3093.72\n",
       " 2.91106e6  1.20161e6  6.32634e6  6893.95     1.3323  -3165.26\n",
       " 2.97984e6  1.20151e6  6.29433e6  6860.95   -22.1525  -3236.43\n",
       " 3.04828e6  1.20117e6  6.26161e6  6827.15   -45.5864  -3307.25\n",
       " 3.11638e6  1.2006e6   6.22819e6  6792.56   -68.9657  -3377.69\n",
       " ⋮                                                        ⋮   \n",
       " 4.68516e6  1.11251e6  5.17535e6  5680.87  -624.897   -4995.69\n",
       " 4.7417e6   1.10615e6  5.1251e6   5627.13  -645.574   -5053.83\n",
       " 4.7977e6   1.0996e6   5.07427e6  5572.72  -666.101   -5111.4 \n",
       " 4.85315e6  1.09283e6  5.02287e6  5517.66  -686.473   -5168.4 \n",
       " 4.90805e6  1.08587e6  4.97091e6  5461.95  -706.688   -5224.81\n",
       " 4.96239e6  1.0787e6   4.91838e6  5405.59  -726.743   -5280.63\n",
       " 5.01616e6  1.07133e6  4.86529e6  5348.6   -746.633   -5335.86\n",
       " 5.06936e6  1.06377e6  4.81166e6  5290.98  -766.357   -5390.49\n",
       " 5.12198e6  1.05601e6  4.75749e6  5232.74  -785.911   -5444.51\n",
       " 5.17401e6  1.04805e6  4.70277e6  5173.88  -805.292   -5497.92\n",
       " 5.22545e6  1.0399e6   4.64753e6  5114.41  -824.496   -5550.71\n",
       " 5.2763e6   1.03156e6  4.59176e6  5054.34  -843.521   -5602.87"
      ]
     },
     "execution_count": 23,
     "metadata": {},
     "output_type": "execute_result"
    }
   ],
   "source": [
    "nearby_state_vector_state_vectors"
   ]
  },
  {
   "cell_type": "code",
   "execution_count": 21,
   "metadata": {},
   "outputs": [
    {
     "data": {
      "text/plain": [
       "6-element Array{Polynomials.PolyCompat.Poly{Float64},1}:\n",
       " Polynomials.PolyCompat.Poly(-0.3965530106954035 + 0.007330634606562362*x - 2.2045595767170277e-6*x^2 - 1.4300860464064747e-9*x^3 + 2.3412362494786853e-13*x^4)\n",
       " Polynomials.PolyCompat.Poly(0.7509781197977988 - 0.003889146433654773*x - 2.1948476462889976e-5*x^2 + 2.54687789610015e-9*x^3 + 2.84952682119766e-12*x^4)     \n",
       " Polynomials.PolyCompat.Poly(0.5221114556963459 - 0.006321576509705655*x - 5.6812287118555765e-6*x^2 + 1.1815329531118397e-9*x^3 + 5.123645892898026e-13*x^4)  \n",
       " Polynomials.PolyCompat.Poly(0.5286125051891066 - 0.0062641865207856895*x - 6.1073952620078615e-6*x^2 + 1.1842977422630958e-9*x^3 + 5.88759834816067e-13*x^4)  \n",
       " Polynomials.PolyCompat.Poly(0.41146743083288556 - 0.007242071831392807*x + 1.2647621238281611e-6*x^2 + 1.93836708248814e-9*x^3 - 2.4142071361554797e-13*x^4)  \n",
       " Polynomials.PolyCompat.Poly(0.3951421124365749 - 0.007338802122207214*x + 2.293110029805801e-6*x^2 + 1.3788995825778919e-9*x^3 - 2.2701452501210726e-13*x^4)  "
      ]
     },
     "execution_count": 21,
     "metadata": {},
     "output_type": "execute_result"
    }
   ],
   "source": [
    "poly_list\n",
    "dropdims(y_mean, dims=1);\n",
    "dropdims(y_std, dims=1);"
   ]
  },
  {
   "cell_type": "code",
   "execution_count": 19,
   "metadata": {},
   "outputs": [
    {
     "data": {
      "text/plain": [
       "20-element Array{Float64,1}:\n",
       " -178.0\n",
       " -168.0\n",
       " -158.0\n",
       " -148.0\n",
       " -138.0\n",
       " -128.0\n",
       " -118.0\n",
       " -108.0\n",
       "  -98.0\n",
       "  -88.0\n",
       "  -78.0\n",
       "  -68.0\n",
       "  -58.0\n",
       "  -48.0\n",
       "  -38.0\n",
       "  -28.0\n",
       "  -18.0\n",
       "   -8.0\n",
       "    2.0\n",
       "   12.0"
      ]
     },
     "execution_count": 19,
     "metadata": {},
     "output_type": "execute_result"
    }
   ],
   "source": [
    "nearby_state_vector_t_sv[1:20]"
   ]
  },
  {
   "cell_type": "code",
   "execution_count": 22,
   "metadata": {},
   "outputs": [
    {
     "data": {
      "text/plain": [
       "49×6 Array{Float64,2}:\n",
       " 2.2784e6   1.19192e6  6.58191e6  7154.16   214.353   -2509.65\n",
       " 2.34981e6  1.19395e6  6.55644e6  7128.55   190.583   -2583.73\n",
       " 2.42096e6  1.19573e6  6.53023e6  7102.11   166.829   -2657.52\n",
       " 2.49185e6  1.19728e6  6.50329e6  7074.84   143.095   -2731.02\n",
       " 2.56246e6  1.1986e6   6.47561e6  7046.74   119.386   -2804.2 \n",
       " 2.63278e6  1.19967e6  6.44721e6  7017.81    95.7037  -2877.08\n",
       " 2.70281e6  1.20051e6  6.41807e6  6988.07    72.0537  -2949.63\n",
       " 2.77254e6  1.20111e6  6.38821e6  6957.51    48.4392  -3021.84\n",
       " 2.84196e6  1.20148e6  6.35764e6  6926.13    24.8641  -3093.72\n",
       " 2.91106e6  1.20161e6  6.32634e6  6893.95     1.3323  -3165.26\n",
       " 2.97984e6  1.20151e6  6.29433e6  6860.95   -22.1525  -3236.43\n",
       " 3.04828e6  1.20117e6  6.26161e6  6827.15   -45.5864  -3307.25\n",
       " 3.11638e6  1.2006e6   6.22819e6  6792.56   -68.9657  -3377.69\n",
       " ⋮                                                        ⋮   \n",
       " 4.68516e6  1.11251e6  5.17535e6  5680.87  -624.897   -4995.69\n",
       " 4.7417e6   1.10615e6  5.1251e6   5627.13  -645.574   -5053.83\n",
       " 4.7977e6   1.0996e6   5.07427e6  5572.72  -666.101   -5111.4 \n",
       " 4.85315e6  1.09283e6  5.02287e6  5517.66  -686.473   -5168.4 \n",
       " 4.90805e6  1.08587e6  4.97091e6  5461.95  -706.688   -5224.81\n",
       " 4.96239e6  1.0787e6   4.91838e6  5405.59  -726.743   -5280.63\n",
       " 5.01616e6  1.07133e6  4.86529e6  5348.6   -746.633   -5335.86\n",
       " 5.06936e6  1.06377e6  4.81166e6  5290.98  -766.357   -5390.49\n",
       " 5.12198e6  1.05601e6  4.75749e6  5232.74  -785.911   -5444.51\n",
       " 5.17401e6  1.04805e6  4.70277e6  5173.88  -805.292   -5497.92\n",
       " 5.22545e6  1.0399e6   4.64753e6  5114.41  -824.496   -5550.71\n",
       " 5.2763e6   1.03156e6  4.59176e6  5054.34  -843.521   -5602.87"
      ]
     },
     "execution_count": 22,
     "metadata": {},
     "output_type": "execute_result"
    }
   ],
   "source": [
    "nearby_state_vector_state_vectors"
   ]
  },
  {
   "cell_type": "code",
   "execution_count": null,
   "metadata": {},
   "outputs": [],
   "source": []
  }
 ],
 "metadata": {
  "kernelspec": {
   "display_name": "Julia 1.1.1",
   "language": "julia",
   "name": "julia-1.1"
  },
  "language_info": {
   "file_extension": ".jl",
   "mimetype": "application/julia",
   "name": "julia",
   "version": "1.1.1"
  }
 },
 "nbformat": 4,
 "nbformat_minor": 2
}
