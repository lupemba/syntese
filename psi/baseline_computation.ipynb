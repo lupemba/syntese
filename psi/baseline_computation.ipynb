{
 "cells": [
  {
   "cell_type": "markdown",
   "metadata": {},
   "source": [
    "### Computation of the baseline"
   ]
  },
  {
   "cell_type": "markdown",
   "metadata": {},
   "source": [
    "#### Load relevante moduler"
   ]
  },
  {
   "cell_type": "code",
   "execution_count": 1,
   "metadata": {},
   "outputs": [
    {
     "name": "stderr",
     "output_type": "stream",
     "text": [
      "proj_create: init=epsg:/init=IGNF: syntax not supported in non-PROJ4 emulation mode\n"
     ]
    }
   ],
   "source": [
    "include(\"../ToolBox/ToolBox.jl\")\n",
    "using .ToolBox\n",
    "using .Geometry\n",
    "using .SlcUtil\n",
    "using .Load\n",
    "using .Misc\n",
    "using PyCall\n",
    "scipy_interp = pyimport(\"scipy.interpolate\");\n",
    "ndimage = pyimport(\"scipy.ndimage\");\n",
    "rasterio = PyCall.pyimport(\"rasterio\")\n",
    "\n",
    "using LinearAlgebra\n",
    "using Dates"
   ]
  },
  {
   "cell_type": "code",
   "execution_count": 2,
   "metadata": {},
   "outputs": [
    {
     "data": {
      "text/plain": [
       "days_between_acquisitions (generic function with 1 method)"
      ]
     },
     "execution_count": 2,
     "metadata": {},
     "output_type": "execute_result"
    }
   ],
   "source": [
    "\"\"\"\n",
    "Load dem subset, wraps dem function.\n",
    "\"\"\"\n",
    "function dem_subset(dem_path, meta, view; nan_fill= 0, padding=[90,90])\n",
    "    footprint = SlcUtil.footprint(meta, view)\n",
    "    latlon_window = ((minimum(footprint[1]),maximum(footprint[1])),(minimum(footprint[2]),maximum(footprint[2])))\n",
    "    dem = Load.dem(dem_path, latlon_window; nan_fill= 0, padding=padding);\n",
    "    return dem\n",
    "end\n",
    "\n",
    "function mosaic2normal_view(mosaic_view, meta)\n",
    "    @assert mosaic_view[1].start >= meta[\"burst_meta\"][\"first_line_mosaic\"][1]\n",
    "    @assert mosaic_view[1].stop <= (meta[\"burst_meta\"][\"first_line_mosaic\"][end] + meta[\"lines_per_burst\"])\n",
    "    mosaic_view\n",
    "    \n",
    "    start_burst = findlast(\n",
    "    meta[\"burst_meta\"][\"first_line_mosaic\"].<= mosaic_view[1].start)\n",
    "\n",
    "    lines_in_first_burst = mosaic_view[1].start -meta[\"burst_meta\"][\"first_line_mosaic\"][start_burst] +1\n",
    "    line_start = lines_in_first_burst + (start_burst-1)* meta[\"lines_per_burst\"]\n",
    "\n",
    "    end_burst = 0\n",
    "    if mosaic_view[1].stop < meta[\"lines_per_burst\"]\n",
    "        end_burst = 1\n",
    "    else\n",
    "        end_burst = findlast(\n",
    "            (meta[\"burst_meta\"][\"first_line_mosaic\"] .+meta[\"lines_per_burst\"] ).< mosaic_view[1].stop)+1\n",
    "    end\n",
    "\n",
    "    lines_in_last_burst =  mosaic_view[1].stop - meta[\"burst_meta\"][\"first_line_mosaic\"][end_burst] +1\n",
    "    line_end = lines_in_last_burst+ (end_burst-1)* meta[\"lines_per_burst\"]\n",
    "    return [line_start:line_end,mosaic_view[2]]\n",
    "end\n",
    "    \n",
    "function extract_datetime(SAFE_path; start_date=true)\n",
    "    extract_SAFE_name = split(SAFE_path, \"/\")[end]\n",
    "    if start_date\n",
    "        date_string = split(extract_SAFE_name, \"_\")[6]\n",
    "    else\n",
    "        date_string = split(extract_SAFE_name, \"_\")[7]\n",
    "    end\n",
    "    year = date_string[1:4]\n",
    "    month = date_string[5:6]\n",
    "    day = date_string[7:8]\n",
    "    hour = date_string[10:11]\n",
    "    minute = date_string[12:13]\n",
    "    second = date_string[14:end]\n",
    "    date_int = parse.(Int, [year, month, day, hour, minute, second])\n",
    "    return DateTime(date_int...)\n",
    "end\n",
    "\n",
    "function days_between_acquisitions(date1, date2)\n",
    "    return Dates.value(Date(date1) - Date(date2))\n",
    "end"
   ]
  },
  {
   "cell_type": "code",
   "execution_count": 3,
   "metadata": {},
   "outputs": [
    {
     "data": {
      "text/plain": [
       "baseline_perpendicular (generic function with 1 method)"
      ]
     },
     "execution_count": 3,
     "metadata": {},
     "output_type": "execute_result"
    }
   ],
   "source": [
    "#input: view, dem, meta\n",
    "function get_elevation(view, dem, meta, pod)\n",
    "    # initilize lut\n",
    "    line, sample = Misc.flatten(collect(view[1]), collect(view[2])) # line, sample\n",
    "\n",
    "    # Get heights\n",
    "    lat_dem, lon_dem, heights = Misc.flatten(dem...)\n",
    "    line_sample_dem = to_line_sample(hcat(lat_dem, lon_dem), heights, pod..., meta);\n",
    "    elevation = Misc.interp(line_sample_dem[:,1], line_sample_dem[:,2], heights,\n",
    "                            line, sample)\n",
    "    @assert sum(isnan.(elevation)) == 0\n",
    "    return elevation\n",
    "end\n",
    "\n",
    "function satellite_orbit(line, meta, pod)\n",
    "    azimuth_time = meta[\"t_start\"] + (line - 1) * 1 / meta[\"azimuth_frequency\"]\n",
    "    state_vectors_poly, state_vectors_mean, state_vectors_std = Geometry.satellite_trajectory(pod[1], pod[2], meta[\"t_start\"], meta[\"t_stop\"]);\n",
    "    tmp = Geometry.polyval_state_vectors(state_vectors_poly, azimuth_time, state_vectors_mean, state_vectors_std)\n",
    "    sat2_position, sat2_velocity = tmp[1:3], tmp[4:6]\n",
    "    \n",
    "    return sat2_position, sat2_velocity\n",
    "end\n",
    "\n",
    "function line_of_sight_point(line, pixel_position, meta, pod)\n",
    "    sat1_position, _ = satellite_orbit(line, meta, pod)\n",
    "    los = sat1_position .- pixel_position\n",
    "    return los\n",
    "end\n",
    "\n",
    "function baseline_perpendicular(mosaic_view, dem, meta, pod)\n",
    "    # get sample and line corresponding to view\n",
    "    line1, sample1 = Misc.flatten(mosaic_view[1], mosaic_view[2])  # line, sample. Needed input structure for to_lat_lon\n",
    "    \n",
    "    # get elevation at view\n",
    "    height = get_elevation(mosaic_view, dem, meta[1], pod[1])\n",
    "    \n",
    "    # compute lat, lon from line sample and height\n",
    "    lat, lon = Geometry.to_lat_lon(hcat(line1, sample1), height, pod[1][1], pod[1][2], meta[1])\n",
    "    \n",
    "    # get the position of the pixel on ground in cartesian coordinates\n",
    "    pixel_position = Geometry.ellipsoid2xyz(deg2rad(lat), deg2rad(lon), height...)\n",
    "    \n",
    "    # compute the line of sight vector\n",
    "    los1 = line_of_sight_point(line1[1], pixel_position, meta[1], pod[1])\n",
    "    \n",
    "    # compute the 2nd line of sight vector based on lat lon on ground\n",
    "    line2, sample2 = to_line_sample(hcat(lat, lon), height, pod[2][1], pod[2][2], meta[2])\n",
    "    los2 = line_of_sight_point(line2[1], pixel_position, meta[2], pod[2])\n",
    "    \n",
    "    # find the correct sign\n",
    "    s = sign(norm(los1) - norm(los2));\n",
    "    \n",
    "    # the area of the parallelogram spanned by the unit vector and the direct baseline is equal to the perpendicular baseline\n",
    "    perpendicular_baseline = s * norm(cross(los1 - los2, los1 ./ norm(los1)))\n",
    "    return perpendicular_baseline\n",
    "end"
   ]
  },
  {
   "cell_type": "markdown",
   "metadata": {},
   "source": [
    "## Load relevant data"
   ]
  },
  {
   "cell_type": "markdown",
   "metadata": {},
   "source": [
    "##### Paths"
   ]
  },
  {
   "cell_type": "code",
   "execution_count": 4,
   "metadata": {},
   "outputs": [],
   "source": [
    "dem_path = \"/Users/eyu/local_data/data/srtm_38_01/srtm_38_01.tif\"\n",
    "slc1_safe_path = \"/Users/eyu/local_data/data/phase_bug/BB/S1B_IW_SLC__1SDV_20170408T053951_20170408T054019_005065_008DBC_AEEF.SAFE\"\n",
    "slc2_safe_path = \"/Users/eyu/local_data/data/phase_bug/BB/S1B_IW_SLC__1SDV_20170420T053952_20170420T054019_005240_0092C6_3820.SAFE\";"
   ]
  },
  {
   "cell_type": "markdown",
   "metadata": {},
   "source": [
    "##### Load SLC1"
   ]
  },
  {
   "cell_type": "code",
   "execution_count": 5,
   "metadata": {},
   "outputs": [],
   "source": [
    "slc1_data_path, slc1_meta_path, slc1_calibration_path = Load.slc_paths(slc1_safe_path, \"VV\", 3);\n",
    "slc1_meta = Load.slc_meta(slc1_meta_path);\n",
    "slc1_pod = Load.precise_orbit(Load.pod_path(slc1_meta[\"t_0\"], slc1_meta[\"mission_id\"],\n",
    "                        \"/Users/eyu/local_data/data/phase_bug/POD\"), slc1_meta[\"t_0\"]);\n",
    "#slc1_start_time, slc1_stop_time = UnitTest.meta_start_datetime(slc1_meta_path);\n"
   ]
  },
  {
   "cell_type": "markdown",
   "metadata": {},
   "source": [
    "##### Load SLC2"
   ]
  },
  {
   "cell_type": "code",
   "execution_count": 6,
   "metadata": {},
   "outputs": [],
   "source": [
    "slc2_data_path, slc2_meta_path, slc2_calibration_path = Load.slc_paths(slc2_safe_path, \"VV\", 3);\n",
    "slc2_meta = Load.slc_meta(slc2_meta_path);\n",
    "slc2_pod = Load.precise_orbit(Load.pod_path(slc2_meta[\"t_0\"], slc2_meta[\"mission_id\"],\n",
    "                        \"/Users/eyu/local_data/data/phase_bug/POD\"), slc2_meta[\"t_0\"]);"
   ]
  },
  {
   "cell_type": "markdown",
   "metadata": {},
   "source": [
    "##### Load DEM"
   ]
  },
  {
   "cell_type": "code",
   "execution_count": 7,
   "metadata": {},
   "outputs": [],
   "source": [
    "padding = 0;\n",
    "burst_middle = Int((slc1_meta[\"lines_per_burst\"] * slc1_meta[\"burst_count\"]) / 2);\n",
    "swath_middle = Int((slc1_meta[\"samples_per_burst\"]) / 2);\n",
    "mosaic_view = [(burst_middle):(burst_middle), swath_middle:swath_middle];  # in mosaic geometry\n",
    "#mosaic_view = [2104:2104, 12665:12665];  # in mosaic geometry\n",
    "\n",
    "interest_view = mosaic2normal_view(mosaic_view, slc1_meta);  # in raw geometry"
   ]
  },
  {
   "cell_type": "code",
   "execution_count": 8,
   "metadata": {},
   "outputs": [
    {
     "name": "stderr",
     "output_type": "stream",
     "text": [
      "proj_create: init=epsg:/init=IGNF: syntax not supported in non-PROJ4 emulation mode\n"
     ]
    }
   ],
   "source": [
    "dem = dem_subset(dem_path, slc1_meta, interest_view; nan_fill= 0, padding=[180,180]);"
   ]
  },
  {
   "cell_type": "markdown",
   "metadata": {},
   "source": [
    "## Compute perpendicular baseline"
   ]
  },
  {
   "cell_type": "code",
   "execution_count": 9,
   "metadata": {},
   "outputs": [
    {
     "name": "stderr",
     "output_type": "stream",
     "text": [
      "┌ Warning: `polyfit(x, y, n=length(x) - 1, sym=:x)` is deprecated, use `fit(Poly, x, y, n; var=sym)` instead.\n",
      "│   caller = polyfit(::Array{Float64,1}, ::Array{Float64,1}, ::Int64) at deprecated.jl:56\n",
      "└ @ Polynomials ./deprecated.jl:56\n"
     ]
    },
    {
     "data": {
      "text/plain": [
       "-48.624954511700345"
      ]
     },
     "execution_count": 9,
     "metadata": {},
     "output_type": "execute_result"
    }
   ],
   "source": [
    "baseline_perpendicular(interest_view, dem, [slc1_meta, slc2_meta], [slc1_pod, slc2_pod])"
   ]
  },
  {
   "cell_type": "code",
   "execution_count": 10,
   "metadata": {},
   "outputs": [
    {
     "data": {
      "text/plain": [
       "-12"
      ]
     },
     "execution_count": 10,
     "metadata": {},
     "output_type": "execute_result"
    }
   ],
   "source": [
    "days_between_acquisitions(extract_datetime(slc1_safe_path), extract_datetime(slc2_safe_path))"
   ]
  },
  {
   "cell_type": "markdown",
   "metadata": {},
   "source": [
    "# Step by step solution:"
   ]
  },
  {
   "cell_type": "markdown",
   "metadata": {},
   "source": [
    "#### Get line, sample, height from point of interest"
   ]
  },
  {
   "cell_type": "code",
   "execution_count": 11,
   "metadata": {},
   "outputs": [
    {
     "data": {
      "text/plain": [
       "1-element Array{Float64,1}:\n",
       " 0.0"
      ]
     },
     "execution_count": 11,
     "metadata": {},
     "output_type": "execute_result"
    }
   ],
   "source": [
    "line1, sample1 = Misc.flatten(interest_view[1], interest_view[2])  # line, sample. Needed input structure for to_lat_lon\n",
    "height = get_elevation(interest_view, dem, slc1_meta, slc1_pod)"
   ]
  },
  {
   "cell_type": "markdown",
   "metadata": {},
   "source": [
    "#### Compute the corresponding lat lon coordinates, and convert to cartesian coordinates"
   ]
  },
  {
   "cell_type": "code",
   "execution_count": 12,
   "metadata": {},
   "outputs": [
    {
     "data": {
      "text/plain": [
       "(3.5714867991038603e6, 481840.1801384752, 5.24476468370043e6)"
      ]
     },
     "execution_count": 12,
     "metadata": {},
     "output_type": "execute_result"
    }
   ],
   "source": [
    "lat, lon = Geometry.to_lat_lon(hcat(line1, sample1), height, slc1_pod[1], slc1_pod[2], slc1_meta)\n",
    "pixel_position = Geometry.ellipsoid2xyz(deg2rad(lat), deg2rad(lon), height...)"
   ]
  },
  {
   "cell_type": "markdown",
   "metadata": {},
   "source": [
    "#### Compute the satellite position at the azimuth time corresponding to the line of interest"
   ]
  },
  {
   "cell_type": "code",
   "execution_count": 21,
   "metadata": {},
   "outputs": [],
   "source": [
    "azimuth_time = slc1_meta[\"t_start\"] + (line1[1] - 1) * 1 / slc1_meta[\"azimuth_frequency\"]\n",
    "state_vectors_poly, state_vectors_mean, state_vectors_std = Geometry.satellite_trajectory(slc1_pod[1], slc1_pod[2], slc1_meta[\"t_start\"], slc1_meta[\"t_stop\"]);\n",
    "tmp = Geometry.polyval_state_vectors(state_vectors_poly, azimuth_time, state_vectors_mean, state_vectors_std)\n",
    "sat1_position, sat1_velocity = tmp[1:3], tmp[4:6];"
   ]
  },
  {
   "cell_type": "markdown",
   "metadata": {},
   "source": [
    "#### Compute line of sight 1"
   ]
  },
  {
   "cell_type": "code",
   "execution_count": 22,
   "metadata": {},
   "outputs": [
    {
     "data": {
      "text/plain": [
       "3-element Array{Float64,1}:\n",
       " 376165.2779512401 \n",
       " 691432.9649579779 \n",
       " 499507.38678614516"
      ]
     },
     "execution_count": 22,
     "metadata": {},
     "output_type": "execute_result"
    }
   ],
   "source": [
    "LOS1 = sat1_position .- pixel_position"
   ]
  },
  {
   "cell_type": "markdown",
   "metadata": {},
   "source": [
    "#### Compute line sample in slc2 geometry from the lat, lon point"
   ]
  },
  {
   "cell_type": "code",
   "execution_count": 15,
   "metadata": {},
   "outputs": [
    {
     "data": {
      "text/plain": [
       "1×2 Array{Float64,2}:\n",
       " 8530.25  12682.3"
      ]
     },
     "execution_count": 15,
     "metadata": {},
     "output_type": "execute_result"
    }
   ],
   "source": [
    "line2, sample2 = to_line_sample(hcat(lat, lon), height, slc2_pod[1], slc2_pod[2], slc2_meta)"
   ]
  },
  {
   "cell_type": "markdown",
   "metadata": {},
   "source": [
    "#### Compute the satellite position at the azimuth time corresponding to the line of interest"
   ]
  },
  {
   "cell_type": "code",
   "execution_count": 16,
   "metadata": {},
   "outputs": [],
   "source": [
    "azimuth_time = slc2_meta[\"t_start\"] + (line2[1] - 1) * 1 / slc2_meta[\"azimuth_frequency\"]\n",
    "state_vectors_poly, state_vectors_mean, state_vectors_std = Geometry.satellite_trajectory(slc2_pod[1], slc2_pod[2], slc2_meta[\"t_start\"], slc2_meta[\"t_stop\"]);\n",
    "tmp = Geometry.polyval_state_vectors(state_vectors_poly, azimuth_time, state_vectors_mean, state_vectors_std)\n",
    "sat2_position, sat2_velocity = tmp[1:3], tmp[4:6];"
   ]
  },
  {
   "cell_type": "markdown",
   "metadata": {},
   "source": [
    "#### Compute line of sight 2"
   ]
  },
  {
   "cell_type": "code",
   "execution_count": 17,
   "metadata": {},
   "outputs": [
    {
     "data": {
      "text/plain": [
       "3-element Array{Float64,1}:\n",
       " 376166.50496910745\n",
       " 691495.0362815189 \n",
       " 499495.7727967473 "
      ]
     },
     "execution_count": 17,
     "metadata": {},
     "output_type": "execute_result"
    }
   ],
   "source": [
    "LOS2 = sat2_position .- pixel_position"
   ]
  },
  {
   "cell_type": "markdown",
   "metadata": {},
   "source": [
    "#### Calculate the perpenducular baseline.\n",
    "The sign keeps sign across many baseline computations consistent wrt to a given master. The norm of the cross product is the area of the parallelogram spanned by the direct baseline btw slc1 and slc2 and the unit vector of slc1. Hence the area only depends on length of perpendicular baseline btw slc 1 and slc2."
   ]
  },
  {
   "cell_type": "code",
   "execution_count": 23,
   "metadata": {},
   "outputs": [],
   "source": [
    "s = sign(norm(LOS1) - norm(LOS2));"
   ]
  },
  {
   "cell_type": "code",
   "execution_count": 24,
   "metadata": {},
   "outputs": [
    {
     "data": {
      "text/plain": [
       "-48.624954511700345"
      ]
     },
     "execution_count": 24,
     "metadata": {},
     "output_type": "execute_result"
    }
   ],
   "source": [
    "bperp = s * norm(cross(LOS1 - LOS2, LOS1 ./ norm(LOS1)))"
   ]
  },
  {
   "cell_type": "markdown",
   "metadata": {},
   "source": [
    "#### The days btw the acquisitions"
   ]
  },
  {
   "cell_type": "code",
   "execution_count": 20,
   "metadata": {},
   "outputs": [
    {
     "data": {
      "text/plain": [
       "-12"
      ]
     },
     "execution_count": 20,
     "metadata": {},
     "output_type": "execute_result"
    }
   ],
   "source": [
    "days_between_acquisitions(extract_datetime(slc1_safe_path), extract_datetime(slc2_safe_path))"
   ]
  }
 ],
 "metadata": {
  "kernelspec": {
   "display_name": "Julia 1.1.1",
   "language": "julia",
   "name": "julia-1.1"
  },
  "language_info": {
   "file_extension": ".jl",
   "mimetype": "application/julia",
   "name": "julia",
   "version": "1.1.1"
  }
 },
 "nbformat": 4,
 "nbformat_minor": 2
}
