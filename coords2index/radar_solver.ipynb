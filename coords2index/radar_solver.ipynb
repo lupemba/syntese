{
 "cells": [
  {
   "cell_type": "code",
   "execution_count": 1,
   "metadata": {},
   "outputs": [],
   "source": [
    "include(\"load_s1slc_ann.jl\");\n",
    "include(\"load_pod.jl\");\n",
    "include(\"calc_sat_trajectory.jl\");\n",
    "include(\"approx_los.jl\");\n",
    "include(\"intersect.jl\")\n",
    "include(\"zero_doppler_bisect.jl\")\n",
    "include(\"ellipsoid2xyz.jl\");"
   ]
  },
  {
   "cell_type": "code",
   "execution_count": 2,
   "metadata": {},
   "outputs": [],
   "source": [
    "f = open(\"ann_path.txt\")\n",
    "path = readlines(f)\n",
    "meta = load_s1slc_ann(path[1]);\n",
    "f = open(\"POD_path.txt\")\n",
    "path = readlines(f)\n",
    "osv,t_sv = load_pod(path[1],meta[\"t_0\"]);"
   ]
  },
  {
   "cell_type": "code",
   "execution_count": 3,
   "metadata": {},
   "outputs": [],
   "source": [
    "t_start = meta[\"t_start\"]\n",
    "t_stop = meta[\"t_stop\"]\n",
    "osv_poly, osv_mean, osv_std = calc_sat_trajectory(osv, t_sv, t_start, t_stop);"
   ]
  },
  {
   "cell_type": "markdown",
   "metadata": {},
   "source": [
    "# Test point"
   ]
  },
  {
   "cell_type": "code",
   "execution_count": 4,
   "metadata": {},
   "outputs": [],
   "source": [
    "lat_1 = (56 + 33/60 + 44.4528/(60*60)) * pi/180\n",
    "lon_1 = (8 + 18/60 + 24.865/(60*60)) * pi/180\n",
    "height_1 = 43.282;\n",
    "\n",
    "point_test = ellipsoid2xyz(lat_1, lon_1, height_1)\n",
    "\n",
    "\n",
    "time_test, range_test = zero_doppler_bisect(point_test, t_start, t_stop,\n",
    "                                    osv_poly, osv_mean, osv_std);"
   ]
  },
  {
   "cell_type": "code",
   "execution_count": null,
   "metadata": {},
   "outputs": [],
   "source": []
  },
  {
   "cell_type": "code",
   "execution_count": 5,
   "metadata": {},
   "outputs": [],
   "source": [
    "osv_test = polyval_sv(osv_poly,time_test,osv_mean, osv_std);\n",
    "theta_0 = meta[\"incidence_angle_mid\"]*pi/180\n",
    "x_sat_0 = osv_test[1:3]\n",
    "v_sat_0 = osv_test[4:6];"
   ]
  },
  {
   "cell_type": "markdown",
   "metadata": {},
   "source": [
    "#### dif test"
   ]
  },
  {
   "cell_type": "code",
   "execution_count": 6,
   "metadata": {},
   "outputs": [],
   "source": [
    "#x_sat_0 .- osv_zd[1:3]"
   ]
  },
  {
   "cell_type": "code",
   "execution_count": 7,
   "metadata": {},
   "outputs": [],
   "source": [
    "#v_sat_0 .- osv_zd[4:6]"
   ]
  },
  {
   "cell_type": "code",
   "execution_count": 8,
   "metadata": {
    "scrolled": true
   },
   "outputs": [
    {
     "data": {
      "text/plain": [
       "3-element Array{Float64,1}:\n",
       "      3.485301583509802e6\n",
       " 356325.1335164992       \n",
       "      5.311889822091754e6"
      ]
     },
     "execution_count": 8,
     "metadata": {},
     "output_type": "execute_result"
    }
   ],
   "source": [
    "x_0 = intersect(x_sat_0, approx_los(x_sat_0,v_sat_0,theta_0))"
   ]
  },
  {
   "cell_type": "code",
   "execution_count": 13,
   "metadata": {},
   "outputs": [],
   "source": [
    "include(\"radar_solve.jl\");"
   ]
  },
  {
   "cell_type": "code",
   "execution_count": 14,
   "metadata": {},
   "outputs": [
    {
     "data": {
      "text/plain": [
       "3-element Array{Float64,1}:\n",
       "      3.4858248295596163e6\n",
       " 508956.0100911942        \n",
       "      5.299237308907142e6 "
      ]
     },
     "execution_count": 14,
     "metadata": {},
     "output_type": "execute_result"
    }
   ],
   "source": [
    "x_fun = radar_solve(range_test,height_1,x_0,osv_test[1:3],osv_test[4:6])"
   ]
  },
  {
   "cell_type": "code",
   "execution_count": 15,
   "metadata": {},
   "outputs": [
    {
     "data": {
      "text/plain": [
       "3-element Array{Float64,1}:\n",
       "  0.0009693554602563381\n",
       " -1.0100193321704865e-6\n",
       " -0.000695202499628067 "
      ]
     },
     "execution_count": 15,
     "metadata": {},
     "output_type": "execute_result"
    }
   ],
   "source": [
    "x_fun .- point_test"
   ]
  },
  {
   "cell_type": "code",
   "execution_count": null,
   "metadata": {},
   "outputs": [],
   "source": []
  },
  {
   "cell_type": "code",
   "execution_count": null,
   "metadata": {},
   "outputs": [],
   "source": []
  },
  {
   "cell_type": "code",
   "execution_count": 19,
   "metadata": {},
   "outputs": [
    {
     "data": {
      "text/plain": [
       "0.0066943799901413165"
      ]
     },
     "execution_count": 19,
     "metadata": {},
     "output_type": "execute_result"
    }
   ],
   "source": [
    "semi_major_axis=6378137.\n",
    "flattening=1/298.257223563\n",
    "semi_minor_axis = semi_major_axis*(1 - flattening)\n",
    "epsilon = (semi_major_axis/semi_minor_axis)^2  - 1 # second eccentricity squared\n",
    "ecc_squared = flattening*(2-flattening)"
   ]
  },
  {
   "cell_type": "code",
   "execution_count": 20,
   "metadata": {},
   "outputs": [],
   "source": [
    "# inputs\n",
    "scale_fac = 1e-03;\n",
    "MAX_ITER = 150; # max. number of iterations\n",
    "eps = 1e-9;     # convergence epsilon\n",
    "\n",
    "# inits\n",
    "x_i_old = [0.;0.;0.]; \n",
    "x_i = x_0;\n",
    "iter  = 1;\n",
    "\n",
    "# scale\n",
    "v_sat = v_sat_0 .*scale_fac;\n",
    "#x_i = x_i .*[3.485824828590261e6, 508956.0100922042, 5.299237309602344e6];\n",
    "x_i = x_i .*scale_fac;\n",
    "\n",
    "x_sat = x_sat_0 .*scale_fac;\n",
    "range_sat = range_sat_0 .*scale_fac;\n",
    "a_plus_h = (semi_major_axis + height) .*scale_fac;\n",
    "b_plus_h = (semi_minor_axis + height) .*scale_fac;\n",
    "\n",
    "\n"
   ]
  },
  {
   "cell_type": "code",
   "execution_count": 21,
   "metadata": {},
   "outputs": [
    {
     "name": "stdout",
     "output_type": "stream",
     "text": [
      "[1.43659, 136.339, -9.96898]\n",
      "[-0.900169, 16.0568, -2.64483]\n",
      "[-0.0131696, 0.234886, -0.0386921]\n",
      "[-2.81938e-6, 5.02851e-5, -8.28331e-6]\n",
      "[-1.94025e-14, 2.53193e-12, -2.28869e-13]\n"
     ]
    }
   ],
   "source": [
    "los = 0\n",
    "while ((x_i - x_i_old)'*(x_i - x_i_old) > eps^2) & (iter < MAX_ITER)\n",
    "    \n",
    "    # Design matrix evaluated at previous solution\n",
    "    los = x_i - x_sat\n",
    "    fx_i = [v_sat'* los, \n",
    "        los' *los - range_sat^2, \n",
    "        ((x_i[1]^2 + x_i[2]^2) / a_plus_h^2 +(x_i[3] / b_plus_h)^2 - 1)];\n",
    "    # Matrix of partial derivatives    \n",
    "    dfx_i = vcat(v_sat',\n",
    "            2*los',\n",
    "            [2*x_i[1]/a_plus_h^2, 2*x_i[2]/a_plus_h^2,2*x_i[3]/b_plus_h^2]'); \n",
    "    \n",
    "    # Solve linear system\n",
    "    dx = dfx_i\\(-fx_i)\n",
    "    println(dx)\n",
    "    # Update\n",
    "    x_i_old = x_i;\n",
    "    x_i += dx;\n",
    "    iter += 1;\n",
    "    \n",
    "    \n",
    "end"
   ]
  },
  {
   "cell_type": "code",
   "execution_count": 22,
   "metadata": {},
   "outputs": [
    {
     "data": {
      "text/plain": [
       "3-element Array{Float64,1}:\n",
       "  0.0009693554602563381\n",
       " -1.0100193321704865e-6\n",
       " -0.000695202499628067 "
      ]
     },
     "execution_count": 22,
     "metadata": {},
     "output_type": "execute_result"
    }
   ],
   "source": [
    "x_i *10^3 .- point_test"
   ]
  },
  {
   "cell_type": "code",
   "execution_count": 23,
   "metadata": {},
   "outputs": [
    {
     "data": {
      "text/plain": [
       "6"
      ]
     },
     "execution_count": 23,
     "metadata": {},
     "output_type": "execute_result"
    }
   ],
   "source": [
    "iter"
   ]
  },
  {
   "cell_type": "code",
   "execution_count": null,
   "metadata": {},
   "outputs": [],
   "source": []
  },
  {
   "cell_type": "code",
   "execution_count": null,
   "metadata": {},
   "outputs": [],
   "source": []
  },
  {
   "cell_type": "code",
   "execution_count": null,
   "metadata": {},
   "outputs": [],
   "source": [
    "while (x_i - x_i_1)'*(x_i - x_i_1) > eps^2 && iter < MAX_ITER\n",
    "\n",
    "    % Design matrix evaluated at previous solution\n",
    "    LOS_km = (Xi_km - XSat_km);\n",
    "    fXi = [dot(VSat_km, LOS_km);...\n",
    "           dot(LOS_km, LOS_km) - range_km^2;...\n",
    "           (Xi_km(1)^2 + Xi_km(2)^2) / a_plus_h_km^2 + ...\n",
    "           (Xi_km(3) / b_plus_h_km)^2 - 1;];\n",
    "\n",
    "    % Matrix of partial derivatives    \n",
    "    DfXi = [lying(VSat_km);...\n",
    "            2*lying(LOS_km);\n",
    "            2*Xi_km(1)/a_plus_h_km^2 2*Xi_km(2)/a_plus_h_km^2 2*Xi_km(3)/b_plus_h_km^2];      \n",
    "\n",
    "    % Solve linear system\n",
    "    DX = DfXi\\(-fXi);\n",
    "%     if iter == 1\n",
    "%         fprintf('A = \\n');\n",
    "%         for i = 1 : size(DfXi,1)\n",
    "%             for j = 1 : size(DfXi,2)\n",
    "%                 fprintf('%.6e ', DfXi(i,j));\n",
    "%             end\n",
    "%             fprintf('\\n');\n",
    "%         end\n",
    "%         fprintf('b = \\n');\n",
    "%         for i = 1 : length(fXi)\n",
    "%             fprintf('%.6e ', -fXi(i));\n",
    "%         end\n",
    "%         fprintf('\\n');\n",
    "%         fprintf('X = \\n');\n",
    "%         for i = 1 : length(DX)\n",
    "%             fprintf('%.6e ', DX(i));\n",
    "%         end\n",
    "%         fprintf('\\n');\n",
    "%         fprintf('rcond() = %.6e\\n', rcond(DfXi));\n",
    "%     end\n",
    "\n",
    "    % Update solution\n",
    "    Xi_1_km = Xi_km;\n",
    "    Xi_km = Xi_1_km + DX;\n",
    "    \n",
    "    iter = iter + 1;\n",
    "end\n",
    "% Scale result back to meters\n",
    "Xi = Xi_km / scaleFac;\n",
    "\n",
    "if iter == MAX_ITER\n",
    "    latP = nan;\n",
    "    lonP = nan;\n",
    "    hP = nan;\n",
    "    warning('Maximum number of iterations reached without finding a solution.');\n",
    "else\n",
    "    [latP, lonP, hP] = xyz2ell2(Xi(1), Xi(2), Xi(3), elliSemiMajor, elliEccSquared);\n",
    "    latP = rad2deg(latP);\n",
    "    lonP = rad2deg(lonP);\n",
    "    if lonP > 180\n",
    "        lonP = lonP - 360;\n",
    "    end\n",
    "end"
   ]
  },
  {
   "cell_type": "code",
   "execution_count": null,
   "metadata": {},
   "outputs": [],
   "source": []
  },
  {
   "cell_type": "code",
   "execution_count": null,
   "metadata": {},
   "outputs": [],
   "source": []
  }
 ],
 "metadata": {
  "kernelspec": {
   "display_name": "Julia 1.0.4",
   "language": "julia",
   "name": "julia-1.0"
  },
  "language_info": {
   "file_extension": ".jl",
   "mimetype": "application/julia",
   "name": "julia",
   "version": "1.0.4"
  }
 },
 "nbformat": 4,
 "nbformat_minor": 2
}
