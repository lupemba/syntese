{
 "cells": [
  {
   "cell_type": "code",
   "execution_count": 7,
   "metadata": {},
   "outputs": [],
   "source": [
    "include(\"ellipsoid2xyz.jl\");\n",
    "include(\"xyz2ellh.jl\");"
   ]
  },
  {
   "cell_type": "code",
   "execution_count": 8,
   "metadata": {},
   "outputs": [
    {
     "data": {
      "text/plain": [
       "(3.485824828590261e6, 508956.0100922042, 5.299237309602344e6)"
      ]
     },
     "execution_count": 8,
     "metadata": {},
     "output_type": "execute_result"
    }
   ],
   "source": [
    "lat_1 = (56 + 33/60 + 44.4528/(60*60)) * pi/180\n",
    "lon_1 = (8 + 18/60 + 24.865/(60*60)) * pi/180\n",
    "height_1 = 43.282;\n",
    "\n",
    "point_test = ellipsoid2xyz(lat_1, lon_1, height_1)"
   ]
  },
  {
   "cell_type": "code",
   "execution_count": 9,
   "metadata": {},
   "outputs": [
    {
     "data": {
      "text/plain": [
       "(0.9871992052588295, 0.14498287683733727, 43.28199999965727)"
      ]
     },
     "execution_count": 9,
     "metadata": {},
     "output_type": "execute_result"
    }
   ],
   "source": [
    "coords_test = xyz2ellh(point_test...)\n"
   ]
  },
  {
   "cell_type": "code",
   "execution_count": 10,
   "metadata": {},
   "outputs": [
    {
     "data": {
      "text/plain": [
       "(0.0, 0.0, -3.427231831665267e-10)"
      ]
     },
     "execution_count": 10,
     "metadata": {},
     "output_type": "execute_result"
    }
   ],
   "source": [
    "coords_test .- ( lat_1, lon_1, height_1)"
   ]
  },
  {
   "cell_type": "code",
   "execution_count": 12,
   "metadata": {},
   "outputs": [
    {
     "data": {
      "text/plain": [
       "2×3 Array{Float64,2}:\n",
       " 0.0  0.0  0.0\n",
       " 0.0  0.0  0.0"
      ]
     },
     "execution_count": 12,
     "metadata": {},
     "output_type": "execute_result"
    }
   ],
   "source": [
    "llh = Array{Float64}(undef,2,3)"
   ]
  },
  {
   "cell_type": "code",
   "execution_count": 15,
   "metadata": {},
   "outputs": [
    {
     "data": {
      "text/plain": [
       "3-element view(::Array{Float64,2}, 1, :) with eltype Float64:\n",
       "  0.9871992052588295 \n",
       "  0.14498287683733727\n",
       " 43.28199999965727   "
      ]
     },
     "execution_count": 15,
     "metadata": {},
     "output_type": "execute_result"
    }
   ],
   "source": [
    "llh[1,:] .= coords_test"
   ]
  },
  {
   "cell_type": "code",
   "execution_count": 17,
   "metadata": {},
   "outputs": [
    {
     "data": {
      "text/plain": [
       "(0.9871992052588295, 0.14498287683733727, 43.28199999965727)"
      ]
     },
     "execution_count": 17,
     "metadata": {},
     "output_type": "execute_result"
    }
   ],
   "source": [
    " coords_test"
   ]
  },
  {
   "cell_type": "code",
   "execution_count": 16,
   "metadata": {},
   "outputs": [
    {
     "data": {
      "text/plain": [
       "3-element Array{Float64,1}:\n",
       "  0.9871992052588295 \n",
       "  0.14498287683733727\n",
       " 43.28199999965727   "
      ]
     },
     "execution_count": 16,
     "metadata": {},
     "output_type": "execute_result"
    }
   ],
   "source": [
    "llh[1,:]"
   ]
  },
  {
   "cell_type": "code",
   "execution_count": 8,
   "metadata": {},
   "outputs": [
    {
     "data": {
      "text/plain": [
       "135.0"
      ]
     },
     "execution_count": 8,
     "metadata": {},
     "output_type": "execute_result"
    }
   ],
   "source": [
    "atan(1,-1)*180/pi"
   ]
  },
  {
   "cell_type": "code",
   "execution_count": 10,
   "metadata": {},
   "outputs": [
    {
     "data": {
      "text/plain": [
       "0.9092974268256817"
      ]
     },
     "execution_count": 10,
     "metadata": {},
     "output_type": "execute_result"
    }
   ],
   "source": [
    "sin(2)"
   ]
  },
  {
   "cell_type": "code",
   "execution_count": 17,
   "metadata": {},
   "outputs": [
    {
     "data": {
      "text/plain": [
       "xyz2ell2 (generic function with 3 methods)"
      ]
     },
     "execution_count": 17,
     "metadata": {},
     "output_type": "execute_result"
    }
   ],
   "source": [
    "function xyz2ell2(X,Y,Z,semi_major_axis=6378137.,flattening=1/298.257223563)\n",
    "    e2 = flattening*(2-flattening)\n",
    "    \n",
    "    \n",
    "    elat=1.e-12\n",
    "    eht=1.e-5\n",
    "    p=sqrt(X^2+Y^2)\n",
    "    lat=atan(Z,p./(1-e2))\n",
    "    h=0\n",
    "    dh=1\n",
    "    dlat=1\n",
    "    \n",
    "    \n",
    "    while (dlat>elat) | (dh>eht)\n",
    "      lat0=lat\n",
    "      h0=h\n",
    "      v=semi_major_axis/sqrt(1-e2*sin(lat)*sin(lat))\n",
    "      h=p*cos(lat)+Z*sin(lat)-(semi_major_axis^2)/v  # Bowring formula\n",
    "      lat=atan(Z, p*(1-e2*v/(v+h)))\n",
    "      dlat=abs(lat-lat0)\n",
    "      dh=abs(h-h0)\n",
    "    end\n",
    "    lon=atan(Y,X)\n",
    "    return lat, lon, h\n",
    "end"
   ]
  },
  {
   "cell_type": "code",
   "execution_count": 19,
   "metadata": {},
   "outputs": [
    {
     "data": {
      "text/plain": [
       "(0.0, 0.0, -3.427231831665267e-10)"
      ]
     },
     "execution_count": 19,
     "metadata": {},
     "output_type": "execute_result"
    }
   ],
   "source": [
    "xyz2ell2(point_test...) .- ( lat_1, lon_1, height_1)"
   ]
  },
  {
   "cell_type": "code",
   "execution_count": null,
   "metadata": {},
   "outputs": [],
   "source": []
  },
  {
   "cell_type": "code",
   "execution_count": null,
   "metadata": {},
   "outputs": [],
   "source": [
    "function [lat,lon,h]=xyz2ell2(X,Y,Z,a,e2)\n",
    "% XYZ2ELL2  Converts cartesian coordinates to ellipsoidal.\n",
    "%   Uses iterative alogithm with Bowring height formula\n",
    "%   to improve convergence rate (see B.R. Bowring, \"The\n",
    "%   accuracy of geodetic latitude and height equations\",\n",
    "%   Survey Review, v28 #218, October 1985 pp.202-206).\n",
    "%   Computation time is only slightly worse than for the\n",
    "%   Bowring direct formula but accuracy is better.  Vectorized.\n",
    "%   See also XYZ2ELL, XYZ2ELL2.\n",
    "% Version: 2011-02-19\n",
    "% Useage:  [lat,lon,h]=xyz2ell2(X,Y,Z,a,e2)\n",
    "%          [lat,lon,h]=xyz2ell2(X,Y,Z)\n",
    "% Input:   X \\\n",
    "%          Y  > vectors of cartesian coordinates in CT system (m)\n",
    "%          Z /\n",
    "%          a   - ref. ellipsoid major semi-axis (m); default GRS80\n",
    "%          e2  - ref. ellipsoid eccentricity squared; default GRS80\n",
    "% Output:  lat - vector of ellipsoidal latitudes (radians)\n",
    "%          lon - vector of ellipsoidal longitudes (radians)\n",
    "%          h   - vector of ellipsoidal heights (m)\n",
    "\n",
    "% Copyright (c) 2011, Michael R. Craymer\n",
    "% All rights reserved.\n",
    "% Email: mike@craymer.com\n",
    "\n",
    "if nargin ~= 3 & nargin ~= 5\n",
    "  warning('Incorrect number of input arguments');\n",
    "  return\n",
    "end\n",
    "if nargin == 3\n",
    "  [a,b,e2]=refell('grs80');\n",
    "end\n",
    "\n",
    "elat=1.e-12;\n",
    "eht=1.e-5;\n",
    "p=sqrt(X.*X+Y.*Y);\n",
    "lat=atan2(Z,p./(1-e2));\n",
    "h=0;\n",
    "dh=1;\n",
    "dlat=1;\n",
    "while sum(dlat>elat) | sum(dh>eht)\n",
    "  lat0=lat;\n",
    "  h0=h;\n",
    "  v=a./sqrt(1-e2.*sin(lat).*sin(lat));\n",
    "  h=p.*cos(lat)+Z.*sin(lat)-(a*a)./v;  % Bowring formula\n",
    "  lat=atan2(Z, p.*(1-e2.*v./(v+h)));\n",
    "  dlat=abs(lat-lat0);\n",
    "  dh=abs(h-h0);\n",
    "end\n",
    "lon=atan2(Y,X);"
   ]
  },
  {
   "cell_type": "code",
   "execution_count": null,
   "metadata": {},
   "outputs": [],
   "source": []
  },
  {
   "cell_type": "code",
   "execution_count": null,
   "metadata": {},
   "outputs": [],
   "source": []
  }
 ],
 "metadata": {
  "kernelspec": {
   "display_name": "Julia 1.0.4",
   "language": "julia",
   "name": "julia-1.0"
  },
  "language_info": {
   "file_extension": ".jl",
   "mimetype": "application/julia",
   "name": "julia",
   "version": "1.0.4"
  }
 },
 "nbformat": 4,
 "nbformat_minor": 2
}
