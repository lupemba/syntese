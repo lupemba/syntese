{
 "cells": [
  {
   "cell_type": "markdown",
   "metadata": {},
   "source": [
    "## Load meta data\n",
    "2017-03-15T05:39:50.703"
   ]
  },
  {
   "cell_type": "code",
   "execution_count": 1,
   "metadata": {},
   "outputs": [],
   "source": [
    "include(\"load_s1slc_ann.jl\");"
   ]
  },
  {
   "cell_type": "code",
   "execution_count": 2,
   "metadata": {},
   "outputs": [
    {
     "data": {
      "text/plain": [
       "Dict{String,Any} with 10 entries:\n",
       "  \"slant_range_time\"    => 0.00602248\n",
       "  \"burst_count\"         => 10\n",
       "  \"range_pixel_spacing\" => 2.32956\n",
       "  \"t_start\"             => 50.7031\n",
       "  \"azimuth_frequency\"   => 486.486\n",
       "  \"t_stop\"              => 78.6587\n",
       "  \"lines_per_burst\"     => 1524\n",
       "  \"samples_per_burst\"   => 25330\n",
       "  \"t_0\"                 => 2017-03-15T05:39:00\n",
       "  \"burst_meta\"          => Dict{String,Any}(\"first_line_mosaic\"=>[1, 1343, 2684…"
      ]
     },
     "execution_count": 2,
     "metadata": {},
     "output_type": "execute_result"
    }
   ],
   "source": [
    "f = open(\"ann_path.txt\")\n",
    "path = readlines(f)\n",
    "meta = load_s1slc_ann(path[1])"
   ]
  },
  {
   "cell_type": "code",
   "execution_count": 3,
   "metadata": {},
   "outputs": [
    {
     "data": {
      "text/plain": [
       "78.658671"
      ]
     },
     "execution_count": 3,
     "metadata": {},
     "output_type": "execute_result"
    }
   ],
   "source": [
    "t_0 = meta[\"t_0\"]\n",
    "t_start = meta[\"t_start\"]\n",
    "t_stop = meta[\"t_stop\"]"
   ]
  },
  {
   "cell_type": "markdown",
   "metadata": {},
   "source": [
    "## LOADING"
   ]
  },
  {
   "cell_type": "markdown",
   "metadata": {},
   "source": [
    "#### function load_pod() "
   ]
  },
  {
   "cell_type": "code",
   "execution_count": 4,
   "metadata": {},
   "outputs": [],
   "source": [
    "include(\"load_pod.jl\");"
   ]
  },
  {
   "cell_type": "code",
   "execution_count": 5,
   "metadata": {},
   "outputs": [],
   "source": [
    "f = open(\"POD_path.txt\")\n",
    "path = readlines(f)\n",
    "osv,t_sv = load_pod(path[1],t_0);"
   ]
  },
  {
   "cell_type": "markdown",
   "metadata": {},
   "source": [
    "## FUNCTIONS"
   ]
  },
  {
   "cell_type": "markdown",
   "metadata": {},
   "source": [
    "#### function ellipsoid2xyz()"
   ]
  },
  {
   "cell_type": "code",
   "execution_count": 6,
   "metadata": {},
   "outputs": [],
   "source": [
    "include(\"ellipsoid2xyz.jl\");"
   ]
  },
  {
   "cell_type": "code",
   "execution_count": 7,
   "metadata": {},
   "outputs": [],
   "source": [
    "# input\n",
    "a = 10; flat = 2; h = [.2, .1, .6];\n",
    "lat = [pi/4, 3*pi, pi/6]; lon = [pi/2, pi/4, pi/8];"
   ]
  },
  {
   "cell_type": "code",
   "execution_count": 8,
   "metadata": {},
   "outputs": [
    {
     "data": {
      "text/plain": [
       "([2.76623e-10, -4.51002e6, 5.10744e6], [4.51759e6, -4.51002e6, 2.11557e6], [4.48735e6, 2.3276e-9, 3.17037e6])"
      ]
     },
     "execution_count": 8,
     "metadata": {},
     "output_type": "execute_result"
    }
   ],
   "source": [
    "x,y,z = ellipsoid2xyz(lat, lon, h)"
   ]
  },
  {
   "cell_type": "markdown",
   "metadata": {},
   "source": [
    "#### function calc_sat_trajectory() "
   ]
  },
  {
   "cell_type": "code",
   "execution_count": 9,
   "metadata": {},
   "outputs": [],
   "source": [
    "include(\"calc_sat_trajectory.jl\");"
   ]
  },
  {
   "cell_type": "code",
   "execution_count": 10,
   "metadata": {},
   "outputs": [],
   "source": [
    "osv_poly,osv_mean, osv_std = polyfit_sv(osv, t_sv);"
   ]
  },
  {
   "cell_type": "code",
   "execution_count": 13,
   "metadata": {
    "scrolled": true
   },
   "outputs": [
    {
     "data": {
      "text/plain": [
       "6-element Array{Float64,1}:\n",
       " -1.5782623802394961e-6\n",
       " -1.3338340672931295e-5\n",
       " -5.9049774361397216e-6\n",
       " -5.3949723834290056e-6\n",
       " -7.3440607454550125e-6\n",
       "  1.0067055160589042e-5"
      ]
     },
     "execution_count": 13,
     "metadata": {},
     "output_type": "execute_result"
    }
   ],
   "source": [
    "y_fit = polyval_sv(osv_poly,3.4)"
   ]
  },
  {
   "cell_type": "code",
   "execution_count": 14,
   "metadata": {},
   "outputs": [
    {
     "data": {
      "text/plain": [
       "6-element Array{Float64,1}:\n",
       " -21912.547276708116   \n",
       "  28532.852392815585   \n",
       " -89571.43225461023    \n",
       "     -7.042669487481774\n",
       "    -75.68013330086274 \n",
       "    -32.09150270896861 "
      ]
     },
     "execution_count": 14,
     "metadata": {},
     "output_type": "execute_result"
    }
   ],
   "source": [
    "y_fit .*osv_std .+osv_mean"
   ]
  },
  {
   "cell_type": "code",
   "execution_count": 15,
   "metadata": {},
   "outputs": [
    {
     "data": {
      "text/plain": [
       "6-element Array{Float64,1}:\n",
       " -21912.547276708116   \n",
       "  28532.852392815585   \n",
       " -89571.43225461023    \n",
       "     -7.042669487481774\n",
       "    -75.68013330086274 \n",
       "    -32.09150270896861 "
      ]
     },
     "execution_count": 15,
     "metadata": {},
     "output_type": "execute_result"
    }
   ],
   "source": [
    "y_fit = polyval_sv(osv_poly,3.4,osv_mean, osv_std)"
   ]
  },
  {
   "cell_type": "code",
   "execution_count": 16,
   "metadata": {},
   "outputs": [],
   "source": [
    "osv_poly, osv_mean, osv_std = calc_sat_trajectory(osv,t_sv, t_start, t_stop);"
   ]
  },
  {
   "cell_type": "markdown",
   "metadata": {},
   "source": [
    "## function polyval_sv() "
   ]
  },
  {
   "cell_type": "markdown",
   "metadata": {},
   "source": [
    "Recunstruct one time"
   ]
  },
  {
   "cell_type": "code",
   "execution_count": 17,
   "metadata": {
    "scrolled": true
   },
   "outputs": [
    {
     "data": {
      "text/plain": [
       "6-element Array{Float64,1}:\n",
       "     3.5310566513978513e6\n",
       "     1.1918181467537319e6\n",
       "     6.005118964793226e6 \n",
       "  6560.077268827518      \n",
       "  -212.66825434708963    \n",
       " -3806.2761008601037     "
      ]
     },
     "execution_count": 17,
     "metadata": {},
     "output_type": "execute_result"
    }
   ],
   "source": [
    "y_fit = polyval_sv(osv_poly,3.4,osv_mean, osv_std)"
   ]
  },
  {
   "cell_type": "markdown",
   "metadata": {},
   "source": [
    "#### function zero_doppler_bisect()"
   ]
  },
  {
   "cell_type": "code",
   "execution_count": 18,
   "metadata": {},
   "outputs": [],
   "source": [
    "include(\"zero_doppler_bisect.jl\")\n",
    "include(\"ellipsoid2xyz.jl\");\n",
    "include(\"calc_sat_trajectory.jl\");\n",
    "include(\"load_pod.jl\");\n",
    "import Dates"
   ]
  },
  {
   "cell_type": "code",
   "execution_count": 20,
   "metadata": {},
   "outputs": [],
   "source": [
    "f = open(\"POD_path.txt\")\n",
    "path = readlines(f)\n",
    "osv, t_sv = load_pod(path[1], t_0);"
   ]
  },
  {
   "cell_type": "code",
   "execution_count": 21,
   "metadata": {},
   "outputs": [],
   "source": [
    "lat_1 = (56 + 33/60 + 44.4528/(60*60)) * pi/180\n",
    "lon_1 = (8 + 18/60 + 24.865/(60*60)) * pi/180\n",
    "height_1 = 43.282;"
   ]
  },
  {
   "cell_type": "code",
   "execution_count": 22,
   "metadata": {},
   "outputs": [
    {
     "data": {
      "text/plain": [
       "(3.485824828590261e6, 508956.0100922042, 5.299237309602344e6)"
      ]
     },
     "execution_count": 22,
     "metadata": {},
     "output_type": "execute_result"
    }
   ],
   "source": [
    "point_xyz_1 = ellipsoid2xyz(lat_1, lon_1, height_1)"
   ]
  },
  {
   "cell_type": "code",
   "execution_count": 23,
   "metadata": {},
   "outputs": [],
   "source": [
    "osv_poly, osv_mean, osv_std = calc_sat_trajectory(osv, t_sv, t_start, t_stop);"
   ]
  },
  {
   "cell_type": "code",
   "execution_count": 29,
   "metadata": {},
   "outputs": [
    {
     "data": {
      "text/plain": [
       "2-element Array{Float64,1}:\n",
       "     53.01648932401438\n",
       " 916923.0550779798    "
      ]
     },
     "execution_count": 29,
     "metadata": {},
     "output_type": "execute_result"
    }
   ],
   "source": [
    "time_1, range_1 = zero_doppler_bisect(point_xyz_1, t_start, t_stop,\n",
    "                                    osv_poly, osv_mean, osv_std)"
   ]
  },
  {
   "cell_type": "markdown",
   "metadata": {},
   "source": [
    "### Calculate line and sample of corner refelctors"
   ]
  },
  {
   "cell_type": "code",
   "execution_count": 30,
   "metadata": {},
   "outputs": [
    {
     "data": {
      "text/plain": [
       "902747.0460918952"
      ]
     },
     "execution_count": 30,
     "metadata": {},
     "output_type": "execute_result"
    }
   ],
   "source": [
    "c = 299792458 # speed of light\n",
    "# info from ann\n",
    "#prf =486.4863102995529\n",
    "#r_near = 6.022480032448950e-03*c/2\n",
    "#fs = 6.434523812571428e7\n",
    "#range_pixel_spacing = c/(2*fs);\n",
    "#t_start_burst_1 = t_start;\n",
    "\n",
    "range_pixel_spacing = meta[\"range_pixel_spacing\"]\n",
    "azimuth_frequency = meta[\"azimuth_frequency\"] \n",
    "r_near = meta[\"slant_range_time\"]  *c/2\n"
   ]
  },
  {
   "cell_type": "code",
   "execution_count": 31,
   "metadata": {},
   "outputs": [],
   "source": [
    "osv_poly, osv_mean, osv_std = calc_sat_trajectory(osv, t_sv, t_start, t_stop);"
   ]
  },
  {
   "cell_type": "code",
   "execution_count": 32,
   "metadata": {
    "scrolled": true
   },
   "outputs": [
    {
     "name": "stdout",
     "output_type": "stream",
     "text": [
      "(line, sample): 1126.4298040945805, 6086.267954269774"
     ]
    }
   ],
   "source": [
    "#reflector 1\n",
    "lat_1 = (56 + 33/60 + 42.5556/(60*60)) * pi/180\n",
    "lon_1 = (8 + 18/60 + 26.874/(60*60)) * pi/180\n",
    "height_1 = 42.753;\n",
    "point_xyz_1 = ellipsoid2xyz(lat_1, lon_1, height_1)\n",
    "time_1,range_1 = zero_doppler_bisect(point_xyz_1, t_start, t_stop,\n",
    "                                      osv_poly, osv_mean, osv_std)\n",
    "line_1 = 1+(time_1 - t_start)*azimuth_frequency\n",
    "sample_1 = 1 + (range_1-r_near)/range_pixel_spacing\n",
    "print(\"(line, sample): \", line_1, \", \",sample_1)"
   ]
  },
  {
   "cell_type": "code",
   "execution_count": 33,
   "metadata": {},
   "outputs": [
    {
     "name": "stdout",
     "output_type": "stream",
     "text": [
      "(line, sample): 1122.6561505441537, 6098.701736522378"
     ]
    }
   ],
   "source": [
    "# reflector 2\n",
    "lat_2 = (56 + 33/60 + 44.4528/(60*60)) * pi/180\n",
    "lon_2 = (8 + 18/60 + 24.865/(60*60)) * pi/180\n",
    "height_2 = 43.282;\n",
    "point_xyz_2 = ellipsoid2xyz(lat_2, lon_2, height_2)\n",
    "time_2,range_2  = zero_doppler_bisect(point_xyz_2, t_start, t_stop,\n",
    "                                    osv_poly, osv_mean, osv_std)\n",
    "line_2 = 1 + (time_2 - t_start)*azimuth_frequency\n",
    "sample_2 = 1 + (range_2-r_near)/range_pixel_spacing\n",
    "print(\"(line, sample): \", line_2, \", \",sample_2)"
   ]
  },
  {
   "cell_type": "code",
   "execution_count": 34,
   "metadata": {},
   "outputs": [
    {
     "name": "stdout",
     "output_type": "stream",
     "text": [
      "(line, sample): 1126.7088611236884, 6109.432027197682"
     ]
    }
   ],
   "source": [
    "#reflector 3\n",
    "lat_3 = (56 + 33/60 + 42.8652/(60*60)) * pi/180\n",
    "lon_3 = (8 + 18/60 + 22.104/(60*60)) * pi/180\n",
    "height_3 = 44.475;\n",
    "point_xyz_3 = ellipsoid2xyz(lat_3, lon_3, height_3)\n",
    "time_3,range_3 = zero_doppler_bisect(point_xyz_3, t_start, t_stop,\n",
    "                                      osv_poly, osv_mean, osv_std)\n",
    "line_3 = 1 + (time_3 - t_start) * azimuth_frequency\n",
    "sample_3 = 1 + (range_3 - r_near) / range_pixel_spacing\n",
    "print(\"(line, sample): \", line_3, \", \",sample_3)"
   ]
  },
  {
   "cell_type": "markdown",
   "metadata": {},
   "source": [
    "#### Bridge coordinates test\n",
    "Bridge in \"Ringkøbing Fjord\" with coords: (lat,lon)=(56.003092, 8.129702), corresponding to the 5th burst in IW3, with indices of center of bridge: (row, col)=(6414, 6258) "
   ]
  },
  {
   "cell_type": "code",
   "execution_count": 35,
   "metadata": {},
   "outputs": [
    {
     "name": "stdout",
     "output_type": "stream",
     "text": [
      "(line, sample): 5685.960841641715, 6255.924240537156"
     ]
    }
   ],
   "source": [
    "#Ringkøbing fjord bridge\n",
    "lat_bridge = (56.003092) * pi/180\n",
    "lon_bridge = (8.129702) * pi/180\n",
    "height_bridge = (42.753 + 43.282 + 44.475)/3; #iflg DHM imellem 5 og 2.5 meter oh.\n",
    "point_xyz_bridge = ellipsoid2xyz(lat_bridge, lon_bridge, height_bridge)\n",
    "time_bridge, range_bridge = zero_doppler_bisect(point_xyz_bridge, t_start, t_stop,\n",
    "                                      osv_poly, osv_mean, osv_std)\n",
    "line_bridge = 1 + (time_bridge - t_start) * azimuth_frequency\n",
    "sample_bridge = 1 + (range_bridge - r_near) / range_pixel_spacing\n",
    "print(\"(line, sample): \", line_bridge, \", \",sample_bridge)"
   ]
  },
  {
   "cell_type": "markdown",
   "metadata": {},
   "source": [
    "### Reproject DEM"
   ]
  },
  {
   "cell_type": "code",
   "execution_count": null,
   "metadata": {},
   "outputs": [],
   "source": [
    "include(\"reproject_dem.jl\")\n",
    "# read dem path\n",
    "f = open(\"dem_path.txt\")\n",
    "input_dem_path = readlines(f)[1]\n",
    "\n",
    "# put output dem in same folder as input:\n",
    "tmp = split(input_dem_path, \".\")\n",
    "output_dem_path = tmp[1] * \"_reprojected.\" * tmp[2]\n",
    "\n",
    "# choose projection from/to in epsg\n",
    "from_projection = \"4326+5773\"\n",
    "to_projection = \"4979\"\n",
    "\n",
    "reproject_dem(input_dem_path, output_dem_path, from_projection=\"4326+5773\", to_projection=\"4979\")"
   ]
  },
  {
   "cell_type": "code",
   "execution_count": null,
   "metadata": {},
   "outputs": [],
   "source": []
  }
 ],
 "metadata": {
  "kernelspec": {
   "display_name": "Julia 1.1.1",
   "language": "julia",
   "name": "julia-1.1"
  },
  "language_info": {
   "file_extension": ".jl",
   "mimetype": "application/julia",
   "name": "julia",
   "version": "1.1.1"
  }
 },
 "nbformat": 4,
 "nbformat_minor": 2
}
