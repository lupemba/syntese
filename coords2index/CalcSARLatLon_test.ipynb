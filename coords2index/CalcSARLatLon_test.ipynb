{
 "cells": [
  {
   "cell_type": "code",
   "execution_count": 1,
   "metadata": {},
   "outputs": [
    {
     "data": {
      "text/plain": [
       "llh2sali (generic function with 1 method)"
      ]
     },
     "execution_count": 1,
     "metadata": {},
     "output_type": "execute_result"
    }
   ],
   "source": [
    "include(\"load_pod.jl\");\n",
    "include(\"load_s1slc_ann.jl\");\n",
    "include(\"llh2sali.jl\")"
   ]
  },
  {
   "cell_type": "code",
   "execution_count": 2,
   "metadata": {},
   "outputs": [],
   "source": [
    "llh = [\n",
    "    [(56 + 33/60 + 42.5556/(60*60)),(8 + 18/60 + 26.874/(60*60)), 42.753],\n",
    "    [(56 + 33/60 + 44.4528/(60*60)) ,(8 + 18/60 + 24.865/(60*60)),43.282],\n",
    "    [(56 + 33/60 + 42.8652/(60*60)) ,(8 + 18/60 + 22.104/(60*60)),44.475],\n",
    "    [(56.003092) ,8.129702 ,43.5]\n",
    "];\n",
    "llh_cat = vcat(llh'...);"
   ]
  },
  {
   "cell_type": "code",
   "execution_count": 3,
   "metadata": {},
   "outputs": [],
   "source": [
    "f = open(\"ann_path.txt\")\n",
    "path = readlines(f)\n",
    "sar_parameters = load_s1slc_ann(path[1]);\n",
    "f = open(\"POD_path.txt\")\n",
    "path = readlines(f)\n",
    "osv,t_sv = load_pod(path[1],sar_parameters[\"t_0\"]);"
   ]
  },
  {
   "cell_type": "code",
   "execution_count": 4,
   "metadata": {},
   "outputs": [
    {
     "data": {
      "text/plain": [
       "4×2 Array{Float64,2}:\n",
       " 1126.43  6086.27\n",
       " 1122.66  6098.7 \n",
       " 1126.71  6109.43\n",
       " 5685.96  6255.93"
      ]
     },
     "execution_count": 4,
     "metadata": {},
     "output_type": "execute_result"
    }
   ],
   "source": [
    "sali = llh2sali(llh_cat, osv, t_sv, sar_parameters)"
   ]
  },
  {
   "cell_type": "code",
   "execution_count": 5,
   "metadata": {},
   "outputs": [
    {
     "data": {
      "text/plain": [
       "4×3 Array{Float64,2}:\n",
       " 1126.43  6086.27  42.753\n",
       " 1122.66  6098.7   43.282\n",
       " 1126.71  6109.43  44.475\n",
       " 5685.96  6255.93  43.5  "
      ]
     },
     "execution_count": 5,
     "metadata": {},
     "output_type": "execute_result"
    }
   ],
   "source": [
    "salih = hcat(sali,llh_cat[:,3])"
   ]
  },
  {
   "cell_type": "code",
   "execution_count": 9,
   "metadata": {},
   "outputs": [],
   "source": [
    "include(\"calc_sat_trajectory.jl\");\n",
    "include(\"approx_los.jl\");\n",
    "include(\"intersect.jl\")\n",
    "include(\"xyz2ellh.jl\");\n",
    "include(\"radar_solve.jl\");"
   ]
  },
  {
   "cell_type": "code",
   "execution_count": 26,
   "metadata": {},
   "outputs": [
    {
     "data": {
      "text/plain": [
       "salih2llh (generic function with 1 method)"
      ]
     },
     "execution_count": 26,
     "metadata": {},
     "output_type": "execute_result"
    }
   ],
   "source": [
    "function salih2llh(salih, osv, t_sv, sar_parameters)\n",
    "    c = 299792458 # speed of light\n",
    "    t_start = sar_parameters[\"t_start\"]\n",
    "    t_stop = sar_parameters[\"t_stop\"]\n",
    "    sign_angle  = sar_parameters[\"right_looking\"] ? 1 : -1\n",
    "    theta_0 = sign_angle*abs(sar_parameters[\"incidence_angle_mid\"]*pi/180) \n",
    "    range_pixel_spacing =  sar_parameters[\"range_pixel_spacing\"]\n",
    "    inv_azimuth_frequency =  1/sar_parameters[\"azimuth_frequency\"]\n",
    "    r_near =  sar_parameters[\"slant_range_time\"]  *c/2\n",
    "    \n",
    "    osv_poly, osv_mean, osv_std = calc_sat_trajectory(osv, t_sv, t_start, t_stop)\n",
    "    rad2deg = 180/pi\n",
    "    \n",
    "    llh = Array{Float64}(undef,size(salih)[1],3)\n",
    "    \n",
    "        \n",
    "    for i in 1:size(salih)[1]\n",
    "        time =  t_start + (salih[i,1]-1)*inv_azimuth_frequency\n",
    "        range_x = r_near + (salih[i,2] - 1)*range_pixel_spacing\n",
    "            \n",
    "        osv_0 = polyval_sv(osv_poly,time,osv_mean, osv_std)\n",
    "        x_sat = osv_0[1:3]\n",
    "        v_sat = osv_0[4:6]\n",
    "            \n",
    "        x_0 = intersect(x_sat, approx_los(x_sat,v_sat,theta_0))\n",
    "        x = radar_solve(range_x,salih[i,3],x_0,x_sat,v_sat) \n",
    "        point =  xyz2ellh(x...)\n",
    "        llh[i,1] = point[1]*rad2deg\n",
    "        llh[i,2] = point[2]*rad2deg\n",
    "        llh[i,3] =point[3]\n",
    "        \n",
    "    end\n",
    "    \n",
    "    return llh\n",
    "\n",
    "end\n",
    "    \n",
    "    "
   ]
  },
  {
   "cell_type": "code",
   "execution_count": 27,
   "metadata": {},
   "outputs": [
    {
     "data": {
      "text/plain": [
       "4×3 Array{Float64,2}:\n",
       " 56.5618  8.30747  42.7529\n",
       " 56.5623  8.30691  43.2819\n",
       " 56.5619  8.30614  44.4749\n",
       " 56.0031  8.1297   43.4999"
      ]
     },
     "execution_count": 27,
     "metadata": {},
     "output_type": "execute_result"
    }
   ],
   "source": [
    "llh_test = salih2llh(salih, osv, t_sv, sar_parameters)"
   ]
  },
  {
   "cell_type": "code",
   "execution_count": 28,
   "metadata": {},
   "outputs": [
    {
     "data": {
      "text/plain": [
       "4×3 Array{Float64,2}:\n",
       " -3.27347e-8  -1.0865e-8   5.10481e-5\n",
       "  1.06273e-8   2.29406e-9  5.16776e-5\n",
       "  3.46767e-8   9.57187e-9  5.31044e-5\n",
       " -1.78345e-8  -6.25741e-9  5.27855e-5"
      ]
     },
     "execution_count": 28,
     "metadata": {},
     "output_type": "execute_result"
    }
   ],
   "source": [
    "llh_cat .- llh_test"
   ]
  },
  {
   "cell_type": "code",
   "execution_count": null,
   "metadata": {},
   "outputs": [],
   "source": []
  },
  {
   "cell_type": "code",
   "execution_count": null,
   "metadata": {},
   "outputs": [],
   "source": []
  }
 ],
 "metadata": {
  "kernelspec": {
   "display_name": "Julia 1.0.4",
   "language": "julia",
   "name": "julia-1.0"
  },
  "language_info": {
   "file_extension": ".jl",
   "mimetype": "application/julia",
   "name": "julia",
   "version": "1.0.4"
  }
 },
 "nbformat": 4,
 "nbformat_minor": 2
}
