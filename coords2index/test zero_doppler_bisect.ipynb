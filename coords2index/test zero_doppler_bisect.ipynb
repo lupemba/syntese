{
 "cells": [
  {
   "cell_type": "code",
   "execution_count": 1,
   "metadata": {},
   "outputs": [],
   "source": [
    "using Plots"
   ]
  },
  {
   "cell_type": "markdown",
   "metadata": {},
   "source": [
    "### Test zero_doppler_bisect"
   ]
  },
  {
   "cell_type": "code",
   "execution_count": 2,
   "metadata": {},
   "outputs": [],
   "source": [
    "include(\"load_pod.jl\");\n",
    "include(\"ellipsoid2xyz.jl\");\n",
    "include(\"calc_sat_trajectory.jl\");"
   ]
  },
  {
   "cell_type": "code",
   "execution_count": 3,
   "metadata": {},
   "outputs": [],
   "source": [
    "f = open(\"POD_path.txt\")\n",
    "path = readlines(f)\n",
    "osv,t_sv = load_pod(path[1]);"
   ]
  },
  {
   "cell_type": "code",
   "execution_count": 4,
   "metadata": {},
   "outputs": [
    {
     "data": {
      "text/plain": [
       "2017-03-15T05:40:00"
      ]
     },
     "execution_count": 4,
     "metadata": {},
     "output_type": "execute_result"
    }
   ],
   "source": [
    "t_start = DateTime(2017, 3, 15, 5, 40)\n",
    "t_stop = DateTime(2017, 3, 15, 5, 42)\n",
    "azimuth_stop_time = t_stop\n",
    "azimuth_start_time = t_start"
   ]
  },
  {
   "cell_type": "code",
   "execution_count": 5,
   "metadata": {},
   "outputs": [],
   "source": [
    "osv_poly, osv_mean, osv_std, t0 = calc_sat_trajectory(osv,t_sv, t_start, t_stop);"
   ]
  },
  {
   "cell_type": "code",
   "execution_count": 31,
   "metadata": {},
   "outputs": [
    {
     "data": {
      "text/plain": [
       "DateTime"
      ]
     },
     "execution_count": 31,
     "metadata": {},
     "output_type": "execute_result"
    }
   ],
   "source": [
    "typeof(t0)"
   ]
  },
  {
   "cell_type": "markdown",
   "metadata": {},
   "source": [
    "### Test values"
   ]
  },
  {
   "cell_type": "code",
   "execution_count": 6,
   "metadata": {},
   "outputs": [
    {
     "data": {
      "text/plain": [
       "401000.0"
      ]
     },
     "execution_count": 6,
     "metadata": {},
     "output_type": "execute_result"
    }
   ],
   "source": [
    "t_test = 310.34\n",
    "range_test = 401000."
   ]
  },
  {
   "cell_type": "code",
   "execution_count": 7,
   "metadata": {},
   "outputs": [
    {
     "data": {
      "text/plain": [
       "6-element Array{Float64,1}:\n",
       "     4.341084665870543e6 \n",
       "     1.1456823856150631e6\n",
       "     5.459636472593384e6 \n",
       "  5983.982659681769      \n",
       "  -500.0581844795242     \n",
       " -4641.6226465555965     "
      ]
     },
     "execution_count": 7,
     "metadata": {},
     "output_type": "execute_result"
    }
   ],
   "source": [
    "y_fit_1 = polyval_sv(osv_poly,t_test,osv_mean, osv_std)"
   ]
  },
  {
   "cell_type": "code",
   "execution_count": 8,
   "metadata": {},
   "outputs": [],
   "source": [
    "v_test = y_fit_1[4:6] \n",
    "v_test = v_test./sqrt(v_test'*v_test);"
   ]
  },
  {
   "cell_type": "code",
   "execution_count": 9,
   "metadata": {},
   "outputs": [],
   "source": [
    "los_z = -(v_test[1]*(0.1)+v_test[2]*0.1)/v_test[3];\n",
    "los_test = [0.1,0.1,los_z];\n",
    "los_test = los_test./sqrt(los_test'*los_test);"
   ]
  },
  {
   "cell_type": "code",
   "execution_count": 10,
   "metadata": {},
   "outputs": [
    {
     "data": {
      "text/plain": [
       "3-element Array{Float64,1}:\n",
       " 4.558689828520125e6 \n",
       " 1.3632875482646455e6\n",
       " 5.716729814351776e6 "
      ]
     },
     "execution_count": 10,
     "metadata": {},
     "output_type": "execute_result"
    }
   ],
   "source": [
    "point = range_test.*los_test .+ y_fit_1[1:3];\n",
    "point_xyz = point"
   ]
  },
  {
   "cell_type": "code",
   "execution_count": 23,
   "metadata": {},
   "outputs": [],
   "source": [
    "include(\"zero_doppler_bisect.jl\");"
   ]
  },
  {
   "cell_type": "code",
   "execution_count": 24,
   "metadata": {},
   "outputs": [
    {
     "data": {
      "text/plain": [
       "2-element Array{Float64,1}:\n",
       " 400999.9999999987   \n",
       "    310.3399994522333"
      ]
     },
     "execution_count": 24,
     "metadata": {},
     "output_type": "execute_result"
    }
   ],
   "source": [
    "rrange, ttime = zero_doppler_bisect(point_xyz, azimuth_start_time, azimuth_stop_time,\n",
    "                                    osv_poly, osv_mean, osv_std, t0)"
   ]
  },
  {
   "cell_type": "code",
   "execution_count": null,
   "metadata": {},
   "outputs": [],
   "source": []
  }
 ],
 "metadata": {
  "kernelspec": {
   "display_name": "Julia 1.1.1",
   "language": "julia",
   "name": "julia-1.1"
  },
  "language_info": {
   "file_extension": ".jl",
   "mimetype": "application/julia",
   "name": "julia",
   "version": "1.1.1"
  }
 },
 "nbformat": 4,
 "nbformat_minor": 2
}
