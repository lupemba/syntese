{
 "cells": [
  {
   "cell_type": "code",
   "execution_count": 1,
   "metadata": {},
   "outputs": [],
   "source": [
    "include(\"load_s1slc_ann.jl\");\n",
    "include(\"load_pod.jl\");\n",
    "include(\"calc_sat_trajectory.jl\");"
   ]
  },
  {
   "cell_type": "code",
   "execution_count": 2,
   "metadata": {},
   "outputs": [],
   "source": [
    "f = open(\"ann_path.txt\")\n",
    "path = readlines(f)\n",
    "meta = load_s1slc_ann(path[1]);\n",
    "f = open(\"POD_path.txt\")\n",
    "path = readlines(f)\n",
    "osv,t_sv = load_pod(path[1],meta[\"t_0\"]);"
   ]
  },
  {
   "cell_type": "code",
   "execution_count": 3,
   "metadata": {},
   "outputs": [],
   "source": [
    "f = open(\"POD_path.txt\")\n",
    "path = readlines(f)\n",
    "osv,t_sv = load_pod(path[1],meta[\"t_0\"]);"
   ]
  },
  {
   "cell_type": "code",
   "execution_count": 4,
   "metadata": {},
   "outputs": [
    {
     "data": {
      "text/plain": [
       "53.01648932401438"
      ]
     },
     "execution_count": 4,
     "metadata": {},
     "output_type": "execute_result"
    }
   ],
   "source": [
    "t_start = meta[\"t_start\"]\n",
    "t_stop = meta[\"t_stop\"]\n",
    "time_test = 53.01648932401438"
   ]
  },
  {
   "cell_type": "code",
   "execution_count": 5,
   "metadata": {},
   "outputs": [],
   "source": [
    "osv_poly, osv_mean, osv_std = calc_sat_trajectory(osv, t_sv, t_start, t_stop);\n",
    "osv_test = polyval_sv(osv_poly,time_test,osv_mean, osv_std);"
   ]
  },
  {
   "cell_type": "code",
   "execution_count": 6,
   "metadata": {},
   "outputs": [
    {
     "data": {
      "text/plain": [
       "3-element Array{Float64,1}:\n",
       "  6352.963721195377 \n",
       "  -325.2864822881809\n",
       " -4137.00723016152  "
      ]
     },
     "execution_count": 6,
     "metadata": {},
     "output_type": "execute_result"
    }
   ],
   "source": [
    "theta_0 = meta[\"incidence_angle_mid\"]*pi/180\n",
    "\n",
    "x_sat = osv_test[1:3]\n",
    "v_sat = osv_test[4:6]"
   ]
  },
  {
   "cell_type": "code",
   "execution_count": null,
   "metadata": {},
   "outputs": [],
   "source": []
  },
  {
   "cell_type": "code",
   "execution_count": 11,
   "metadata": {},
   "outputs": [],
   "source": [
    "include(\"approx_los.jl\");"
   ]
  },
  {
   "cell_type": "code",
   "execution_count": 12,
   "metadata": {},
   "outputs": [
    {
     "data": {
      "text/plain": [
       "3-element Array{Float64,1}:\n",
       " -0.356271677770493 \n",
       " -0.7999912912283155\n",
       " -0.4827876191745395"
      ]
     },
     "execution_count": 12,
     "metadata": {},
     "output_type": "execute_result"
    }
   ],
   "source": [
    "los = approx_los(x_sat,v_sat,theta_0)"
   ]
  },
  {
   "cell_type": "markdown",
   "metadata": {},
   "source": [
    " ### correct los\n",
    " -0.39871976313527907\n",
    " -0.7301475699415844 \n",
    " -0.554893752527226"
   ]
  },
  {
   "cell_type": "code",
   "execution_count": 13,
   "metadata": {},
   "outputs": [
    {
     "data": {
      "text/plain": [
       "intersect (generic function with 3 methods)"
      ]
     },
     "execution_count": 13,
     "metadata": {},
     "output_type": "execute_result"
    }
   ],
   "source": [
    "include(\"intersect.jl\")"
   ]
  },
  {
   "cell_type": "code",
   "execution_count": 14,
   "metadata": {},
   "outputs": [
    {
     "data": {
      "text/plain": [
       "3-element Array{Float64,1}:\n",
       "      3.4853451836835938e6\n",
       " 356323.02577884775       \n",
       "      5.311861546313664e6 "
      ]
     },
     "execution_count": 14,
     "metadata": {},
     "output_type": "execute_result"
    }
   ],
   "source": [
    "intersect(x_sat,los)"
   ]
  },
  {
   "cell_type": "markdown",
   "metadata": {},
   "source": [
    "Point used\n",
    "\n",
    "(3.485824828590261e6, 508956.0100922042, 5.299237309602344e6)"
   ]
  },
  {
   "cell_type": "code",
   "execution_count": null,
   "metadata": {},
   "outputs": [],
   "source": []
  },
  {
   "cell_type": "code",
   "execution_count": 14,
   "metadata": {},
   "outputs": [
    {
     "data": {
      "text/plain": [
       "intersect (generic function with 3 methods)"
      ]
     },
     "execution_count": 14,
     "metadata": {},
     "output_type": "execute_result"
    }
   ],
   "source": [
    "function intersect(x_sat,los,semi_major_axis=6378137.,flattening=1/298.257223563)\n",
    "    x_sat = osv_test[1:3]\n",
    "    \n",
    "    semi_minor_axis = semi_major_axis*(1 - flattening)\n",
    "    epsilon = (semi_major_axis/semi_minor_axis)^2  - 1 # second eccentricity squared\n",
    "    ecc_squared = flattening*(2-flattening)\n",
    "    \n",
    "    F    = (x_sat'*los + epsilon*x_sat[3]*los[3]) / (1 + epsilon*los[3]^2)\n",
    "    G    = (x_sat'*x_sat - semi_major_axis^2 + epsilon*x_sat[3]^2) / (1 + epsilon*los[3]^2)\n",
    "    R    = -F - sqrt(F^2 - G)\n",
    "\n",
    "    return x_sat + R.* los;\n",
    "end\n"
   ]
  },
  {
   "cell_type": "code",
   "execution_count": 15,
   "metadata": {},
   "outputs": [
    {
     "data": {
      "text/plain": [
       "3-element Array{Float64,1}:\n",
       "      3.4853451836835938e6\n",
       " 356323.02577884775       \n",
       "      5.311861546313664e6 "
      ]
     },
     "execution_count": 15,
     "metadata": {},
     "output_type": "execute_result"
    }
   ],
   "source": [
    "intersect(x_sat,los)"
   ]
  },
  {
   "cell_type": "markdown",
   "metadata": {},
   "source": [
    "Point used\n",
    "\n",
    "(3.485824828590261e6, 508956.0100922042, 5.299237309602344e6)"
   ]
  },
  {
   "cell_type": "code",
   "execution_count": null,
   "metadata": {},
   "outputs": [],
   "source": []
  },
  {
   "cell_type": "code",
   "execution_count": 18,
   "metadata": {},
   "outputs": [
    {
     "data": {
      "text/plain": [
       "0.0033528106647474805"
      ]
     },
     "execution_count": 18,
     "metadata": {},
     "output_type": "execute_result"
    }
   ],
   "source": [
    "semi_major_axis=6378137.\n",
    "flattening=1/298.257223563"
   ]
  },
  {
   "cell_type": "code",
   "execution_count": 19,
   "metadata": {},
   "outputs": [
    {
     "data": {
      "text/plain": [
       "0.0066943799901413165"
      ]
     },
     "execution_count": 19,
     "metadata": {},
     "output_type": "execute_result"
    }
   ],
   "source": [
    "semi_minor_axis = semi_major_axis*(1 - flattening)\n",
    "epsilon = (semi_major_axis/semi_minor_axis)^2  - 1 # second eccentricity squared\n",
    "ecc_squared = flattening*(2-flattening)"
   ]
  },
  {
   "cell_type": "code",
   "execution_count": 20,
   "metadata": {},
   "outputs": [
    {
     "data": {
      "text/plain": [
       "3-element Array{Float64,1}:\n",
       " 3.851481000182519e6\n",
       " 1.178463776452259e6\n",
       " 5.808016166990285e6"
      ]
     },
     "execution_count": 20,
     "metadata": {},
     "output_type": "execute_result"
    }
   ],
   "source": [
    "x_sat = osv_test[1:3]"
   ]
  },
  {
   "cell_type": "code",
   "execution_count": 24,
   "metadata": {},
   "outputs": [
    {
     "data": {
      "text/plain": [
       "1.0276871257074401e6"
      ]
     },
     "execution_count": 24,
     "metadata": {},
     "output_type": "execute_result"
    }
   ],
   "source": [
    "F    = (x_sat'*los + epsilon*x_sat[3]*los[3]) / (1 + epsilon*los[3]^2)\n",
    "G    = (x_sat'*x_sat - semi_major_axis^2 + epsilon*x_sat[3]^2) / (1 + epsilon*los[3]^2)\n",
    "R    = -F - sqrt(F^2 - G)"
   ]
  },
  {
   "cell_type": "code",
   "execution_count": 29,
   "metadata": {},
   "outputs": [],
   "source": [
    "x_0   = x_sat + R.* los;"
   ]
  },
  {
   "cell_type": "code",
   "execution_count": 30,
   "metadata": {},
   "outputs": [
    {
     "data": {
      "text/plain": [
       "3-element Array{Float64,1}:\n",
       "      3.4853451836835938e6\n",
       " 356323.02577884775       \n",
       "      5.311861546313664e6 "
      ]
     },
     "execution_count": 30,
     "metadata": {},
     "output_type": "execute_result"
    }
   ],
   "source": [
    "x_0"
   ]
  },
  {
   "cell_type": "markdown",
   "metadata": {},
   "source": [
    "\n"
   ]
  },
  {
   "cell_type": "code",
   "execution_count": null,
   "metadata": {},
   "outputs": [],
   "source": []
  },
  {
   "cell_type": "raw",
   "metadata": {},
   "source": [
    "% Find intersection of the line from satellite to Earth centre and a point on the ellipsoid.\n",
    "% C&W, pp. 558-559\n",
    "elliSemiMinor = elliSemiMajor*(1 - elliFlat);\n",
    "elliEpsilon = (elliSemiMajor/elliSemiMinor)^2  - 1; % second eccentricity squared\n",
    "elliEccSquared = elliFlat*(2-elliFlat);\n",
    "\n",
    "F    = (dot(XSat,Ulos) + elliEpsilon*XSat(3)*Ulos(3)) / (1 + elliEpsilon*Ulos(3)^2);\n",
    "G    = (dot(XSat,XSat) - elliSemiMajor^2 + elliEpsilon*XSat(3)^2) / (1 + elliEpsilon*Ulos(3)^2);\n",
    "R    = -F - sqrt(F^2 - G);\n",
    "X0   = XSat + R.*Ulos;"
   ]
  },
  {
   "cell_type": "code",
   "execution_count": null,
   "metadata": {},
   "outputs": [],
   "source": []
  },
  {
   "cell_type": "code",
   "execution_count": null,
   "metadata": {},
   "outputs": [],
   "source": []
  },
  {
   "cell_type": "code",
   "execution_count": null,
   "metadata": {},
   "outputs": [],
   "source": []
  },
  {
   "cell_type": "code",
   "execution_count": null,
   "metadata": {},
   "outputs": [],
   "source": []
  },
  {
   "cell_type": "code",
   "execution_count": null,
   "metadata": {},
   "outputs": [],
   "source": []
  },
  {
   "cell_type": "code",
   "execution_count": null,
   "metadata": {},
   "outputs": [],
   "source": []
  },
  {
   "cell_type": "code",
   "execution_count": 11,
   "metadata": {},
   "outputs": [
    {
     "data": {
      "text/plain": [
       "0.7608462959597286"
      ]
     },
     "execution_count": 11,
     "metadata": {},
     "output_type": "execute_result"
    }
   ],
   "source": [
    "theta = meta[\"incidence_angle_mid\"]*pi/180"
   ]
  },
  {
   "cell_type": "code",
   "execution_count": 19,
   "metadata": {},
   "outputs": [],
   "source": [
    "using LinearAlgebra"
   ]
  },
  {
   "cell_type": "code",
   "execution_count": 20,
   "metadata": {},
   "outputs": [],
   "source": [
    "theta_0 = meta[\"incidence_angle_mid\"]*pi/180\n",
    "\n",
    "x_sat = osv_test[1:3]\n",
    "v_sat = osv_test[4:6]\n",
    "\n",
    "losSat = [-cos(theta_0), sin(theta_0), 0]\n",
    "\n",
    "# SAT1 basis in ECEF coordinates\n",
    "x_hat_ecef = x_sat / sqrt(x_sat'*x_sat);\n",
    "z_hat_ecef = v_sat / sqrt(v_sat'*v_sat);\n",
    "y_hat_ecef = cross(z_hat_ecef, x_hat_ecef);"
   ]
  },
  {
   "cell_type": "code",
   "execution_count": 26,
   "metadata": {},
   "outputs": [],
   "source": [
    "m = hcat(x_hat_ecef, y_hat_ecef,z_hat_ecef)\n",
    "Ulos = m*losSat;"
   ]
  },
  {
   "cell_type": "code",
   "execution_count": 27,
   "metadata": {},
   "outputs": [
    {
     "data": {
      "text/plain": [
       "3-element Array{Float64,1}:\n",
       " -0.356271677770493 \n",
       " -0.7999912912283155\n",
       " -0.4827876191745395"
      ]
     },
     "execution_count": 27,
     "metadata": {},
     "output_type": "execute_result"
    }
   ],
   "source": [
    "Ulos"
   ]
  },
  {
   "cell_type": "code",
   "execution_count": 28,
   "metadata": {},
   "outputs": [],
   "source": [
    "## Correct  Ulos"
   ]
  },
  {
   "cell_type": "markdown",
   "metadata": {},
   "source": [
    " -0.39871976313527907\n",
    " -0.7301475699415844 \n",
    " -0.554893752527226"
   ]
  },
  {
   "cell_type": "code",
   "execution_count": null,
   "metadata": {},
   "outputs": [],
   "source": []
  },
  {
   "cell_type": "code",
   "execution_count": 10,
   "metadata": {},
   "outputs": [
    {
     "data": {
      "text/plain": [
       "approx_los (generic function with 1 method)"
      ]
     },
     "execution_count": 10,
     "metadata": {},
     "output_type": "execute_result"
    }
   ],
   "source": [
    "using LinearAlgebra\n",
    "function approx_los(osv_fit,s1_annn)\n",
    "    theta_0 = s1_annn[\"incidence_angle_mid\"]*pi/180\n",
    "\n",
    "    x_sat = osv_fit[1:3]\n",
    "    v_sat = osv_fit[4:6]\n",
    "\n",
    "    #ECEF basis coordinates\n",
    "    x_hat_ecef = x_sat / sqrt(x_sat'*x_sat) # Towards earth center\n",
    "    z_hat_ecef = v_sat / sqrt(v_sat'*v_sat) # flight direction\n",
    "    y_hat_ecef = cross(z_hat_ecef, x_hat_ecef) # Right handed coordinate system\n",
    "    \n",
    "    # Line of sight ECEF basis\n",
    "    losSat = [-cos(theta_0), sin(theta_0), 0]\n",
    "    \n",
    "    # Basis change matrix from ECEF basis to elipsidal coordinates\n",
    "    m = hcat(x_hat_ecef, y_hat_ecef,z_hat_ecef) \n",
    "    \n",
    "    # Line of sight in Ellipsoidal coordinates\n",
    "    los = m*losSat;\n",
    "\n",
    "    return los\n",
    "end\n"
   ]
  },
  {
   "cell_type": "code",
   "execution_count": 11,
   "metadata": {},
   "outputs": [
    {
     "data": {
      "text/plain": [
       "3-element Array{Float64,1}:\n",
       " -0.356271677770493 \n",
       " -0.7999912912283155\n",
       " -0.4827876191745395"
      ]
     },
     "execution_count": 11,
     "metadata": {},
     "output_type": "execute_result"
    }
   ],
   "source": [
    "approx_los(osv_test,meta)"
   ]
  },
  {
   "cell_type": "code",
   "execution_count": null,
   "metadata": {},
   "outputs": [],
   "source": []
  },
  {
   "cell_type": "code",
   "execution_count": null,
   "metadata": {},
   "outputs": [],
   "source": [
    "range, zeroDopplerTime, osv, s1_annn"
   ]
  },
  {
   "cell_type": "code",
   "execution_count": 15,
   "metadata": {},
   "outputs": [
    {
     "data": {
      "text/plain": [
       "7.067937079742404e6"
      ]
     },
     "execution_count": 15,
     "metadata": {},
     "output_type": "execute_result"
    }
   ],
   "source": [
    "sqrt(osv_test[1:3]'*osv_test[1:3])"
   ]
  },
  {
   "cell_type": "code",
   "execution_count": null,
   "metadata": {},
   "outputs": [],
   "source": [
    "losSat = [-cos(theta0) sin(theta0) 0]'; \n",
    "% SAT1 basis in ECEF coordinates\n",
    "Xhat_ecef = XSat / norm(XSat);\n",
    "Zhat_ecef = VSat / norm(VSat);\n",
    "Yhat_ecef = cross(Zhat_ecef, Xhat_ecef);"
   ]
  },
  {
   "cell_type": "code",
   "execution_count": null,
   "metadata": {},
   "outputs": [],
   "source": []
  },
  {
   "cell_type": "code",
   "execution_count": null,
   "metadata": {},
   "outputs": [],
   "source": []
  }
 ],
 "metadata": {
  "kernelspec": {
   "display_name": "Julia 1.0.4",
   "language": "julia",
   "name": "julia-1.0"
  },
  "language_info": {
   "file_extension": ".jl",
   "mimetype": "application/julia",
   "name": "julia",
   "version": "1.0.4"
  }
 },
 "nbformat": 4,
 "nbformat_minor": 2
}
