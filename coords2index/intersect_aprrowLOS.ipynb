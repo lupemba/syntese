{
 "cells": [
  {
   "cell_type": "code",
   "execution_count": 1,
   "metadata": {},
   "outputs": [],
   "source": [
    "include(\"load_s1slc_ann.jl\");\n",
    "include(\"load_pod.jl\");\n",
    "include(\"calc_sat_trajectory.jl\");"
   ]
  },
  {
   "cell_type": "code",
   "execution_count": 2,
   "metadata": {},
   "outputs": [],
   "source": [
    "f = open(\"ann_path.txt\")\n",
    "path = readlines(f)\n",
    "meta = load_s1slc_ann(path[1]);\n",
    "f = open(\"POD_path.txt\")\n",
    "path = readlines(f)\n",
    "osv,t_sv = load_pod(path[1],meta[\"t_0\"]);"
   ]
  },
  {
   "cell_type": "code",
   "execution_count": 3,
   "metadata": {},
   "outputs": [],
   "source": [
    "f = open(\"POD_path.txt\")\n",
    "path = readlines(f)\n",
    "osv,t_sv = load_pod(path[1],meta[\"t_0\"]);"
   ]
  },
  {
   "cell_type": "code",
   "execution_count": 4,
   "metadata": {},
   "outputs": [
    {
     "data": {
      "text/plain": [
       "53.01648932401438"
      ]
     },
     "execution_count": 4,
     "metadata": {},
     "output_type": "execute_result"
    }
   ],
   "source": [
    "t_start = meta[\"t_start\"]\n",
    "t_stop = meta[\"t_stop\"]\n",
    "time_test = 53.01648932401438"
   ]
  },
  {
   "cell_type": "code",
   "execution_count": 5,
   "metadata": {},
   "outputs": [],
   "source": [
    "osv_poly, osv_mean, osv_std = calc_sat_trajectory(osv, t_sv, t_start, t_stop);\n",
    "osv_test = polyval_sv(osv_poly,time_test,osv_mean, osv_std);"
   ]
  },
  {
   "cell_type": "code",
   "execution_count": 6,
   "metadata": {},
   "outputs": [],
   "source": [
    "include(\"approx_los.jl\");"
   ]
  },
  {
   "cell_type": "code",
   "execution_count": 8,
   "metadata": {},
   "outputs": [
    {
     "data": {
      "text/plain": [
       "3-element Array{Float64,1}:\n",
       " -0.356271677770493 \n",
       " -0.7999912912283155\n",
       " -0.4827876191745395"
      ]
     },
     "execution_count": 8,
     "metadata": {},
     "output_type": "execute_result"
    }
   ],
   "source": [
    "approx_los(osv_test,meta)"
   ]
  },
  {
   "cell_type": "markdown",
   "metadata": {},
   "source": [
    " ### correct los\n",
    " -0.39871976313527907\n",
    " -0.7301475699415844 \n",
    " -0.554893752527226"
   ]
  },
  {
   "cell_type": "code",
   "execution_count": null,
   "metadata": {},
   "outputs": [],
   "source": []
  },
  {
   "cell_type": "code",
   "execution_count": null,
   "metadata": {},
   "outputs": [],
   "source": []
  },
  {
   "cell_type": "code",
   "execution_count": null,
   "metadata": {},
   "outputs": [],
   "source": []
  },
  {
   "cell_type": "code",
   "execution_count": null,
   "metadata": {},
   "outputs": [],
   "source": []
  },
  {
   "cell_type": "code",
   "execution_count": 11,
   "metadata": {},
   "outputs": [
    {
     "data": {
      "text/plain": [
       "0.7608462959597286"
      ]
     },
     "execution_count": 11,
     "metadata": {},
     "output_type": "execute_result"
    }
   ],
   "source": [
    "theta = meta[\"incidence_angle_mid\"]*pi/180"
   ]
  },
  {
   "cell_type": "code",
   "execution_count": 19,
   "metadata": {},
   "outputs": [],
   "source": [
    "using LinearAlgebra"
   ]
  },
  {
   "cell_type": "code",
   "execution_count": 20,
   "metadata": {},
   "outputs": [],
   "source": [
    "theta_0 = meta[\"incidence_angle_mid\"]*pi/180\n",
    "\n",
    "x_sat = osv_test[1:3]\n",
    "v_sat = osv_test[4:6]\n",
    "\n",
    "losSat = [-cos(theta_0), sin(theta_0), 0]\n",
    "\n",
    "# SAT1 basis in ECEF coordinates\n",
    "x_hat_ecef = x_sat / sqrt(x_sat'*x_sat);\n",
    "z_hat_ecef = v_sat / sqrt(v_sat'*v_sat);\n",
    "y_hat_ecef = cross(z_hat_ecef, x_hat_ecef);"
   ]
  },
  {
   "cell_type": "code",
   "execution_count": 26,
   "metadata": {},
   "outputs": [],
   "source": [
    "m = hcat(x_hat_ecef, y_hat_ecef,z_hat_ecef)\n",
    "Ulos = m*losSat;"
   ]
  },
  {
   "cell_type": "code",
   "execution_count": 27,
   "metadata": {},
   "outputs": [
    {
     "data": {
      "text/plain": [
       "3-element Array{Float64,1}:\n",
       " -0.356271677770493 \n",
       " -0.7999912912283155\n",
       " -0.4827876191745395"
      ]
     },
     "execution_count": 27,
     "metadata": {},
     "output_type": "execute_result"
    }
   ],
   "source": [
    "Ulos"
   ]
  },
  {
   "cell_type": "code",
   "execution_count": 28,
   "metadata": {},
   "outputs": [],
   "source": [
    "## Correct  Ulos"
   ]
  },
  {
   "cell_type": "markdown",
   "metadata": {},
   "source": [
    " -0.39871976313527907\n",
    " -0.7301475699415844 \n",
    " -0.554893752527226"
   ]
  },
  {
   "cell_type": "code",
   "execution_count": null,
   "metadata": {},
   "outputs": [],
   "source": []
  },
  {
   "cell_type": "code",
   "execution_count": 10,
   "metadata": {},
   "outputs": [
    {
     "data": {
      "text/plain": [
       "approx_los (generic function with 1 method)"
      ]
     },
     "execution_count": 10,
     "metadata": {},
     "output_type": "execute_result"
    }
   ],
   "source": [
    "using LinearAlgebra\n",
    "function approx_los(osv_fit,s1_annn)\n",
    "    theta_0 = s1_annn[\"incidence_angle_mid\"]*pi/180\n",
    "\n",
    "    x_sat = osv_fit[1:3]\n",
    "    v_sat = osv_fit[4:6]\n",
    "\n",
    "    #ECEF basis coordinates\n",
    "    x_hat_ecef = x_sat / sqrt(x_sat'*x_sat) # Towards earth center\n",
    "    z_hat_ecef = v_sat / sqrt(v_sat'*v_sat) # flight direction\n",
    "    y_hat_ecef = cross(z_hat_ecef, x_hat_ecef) # Right handed coordinate system\n",
    "    \n",
    "    # Line of sight ECEF basis\n",
    "    losSat = [-cos(theta_0), sin(theta_0), 0]\n",
    "    \n",
    "    # Basis change matrix from ECEF basis to elipsidal coordinates\n",
    "    m = hcat(x_hat_ecef, y_hat_ecef,z_hat_ecef) \n",
    "    \n",
    "    # Line of sight in Ellipsoidal coordinates\n",
    "    los = m*losSat;\n",
    "\n",
    "    return los\n",
    "end\n"
   ]
  },
  {
   "cell_type": "code",
   "execution_count": 11,
   "metadata": {},
   "outputs": [
    {
     "data": {
      "text/plain": [
       "3-element Array{Float64,1}:\n",
       " -0.356271677770493 \n",
       " -0.7999912912283155\n",
       " -0.4827876191745395"
      ]
     },
     "execution_count": 11,
     "metadata": {},
     "output_type": "execute_result"
    }
   ],
   "source": [
    "approx_los(osv_test,meta)"
   ]
  },
  {
   "cell_type": "code",
   "execution_count": null,
   "metadata": {},
   "outputs": [],
   "source": []
  },
  {
   "cell_type": "code",
   "execution_count": null,
   "metadata": {},
   "outputs": [],
   "source": [
    "range, zeroDopplerTime, osv, s1_annn"
   ]
  },
  {
   "cell_type": "code",
   "execution_count": 15,
   "metadata": {},
   "outputs": [
    {
     "data": {
      "text/plain": [
       "7.067937079742404e6"
      ]
     },
     "execution_count": 15,
     "metadata": {},
     "output_type": "execute_result"
    }
   ],
   "source": [
    "sqrt(osv_test[1:3]'*osv_test[1:3])"
   ]
  },
  {
   "cell_type": "code",
   "execution_count": null,
   "metadata": {},
   "outputs": [],
   "source": [
    "losSat = [-cos(theta0) sin(theta0) 0]'; \n",
    "% SAT1 basis in ECEF coordinates\n",
    "Xhat_ecef = XSat / norm(XSat);\n",
    "Zhat_ecef = VSat / norm(VSat);\n",
    "Yhat_ecef = cross(Zhat_ecef, Xhat_ecef);"
   ]
  },
  {
   "cell_type": "code",
   "execution_count": null,
   "metadata": {},
   "outputs": [],
   "source": []
  },
  {
   "cell_type": "code",
   "execution_count": null,
   "metadata": {},
   "outputs": [],
   "source": []
  }
 ],
 "metadata": {
  "kernelspec": {
   "display_name": "Julia 1.0.4",
   "language": "julia",
   "name": "julia-1.0"
  },
  "language_info": {
   "file_extension": ".jl",
   "mimetype": "application/julia",
   "name": "julia",
   "version": "1.0.4"
  }
 },
 "nbformat": 4,
 "nbformat_minor": 2
}
