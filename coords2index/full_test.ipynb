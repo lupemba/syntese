{
 "cells": [
  {
   "cell_type": "code",
   "execution_count": 1,
   "metadata": {},
   "outputs": [],
   "source": [
    "include(\"load_pod.jl\");\n",
    "include(\"load_s1slc_ann.jl\");"
   ]
  },
  {
   "cell_type": "code",
   "execution_count": 2,
   "metadata": {},
   "outputs": [],
   "source": [
    "f = open(\"ann_path.txt\")\n",
    "path = readlines(f)\n",
    "sar_parameters = load_s1slc_ann(path[1])\n",
    "\n",
    "f = open(\"POD_path.txt\")\n",
    "path = readlines(f)\n",
    "osv,t_sv = load_pod(path[1],sar_parameters[\"t_0\"]);"
   ]
  },
  {
   "cell_type": "code",
   "execution_count": 3,
   "metadata": {},
   "outputs": [
    {
     "data": {
      "text/plain": [
       "4-element Array{Array{Float64,1},1}:\n",
       " [56.5618, 8.30747, 42.753]\n",
       " [56.5623, 8.30691, 43.282]\n",
       " [56.5619, 8.30614, 44.475]\n",
       " [56.0031, 8.1297, 43.5]   "
      ]
     },
     "execution_count": 3,
     "metadata": {},
     "output_type": "execute_result"
    }
   ],
   "source": [
    "llh = [\n",
    "    [(56 + 33/60 + 42.5556/(60*60)),(8 + 18/60 + 26.874/(60*60)), 42.753],\n",
    "    [(56 + 33/60 + 44.4528/(60*60)) ,(8 + 18/60 + 24.865/(60*60)),43.282],\n",
    "    [(56 + 33/60 + 42.8652/(60*60)) ,(8 + 18/60 + 22.104/(60*60)),44.475],\n",
    "    [(56.003092) ,8.129702 ,43.5]\n",
    "]"
   ]
  },
  {
   "cell_type": "code",
   "execution_count": null,
   "metadata": {},
   "outputs": [],
   "source": []
  },
  {
   "cell_type": "code",
   "execution_count": 6,
   "metadata": {},
   "outputs": [
    {
     "data": {
      "text/plain": [
       "llh2sali"
      ]
     },
     "execution_count": 6,
     "metadata": {},
     "output_type": "execute_result"
    }
   ],
   "source": [
    "include(\"llh2sali.jl\")"
   ]
  },
  {
   "cell_type": "code",
   "execution_count": 7,
   "metadata": {},
   "outputs": [
    {
     "data": {
      "text/plain": [
       "4-element Array{Array{Float64,1},1}:\n",
       " [1126.43, 6086.27]\n",
       " [1122.66, 6098.7] \n",
       " [1126.71, 6109.43]\n",
       " [5685.96, 6255.93]"
      ]
     },
     "execution_count": 7,
     "metadata": {},
     "output_type": "execute_result"
    }
   ],
   "source": [
    "llh2sali(llh, osv, t_sv, sar_parameters)"
   ]
  },
  {
   "cell_type": "code",
   "execution_count": null,
   "metadata": {},
   "outputs": [],
   "source": []
  },
  {
   "cell_type": "code",
   "execution_count": null,
   "metadata": {},
   "outputs": [],
   "source": []
  },
  {
   "cell_type": "code",
   "execution_count": null,
   "metadata": {},
   "outputs": [],
   "source": []
  },
  {
   "cell_type": "code",
   "execution_count": null,
   "metadata": {},
   "outputs": [],
   "source": []
  },
  {
   "cell_type": "code",
   "execution_count": 36,
   "metadata": {},
   "outputs": [],
   "source": [
    "include(\"zero_doppler_bisect.jl\")\n",
    "include(\"ellipsoid2xyz.jl\");\n",
    "include(\"calc_sat_trajectory.jl\");\n",
    "include(\"load_pod.jl\");"
   ]
  },
  {
   "cell_type": "code",
   "execution_count": 41,
   "metadata": {},
   "outputs": [],
   "source": [
    "c = 299792458 # speed of light\n",
    "    \n",
    "t_0 = sar_parameters[\"t_0\"]\n",
    "t_start = sar_parameters[\"t_start\"]\n",
    "t_stop = sar_parameters[\"t_stop\"]\n",
    "\n",
    "range_pixel_spacing =  sar_parameters[\"range_pixel_spacing\"]\n",
    "azimuth_frequency =  sar_parameters[\"azimuth_frequency\"] \n",
    "r_near =  sar_parameters[\"slant_range_time\"]  *c/2\n",
    "\n",
    "osv_poly, osv_mean, osv_std = calc_sat_trajectory(osv, t_sv, t_start, t_stop);"
   ]
  },
  {
   "cell_type": "code",
   "execution_count": 48,
   "metadata": {},
   "outputs": [],
   "source": [
    "sali = [Array{Float64}(undef,2) for point in llh]\n",
    "point_xyz = [ellipsoid2xyz(point[1]* pi/180, point[2]* pi/180, point[3]) for point in llh]\n",
    "\n",
    "for i in 1:length(llh)\n",
    "    range, time = zero_doppler_bisect(point_xyz[i], t_start, t_stop,\n",
    "                                    osv_poly, osv_mean, osv_std)\n",
    "    sali[i][1] = 1 + (time - t_start) * azimuth_frequency\n",
    "    sali[i][2] = 1 + (range - r_near) / range_pixel_spacing\n",
    "end\n",
    "\n"
   ]
  },
  {
   "cell_type": "code",
   "execution_count": 49,
   "metadata": {},
   "outputs": [
    {
     "data": {
      "text/plain": [
       "4-element Array{Array{Float64,1},1}:\n",
       " [1126.43, 6086.27]\n",
       " [1122.66, 6098.7] \n",
       " [1126.71, 6109.43]\n",
       " [5685.96, 6255.93]"
      ]
     },
     "execution_count": 49,
     "metadata": {},
     "output_type": "execute_result"
    }
   ],
   "source": [
    "sali"
   ]
  },
  {
   "cell_type": "code",
   "execution_count": 39,
   "metadata": {},
   "outputs": [
    {
     "data": {
      "text/plain": [
       "3.4858680388680836e6"
      ]
     },
     "execution_count": 39,
     "metadata": {},
     "output_type": "execute_result"
    }
   ],
   "source": [
    "point_xyz[1][1]"
   ]
  },
  {
   "cell_type": "code",
   "execution_count": null,
   "metadata": {},
   "outputs": [],
   "source": []
  }
 ],
 "metadata": {
  "kernelspec": {
   "display_name": "Julia 1.0.4",
   "language": "julia",
   "name": "julia-1.0"
  },
  "language_info": {
   "file_extension": ".jl",
   "mimetype": "application/julia",
   "name": "julia",
   "version": "1.0.4"
  }
 },
 "nbformat": 4,
 "nbformat_minor": 2
}
