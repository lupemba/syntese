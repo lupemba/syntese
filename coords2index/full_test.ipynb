{
 "cells": [
  {
   "cell_type": "code",
   "execution_count": 1,
   "metadata": {},
   "outputs": [
    {
     "data": {
      "text/plain": [
       "llh2sali (generic function with 1 method)"
      ]
     },
     "execution_count": 1,
     "metadata": {},
     "output_type": "execute_result"
    }
   ],
   "source": [
    "include(\"load_pod.jl\");\n",
    "include(\"load_s1slc_ann.jl\");\n",
    "include(\"calc_sat_trajectory.jl\");\n",
    "include(\"llh2sali.jl\")"
   ]
  },
  {
   "cell_type": "code",
   "execution_count": 2,
   "metadata": {
    "scrolled": false
   },
   "outputs": [],
   "source": [
    "llh = [\n",
    "    [(56 + 33/60 + 42.5556/(60*60)),(8 + 18/60 + 26.874/(60*60)), 42.753],\n",
    "    [(56 + 33/60 + 44.4528/(60*60)) ,(8 + 18/60 + 24.865/(60*60)),43.282],\n",
    "    [(56 + 33/60 + 42.8652/(60*60)) ,(8 + 18/60 + 22.104/(60*60)),44.475],\n",
    "    [(56.003092) ,8.129702 ,43.5]\n",
    "];\n",
    "llh_cat = vcat(llh'...);"
   ]
  },
  {
   "cell_type": "code",
   "execution_count": 3,
   "metadata": {},
   "outputs": [],
   "source": [
    "lat_max = 5.666818777336966e+01\n",
    "lon_max = 8.692126035601964e+00;"
   ]
  },
  {
   "cell_type": "code",
   "execution_count": 4,
   "metadata": {},
   "outputs": [],
   "source": [
    "lat_min = 5.514243624845066e+01\n",
    "lon_min = 6.863612098279713e+00;"
   ]
  },
  {
   "cell_type": "code",
   "execution_count": 5,
   "metadata": {},
   "outputs": [],
   "source": [
    "lat = collect(range(lat_min, length=1000, stop=lat_max));\n",
    "lon = collect(range(lon_min, length=1000, stop=lon_max));"
   ]
  },
  {
   "cell_type": "code",
   "execution_count": 6,
   "metadata": {},
   "outputs": [],
   "source": [
    "test_points = [[lat_i,lon_i,rand()*20+20]  for lat_i in lat, lon_i in lon]\n",
    "test_points=reshape(test_points,:);\n",
    "test_points_cat = vcat(test_points'...);"
   ]
  },
  {
   "cell_type": "code",
   "execution_count": 7,
   "metadata": {},
   "outputs": [],
   "source": [
    "f = open(\"ann_path.txt\")\n",
    "path = readlines(f)\n",
    "sar_parameters = load_s1slc_ann(path[1]);"
   ]
  },
  {
   "cell_type": "markdown",
   "metadata": {},
   "source": [
    "## Test"
   ]
  },
  {
   "cell_type": "code",
   "execution_count": 8,
   "metadata": {},
   "outputs": [],
   "source": [
    "f = open(\"POD_path.txt\")\n",
    "path = readlines(f)\n",
    "osv,t_sv = load_pod(path[1],sar_parameters[\"t_0\"]);"
   ]
  },
  {
   "cell_type": "code",
   "execution_count": 9,
   "metadata": {},
   "outputs": [
    {
     "name": "stdout",
     "output_type": "stream",
     "text": [
      "  3.071266 seconds (10.91 M allocations: 547.131 MiB, 6.84% gc time)\n"
     ]
    },
    {
     "data": {
      "text/plain": [
       "4×2 Array{Float64,2}:\n",
       " 1126.43  6086.27\n",
       " 1122.66  6098.7 \n",
       " 1126.71  6109.43\n",
       " 5685.96  6255.93"
      ]
     },
     "execution_count": 9,
     "metadata": {},
     "output_type": "execute_result"
    }
   ],
   "source": [
    "@time llh2sali(llh_cat, osv, t_sv, sar_parameters)"
   ]
  },
  {
   "cell_type": "code",
   "execution_count": 10,
   "metadata": {},
   "outputs": [
    {
     "name": "stdout",
     "output_type": "stream",
     "text": [
      "  8.992724 seconds (182.00 M allocations: 16.124 GiB, 12.39% gc time)\n"
     ]
    }
   ],
   "source": [
    "@time llh2sali(test_points_cat, osv, t_sv, sar_parameters);"
   ]
  },
  {
   "cell_type": "code",
   "execution_count": null,
   "metadata": {},
   "outputs": [],
   "source": []
  }
 ],
 "metadata": {
  "kernelspec": {
   "display_name": "Julia 1.0.4",
   "language": "julia",
   "name": "julia-1.0"
  },
  "language_info": {
   "file_extension": ".jl",
   "mimetype": "application/julia",
   "name": "julia",
   "version": "1.0.4"
  }
 },
 "nbformat": 4,
 "nbformat_minor": 2
}
