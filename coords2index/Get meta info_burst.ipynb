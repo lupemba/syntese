{
 "cells": [
  {
   "cell_type": "code",
   "execution_count": 1,
   "metadata": {},
   "outputs": [],
   "source": [
    "include(\"load_s1slc_ann.jl\");\n"
   ]
  },
  {
   "cell_type": "code",
   "execution_count": 2,
   "metadata": {},
   "outputs": [
    {
     "data": {
      "text/plain": [
       "1-element Array{String,1}:\n",
       " \"/Users/simon/Data/Sentinel/S1B_IW_SLC__1SDV_20170315T053950_20170315T054018_004715_0083B0_7EE9.SAFE/annotation/s1b-iw3-slc-vv-20170315t053950-20170315t054018-004715-0083b0-006.xml\""
      ]
     },
     "execution_count": 2,
     "metadata": {},
     "output_type": "execute_result"
    }
   ],
   "source": [
    "f = open(\"ann_path.txt\")\n",
    "path = readlines(f)"
   ]
  },
  {
   "cell_type": "code",
   "execution_count": 3,
   "metadata": {},
   "outputs": [
    {
     "data": {
      "text/plain": [
       "Dict{String,Any} with 10 entries:\n",
       "  \"slant_range_time\"    => 0.00602248\n",
       "  \"burst_count\"         => 10\n",
       "  \"range_pixel_spacing\" => 2.32956\n",
       "  \"t_start\"             => 50.7031\n",
       "  \"azimuth_frequency\"   => 486.486\n",
       "  \"t_stop\"              => 78.6587\n",
       "  \"lines_per_burst\"     => 1524\n",
       "  \"samples_per_burst\"   => 25330\n",
       "  \"t_0\"                 => 2017-03-15T05:39:00\n",
       "  \"burst_meta\"          => Dict{String,Any}(\"first_line_mosaic\"=>[1, 1343, 2684…"
      ]
     },
     "execution_count": 3,
     "metadata": {},
     "output_type": "execute_result"
    }
   ],
   "source": [
    "meta = load_s1slc_ann(path[1])"
   ]
  },
  {
   "cell_type": "code",
   "execution_count": null,
   "metadata": {},
   "outputs": [],
   "source": []
  },
  {
   "cell_type": "code",
   "execution_count": 7,
   "metadata": {},
   "outputs": [],
   "source": [
    "import EzXML\n",
    "import XMLDict\n",
    "include(\"convert_time.jl\");"
   ]
  },
  {
   "cell_type": "code",
   "execution_count": 5,
   "metadata": {},
   "outputs": [
    {
     "data": {
      "text/plain": [
       "load_s1_ann (generic function with 1 method)"
      ]
     },
     "execution_count": 5,
     "metadata": {},
     "output_type": "execute_result"
    }
   ],
   "source": [
    "\n",
    "\n",
    "function load_s1_ann(path)\n",
    "    ## open xml files\n",
    "    doc = EzXML.readxml(path)\n",
    "    meta_dict = XMLDict.xml_dict(doc)\n",
    "    \n",
    "    # Create empty dict for results\n",
    "    s1_meta  = Dict{String,Any}()\n",
    "    burst_meta  = Dict{String,Any}()\n",
    "    \n",
    "    # get start and stop time\n",
    "    t_start = meta_dict[\"product\"][\"adsHeader\"][\"startTime\"]\n",
    "    t_stop = meta_dict[\"product\"][\"adsHeader\"][\"stopTime\" ]\n",
    "    s1_meta[\"t_0\"] = str2date(t_start)\n",
    "    s1_meta[\"t_start\"] = str_date2float(t_start,s1_meta[\"t_0\"])\n",
    "    s1_meta[\"t_stop\"] = str_date2float(t_stop,s1_meta[\"t_0\"]);\n",
    "    \n",
    "    # get infor for \"imageInformation\"\n",
    "    img_info = meta_dict[\"product\"][\"imageAnnotation\"][\"imageInformation\"];\n",
    "    s1_meta[\"range_pixel_spacing\"] = parse(Float64,img_info[\"rangePixelSpacing\"])\n",
    "    s1_meta[\"azimuth_frequency\"] = parse(Float64,img_info[\"azimuthFrequency\"])\n",
    "    \n",
    "    # Get infor about burst\n",
    "    swath_timing = meta_dict[\"product\"][\"swathTiming\"]\n",
    "    s1_meta[\"lines_per_burst\"] =  parse(Int,swath_timing[\"linesPerBurst\"])\n",
    "    s1_meta[\"samples_per_burst\"] =  parse(Int,swath_timing[\"samplesPerBurst\"])\n",
    "    s1_meta[\"burst_count\"] = parse(Int,swath_timing[\"burstList\"][:count])\n",
    "    \n",
    "    # Get info for each burst\n",
    "    burst = swath_timing[\"burstList\"][\"burst\"]\n",
    "    burst_meta[\"burst_times\"] = [str_date2float(elem[\"azimuthTime\"],s1_meta[\"t_0\"]) for elem in burst]\n",
    "    burst_meta[\"fist_valid_pixel\"] = [parse.(Int,split(elem[\"firstValidSample\"][\"\"])) for elem in burst]\n",
    "    burst_meta[\"last_valid_pixel\"] = [parse.(Int,split(elem[\"lastValidSample\"][\"\"])) for elem in burst];\n",
    "    \n",
    "    # create a array with info about what line the first line in each burst corrosponds to in a mosaic\n",
    "    first_line_mosaic = 1 .+(burst_meta[\"burst_times\"] .- s1_meta[\"t_start\"]) .*s1_meta[\"azimuth_frequency\"]\n",
    "    burst_meta[\"first_line_mosaic\"] = round.(Int,first_line_mosaic)\n",
    "    \n",
    "    # collect info about bursts\n",
    "    s1_meta[\"burst_meta\"] = burst_meta\n",
    "    \n",
    "    return s1_meta\n",
    "end\n",
    "    "
   ]
  },
  {
   "cell_type": "code",
   "execution_count": 6,
   "metadata": {},
   "outputs": [
    {
     "data": {
      "text/plain": [
       "1-element Array{String,1}:\n",
       " \"/Users/simon/Data/Sentinel/S1B_IW_SLC__1SDV_20170315T053950_20170315T054018_004715_0083B0_7EE9.SAFE/annotation/s1b-iw3-slc-vv-20170315t053950-20170315t054018-004715-0083b0-006.xml\""
      ]
     },
     "execution_count": 6,
     "metadata": {},
     "output_type": "execute_result"
    }
   ],
   "source": [
    "f = open(\"ann_path.txt\")\n",
    "path = readlines(f)"
   ]
  },
  {
   "cell_type": "code",
   "execution_count": 7,
   "metadata": {},
   "outputs": [
    {
     "data": {
      "text/plain": [
       "Dict{String,Any} with 9 entries:\n",
       "  \"burst_count\"         => 10\n",
       "  \"range_pixel_spacing\" => 2.32956\n",
       "  \"t_start\"             => 50.7031\n",
       "  \"azimuth_frequency\"   => 486.486\n",
       "  \"t_stop\"              => 78.6587\n",
       "  \"lines_per_burst\"     => 1524\n",
       "  \"samples_per_burst\"   => 25330\n",
       "  \"t_0\"                 => 2017-03-15T05:39:00\n",
       "  \"burst_meta\"          => Dict{String,Any}(\"first_line_mosaic\"=>[1, 1343, 2684…"
      ]
     },
     "execution_count": 7,
     "metadata": {},
     "output_type": "execute_result"
    }
   ],
   "source": [
    "meta = load_s1_ann(path[1]) "
   ]
  },
  {
   "cell_type": "code",
   "execution_count": null,
   "metadata": {},
   "outputs": [],
   "source": []
  },
  {
   "cell_type": "markdown",
   "metadata": {},
   "source": [
    "## Open dict and play around"
   ]
  },
  {
   "cell_type": "code",
   "execution_count": null,
   "metadata": {},
   "outputs": [],
   "source": []
  },
  {
   "cell_type": "code",
   "execution_count": 1,
   "metadata": {},
   "outputs": [
    {
     "data": {
      "text/plain": [
       "\"/Users/simon/Data/Sentinel/S1B_IW_SLC__1SDV_20170315T053950_20170315T054018_004715_0083B0_7EE9.SAFE/annotation/s1b-iw3-slc-vv-20170315t053950-20170315t054018-004715-0083b0-006.xml\""
      ]
     },
     "execution_count": 1,
     "metadata": {},
     "output_type": "execute_result"
    }
   ],
   "source": [
    "f = open(\"ann_path.txt\")\n",
    "path = readlines(f)\n",
    "path[1]"
   ]
  },
  {
   "cell_type": "code",
   "execution_count": 8,
   "metadata": {},
   "outputs": [
    {
     "data": {
      "text/plain": [
       "OrderedCollections.OrderedDict{Any,Any} with 3 entries:\n",
       "  :version  => \"1.0\"\n",
       "  :encoding => \"UTF-8\"\n",
       "  \"product\" => OrderedCollections.OrderedDict{Any,Any}(\"adsHeader\"=>OrderedColl…"
      ]
     },
     "execution_count": 8,
     "metadata": {},
     "output_type": "execute_result"
    }
   ],
   "source": [
    "doc = EzXML.readxml(path[1])\n",
    "meta_dict = XMLDict.xml_dict(doc)"
   ]
  },
  {
   "cell_type": "code",
   "execution_count": 9,
   "metadata": {},
   "outputs": [],
   "source": [
    "include(\"convert_time.jl\");"
   ]
  },
  {
   "cell_type": "code",
   "execution_count": 10,
   "metadata": {},
   "outputs": [
    {
     "data": {
      "text/plain": [
       "Dict{String,Any} with 0 entries"
      ]
     },
     "execution_count": 10,
     "metadata": {},
     "output_type": "execute_result"
    }
   ],
   "source": [
    "s1_meta  = Dict{String,Any}()"
   ]
  },
  {
   "cell_type": "code",
   "execution_count": 11,
   "metadata": {},
   "outputs": [
    {
     "data": {
      "text/plain": [
       "43.593281616654"
      ]
     },
     "execution_count": 11,
     "metadata": {},
     "output_type": "execute_result"
    }
   ],
   "source": [
    "t_start = meta_dict[\"product\"][\"adsHeader\"][\"startTime\"]\n",
    "t_stop = meta_dict[\"product\"][\"adsHeader\"][\"stopTime\" ]\n",
    "s1_meta[\"t_0\"] = str2date(t_start)\n",
    "s1_meta[\"t_start\"] = str_date2float(t_start,s1_meta[\"t_0\"])\n",
    "s1_meta[\"t_stop\"] = str_date2float(t_stop,s1_meta[\"t_0\"]);\n",
    "\n",
    "img_info = meta_dict[\"product\"][\"imageAnnotation\"][\"imageInformation\"];\n",
    "s1_meta[\"range_pixel_spacing\"] = parse(Float64,img_info[\"rangePixelSpacing\"])\n",
    "s1_meta[\"azimuth_frequency\"] = parse(Float64,img_info[\"azimuthFrequency\"])\n",
    "s1_meta[\"incidence_angle_mid\"] = parse(Float64,img_info[\"incidenceAngleMidSwath\"])"
   ]
  },
  {
   "cell_type": "code",
   "execution_count": 12,
   "metadata": {},
   "outputs": [
    {
     "data": {
      "text/plain": [
       "OrderedCollections.OrderedDict{Any,Any} with 9 entries:\n",
       "  \"productInformation\"      => OrderedCollections.OrderedDict{Any,Any}(\"pass\"=>…\n",
       "  \"downlinkInformationList\" => OrderedCollections.OrderedDict{Any,Any}(:count=>…\n",
       "  \"orbitList\"               => OrderedCollections.OrderedDict{Any,Any}(:count=>…\n",
       "  \"attitudeList\"            => OrderedCollections.OrderedDict{Any,Any}(:count=>…\n",
       "  \"rawDataAnalysisList\"     => OrderedCollections.OrderedDict{Any,Any}(:count=>…\n",
       "  \"replicaInformationList\"  => OrderedCollections.OrderedDict{Any,Any}(:count=>…\n",
       "  \"noiseList\"               => OrderedCollections.OrderedDict{Any,Any}(:count=>…\n",
       "  \"terrainHeightList\"       => OrderedCollections.OrderedDict{Any,Any}(:count=>…\n",
       "  \"azimuthFmRateList\"       => OrderedCollections.OrderedDict{Any,Any}(:count=>…"
      ]
     },
     "execution_count": 12,
     "metadata": {},
     "output_type": "execute_result"
    }
   ],
   "source": [
    "meta_dict[\"product\"][\"generalAnnotation\" ]"
   ]
  },
  {
   "cell_type": "code",
   "execution_count": 13,
   "metadata": {},
   "outputs": [
    {
     "data": {
      "text/plain": [
       "OrderedCollections.OrderedDict{Any,Any} with 10 entries:\n",
       "  \"missionId\"           => \"S1B\"\n",
       "  \"productType\"         => \"SLC\"\n",
       "  \"polarisation\"        => \"VV\"\n",
       "  \"mode\"                => \"IW\"\n",
       "  \"swath\"               => \"IW3\"\n",
       "  \"startTime\"           => \"2017-03-15T05:39:50.703105\"\n",
       "  \"stopTime\"            => \"2017-03-15T05:40:18.658671\"\n",
       "  \"absoluteOrbitNumber\" => \"4715\"\n",
       "  \"missionDataTakeId\"   => \"33712\"\n",
       "  \"imageNumber\"         => \"006\""
      ]
     },
     "execution_count": 13,
     "metadata": {},
     "output_type": "execute_result"
    }
   ],
   "source": [
    "meta_dict[\"product\"][\"adsHeader\"]"
   ]
  },
  {
   "cell_type": "code",
   "execution_count": 14,
   "metadata": {},
   "outputs": [
    {
     "data": {
      "text/plain": [
       "OrderedCollections.OrderedDict{Any,Any} with 19 entries:\n",
       "  \"productFirstLineUtcTime\" => \"2017-03-15T05:39:50.703105\"\n",
       "  \"productLastLineUtcTime\"  => \"2017-03-15T05:40:18.658671\"\n",
       "  \"ascendingNodeTime\"       => \"2017-03-15T05:05:57.686857\"\n",
       "  \"anchorTime\"              => \"2017-03-15T05:34:48.489923\"\n",
       "  \"productComposition\"      => \"Slice\"\n",
       "  \"sliceNumber\"             => \"13\"\n",
       "  \"sliceList\"               => OrderedCollections.OrderedDict{Any,Any}(:count=>…\n",
       "  \"slantRangeTime\"          => \"6.022480032448950e-03\"\n",
       "  \"pixelValue\"              => \"Complex\"\n",
       "  \"outputPixels\"            => \"16 bit Signed Integer\"\n",
       "  \"rangePixelSpacing\"       => \"2.329562e+00\"\n",
       "  \"azimuthPixelSpacing\"     => \"1.384746e+01\"\n",
       "  \"azimuthTimeInterval\"     => \"2.055556299999998e-03\"\n",
       "  \"azimuthFrequency\"        => \"4.864863102995529e+02\"\n",
       "  \"numberOfSamples\"         => \"25330\"\n",
       "  \"numberOfLines\"           => \"15240\"\n",
       "  \"zeroDopMinusAcqTime\"     => \"2.995119970000000e+02\"\n",
       "  \"incidenceAngleMidSwath\"  => \"4.359328161665400e+01\"\n",
       "  \"imageStatistics\"         => OrderedCollections.OrderedDict{Any,Any}(\"outputD…"
      ]
     },
     "execution_count": 14,
     "metadata": {},
     "output_type": "execute_result"
    }
   ],
   "source": [
    "img_info "
   ]
  },
  {
   "cell_type": "code",
   "execution_count": 15,
   "metadata": {},
   "outputs": [
    {
     "data": {
      "text/plain": [
       "Dict{String,Any} with 6 entries:\n",
       "  \"incidence_angle_mid\" => 43.5933\n",
       "  \"range_pixel_spacing\" => 2.32956\n",
       "  \"t_start\"             => 50.7031\n",
       "  \"azimuth_frequency\"   => 486.486\n",
       "  \"t_stop\"              => 78.6587\n",
       "  \"t_0\"                 => 2017-03-15T05:39:00"
      ]
     },
     "execution_count": 15,
     "metadata": {},
     "output_type": "execute_result"
    }
   ],
   "source": [
    "s1_meta"
   ]
  },
  {
   "cell_type": "code",
   "execution_count": 16,
   "metadata": {},
   "outputs": [
    {
     "data": {
      "text/plain": [
       "10"
      ]
     },
     "execution_count": 16,
     "metadata": {},
     "output_type": "execute_result"
    }
   ],
   "source": [
    "swath_timing = meta_dict[\"product\"][\"swathTiming\"]\n",
    "s1_meta[\"lines_per_burst\"] =  parse(Int,swath_timing[\"linesPerBurst\"])\n",
    "s1_meta[\"samples_per_burst\"] =  parse(Int,swath_timing[\"samplesPerBurst\"])\n",
    "s1_meta[\"burst_count\"] = parse(Int,swath_timing[\"burstList\"][:count])\n"
   ]
  },
  {
   "cell_type": "code",
   "execution_count": 17,
   "metadata": {},
   "outputs": [],
   "source": [
    "burst_meta  = Dict{String,Any}()\n",
    "burst = swath_timing[\"burstList\"][\"burst\"]\n",
    "burst_meta[\"burst_times\"] = [str_date2float(elem[\"azimuthTime\"],s1_meta[\"t_0\"]) for elem in burst]\n",
    "burst_meta[\"fist_valid_pixel\"] = [parse.(Int,split(elem[\"firstValidSample\"][\"\"])) for elem in burst]\n",
    "burst_meta[\"last_valid_pixel\"] = [parse.(Int,split(elem[\"lastValidSample\"][\"\"])) for elem in burst];\n",
    "first_line_mosaic = 1 .+(burst_meta[\"burst_times\"] .- s1_meta[\"t_start\"]) .*s1_meta[\"azimuth_frequency\"]\n",
    "burst_meta[\"first_line_mosaic\"] = round.(Int,first_line_mosaic)\n",
    "burst_meta[\"last_line_mosaic\"] = burst_meta[\"first_line_mosaic\"].+s1_meta[\"lines_per_burst\"].-1 \n",
    "s1_meta[\"burst_meta\"] = burst_meta;\n",
    "\n",
    "\n",
    "\n",
    "\n"
   ]
  },
  {
   "cell_type": "code",
   "execution_count": 31,
   "metadata": {},
   "outputs": [
    {
     "data": {
      "text/plain": [
       "10-element Array{Float64,1}:\n",
       " 50.703105\n",
       " 53.461662\n",
       " 56.218163\n",
       " 58.978775\n",
       " 61.735276\n",
       " 64.493832\n",
       " 67.254444\n",
       " 70.00889 \n",
       " 72.767446\n",
       " 75.528058"
      ]
     },
     "execution_count": 31,
     "metadata": {},
     "output_type": "execute_result"
    }
   ],
   "source": [
    "burst_meta[\"burst_times\"]"
   ]
  },
  {
   "cell_type": "code",
   "execution_count": 34,
   "metadata": {},
   "outputs": [
    {
     "data": {
      "text/plain": [
       "57"
      ]
     },
     "execution_count": 34,
     "metadata": {},
     "output_type": "execute_result"
    }
   ],
   "source": [
    "t_test = 57"
   ]
  },
  {
   "cell_type": "code",
   "execution_count": 55,
   "metadata": {},
   "outputs": [
    {
     "data": {
      "text/plain": [
       "3064.353214893703"
      ]
     },
     "execution_count": 55,
     "metadata": {},
     "output_type": "execute_result"
    }
   ],
   "source": [
    "line =  1 .+(t_test .- s1_meta[\"t_start\"]) .*s1_meta[\"azimuth_frequency\"]"
   ]
  },
  {
   "cell_type": "code",
   "execution_count": 56,
   "metadata": {},
   "outputs": [
    {
     "data": {
      "text/plain": [
       "381.352997385673"
      ]
     },
     "execution_count": 56,
     "metadata": {},
     "output_type": "execute_result"
    }
   ],
   "source": [
    "line_2 =  1 .+(t_test .- burst_meta[\"burst_times\"][3]) .*s1_meta[\"azimuth_frequency\"]"
   ]
  },
  {
   "cell_type": "code",
   "execution_count": 57,
   "metadata": {},
   "outputs": [
    {
     "data": {
      "text/plain": [
       "3429.352997385673"
      ]
     },
     "execution_count": 57,
     "metadata": {},
     "output_type": "execute_result"
    }
   ],
   "source": [
    "line_true = line_2 + (3-1)*s1_meta[\"lines_per_burst\"]"
   ]
  },
  {
   "cell_type": "code",
   "execution_count": 58,
   "metadata": {},
   "outputs": [
    {
     "data": {
      "text/plain": [
       "3429.352997385673"
      ]
     },
     "execution_count": 58,
     "metadata": {},
     "output_type": "execute_result"
    }
   ],
   "source": [
    "line + (3-1)*s1_meta[\"lines_per_burst\"]-( burst_meta[\"burst_times\"][3]-s1_meta[\"t_start\"]) .*s1_meta[\"azimuth_frequency\"]"
   ]
  },
  {
   "cell_type": "code",
   "execution_count": 52,
   "metadata": {},
   "outputs": [
    {
     "data": {
      "text/plain": [
       "364.9997824919701"
      ]
     },
     "execution_count": 52,
     "metadata": {},
     "output_type": "execute_result"
    }
   ],
   "source": []
  },
  {
   "cell_type": "code",
   "execution_count": 30,
   "metadata": {},
   "outputs": [
    {
     "data": {
      "text/plain": [
       "9-element Array{Int64,1}:\n",
       " 2866\n",
       " 2865\n",
       " 2867\n",
       " 2865\n",
       " 2866\n",
       " 2867\n",
       " 2864\n",
       " 2866\n",
       " 2867"
      ]
     },
     "execution_count": 30,
     "metadata": {},
     "output_type": "execute_result"
    }
   ],
   "source": [
    "s1_meta[\"burst_meta\"][\"last_line_mosaic\"][2:end].+1 .- s1_meta[\"burst_meta\"][\"first_line_mosaic\"][1:end-1]"
   ]
  },
  {
   "cell_type": "code",
   "execution_count": 11,
   "metadata": {},
   "outputs": [
    {
     "data": {
      "text/plain": [
       "Dict{String,Any} with 9 entries:\n",
       "  \"burst_count\"         => 10\n",
       "  \"range_pixel_spacing\" => 2.32956\n",
       "  \"t_start\"             => 50.7031\n",
       "  \"azimuth_frequency\"   => 486.486\n",
       "  \"t_stop\"              => 78.6587\n",
       "  \"lines_per_burst\"     => 1524\n",
       "  \"samples_per_burst\"   => 25330\n",
       "  \"t_0\"                 => 2017-03-15T05:39:00\n",
       "  \"burst_meta\"          => Dict{String,Any}(\"first_line_mosaic\"=>[1, 1343, 2684…"
      ]
     },
     "execution_count": 11,
     "metadata": {},
     "output_type": "execute_result"
    }
   ],
   "source": [
    "s1_meta"
   ]
  },
  {
   "cell_type": "code",
   "execution_count": 12,
   "metadata": {},
   "outputs": [],
   "source": [
    "geolocation_list = meta_dict[\"product\"][\"geolocationGrid\"][\"geolocationGridPointList\"][\"geolocationGridPoint\"];"
   ]
  },
  {
   "cell_type": "code",
   "execution_count": 13,
   "metadata": {},
   "outputs": [
    {
     "data": {
      "text/plain": [
       "OrderedCollections.OrderedDict{Any,Any} with 9 entries:\n",
       "  \"azimuthTime\"    => \"2017-03-15T05:39:50.703188\"\n",
       "  \"slantRangeTime\" => \"6.022480032448950e-03\"\n",
       "  \"line\"           => \"0\"\n",
       "  \"pixel\"          => \"0\"\n",
       "  \"latitude\"       => \"5.666818777336966e+01\"\n",
       "  \"longitude\"      => \"8.692126035601964e+00\"\n",
       "  \"height\"         => \"2.409324931888545e+01\"\n",
       "  \"incidenceAngle\" => \"4.116274590658306e+01\"\n",
       "  \"elevationAngle\" => \"3.634029280172153e+01\""
      ]
     },
     "execution_count": 13,
     "metadata": {},
     "output_type": "execute_result"
    }
   ],
   "source": [
    "geolocation_list[1]"
   ]
  },
  {
   "cell_type": "code",
   "execution_count": 14,
   "metadata": {},
   "outputs": [
    {
     "data": {
      "text/plain": [
       "Dict{String,Any} with 0 entries"
      ]
     },
     "execution_count": 14,
     "metadata": {},
     "output_type": "execute_result"
    }
   ],
   "source": [
    "geolocation_dict  = Dict{String,Any}()"
   ]
  },
  {
   "cell_type": "code",
   "execution_count": 15,
   "metadata": {},
   "outputs": [],
   "source": [
    "geolocation_dict[\"line\"] = [parse(Int,elem[\"line\"]) for elem in geolocation_list];\n",
    "geolocation_dict[\"sample\"] = [parse(Int,elem[\"pixel\"]) for elem in geolocation_list];\n",
    "geolocation_dict[\"latitude\"] = [parse(Float64,elem[\"latitude\"]) for elem in geolocation_list];\n",
    "geolocation_dict[\"longitude\"] = [parse(Float64,elem[\"longitude\"]) for elem in geolocation_list];"
   ]
  },
  {
   "cell_type": "code",
   "execution_count": 16,
   "metadata": {},
   "outputs": [
    {
     "data": {
      "text/plain": [
       "56.7901456330701"
      ]
     },
     "execution_count": 16,
     "metadata": {},
     "output_type": "execute_result"
    }
   ],
   "source": [
    "maximum(geolocation_dict[\"latitude\"])"
   ]
  },
  {
   "cell_type": "code",
   "execution_count": 17,
   "metadata": {},
   "outputs": [
    {
     "data": {
      "text/plain": [
       "55.02123074846773"
      ]
     },
     "execution_count": 17,
     "metadata": {},
     "output_type": "execute_result"
    }
   ],
   "source": [
    "minimum(geolocation_dict[\"latitude\"])"
   ]
  },
  {
   "cell_type": "code",
   "execution_count": 18,
   "metadata": {},
   "outputs": [
    {
     "data": {
      "text/plain": [
       "Dict{String,Any} with 4 entries:\n",
       "  \"line\"      => [0, 0, 0, 0, 0, 0, 0, 0, 0, 0  …  15240, 15240, 15240, 15240, …\n",
       "  \"latitude\"  => [56.6682, 56.6749, 56.6816, 56.6882, 56.6947, 56.7012, 56.7075…\n",
       "  \"longitude\" => [8.69213, 8.62024, 8.54869, 8.47746, 8.40655, 8.33594, 8.26564…\n",
       "  \"sample\"    => [0, 1267, 2534, 3801, 5068, 6335, 7602, 8869, 10136, 11403  … …"
      ]
     },
     "execution_count": 18,
     "metadata": {},
     "output_type": "execute_result"
    }
   ],
   "source": [
    "s1_meta[\"geolocation\"] = geolocation_dict"
   ]
  },
  {
   "cell_type": "code",
   "execution_count": 38,
   "metadata": {},
   "outputs": [
    {
     "data": {
      "text/plain": [
       "OrderedCollections.OrderedDict{Any,Any} with 7 entries:\n",
       "  \"pass\"                => \"Descending\"\n",
       "  \"timelinessCategory\"  => \"Fast-24h\"\n",
       "  \"platformHeading\"     => \"-1.636512441741978e+02\"\n",
       "  \"projection\"          => \"Slant Range\"\n",
       "  \"rangeSamplingRate\"   => \"6.434523812571428e+07\"\n",
       "  \"radarFrequency\"      => \"5.405000454334350e+09\"\n",
       "  \"azimuthSteeringRate\" => \"1.397440818000000e+00\""
      ]
     },
     "execution_count": 38,
     "metadata": {},
     "output_type": "execute_result"
    }
   ],
   "source": [
    "meta_dict[\"product\"][\"generalAnnotation\"][\"productInformation\"]"
   ]
  },
  {
   "cell_type": "code",
   "execution_count": 36,
   "metadata": {},
   "outputs": [
    {
     "data": {
      "text/plain": [
       "\"Descending\""
      ]
     },
     "execution_count": 36,
     "metadata": {},
     "output_type": "execute_result"
    }
   ],
   "source": [
    "s1_meta[\"mission_id\"] = meta_dict[\"product\"][\"adsHeader\"][\"missionId\"]\n",
    "s1_meta[\"product_type\"] = meta_dict[\"product\"][\"adsHeader\"][\"productType\"]\n",
    "s1_meta[\"polarisation\"] = meta_dict[\"product\"][\"adsHeader\"][\"polarisation\"]\n",
    "s1_meta[\"mode\"] = meta_dict[\"product\"][\"adsHeader\"][\"mode\"]\n",
    "s1_meta[\"swath\"] = parse(Int, string(meta_dict[\"product\"][\"adsHeader\"][\"swath\"][end]))\n",
    "s1_meta[\"image_number\"] = meta_dict[\"product\"][\"adsHeader\"][\"imageNumber\"]\n",
    "s1_meta[\"absolute_orbit_number\"] = meta_dict[\"product\"][\"adsHeader\"][\"absoluteOrbitNumber\"]\n",
    "s1_meta[\"mission_data_id\"] = meta_dict[\"product\"][\"adsHeader\"][\"missionDataTakeId\"]\n",
    "s1_meta[\"pass\"] = meta_dict[\"product\"][\"generalAnnotation\"][\"productInformation\"][\"pass\"]\n"
   ]
  },
  {
   "cell_type": "code",
   "execution_count": 37,
   "metadata": {},
   "outputs": [
    {
     "data": {
      "text/plain": [
       "Dict{String,Any} with 19 entries:\n",
       "  \"image_number\"          => \"006\"\n",
       "  \"mode\"                  => \"IW\"\n",
       "  \"mission_data_id\"       => \"33712\"\n",
       "  \"burst_meta\"            => Dict{String,Any}(\"first_line_mosaic\"=>[1, 1343, 26…\n",
       "  \"samples_per_burst\"     => 25330\n",
       "  \"geolocation\"           => Dict{String,Any}(\"line\"=>[0, 0, 0, 0, 0, 0, 0, 0, …\n",
       "  \"polarisation\"          => \"VV\"\n",
       "  \"absolute_orbit_number\" => \"4715\"\n",
       "  \"t_start\"               => 50.7031\n",
       "  \"azimuth_frequency\"     => 486.486\n",
       "  \"t_stop\"                => 78.6587\n",
       "  \"pass\"                  => \"Descending\"\n",
       "  \"mission_id\"            => \"S1B\"\n",
       "  \"product_type\"          => \"SLC\"\n",
       "  \"burst_count\"           => 10\n",
       "  \"range_pixel_spacing\"   => 2.32956\n",
       "  \"lines_per_burst\"       => 1524\n",
       "  \"t_0\"                   => 2017-03-15T05:39:00\n",
       "  \"swath\"                 => 3"
      ]
     },
     "execution_count": 37,
     "metadata": {},
     "output_type": "execute_result"
    }
   ],
   "source": [
    "s1_meta"
   ]
  },
  {
   "cell_type": "code",
   "execution_count": null,
   "metadata": {},
   "outputs": [],
   "source": []
  },
  {
   "cell_type": "code",
   "execution_count": 50,
   "metadata": {},
   "outputs": [
    {
     "data": {
      "text/plain": [
       "231"
      ]
     },
     "execution_count": 50,
     "metadata": {},
     "output_type": "execute_result"
    }
   ],
   "source": [
    "length(s1_meta[\"geolocation\"][\"line\"])"
   ]
  },
  {
   "cell_type": "code",
   "execution_count": 52,
   "metadata": {
    "scrolled": true
   },
   "outputs": [
    {
     "data": {
      "text/plain": [
       "12"
      ]
     },
     "execution_count": 52,
     "metadata": {},
     "output_type": "execute_result"
    }
   ],
   "source": [
    "index1 = 100 .< s1_meta[\"geolocation\"][\"line\"] .<5000\n",
    "index2 = 5000 .< s1_meta[\"geolocation\"][\"sample\"] .<10000\n",
    "index = index1 .& index2\n",
    "sum(index)"
   ]
  },
  {
   "cell_type": "code",
   "execution_count": 54,
   "metadata": {},
   "outputs": [
    {
     "data": {
      "text/plain": [
       "56.7901456330701"
      ]
     },
     "execution_count": 54,
     "metadata": {},
     "output_type": "execute_result"
    }
   ],
   "source": [
    "lat_max = maximum(s1_meta[\"geolocation\"][\"latitude\"])"
   ]
  },
  {
   "cell_type": "code",
   "execution_count": null,
   "metadata": {},
   "outputs": [],
   "source": []
  },
  {
   "cell_type": "code",
   "execution_count": 32,
   "metadata": {},
   "outputs": [
    {
     "data": {
      "text/plain": [
       "Base.KeySet for a Dict{String,Any} with 10 entries. Keys:\n",
       "  \"burst_count\"\n",
       "  \"range_pixel_spacing\"\n",
       "  \"t_start\"\n",
       "  \"azimuth_frequency\"\n",
       "  \"t_stop\"\n",
       "  \"lines_per_burst\"\n",
       "  \"samples_per_burst\"\n",
       "  \"t_0\"\n",
       "  \"burst_meta\"\n",
       "  \"geolocation\""
      ]
     },
     "execution_count": 32,
     "metadata": {},
     "output_type": "execute_result"
    }
   ],
   "source": [
    "keys(s1_meta)\n"
   ]
  },
  {
   "cell_type": "code",
   "execution_count": 74,
   "metadata": {
    "scrolled": true
   },
   "outputs": [
    {
     "data": {
      "text/plain": [
       "10-element Array{Int64,1}:\n",
       "     1\n",
       "  1343\n",
       "  2684\n",
       "  4027\n",
       "  5368\n",
       "  6710\n",
       "  8053\n",
       "  9393\n",
       " 10735\n",
       " 12078"
      ]
     },
     "execution_count": 74,
     "metadata": {},
     "output_type": "execute_result"
    }
   ],
   "source": [
    "first_line_mosaic"
   ]
  },
  {
   "cell_type": "code",
   "execution_count": 77,
   "metadata": {},
   "outputs": [
    {
     "data": {
      "text/plain": [
       "9-element Array{Int64,1}:\n",
       " 181\n",
       " 182\n",
       " 180\n",
       " 182\n",
       " 181\n",
       " 180\n",
       " 183\n",
       " 181\n",
       " 180"
      ]
     },
     "execution_count": 77,
     "metadata": {},
     "output_type": "execute_result"
    }
   ],
   "source": [
    "ovelap = last_line_mosaic[1:end-1]-first_line_mosaic[2:end]"
   ]
  },
  {
   "cell_type": "code",
   "execution_count": 4,
   "metadata": {},
   "outputs": [
    {
     "data": {
      "text/plain": [
       "Dict{String,Int64} with 3 entries:\n",
       "  \"c\" => 3\n",
       "  \"b\" => 2\n",
       "  \"a\" => 1"
      ]
     },
     "execution_count": 4,
     "metadata": {},
     "output_type": "execute_result"
    }
   ],
   "source": [
    "s1_meta  = Dict(\"a\" => 1, \"b\" => 2, \"c\" => 3)"
   ]
  },
  {
   "cell_type": "markdown",
   "metadata": {},
   "source": [
    "## Times"
   ]
  },
  {
   "cell_type": "code",
   "execution_count": null,
   "metadata": {},
   "outputs": [],
   "source": []
  },
  {
   "cell_type": "code",
   "execution_count": null,
   "metadata": {},
   "outputs": [],
   "source": [
    "doc = EzXML.readxml(path[1])\n",
    "pod_dict = XMLDict.xml_dict(doc)"
   ]
  },
  {
   "cell_type": "code",
   "execution_count": 4,
   "metadata": {},
   "outputs": [
    {
     "data": {
      "text/plain": [
       "OrderedCollections.OrderedDict{Any,Any} with 19 entries:\n",
       "  \"productFirstLineUtcTime\" => \"2017-03-15T05:39:50.703105\"\n",
       "  \"productLastLineUtcTime\"  => \"2017-03-15T05:40:18.658671\"\n",
       "  \"ascendingNodeTime\"       => \"2017-03-15T05:05:57.686857\"\n",
       "  \"anchorTime\"              => \"2017-03-15T05:34:48.489923\"\n",
       "  \"productComposition\"      => \"Slice\"\n",
       "  \"sliceNumber\"             => \"13\"\n",
       "  \"sliceList\"               => OrderedCollections.OrderedDict{Any,Any}(:count=>…\n",
       "  \"slantRangeTime\"          => \"6.022480032448950e-03\"\n",
       "  \"pixelValue\"              => \"Complex\"\n",
       "  \"outputPixels\"            => \"16 bit Signed Integer\"\n",
       "  \"rangePixelSpacing\"       => \"2.329562e+00\"\n",
       "  \"azimuthPixelSpacing\"     => \"1.384746e+01\"\n",
       "  \"azimuthTimeInterval\"     => \"2.055556299999998e-03\"\n",
       "  \"azimuthFrequency\"        => \"4.864863102995529e+02\"\n",
       "  \"numberOfSamples\"         => \"25330\"\n",
       "  \"numberOfLines\"           => \"15240\"\n",
       "  \"zeroDopMinusAcqTime\"     => \"2.995119970000000e+02\"\n",
       "  \"incidenceAngleMidSwath\"  => \"4.359328161665400e+01\"\n",
       "  \"imageStatistics\"         => OrderedCollections.OrderedDict{Any,Any}(\"outputD…"
      ]
     },
     "execution_count": 4,
     "metadata": {},
     "output_type": "execute_result"
    }
   ],
   "source": [
    "pod_dict[\"product\"][\"imageAnnotation\"][\"imageInformation\"]"
   ]
  },
  {
   "cell_type": "code",
   "execution_count": 5,
   "metadata": {
    "scrolled": true
   },
   "outputs": [
    {
     "data": {
      "text/plain": [
       "15240"
      ]
     },
     "execution_count": 5,
     "metadata": {},
     "output_type": "execute_result"
    }
   ],
   "source": [
    "slant_range_time = parse(Float64,pod_dict[\"product\"][\"imageAnnotation\"][\"imageInformation\"][\"slantRangeTime\"])\n",
    "range_pixel_spacing = parse(Float64,pod_dict[\"product\"][\"imageAnnotation\"][\"imageInformation\"][\"rangePixelSpacing\"])\n",
    "azimuth_pixel_spacing = parse(Float64,pod_dict[\"product\"][\"imageAnnotation\"][\"imageInformation\"][\"azimuthPixelSpacing\"])\n",
    "azimuth_time_interval = parse(Float64,pod_dict[\"product\"][\"imageAnnotation\"][\"imageInformation\"][\"azimuthTimeInterval\"])\n",
    "number_samples = parse(Int,pod_dict[\"product\"][\"imageAnnotation\"][\"imageInformation\"][\"numberOfSamples\"])\n",
    "number_lines = parse(Int,pod_dict[\"product\"][\"imageAnnotation\"][\"imageInformation\"][\"numberOfLines\"])"
   ]
  },
  {
   "cell_type": "code",
   "execution_count": null,
   "metadata": {},
   "outputs": [],
   "source": []
  },
  {
   "cell_type": "code",
   "execution_count": null,
   "metadata": {},
   "outputs": [],
   "source": []
  },
  {
   "cell_type": "code",
   "execution_count": 6,
   "metadata": {},
   "outputs": [
    {
     "data": {
      "text/plain": [
       "486.4863102995529"
      ]
     },
     "execution_count": 6,
     "metadata": {},
     "output_type": "execute_result"
    }
   ],
   "source": [
    "prf = parse(Float64,pod_dict[\"product\"][\"imageAnnotation\"][\"imageInformation\"][\"azimuthFrequency\"])"
   ]
  },
  {
   "cell_type": "code",
   "execution_count": 7,
   "metadata": {},
   "outputs": [
    {
     "data": {
      "text/plain": [
       "6.434523812571428e7"
      ]
     },
     "execution_count": 7,
     "metadata": {},
     "output_type": "execute_result"
    }
   ],
   "source": [
    "adc_sampling_rate = parse(Float64,pod_dict[\"product\"][\"generalAnnotation\"][\"productInformation\"][\"rangeSamplingRate\"])\n",
    "### fs"
   ]
  },
  {
   "cell_type": "code",
   "execution_count": 8,
   "metadata": {},
   "outputs": [
    {
     "data": {
      "text/plain": [
       "5.40500045433435e9"
      ]
     },
     "execution_count": 8,
     "metadata": {},
     "output_type": "execute_result"
    }
   ],
   "source": [
    "radar_frequency = parse(Float64,pod_dict[\"product\"][\"generalAnnotation\"][\"productInformation\"][\"radarFrequency\"])"
   ]
  },
  {
   "cell_type": "code",
   "execution_count": 9,
   "metadata": {},
   "outputs": [
    {
     "data": {
      "text/plain": [
       "902747.0460918952"
      ]
     },
     "execution_count": 9,
     "metadata": {},
     "output_type": "execute_result"
    }
   ],
   "source": [
    "6.022480032448950e-03*299792458/2"
   ]
  },
  {
   "cell_type": "code",
   "execution_count": 10,
   "metadata": {},
   "outputs": [
    {
     "data": {
      "text/plain": [
       "902747.0461"
      ]
     },
     "execution_count": 10,
     "metadata": {},
     "output_type": "execute_result"
    }
   ],
   "source": [
    "902747.0461 "
   ]
  },
  {
   "cell_type": "code",
   "execution_count": 11,
   "metadata": {},
   "outputs": [
    {
     "data": {
      "text/plain": [
       "2.3311748370087315"
      ]
     },
     "execution_count": 11,
     "metadata": {},
     "output_type": "execute_result"
    }
   ],
   "source": [
    "3*10^8/2/adc_sampling_rate"
   ]
  },
  {
   "cell_type": "code",
   "execution_count": 12,
   "metadata": {},
   "outputs": [
    {
     "data": {
      "text/plain": [
       "31.324622455699974"
      ]
     },
     "execution_count": 12,
     "metadata": {},
     "output_type": "execute_result"
    }
   ],
   "source": [
    "(number_lines-1)/prf"
   ]
  },
  {
   "cell_type": "code",
   "execution_count": null,
   "metadata": {},
   "outputs": [],
   "source": [
    "function str2date(time)\n",
    "    y = parse(Int,time[1:4])\n",
    "    m = parse(Int,time[6:7])\n",
    "    d = parse(Int,time[9:10])\n",
    "    h = parse(Int,time[12:13])\n",
    "    mi = parse(Int,time[15:16])\n",
    "\n",
    "    return Dates.DateTime(y, m, d, h, mi)\n",
    "end"
   ]
  },
  {
   "cell_type": "code",
   "execution_count": 23,
   "metadata": {
    "scrolled": false
   },
   "outputs": [
    {
     "data": {
      "text/plain": [
       "str_date2float (generic function with 1 method)"
      ]
     },
     "execution_count": 23,
     "metadata": {},
     "output_type": "execute_result"
    }
   ],
   "source": [
    "function str_date2float(time,t_0)\n",
    "    # find time diff with date time down to min\n",
    "    t_i = str2date(time)\n",
    "    dt_i = Dates.Second(t_i-t_0).value\n",
    "\n",
    "    # convert seconds seperately to get float pression\n",
    "    s = parse(Float64,time[18:end])\n",
    "\n",
    "    return dt_i + s\n",
    "end"
   ]
  },
  {
   "cell_type": "code",
   "execution_count": 4,
   "metadata": {},
   "outputs": [],
   "source": [
    "include(\"convert_time.jl\");"
   ]
  },
  {
   "cell_type": "code",
   "execution_count": 5,
   "metadata": {},
   "outputs": [
    {
     "data": {
      "text/plain": [
       "\"2017-03-15T05:39:50.703105\""
      ]
     },
     "execution_count": 5,
     "metadata": {},
     "output_type": "execute_result"
    }
   ],
   "source": [
    "pod_dict[\"product\"][\"imageAnnotation\"][\"imageInformation\"][\"productFirstLineUtcTime\"]"
   ]
  },
  {
   "cell_type": "code",
   "execution_count": 6,
   "metadata": {},
   "outputs": [
    {
     "data": {
      "text/plain": [
       "2017-03-15T05:39:00"
      ]
     },
     "execution_count": 6,
     "metadata": {},
     "output_type": "execute_result"
    }
   ],
   "source": [
    "t_0 = str2date(pod_dict[\"product\"][\"imageAnnotation\"][\"imageInformation\"][\"productFirstLineUtcTime\"])"
   ]
  },
  {
   "cell_type": "code",
   "execution_count": 7,
   "metadata": {},
   "outputs": [
    {
     "data": {
      "text/plain": [
       "50.703105"
      ]
     },
     "execution_count": 7,
     "metadata": {},
     "output_type": "execute_result"
    }
   ],
   "source": [
    "t_start = str_date2float(pod_dict[\"product\"][\"imageAnnotation\"][\"imageInformation\"][\"productFirstLineUtcTime\"],t_0)"
   ]
  },
  {
   "cell_type": "code",
   "execution_count": 8,
   "metadata": {},
   "outputs": [
    {
     "name": "stdout",
     "output_type": "stream",
     "text": [
      "search: \u001b[0m\u001b[1ms\u001b[22m\u001b[0m\u001b[1mt\u001b[22m\u001b[0m\u001b[1mr\u001b[22m\u001b[0m\u001b[1m_\u001b[22m\u001b[0m\u001b[1md\u001b[22m\u001b[0m\u001b[1ma\u001b[22m\u001b[0m\u001b[1mt\u001b[22m\u001b[0m\u001b[1me\u001b[22m\u001b[0m\u001b[1m2\u001b[22m\u001b[0m\u001b[1mf\u001b[22m\u001b[0m\u001b[1ml\u001b[22m\u001b[0m\u001b[1mo\u001b[22m\u001b[0m\u001b[1ma\u001b[22m\u001b[0m\u001b[1mt\u001b[22m\n",
      "\n"
     ]
    },
    {
     "data": {
      "text/latex": [
       "\\begin{verbatim}\n",
       "str_date2float(time,t_0)\n",
       "\n",
       "# Arguments\n",
       "- `time::String`: date of format of format \"2017-03-15T05:39:50.703105\"\n",
       "- `t_0::DateTime`: Reference time\n",
       "\n",
       "# Output\n",
       "- `dt::Float64`: time relative to t_0 in seconds.\n",
       "\\end{verbatim}\n"
      ],
      "text/markdown": [
       "```\n",
       "str_date2float(time,t_0)\n",
       "\n",
       "# Arguments\n",
       "- `time::String`: date of format of format \"2017-03-15T05:39:50.703105\"\n",
       "- `t_0::DateTime`: Reference time\n",
       "\n",
       "# Output\n",
       "- `dt::Float64`: time relative to t_0 in seconds.\n",
       "```\n"
      ],
      "text/plain": [
       "\u001b[36m  str_date2float(time,t_0)\u001b[39m\n",
       "\u001b[36m  \u001b[39m\n",
       "\u001b[36m  # Arguments\u001b[39m\n",
       "\u001b[36m  - `time::String`: date of format of format \"2017-03-15T05:39:50.703105\"\u001b[39m\n",
       "\u001b[36m  - `t_0::DateTime`: Reference time\u001b[39m\n",
       "\u001b[36m  \u001b[39m\n",
       "\u001b[36m  # Output\u001b[39m\n",
       "\u001b[36m  - `dt::Float64`: time relative to t_0 in seconds.\u001b[39m"
      ]
     },
     "execution_count": 8,
     "metadata": {},
     "output_type": "execute_result"
    }
   ],
   "source": [
    "?str_date2float"
   ]
  },
  {
   "cell_type": "markdown",
   "metadata": {},
   "source": [
    "## Times"
   ]
  },
  {
   "cell_type": "code",
   "execution_count": 104,
   "metadata": {},
   "outputs": [
    {
     "data": {
      "text/plain": [
       "2017-03-15T05:39:50.703"
      ]
     },
     "execution_count": 104,
     "metadata": {},
     "output_type": "execute_result"
    }
   ],
   "source": [
    "start_time = str2date(pod_dict[\"product\"][\"imageAnnotation\"][\"imageInformation\"][\"productFirstLineUtcTime\"])\n"
   ]
  },
  {
   "cell_type": "code",
   "execution_count": null,
   "metadata": {},
   "outputs": [],
   "source": []
  },
  {
   "cell_type": "code",
   "execution_count": 105,
   "metadata": {},
   "outputs": [
    {
     "data": {
      "text/plain": [
       "\"2017-03-15T05:40:18.658671\""
      ]
     },
     "execution_count": 105,
     "metadata": {},
     "output_type": "execute_result"
    }
   ],
   "source": [
    "pod_dict[\"product\"][\"imageAnnotation\"][\"imageInformation\"][\"productLastLineUtcTime\"]"
   ]
  },
  {
   "cell_type": "code",
   "execution_count": null,
   "metadata": {},
   "outputs": [],
   "source": []
  },
  {
   "cell_type": "code",
   "execution_count": null,
   "metadata": {},
   "outputs": [],
   "source": []
  },
  {
   "cell_type": "code",
   "execution_count": null,
   "metadata": {},
   "outputs": [],
   "source": []
  },
  {
   "cell_type": "code",
   "execution_count": null,
   "metadata": {},
   "outputs": [],
   "source": []
  },
  {
   "cell_type": "code",
   "execution_count": null,
   "metadata": {},
   "outputs": [],
   "source": []
  },
  {
   "cell_type": "code",
   "execution_count": null,
   "metadata": {},
   "outputs": [],
   "source": [
    "lines_per_burst = parse(Int,pod_dict[ \"product\"][\"swathTiming\"][\"linesPerBurst\"])\n",
    "samples_per_burst = parse(Int,pod_dict[ \"product\"][\"swathTiming\"][\"samplesPerBurst\"])"
   ]
  },
  {
   "cell_type": "code",
   "execution_count": null,
   "metadata": {},
   "outputs": [],
   "source": []
  },
  {
   "cell_type": "code",
   "execution_count": null,
   "metadata": {},
   "outputs": [],
   "source": [
    "a"
   ]
  },
  {
   "cell_type": "code",
   "execution_count": 13,
   "metadata": {},
   "outputs": [],
   "source": [
    "burst = pod_dict[ \"product\"][\"swathTiming\"][\"burstList\"][\"burst\"];"
   ]
  },
  {
   "cell_type": "code",
   "execution_count": 14,
   "metadata": {},
   "outputs": [
    {
     "data": {
      "text/plain": [
       "OrderedCollections.OrderedDict{Any,Any} with 6 entries:\n",
       "  \"azimuthTime\"      => \"2017-03-15T05:39:50.703105\"\n",
       "  \"azimuthAnxTime\"   => \"2.033016248000000e+03\"\n",
       "  \"sensingTime\"      => \"2017-03-15T05:39:51.843281\"\n",
       "  \"byteOffset\"       => \"122235\"\n",
       "  \"firstValidSample\" => OrderedCollections.OrderedDict{Any,Any}(:count=>\"1524\",…\n",
       "  \"lastValidSample\"  => OrderedCollections.OrderedDict{Any,Any}(:count=>\"1524\",…"
      ]
     },
     "execution_count": 14,
     "metadata": {},
     "output_type": "execute_result"
    }
   ],
   "source": [
    "burst[1]"
   ]
  },
  {
   "cell_type": "code",
   "execution_count": null,
   "metadata": {},
   "outputs": [],
   "source": []
  }
 ],
 "metadata": {
  "kernelspec": {
   "display_name": "Julia 1.0.4",
   "language": "julia",
   "name": "julia-1.0"
  },
  "language_info": {
   "file_extension": ".jl",
   "mimetype": "application/julia",
   "name": "julia",
   "version": "1.0.4"
  }
 },
 "nbformat": 4,
 "nbformat_minor": 2
}
