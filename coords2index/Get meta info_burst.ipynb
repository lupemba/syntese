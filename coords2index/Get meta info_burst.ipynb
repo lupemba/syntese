{
 "cells": [
  {
   "cell_type": "code",
   "execution_count": null,
   "metadata": {},
   "outputs": [],
   "source": []
  },
  {
   "cell_type": "code",
   "execution_count": 1,
   "metadata": {},
   "outputs": [],
   "source": [
    "import EzXML\n",
    "import XMLDict"
   ]
  },
  {
   "cell_type": "code",
   "execution_count": 2,
   "metadata": {},
   "outputs": [
    {
     "data": {
      "text/plain": [
       "\"/Users/simon/Data/Sentinel/S1B_IW_SLC__1SDV_20170315T053950_20170315T054018_004715_0083B0_7EE9.SAFE/annotation/s1b-iw3-slc-vv-20170315t053950-20170315t054018-004715-0083b0-006.xml\""
      ]
     },
     "execution_count": 2,
     "metadata": {},
     "output_type": "execute_result"
    }
   ],
   "source": [
    "f = open(\"ann_path.txt\")\n",
    "path = readlines(f)\n",
    "path[1]"
   ]
  },
  {
   "cell_type": "code",
   "execution_count": 3,
   "metadata": {},
   "outputs": [
    {
     "data": {
      "text/plain": [
       "OrderedCollections.OrderedDict{Any,Any} with 3 entries:\n",
       "  :version  => \"1.0\"\n",
       "  :encoding => \"UTF-8\"\n",
       "  \"product\" => OrderedCollections.OrderedDict{Any,Any}(\"adsHeader\"=>OrderedColl…"
      ]
     },
     "execution_count": 3,
     "metadata": {},
     "output_type": "execute_result"
    }
   ],
   "source": [
    "doc = EzXML.readxml(path[1])\n",
    "pod_dict = XMLDict.xml_dict(doc)"
   ]
  },
  {
   "cell_type": "code",
   "execution_count": null,
   "metadata": {},
   "outputs": [],
   "source": []
  },
  {
   "cell_type": "markdown",
   "metadata": {},
   "source": [
    "## Times"
   ]
  },
  {
   "cell_type": "code",
   "execution_count": 4,
   "metadata": {},
   "outputs": [
    {
     "data": {
      "text/plain": [
       "OrderedCollections.OrderedDict{Any,Any} with 19 entries:\n",
       "  \"productFirstLineUtcTime\" => \"2017-03-15T05:39:50.703105\"\n",
       "  \"productLastLineUtcTime\"  => \"2017-03-15T05:40:18.658671\"\n",
       "  \"ascendingNodeTime\"       => \"2017-03-15T05:05:57.686857\"\n",
       "  \"anchorTime\"              => \"2017-03-15T05:34:48.489923\"\n",
       "  \"productComposition\"      => \"Slice\"\n",
       "  \"sliceNumber\"             => \"13\"\n",
       "  \"sliceList\"               => OrderedCollections.OrderedDict{Any,Any}(:count=>…\n",
       "  \"slantRangeTime\"          => \"6.022480032448950e-03\"\n",
       "  \"pixelValue\"              => \"Complex\"\n",
       "  \"outputPixels\"            => \"16 bit Signed Integer\"\n",
       "  \"rangePixelSpacing\"       => \"2.329562e+00\"\n",
       "  \"azimuthPixelSpacing\"     => \"1.384746e+01\"\n",
       "  \"azimuthTimeInterval\"     => \"2.055556299999998e-03\"\n",
       "  \"azimuthFrequency\"        => \"4.864863102995529e+02\"\n",
       "  \"numberOfSamples\"         => \"25330\"\n",
       "  \"numberOfLines\"           => \"15240\"\n",
       "  \"zeroDopMinusAcqTime\"     => \"2.995119970000000e+02\"\n",
       "  \"incidenceAngleMidSwath\"  => \"4.359328161665400e+01\"\n",
       "  \"imageStatistics\"         => OrderedCollections.OrderedDict{Any,Any}(\"outputD…"
      ]
     },
     "execution_count": 4,
     "metadata": {},
     "output_type": "execute_result"
    }
   ],
   "source": [
    "pod_dict[\"product\"][\"imageAnnotation\"][\"imageInformation\"]"
   ]
  },
  {
   "cell_type": "code",
   "execution_count": 5,
   "metadata": {
    "scrolled": true
   },
   "outputs": [
    {
     "data": {
      "text/plain": [
       "15240"
      ]
     },
     "execution_count": 5,
     "metadata": {},
     "output_type": "execute_result"
    }
   ],
   "source": [
    "slant_range_time = parse(Float64,pod_dict[\"product\"][\"imageAnnotation\"][\"imageInformation\"][\"slantRangeTime\"])\n",
    "range_pixel_spacing = parse(Float64,pod_dict[\"product\"][\"imageAnnotation\"][\"imageInformation\"][\"rangePixelSpacing\"])\n",
    "azimuth_pixel_spacing = parse(Float64,pod_dict[\"product\"][\"imageAnnotation\"][\"imageInformation\"][\"azimuthPixelSpacing\"])\n",
    "azimuth_time_interval = parse(Float64,pod_dict[\"product\"][\"imageAnnotation\"][\"imageInformation\"][\"azimuthTimeInterval\"])\n",
    "number_samples = parse(Int,pod_dict[\"product\"][\"imageAnnotation\"][\"imageInformation\"][\"numberOfSamples\"])\n",
    "number_lines = parse(Int,pod_dict[\"product\"][\"imageAnnotation\"][\"imageInformation\"][\"numberOfLines\"])"
   ]
  },
  {
   "cell_type": "code",
   "execution_count": null,
   "metadata": {},
   "outputs": [],
   "source": []
  },
  {
   "cell_type": "code",
   "execution_count": null,
   "metadata": {},
   "outputs": [],
   "source": []
  },
  {
   "cell_type": "code",
   "execution_count": 6,
   "metadata": {},
   "outputs": [
    {
     "data": {
      "text/plain": [
       "486.4863102995529"
      ]
     },
     "execution_count": 6,
     "metadata": {},
     "output_type": "execute_result"
    }
   ],
   "source": [
    "prf = parse(Float64,pod_dict[\"product\"][\"imageAnnotation\"][\"imageInformation\"][\"azimuthFrequency\"])"
   ]
  },
  {
   "cell_type": "code",
   "execution_count": 7,
   "metadata": {},
   "outputs": [
    {
     "data": {
      "text/plain": [
       "6.434523812571428e7"
      ]
     },
     "execution_count": 7,
     "metadata": {},
     "output_type": "execute_result"
    }
   ],
   "source": [
    "adc_sampling_rate = parse(Float64,pod_dict[\"product\"][\"generalAnnotation\"][\"productInformation\"][\"rangeSamplingRate\"])\n",
    "### fs"
   ]
  },
  {
   "cell_type": "code",
   "execution_count": 8,
   "metadata": {},
   "outputs": [
    {
     "data": {
      "text/plain": [
       "5.40500045433435e9"
      ]
     },
     "execution_count": 8,
     "metadata": {},
     "output_type": "execute_result"
    }
   ],
   "source": [
    "radar_frequency = parse(Float64,pod_dict[\"product\"][\"generalAnnotation\"][\"productInformation\"][\"radarFrequency\"])"
   ]
  },
  {
   "cell_type": "code",
   "execution_count": 9,
   "metadata": {},
   "outputs": [
    {
     "data": {
      "text/plain": [
       "902747.0460918952"
      ]
     },
     "execution_count": 9,
     "metadata": {},
     "output_type": "execute_result"
    }
   ],
   "source": [
    "6.022480032448950e-03*299792458/2"
   ]
  },
  {
   "cell_type": "code",
   "execution_count": 10,
   "metadata": {},
   "outputs": [
    {
     "data": {
      "text/plain": [
       "902747.0461"
      ]
     },
     "execution_count": 10,
     "metadata": {},
     "output_type": "execute_result"
    }
   ],
   "source": [
    "902747.0461 "
   ]
  },
  {
   "cell_type": "code",
   "execution_count": 11,
   "metadata": {},
   "outputs": [
    {
     "data": {
      "text/plain": [
       "2.3311748370087315"
      ]
     },
     "execution_count": 11,
     "metadata": {},
     "output_type": "execute_result"
    }
   ],
   "source": [
    "3*10^8/2/adc_sampling_rate"
   ]
  },
  {
   "cell_type": "code",
   "execution_count": 12,
   "metadata": {},
   "outputs": [
    {
     "data": {
      "text/plain": [
       "31.324622455699974"
      ]
     },
     "execution_count": 12,
     "metadata": {},
     "output_type": "execute_result"
    }
   ],
   "source": [
    "(number_lines-1)/prf"
   ]
  },
  {
   "cell_type": "code",
   "execution_count": null,
   "metadata": {},
   "outputs": [],
   "source": [
    "function str2date(time)\n",
    "    y = parse(Int,time[1:4])\n",
    "    m = parse(Int,time[6:7])\n",
    "    d = parse(Int,time[9:10])\n",
    "    h = parse(Int,time[12:13])\n",
    "    mi = parse(Int,time[15:16])\n",
    "\n",
    "    return Dates.DateTime(y, m, d, h, mi)\n",
    "end"
   ]
  },
  {
   "cell_type": "code",
   "execution_count": 23,
   "metadata": {
    "scrolled": false
   },
   "outputs": [
    {
     "data": {
      "text/plain": [
       "str_date2float (generic function with 1 method)"
      ]
     },
     "execution_count": 23,
     "metadata": {},
     "output_type": "execute_result"
    }
   ],
   "source": [
    "function str_date2float(time,t_0)\n",
    "    # find time diff with date time down to min\n",
    "    t_i = str2date(time)\n",
    "    dt_i = Dates.Second(t_i-t_0).value\n",
    "\n",
    "    # convert seconds seperately to get float pression\n",
    "    s = parse(Float64,time[18:end])\n",
    "\n",
    "    return dt_i + s\n",
    "end"
   ]
  },
  {
   "cell_type": "code",
   "execution_count": 4,
   "metadata": {},
   "outputs": [],
   "source": [
    "include(\"convert_time.jl\");"
   ]
  },
  {
   "cell_type": "code",
   "execution_count": 5,
   "metadata": {},
   "outputs": [
    {
     "data": {
      "text/plain": [
       "\"2017-03-15T05:39:50.703105\""
      ]
     },
     "execution_count": 5,
     "metadata": {},
     "output_type": "execute_result"
    }
   ],
   "source": [
    "pod_dict[\"product\"][\"imageAnnotation\"][\"imageInformation\"][\"productFirstLineUtcTime\"]"
   ]
  },
  {
   "cell_type": "code",
   "execution_count": 6,
   "metadata": {},
   "outputs": [
    {
     "data": {
      "text/plain": [
       "2017-03-15T05:39:00"
      ]
     },
     "execution_count": 6,
     "metadata": {},
     "output_type": "execute_result"
    }
   ],
   "source": [
    "t_0 = str2date(pod_dict[\"product\"][\"imageAnnotation\"][\"imageInformation\"][\"productFirstLineUtcTime\"])"
   ]
  },
  {
   "cell_type": "code",
   "execution_count": 7,
   "metadata": {},
   "outputs": [
    {
     "data": {
      "text/plain": [
       "50.703105"
      ]
     },
     "execution_count": 7,
     "metadata": {},
     "output_type": "execute_result"
    }
   ],
   "source": [
    "t_start = str_date2float(pod_dict[\"product\"][\"imageAnnotation\"][\"imageInformation\"][\"productFirstLineUtcTime\"],t_0)"
   ]
  },
  {
   "cell_type": "code",
   "execution_count": 8,
   "metadata": {},
   "outputs": [
    {
     "name": "stdout",
     "output_type": "stream",
     "text": [
      "search: \u001b[0m\u001b[1ms\u001b[22m\u001b[0m\u001b[1mt\u001b[22m\u001b[0m\u001b[1mr\u001b[22m\u001b[0m\u001b[1m_\u001b[22m\u001b[0m\u001b[1md\u001b[22m\u001b[0m\u001b[1ma\u001b[22m\u001b[0m\u001b[1mt\u001b[22m\u001b[0m\u001b[1me\u001b[22m\u001b[0m\u001b[1m2\u001b[22m\u001b[0m\u001b[1mf\u001b[22m\u001b[0m\u001b[1ml\u001b[22m\u001b[0m\u001b[1mo\u001b[22m\u001b[0m\u001b[1ma\u001b[22m\u001b[0m\u001b[1mt\u001b[22m\n",
      "\n"
     ]
    },
    {
     "data": {
      "text/latex": [
       "\\begin{verbatim}\n",
       "str_date2float(time,t_0)\n",
       "\n",
       "# Arguments\n",
       "- `time::String`: date of format of format \"2017-03-15T05:39:50.703105\"\n",
       "- `t_0::DateTime`: Reference time\n",
       "\n",
       "# Output\n",
       "- `dt::Float64`: time relative to t_0 in seconds.\n",
       "\\end{verbatim}\n"
      ],
      "text/markdown": [
       "```\n",
       "str_date2float(time,t_0)\n",
       "\n",
       "# Arguments\n",
       "- `time::String`: date of format of format \"2017-03-15T05:39:50.703105\"\n",
       "- `t_0::DateTime`: Reference time\n",
       "\n",
       "# Output\n",
       "- `dt::Float64`: time relative to t_0 in seconds.\n",
       "```\n"
      ],
      "text/plain": [
       "\u001b[36m  str_date2float(time,t_0)\u001b[39m\n",
       "\u001b[36m  \u001b[39m\n",
       "\u001b[36m  # Arguments\u001b[39m\n",
       "\u001b[36m  - `time::String`: date of format of format \"2017-03-15T05:39:50.703105\"\u001b[39m\n",
       "\u001b[36m  - `t_0::DateTime`: Reference time\u001b[39m\n",
       "\u001b[36m  \u001b[39m\n",
       "\u001b[36m  # Output\u001b[39m\n",
       "\u001b[36m  - `dt::Float64`: time relative to t_0 in seconds.\u001b[39m"
      ]
     },
     "execution_count": 8,
     "metadata": {},
     "output_type": "execute_result"
    }
   ],
   "source": [
    "?str_date2float"
   ]
  },
  {
   "cell_type": "markdown",
   "metadata": {},
   "source": [
    "## Times"
   ]
  },
  {
   "cell_type": "code",
   "execution_count": 104,
   "metadata": {},
   "outputs": [
    {
     "data": {
      "text/plain": [
       "2017-03-15T05:39:50.703"
      ]
     },
     "execution_count": 104,
     "metadata": {},
     "output_type": "execute_result"
    }
   ],
   "source": [
    "start_time = str2date(pod_dict[\"product\"][\"imageAnnotation\"][\"imageInformation\"][\"productFirstLineUtcTime\"])\n"
   ]
  },
  {
   "cell_type": "code",
   "execution_count": null,
   "metadata": {},
   "outputs": [],
   "source": []
  },
  {
   "cell_type": "code",
   "execution_count": 105,
   "metadata": {},
   "outputs": [
    {
     "data": {
      "text/plain": [
       "\"2017-03-15T05:40:18.658671\""
      ]
     },
     "execution_count": 105,
     "metadata": {},
     "output_type": "execute_result"
    }
   ],
   "source": [
    "pod_dict[\"product\"][\"imageAnnotation\"][\"imageInformation\"][\"productLastLineUtcTime\"]"
   ]
  },
  {
   "cell_type": "code",
   "execution_count": null,
   "metadata": {},
   "outputs": [],
   "source": []
  },
  {
   "cell_type": "code",
   "execution_count": null,
   "metadata": {},
   "outputs": [],
   "source": []
  },
  {
   "cell_type": "code",
   "execution_count": null,
   "metadata": {},
   "outputs": [],
   "source": []
  },
  {
   "cell_type": "code",
   "execution_count": null,
   "metadata": {},
   "outputs": [],
   "source": []
  },
  {
   "cell_type": "code",
   "execution_count": null,
   "metadata": {},
   "outputs": [],
   "source": []
  },
  {
   "cell_type": "code",
   "execution_count": null,
   "metadata": {},
   "outputs": [],
   "source": [
    "lines_per_burst = parse(Int,pod_dict[ \"product\"][\"swathTiming\"][\"linesPerBurst\"])\n",
    "samples_per_burst = parse(Int,pod_dict[ \"product\"][\"swathTiming\"][\"samplesPerBurst\"])"
   ]
  },
  {
   "cell_type": "code",
   "execution_count": null,
   "metadata": {},
   "outputs": [],
   "source": []
  },
  {
   "cell_type": "code",
   "execution_count": null,
   "metadata": {},
   "outputs": [],
   "source": [
    "a"
   ]
  },
  {
   "cell_type": "code",
   "execution_count": 13,
   "metadata": {},
   "outputs": [],
   "source": [
    "burst = pod_dict[ \"product\"][\"swathTiming\"][\"burstList\"][\"burst\"];"
   ]
  },
  {
   "cell_type": "code",
   "execution_count": 14,
   "metadata": {},
   "outputs": [
    {
     "data": {
      "text/plain": [
       "OrderedCollections.OrderedDict{Any,Any} with 6 entries:\n",
       "  \"azimuthTime\"      => \"2017-03-15T05:39:50.703105\"\n",
       "  \"azimuthAnxTime\"   => \"2.033016248000000e+03\"\n",
       "  \"sensingTime\"      => \"2017-03-15T05:39:51.843281\"\n",
       "  \"byteOffset\"       => \"122235\"\n",
       "  \"firstValidSample\" => OrderedCollections.OrderedDict{Any,Any}(:count=>\"1524\",…\n",
       "  \"lastValidSample\"  => OrderedCollections.OrderedDict{Any,Any}(:count=>\"1524\",…"
      ]
     },
     "execution_count": 14,
     "metadata": {},
     "output_type": "execute_result"
    }
   ],
   "source": [
    "burst[1]"
   ]
  },
  {
   "cell_type": "code",
   "execution_count": null,
   "metadata": {},
   "outputs": [],
   "source": []
  }
 ],
 "metadata": {
  "kernelspec": {
   "display_name": "Julia 1.0.4",
   "language": "julia",
   "name": "julia-1.0"
  },
  "language_info": {
   "file_extension": ".jl",
   "mimetype": "application/julia",
   "name": "julia",
   "version": "1.0.4"
  }
 },
 "nbformat": 4,
 "nbformat_minor": 2
}
