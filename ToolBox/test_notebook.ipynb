{
 "cells": [
  {
   "cell_type": "markdown",
   "metadata": {},
   "source": [
    "## Test how to use modules"
   ]
  },
  {
   "cell_type": "markdown",
   "metadata": {},
   "source": [
    "### Module in script"
   ]
  },
  {
   "cell_type": "code",
   "execution_count": 1,
   "metadata": {},
   "outputs": [
    {
     "data": {
      "text/plain": [
       "Main.NotebookModule"
      ]
     },
     "execution_count": 1,
     "metadata": {},
     "output_type": "execute_result"
    }
   ],
   "source": [
    "module NotebookModule\n",
    "import Images\n",
    "\n",
    "export random_img, show_img\n",
    "\n",
    "function random_img(N)\n",
    "    return rand(N,N)\n",
    "end\n",
    "\n",
    "function negative_img(img)\n",
    "    return 1 .- img\n",
    "end\n",
    "\n",
    "function show_img(img,negative=false)\n",
    "    if negative\n",
    "        return Images.Gray.(negative_img(img))\n",
    "    else\n",
    "        return Images.Gray.(img)\n",
    "    end\n",
    "end\n",
    "\n",
    "end\n"
   ]
  },
  {
   "cell_type": "markdown",
   "metadata": {},
   "source": [
    "The module still have to be imported to use the functions"
   ]
  },
  {
   "cell_type": "code",
   "execution_count": 2,
   "metadata": {},
   "outputs": [
    {
     "ename": "UndefVarError",
     "evalue": "UndefVarError: random_img not defined",
     "output_type": "error",
     "traceback": [
      "UndefVarError: random_img not defined",
      "",
      "Stacktrace:",
      " [1] top-level scope at In[2]:1"
     ]
    }
   ],
   "source": [
    "random_img(10)"
   ]
  },
  {
   "cell_type": "code",
   "execution_count": 3,
   "metadata": {},
   "outputs": [],
   "source": [
    "using .NotebookModule"
   ]
  },
  {
   "cell_type": "markdown",
   "metadata": {},
   "source": [
    "The exported function can be used directly in the script"
   ]
  },
  {
   "cell_type": "code",
   "execution_count": 4,
   "metadata": {},
   "outputs": [
    {
     "data": {
      "text/plain": [
       "10×10 Array{Float64,2}:\n",
       " 0.306851  0.704586   0.0165494  …  0.0348122  0.840326   0.681883  \n",
       " 0.923024  0.2082     0.410022      0.740847   0.188442   0.294378  \n",
       " 0.248747  0.383624   0.961812      0.210885   0.0864581  0.482036  \n",
       " 0.837665  0.314598   0.472714      0.825698   0.255987   0.00567007\n",
       " 0.697201  0.526489   0.782114      0.971181   0.292842   0.985931  \n",
       " 0.670235  0.474602   0.223477   …  0.92682    0.810967   0.25875   \n",
       " 0.941489  0.0427609  0.814646      0.301093   0.3382     0.851391  \n",
       " 0.149144  0.384066   0.083719      0.595724   0.517403   0.161199  \n",
       " 0.212713  0.804441   0.185025      0.724966   0.341902   0.875435  \n",
       " 0.573785  0.772117   0.0747151     0.748992   0.579543   0.192447  "
      ]
     },
     "execution_count": 4,
     "metadata": {},
     "output_type": "execute_result"
    }
   ],
   "source": [
    "test = random_img(10)"
   ]
  },
  {
   "cell_type": "code",
   "execution_count": 5,
   "metadata": {},
   "outputs": [
    {
     "data": {
      "image/png": "[encoded data removed]",
      "text/plain": [
       "10×10 Array{Gray{Float64},2} with eltype ColorTypes.Gray{Float64}:\n",
       " Gray{Float64}(0.306851)  …  Gray{Float64}(0.681883)  \n",
       " Gray{Float64}(0.923024)     Gray{Float64}(0.294378)  \n",
       " Gray{Float64}(0.248747)     Gray{Float64}(0.482036)  \n",
       " Gray{Float64}(0.837665)     Gray{Float64}(0.00567007)\n",
       " Gray{Float64}(0.697201)     Gray{Float64}(0.985931)  \n",
       " Gray{Float64}(0.670235)  …  Gray{Float64}(0.25875)   \n",
       " Gray{Float64}(0.941489)     Gray{Float64}(0.851391)  \n",
       " Gray{Float64}(0.149144)     Gray{Float64}(0.161199)  \n",
       " Gray{Float64}(0.212713)     Gray{Float64}(0.875435)  \n",
       " Gray{Float64}(0.573785)     Gray{Float64}(0.192447)  "
      ]
     },
     "execution_count": 5,
     "metadata": {},
     "output_type": "execute_result"
    }
   ],
   "source": [
    "show_img(test)"
   ]
  },
  {
   "cell_type": "code",
   "execution_count": 6,
   "metadata": {},
   "outputs": [
    {
     "data": {
      "image/png": "[encoded data removed]",
      "text/plain": [
       "10×10 Array{Gray{Float64},2} with eltype ColorTypes.Gray{Float64}:\n",
       " Gray{Float64}(0.693149)   …  Gray{Float64}(0.318117)\n",
       " Gray{Float64}(0.076976)      Gray{Float64}(0.705622)\n",
       " Gray{Float64}(0.751253)      Gray{Float64}(0.517964)\n",
       " Gray{Float64}(0.162335)      Gray{Float64}(0.99433) \n",
       " Gray{Float64}(0.302799)      Gray{Float64}(0.014069)\n",
       " Gray{Float64}(0.329765)   …  Gray{Float64}(0.74125) \n",
       " Gray{Float64}(0.0585114)     Gray{Float64}(0.148609)\n",
       " Gray{Float64}(0.850856)      Gray{Float64}(0.838801)\n",
       " Gray{Float64}(0.787287)      Gray{Float64}(0.124565)\n",
       " Gray{Float64}(0.426215)      Gray{Float64}(0.807553)"
      ]
     },
     "execution_count": 6,
     "metadata": {},
     "output_type": "execute_result"
    }
   ],
   "source": [
    "show_img(test,true)"
   ]
  },
  {
   "cell_type": "markdown",
   "metadata": {},
   "source": [
    "The module.function synstax is needed to acces not exported functions "
   ]
  },
  {
   "cell_type": "code",
   "execution_count": 7,
   "metadata": {},
   "outputs": [
    {
     "ename": "UndefVarError",
     "evalue": "UndefVarError: negative_img not defined",
     "output_type": "error",
     "traceback": [
      "UndefVarError: negative_img not defined",
      "",
      "Stacktrace:",
      " [1] top-level scope at In[7]:1"
     ]
    }
   ],
   "source": [
    "negative_img(test)"
   ]
  },
  {
   "cell_type": "code",
   "execution_count": 8,
   "metadata": {},
   "outputs": [
    {
     "data": {
      "text/plain": [
       "10×10 Array{Float64,2}:\n",
       " 0.693149   0.295414  0.983451   0.169837   …  0.965188   0.159674  0.318117\n",
       " 0.076976   0.7918    0.589978   0.545548      0.259153   0.811558  0.705622\n",
       " 0.751253   0.616376  0.0381884  0.0658008     0.789115   0.913542  0.517964\n",
       " 0.162335   0.685402  0.527286   0.382897      0.174302   0.744013  0.99433 \n",
       " 0.302799   0.473511  0.217886   0.607089      0.0288194  0.707158  0.014069\n",
       " 0.329765   0.525398  0.776523   0.799932   …  0.0731798  0.189033  0.74125 \n",
       " 0.0585114  0.957239  0.185354   0.966         0.698907   0.6618    0.148609\n",
       " 0.850856   0.615934  0.916281   0.950494      0.404276   0.482597  0.838801\n",
       " 0.787287   0.195559  0.814975   0.904593      0.275034   0.658098  0.124565\n",
       " 0.426215   0.227883  0.925285   0.808799      0.251008   0.420457  0.807553"
      ]
     },
     "execution_count": 8,
     "metadata": {},
     "output_type": "execute_result"
    }
   ],
   "source": [
    "NotebookModule.negative_img(test)"
   ]
  },
  {
   "cell_type": "markdown",
   "metadata": {},
   "source": [
    "### File module"
   ]
  },
  {
   "cell_type": "code",
   "execution_count": 9,
   "metadata": {},
   "outputs": [
    {
     "data": {
      "text/plain": [
       "123"
      ]
     },
     "execution_count": 9,
     "metadata": {},
     "output_type": "execute_result"
    }
   ],
   "source": [
    "a =123"
   ]
  },
  {
   "cell_type": "code",
   "execution_count": 10,
   "metadata": {},
   "outputs": [],
   "source": [
    "include(\"FileModule.jl\")\n",
    "using .FileModule"
   ]
  },
  {
   "cell_type": "code",
   "execution_count": 11,
   "metadata": {},
   "outputs": [
    {
     "data": {
      "text/plain": [
       "0.2547793867764295"
      ]
     },
     "execution_count": 11,
     "metadata": {},
     "output_type": "execute_result"
    }
   ],
   "source": [
    "FileModule.power_mean(test,3)"
   ]
  },
  {
   "cell_type": "code",
   "execution_count": 12,
   "metadata": {},
   "outputs": [
    {
     "name": "stdout",
     "output_type": "stream",
     "text": [
      "hello simon. It is nice to meet you\n"
     ]
    }
   ],
   "source": [
    "FileModule.hello(\"simon\")"
   ]
  },
  {
   "cell_type": "code",
   "execution_count": 13,
   "metadata": {},
   "outputs": [
    {
     "name": "stdout",
     "output_type": "stream",
     "text": [
      "input not a string\n"
     ]
    }
   ],
   "source": [
    "FileModule.hello(test)"
   ]
  },
  {
   "cell_type": "code",
   "execution_count": 14,
   "metadata": {},
   "outputs": [
    {
     "data": {
      "text/plain": [
       "123"
      ]
     },
     "execution_count": 14,
     "metadata": {},
     "output_type": "execute_result"
    }
   ],
   "source": [
    "a"
   ]
  },
  {
   "cell_type": "code",
   "execution_count": null,
   "metadata": {},
   "outputs": [],
   "source": []
  },
  {
   "cell_type": "code",
   "execution_count": null,
   "metadata": {},
   "outputs": [],
   "source": []
  }
 ],
 "metadata": {
  "kernelspec": {
   "display_name": "Julia 1.0.4",
   "language": "julia",
   "name": "julia-1.0"
  },
  "language_info": {
   "file_extension": ".jl",
   "mimetype": "application/julia",
   "name": "julia",
   "version": "1.0.4"
  }
 },
 "nbformat": 4,
 "nbformat_minor": 2
}
