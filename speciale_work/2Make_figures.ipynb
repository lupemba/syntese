{
 "cells": [
  {
   "cell_type": "code",
   "execution_count": 1,
   "metadata": {},
   "outputs": [],
   "source": [
    "include(\"../ToolBox/ToolBox.jl\")\n",
    "using .ToolBox\n",
    "import JLD\n",
    "using Colors\n",
    "import FileIO"
   ]
  },
  {
   "cell_type": "code",
   "execution_count": 77,
   "metadata": {
    "scrolled": true
   },
   "outputs": [
    {
     "data": {
      "text/plain": [
       "40"
      ]
     },
     "execution_count": 77,
     "metadata": {},
     "output_type": "execute_result"
    }
   ],
   "source": [
    "#folder = \"/home/data/simon/processed/143_houston_summer2017/river\" #desend\n",
    "#folder = \"/home/data/simon/processed/143_houston_summer2017/city_center\" #desend\n",
    "#folder = \"/home/data/simon/processed/143_houston_summer2017/resovoir\" #desend\n",
    "#folder = \"/home/data/simon/processed/66_fyn_winter2020/kolding\" #desend\n",
    "#folder = \"/home/data/simon/processed/66_fyn_winter2020/vejle\" #desend\n",
    "#folder = \"/home/data/simon/processed/177_jutlandS_autumn2019/vejle\" # asend\n",
    "#folder = \"/home/data/simon/processed/177_jutlandS_winter2020/vejle\" # asend\n",
    "folder = \"/home/data/simon/processed/177_jutlandS_winter2020/ribe\" # asend\n",
    "\n",
    "ascending = true\n",
    "dem_nan = 40\n",
    "#dem_nan=-25"
   ]
  },
  {
   "cell_type": "code",
   "execution_count": 78,
   "metadata": {},
   "outputs": [],
   "source": [
    "if ascending \n",
    "   # Load\n",
    "    co_gamma = JLD.load(joinpath(folder,\"21VV_coher.jld\"),\"data\")[end:-1:1,:]\n",
    "    pre_gamma = JLD.load(joinpath(folder,\"23VV_coher.jld\"),\"data\")[end:-1:1,:]\n",
    "\n",
    "    VV_paths = [joinpath(folder,string(i)*\"VV_itens.jld\") for i=1:3]\n",
    "    VV = [JLD.load(path,\"data\")[end:-1:1,:] for path in VV_paths]\n",
    "    VH_paths = [joinpath(folder,string(i)*\"VH_itens.jld\") for i=1:3]\n",
    "    VH = [JLD.load(path,\"data\")[end:-1:1,:] for path in VH_paths];\n",
    "    heights = JLD.load(joinpath(folder,\"heights.jld\"),\"data\")[end:-1:1,:].-dem_nan;\n",
    "else\n",
    "    # Load\n",
    "    co_gamma = JLD.load(joinpath(folder,\"21VV_coher.jld\"),\"data\")[:,end:-1:1]\n",
    "    pre_gamma = JLD.load(joinpath(folder,\"23VV_coher.jld\"),\"data\")[:,end:-1:1]\n",
    "\n",
    "    VV_paths = [joinpath(folder,string(i)*\"VV_itens.jld\") for i=1:3]\n",
    "    VV = [JLD.load(path,\"data\")[:,end:-1:1] for path in VV_paths]\n",
    "    VH_paths = [joinpath(folder,string(i)*\"VH_itens.jld\") for i=1:3]\n",
    "    VH = [JLD.load(path,\"data\")[:,end:-1:1] for path in VH_paths];\n",
    "    heights = JLD.load(joinpath(folder,\"heights.jld\"),\"data\")[:,end:-1:1].-dem_nan;\n",
    "    end;"
   ]
  },
  {
   "cell_type": "code",
   "execution_count": 79,
   "metadata": {},
   "outputs": [],
   "source": [
    "filt = SlcUtil.temporal_filter([VV[1],VH[1]],5);\n",
    "\n",
    "VV = SlcUtil.temporal_filter(VV,5);\n",
    "VH = SlcUtil.temporal_filter(VH,5);\n",
    "\n",
    "VV[1] = filt[1]\n",
    "VH[1] = filt[2];"
   ]
  },
  {
   "cell_type": "code",
   "execution_count": 80,
   "metadata": {},
   "outputs": [
    {
     "data": {
      "text/plain": [
       "scale_img (generic function with 2 methods)"
      ]
     },
     "execution_count": 80,
     "metadata": {},
     "output_type": "execute_result"
    }
   ],
   "source": [
    "function db_scale_img(img , min , max)\n",
    "    log_img = (10*log10.(img).-min)./(max-min)\n",
    "    log_img[log_img.>1] .= 0.999\n",
    "    log_img[log_img.<0] .= 0.001\n",
    "    return log_img\n",
    "end\n",
    "\n",
    "\n",
    "function db_scale_img_diff(img1,img2 , min , max)\n",
    "    log_img = 10*log10.(img1).-10*log10.(img2)\n",
    "    log_img = (log_img.-min)./(max-min)\n",
    "    log_img[log_img.>1] .= 0.999\n",
    "    log_img[log_img.<0] .= 0.001\n",
    "    return log_img\n",
    "end\n",
    "\n",
    "function scale_img(img , min , max)\n",
    "    scale_img = (img.-min)./(max-min)\n",
    "    scale_img[scale_img.>1] .= 0.999\n",
    "    scale_img[scale_img.<0] .= 0.001\n",
    "    return scale_img\n",
    "end\n",
    "\n",
    "\n",
    "function scale_img(img)\n",
    "    min = minimum(reshape(img,:))\n",
    "    max = maximum(reshape(img,:))\n",
    "    return scale_img(img , min , max)\n",
    "end\n"
   ]
  },
  {
   "cell_type": "code",
   "execution_count": 81,
   "metadata": {},
   "outputs": [],
   "source": [
    "min_vv = -19\n",
    "max_vv = 4\n",
    "\n",
    "min_vh = -26\n",
    "max_vh = -3\n",
    "\n",
    "min_r = -10\n",
    "max_r = 1;\n",
    "\n",
    "min_h = -10\n",
    "max_h = 100;"
   ]
  },
  {
   "cell_type": "code",
   "execution_count": 82,
   "metadata": {},
   "outputs": [],
   "source": [
    "img = Colors.Gray.(scale_img(heights,min_h,max_h));\n",
    "img_path = joinpath(folder,\"dem.png\")\n",
    "FileIO.save(img_path,img);"
   ]
  },
  {
   "cell_type": "code",
   "execution_count": 83,
   "metadata": {},
   "outputs": [],
   "source": [
    "img = Colors.Gray.(db_scale_img(VV[1],min_vv,max_vv));\n",
    "img_path = joinpath(folder,\"VV1.png\")\n",
    "FileIO.save(img_path,img);\n",
    "\n",
    "img = Colors.Gray.(db_scale_img(VV[2],min_vv,max_vv));\n",
    "img_path = joinpath(folder,\"VV2.png\")\n",
    "FileIO.save(img_path,img);\n",
    "\n",
    "img = Colors.Gray.(db_scale_img(VV[3],min_vv,max_vv));\n",
    "img_path = joinpath(folder,\"VV3.png\")\n",
    "FileIO.save(img_path,img);\n",
    "\n",
    "\n",
    "img = Colors.Gray.(db_scale_img(VH[1],min_vh,max_vh));\n",
    "img_path = joinpath(folder,\"VH1.png\")\n",
    "FileIO.save(img_path,img);\n",
    "\n",
    "img = Colors.Gray.(db_scale_img(VH[2],min_vh,max_vh));\n",
    "img_path = joinpath(folder,\"VH2.png\")\n",
    "FileIO.save(img_path,img);\n",
    "\n",
    "img = Colors.Gray.(db_scale_img(VH[3],min_vh,max_vh));\n",
    "img_path = joinpath(folder,\"VH3.png\")\n",
    "FileIO.save(img_path,img);"
   ]
  },
  {
   "cell_type": "code",
   "execution_count": 84,
   "metadata": {},
   "outputs": [],
   "source": [
    "img = Colors.Gray.(abs.(co_gamma));\n",
    "img_path = joinpath(folder,\"co_gamma.png\")\n",
    "FileIO.save(img_path,img);\n",
    "\n",
    "img = Colors.Gray.(abs.(pre_gamma));\n",
    "img_path = joinpath(folder,\"pre_gamma.png\")\n",
    "FileIO.save(img_path,img);"
   ]
  },
  {
   "cell_type": "code",
   "execution_count": 85,
   "metadata": {},
   "outputs": [],
   "source": [
    "img = Colors.RGB{Float32}.(abs.(pre_gamma),abs.(co_gamma),abs.(co_gamma));\n",
    "img_path = joinpath(folder,\"PreCoCo_coherence.png\")\n",
    "FileIO.save(img_path,img);"
   ]
  },
  {
   "cell_type": "code",
   "execution_count": 86,
   "metadata": {},
   "outputs": [],
   "source": [
    "bands = [db_scale_img(elem,min_vv,max_vv) for elem in VV][end:-1:1]\n",
    "img = Colors.RGB{Float32}.(bands...);\n",
    "img_path = joinpath(folder,\"Pre2Pre1Co_VV.png\")\n",
    "FileIO.save(img_path,img);\n",
    "\n",
    "bands = [db_scale_img(elem,min_vh,max_vh) for elem in VH][end:-1:1]\n",
    "img = Colors.RGB{Float32}.(bands...);\n",
    "img_path = joinpath(folder,\"Pre2Pre1Co_VH.png\")\n",
    "FileIO.save(img_path,img);"
   ]
  },
  {
   "cell_type": "code",
   "execution_count": 87,
   "metadata": {},
   "outputs": [],
   "source": [
    "k = 1/1.4\n",
    "pre = db_scale_img((VV[2] .+VV[3])./2,min_vv,max_vv) \n",
    "co = db_scale_img(VV[1],min_vv,max_vv) \n",
    "co = co.^k\n",
    "pre = pre.^k\n",
    "img = Colors.RGB{Float32}.(pre,co,co);\n",
    "img_path = joinpath(folder,\"pretty_VV.png\")\n",
    "FileIO.save(img_path,img);\n",
    "\n",
    "img = Colors.Gray.(db_scale_img_diff(co,pre,-3,3)); \n",
    "img_path = joinpath(folder,\"Co_minus_pre_VV.png\")\n",
    "FileIO.save(img_path,img);\n",
    "\n",
    "k = 1/1.4\n",
    "pre = db_scale_img((VH[2] .+VH[3])./2,min_vh,max_vh) \n",
    "co = db_scale_img(VH[1],min_vh,max_vh)\n",
    "co = co.^k\n",
    "pre = pre.^k\n",
    "img = Colors.RGB{Float32}.(pre,co,co);\n",
    "img_path = joinpath(folder,\"pretty_VH.png\")\n",
    "FileIO.save(img_path,img);\n",
    "\n",
    "img = Colors.Gray.(db_scale_img_diff(co,pre,-3,3)); \n",
    "img_path = joinpath(folder,\"Co_minus_pre_VH.png\")\n",
    "FileIO.save(img_path,img);"
   ]
  },
  {
   "cell_type": "code",
   "execution_count": 88,
   "metadata": {},
   "outputs": [],
   "source": [
    "bands = [[db_scale_img(VV[i],min_vv,max_vv),db_scale_img(VH[i],min_vh,max_vh),db_scale_img(VH[i]./VV[i],min_r,max_r)]\n",
    "        for i in 1:3]\n",
    "\n",
    "img = Colors.RGB{Float32}.(bands[1]...);\n",
    "img_path = joinpath(folder,\"Pol1.png\")\n",
    "FileIO.save(img_path,img);\n",
    "\n",
    "img = Colors.RGB{Float32}.(bands[2]...);\n",
    "img_path = joinpath(folder,\"Pol2.png\")\n",
    "FileIO.save(img_path,img);\n",
    "\n",
    "img = Colors.RGB{Float32}.(bands[3]...);\n",
    "img_path = joinpath(folder,\"Pol3.png\")\n",
    "FileIO.save(img_path,img);"
   ]
  },
  {
   "cell_type": "code",
   "execution_count": 89,
   "metadata": {},
   "outputs": [],
   "source": [
    "delta_gamma = (abs.(co_gamma).-abs.(pre_gamma).+0.5)\n",
    "\n",
    "delta_gamma[delta_gamma.<0] .= 0\n",
    "delta_gamma[delta_gamma.> 0.5] .= 0.5\n",
    "delta_gamma[abs.(pre_gamma) .<0.2] .= 0.5\n",
    "\n",
    "delta_gamma = delta_gamma\n",
    "k = 1/1.4\n",
    "pre = db_scale_img((VV[2] .+VV[3])./2,min_vv,max_vv) \n",
    "co = db_scale_img(VV[1],min_vv,max_vv) \n",
    "co = co.^k\n",
    "pre = pre.^k\n",
    "img = Colors.RGB{Float32}.(pre,co,delta_gamma);\n",
    "img_path = joinpath(folder,\"combi_test_VV.png\")\n",
    "FileIO.save(img_path,img);\n"
   ]
  },
  {
   "cell_type": "code",
   "execution_count": 90,
   "metadata": {},
   "outputs": [],
   "source": [
    "delta_gamma = (abs.(co_gamma).-abs.(pre_gamma).+0.5)\n",
    "\n",
    "delta_gamma[delta_gamma.<0] .= 0\n",
    "delta_gamma[delta_gamma.> 0.5] .= 0.5\n",
    "delta_gamma[abs.(pre_gamma) .<0.2] .= 0.5\n",
    "\n",
    "delta_gamma = delta_gamma\n",
    "k = 1/1.4\n",
    "pre = db_scale_img((VV[2] .+VV[3])./2,min_vv,max_vv) \n",
    "co = db_scale_img(VV[1],min_vv,max_vv) \n",
    "co = co.^k\n",
    "pre = pre.^k\n",
    "img = Colors.RGB{Float32}.(pre,co,delta_gamma);\n",
    "img_path = joinpath(folder,\"combi_test_VV.png\")\n",
    "FileIO.save(img_path,img);\n"
   ]
  },
  {
   "cell_type": "code",
   "execution_count": 91,
   "metadata": {},
   "outputs": [],
   "source": [
    "pre = db_scale_img((VV[2] .+VV[3])./2,min_vv,max_vv) \n",
    "co = db_scale_img(VV[1],min_vv,max_vv) \n",
    "coVH = db_scale_img(VH[1],min_vh,max_vh) \n",
    "preVH = db_scale_img((VH[2] .+VH[3])./2,min_vh,max_vh) \n",
    "\n",
    "#wm1 = (pre .- co) .> 0.1\n",
    "wm2 = co .< 0.3;\n",
    "wm3 = (abs.(co_gamma).< 0.3)\n",
    "wm4 = coVH .< 0.3;\n",
    "\n",
    "wm_red =  wm2 .+ wm3 .+ wm4\n",
    "\n",
    "wm_red = wm_red .> 2.5\n",
    "red = copy(co)\n",
    "red[wm_red] .= 1\n",
    "\n",
    "\n",
    "#wm1 = coVH .< 0.2\n",
    "#wm2 = co .< 0.2;\n",
    "wm3 = pre .< 0.3;\n",
    "wm4 = preVH .< 0.3;\n",
    "wm5 = (abs.(pre_gamma).< 0.5)\n",
    "\n",
    "wm = wm3 .+ 1.5 .* wm4 .+ 2 .* wm5\n",
    "\n",
    "wm = wm .> 3\n",
    "blue = copy(co)\n",
    "blue[wm] .= 1\n",
    "\n",
    "red[wm .& wm_red] .= 0\n",
    "\n",
    "\n",
    "img = Colors.RGB{Float32}.(red,co,blue);\n",
    "img_path = joinpath(folder,\"water.png\")\n",
    "\n",
    "FileIO.save(img_path,img);"
   ]
  },
  {
   "cell_type": "code",
   "execution_count": null,
   "metadata": {},
   "outputs": [],
   "source": []
  },
  {
   "cell_type": "code",
   "execution_count": null,
   "metadata": {},
   "outputs": [],
   "source": []
  },
  {
   "cell_type": "code",
   "execution_count": null,
   "metadata": {},
   "outputs": [],
   "source": []
  }
 ],
 "metadata": {
  "kernelspec": {
   "display_name": "Julia 1.3.1",
   "language": "julia",
   "name": "julia-1.3"
  },
  "language_info": {
   "file_extension": ".jl",
   "mimetype": "application/julia",
   "name": "julia",
   "version": "1.3.1"
  }
 },
 "nbformat": 4,
 "nbformat_minor": 2
}
