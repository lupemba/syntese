{
 "cells": [
  {
   "cell_type": "code",
   "execution_count": 1,
   "metadata": {},
   "outputs": [],
   "source": [
    "include(\"../ToolBox/ToolBox.jl\")\n",
    "import JLD\n",
    "import FileIO\n",
    "using .ToolBox\n",
    "using .Geometry\n",
    "using Colors"
   ]
  },
  {
   "cell_type": "code",
   "execution_count": 2,
   "metadata": {},
   "outputs": [
    {
     "data": {
      "text/plain": [
       "preprocess3_v1 (generic function with 2 methods)"
      ]
     },
     "execution_count": 2,
     "metadata": {},
     "output_type": "execute_result"
    }
   ],
   "source": [
    "function preprocess3_v1(product_folders, master_view, dem_path, subswath, result_folder, dem_nan,kernel = ones(4,14))\n",
    "    \n",
    "    n_coherence = length(product_folders)-1\n",
    "    dem = 0\n",
    "    lut1 = 0\n",
    "    lut2 = 0\n",
    "    lut_status = [false,false]\n",
    "    precise_orbit = 0\n",
    "    master_data = 0\n",
    "    lines = 0\n",
    "    samples = 0\n",
    "    \n",
    "    stride_line = floor(Int,size(kernel)[1]/2)\n",
    "    stride_sample = floor(Int,size(kernel)[2]/2)\n",
    "    \n",
    "    # Save folder names\n",
    "    path = joinpath(result_folder,\"product_folders.txt\")\n",
    "    open(path, \"w\") do io\n",
    "        for folder in product_folders\n",
    "            write(io, folder * \"\\n\")\n",
    "        end\n",
    "    end;\n",
    "    \n",
    "    # get pod paths\n",
    "    pod_paths = [Load.pod_path(folder) for folder in product_folders]\n",
    "    \n",
    "    for polarization in [\"VV\",\"VH\"]\n",
    "        \n",
    "        println(polarization)\n",
    "        # get paths\n",
    "        file_paths = [Load.slc_paths(folder, polarization, subswath) for folder in product_folders]\n",
    "        meta = [Load.slc_meta(path[2]) for path in file_paths]\n",
    "        calibration = [Load.slc_calibration(file_paths[i][3],meta[i][\"t_0\"]) \n",
    "                                    for i in 1:length(product_folders)];\n",
    "        # load pod\n",
    "        if precise_orbit == 0\n",
    "            println(\"load POD\")\n",
    "            precise_orbit = [Load.precise_orbit(pod_paths[i],meta[i][\"t_0\"]) \n",
    "                                    for i in 1:length(product_folders)]\n",
    "        end\n",
    "        \n",
    "        # load DEM\n",
    "        if dem == 0\n",
    "            println(\"load DEM\")\n",
    "            pad = 0.1\n",
    "            dem = JLD.load(dem_path);\n",
    "            footprint = SlcUtil.footprint(meta[2], master_view)\n",
    "            latlon_window = ((minimum(footprint[1]), maximum(footprint[1])), (minimum(footprint[2]), maximum(footprint[2])))\n",
    "            idx1 =(latlon_window[1][1] - pad) .<dem[\"lat\"].< (latlon_window[1][2] + pad)\n",
    "            idx2 =(latlon_window[2][1] - pad) .<dem[\"lon\"].< (latlon_window[2][2] + pad)\n",
    "            dem = (dem[\"lat\"][idx1], dem[\"lon\"][idx2], dem[\"height\"][idx1,idx2]);\n",
    "            dem[3][dem[3].== -32768] .= dem_nan; \n",
    "        end\n",
    "        \n",
    "        for i in 1:n_coherence\n",
    "            println(\"i: \",i)\n",
    "            if i == 1\n",
    "                lut = lut1\n",
    "                index = [2,1]\n",
    "            else\n",
    "                lut = lut2\n",
    "                index = [2,3]\n",
    "            end\n",
    "            \n",
    "            # coreg_slave data\n",
    "            if !(lut_status[i])\n",
    "                println(\"coreg no lut\")\n",
    "                slave_data,flat,lut =  coregister_slave(master_view,file_paths[index[2]][1],\n",
    "                                                        meta[index],precise_orbit[index],dem)\n",
    "                # save lut\n",
    "                if i==1\n",
    "                    lut1 = lut\n",
    "                else\n",
    "                    lut2 = lut\n",
    "                end\n",
    "                lut_status[i] = true\n",
    "                lut_path = joinpath(result_folder,string(index[1])*string(index[2])*\"_lut.jld\")\n",
    "                JLD.save(lut_path, \"data\", lut)\n",
    "                \n",
    "            else\n",
    "                println(\"coreg with lut\")\n",
    "                slave_data,flat =  coregister_slave(master_view,file_paths[index[2]][1],\n",
    "                                                        meta[index],precise_orbit[index],dem,lut)\n",
    "            end\n",
    "            \n",
    "            slave_data,mosaic_view = SlcUtil.mosaic(slave_data,master_view,meta[index[1]]);\n",
    "            flat,mosaic_view = SlcUtil.mosaic(flat,master_view,meta[index[1]]);\n",
    "            slave_data = SlcUtil.calibrate_slave_data(slave_data, mosaic_view,lut1, calibration[index[2]]);\n",
    "            \n",
    "            if i == 1\n",
    "            # Get master data\n",
    "                master_data = Load.slc_data(file_paths[index[1]][1],master_view);\n",
    "                master_data,mosaic_view = SlcUtil.mosaic(master_data,master_view,meta[index[1]]);\n",
    "                master_data = SlcUtil.calibrate_data(master_data, Misc.flatten(mosaic_view...)..., calibration[index[1]]);\n",
    "            end\n",
    "\n",
    "            # Compute coherence\n",
    "            complex_coherence, master_intensity, slave_intensity, lines, samples = SlcUtil.complex_coherence(\n",
    "                                                                master_data, slave_data, flat, kernel, mosaic_view);\n",
    "\n",
    "            slave_data = 0\n",
    "\n",
    "            # subsample \n",
    "            complex_coherence = complex_coherence[1:stride_line:end,1:stride_sample:end]\n",
    "            slave_intensity = slave_intensity[1:stride_line:end,1:stride_sample:end]\n",
    "            \n",
    "            # save \n",
    "            slave_path = joinpath(result_folder,string(index[2])*polarization*\"_itens.jld\")\n",
    "            master_path = joinpath(result_folder,string(index[1])*polarization*\"_itens.jld\")\n",
    "            coherence_path = joinpath(result_folder,string(index[1])*string(index[2])*\n",
    "                                                            polarization*\"_coher.jld\")\n",
    "            println(\"Save\")\n",
    "            JLD.save(slave_path, \"data\", slave_intensity)\n",
    "            JLD.save(coherence_path, \"data\", complex_coherence)\n",
    "            if i == 1\n",
    "                println(\"Save master intens\")\n",
    "                master_intensity = master_intensity[1:stride_line:end,1:stride_sample:end]\n",
    "                JLD.save(master_path, \"data\", master_intensity)\n",
    "            end\n",
    "            \n",
    "        end\n",
    "        \n",
    "    end\n",
    "    \n",
    "    println(\"Save AUX info\")\n",
    "    lines = lines[1:stride_line:end]\n",
    "    samples = samples[1:stride_sample:end]\n",
    "    \n",
    "    # save lines and samples \n",
    "    line_sample_path = joinpath(result_folder,\"line_sample.jld\")\n",
    "    JLD.save(line_sample_path, \"lines\", lines, \"samples\", samples)\n",
    "    \n",
    "    # Save heights\n",
    "    heights = Misc.interp_grid(lut1[\"master_line\"] ,lut1[\"master_sample\"],\n",
    "        reshape(lut1[\"heights\"],(length(lut1[\"master_line\"]),length(lut1[\"master_sample\"])))\n",
    "        ,lines, samples);\n",
    "    \n",
    "    heights_path = joinpath(result_folder,\"heights.jld\")\n",
    "    JLD.save(heights_path, \"data\", heights)\n",
    "    \n",
    "    return 1\n",
    "    \n",
    "end"
   ]
  },
  {
   "cell_type": "markdown",
   "metadata": {},
   "source": [
    "# Huston "
   ]
  },
  {
   "cell_type": "code",
   "execution_count": 4,
   "metadata": {},
   "outputs": [],
   "source": [
    "dem_path = \"/Users/simon/Data/DEM/houston_small.jld\";\n",
    "dem_nan = -25;\n",
    "\n",
    "co_folder = \"/Users/simon/Data/Sentinel/houston/S1B_IW_SLC__1SDV_20170830T122203_20170830T122233_007169_00CA2C_C92C.SAFE\"\n",
    "pre1_folder = \"/Users/simon/Data/Sentinel/houston/S1A_IW_SLC__1SDV_20170824T122248_20170824T122318_018065_01E54E_5C27.SAFE\"\n",
    "pre2_folder = \"/Users/simon/Data/Sentinel/houston/S1B_IW_SLC__1SDV_20170818T122205_20170818T122235_006994_00C525_0F49.SAFE\"\n",
    "product_folders = [co_folder,pre1_folder,pre2_folder];"
   ]
  },
  {
   "cell_type": "markdown",
   "metadata": {},
   "source": [
    "### River"
   ]
  },
  {
   "cell_type": "code",
   "execution_count": 5,
   "metadata": {},
   "outputs": [
    {
     "name": "stdout",
     "output_type": "stream",
     "text": [
      "VV\n",
      "load POD\n",
      "load DEM\n",
      "i: 1\n",
      "coreg no lut\n",
      "Save\n",
      "Save master intens\n",
      "i: 2\n",
      "coreg no lut\n",
      "Save\n",
      "VH\n",
      "i: 1\n",
      "coreg with lut\n",
      "Save\n",
      "Save master intens\n",
      "i: 2\n",
      "coreg with lut\n",
      "Save\n",
      "Save AUX info\n"
     ]
    },
    {
     "data": {
      "text/plain": [
       "1"
      ]
     },
     "execution_count": 5,
     "metadata": {},
     "output_type": "execute_result"
    }
   ],
   "source": [
    "result_folder = \"/Users/simon/Documents/DTU fag/Speciale/results/houston/river_BAB\"\n",
    "master_B_view = [7600:9500,7000:15000];\n",
    "\n",
    "preprocess3_v1(product_folders,master_B_view,dem_path,1, result_folder,dem_nan)"
   ]
  },
  {
   "cell_type": "markdown",
   "metadata": {},
   "source": [
    "### city center"
   ]
  },
  {
   "cell_type": "code",
   "execution_count": 5,
   "metadata": {},
   "outputs": [
    {
     "name": "stdout",
     "output_type": "stream",
     "text": [
      "VV\n",
      "load POD\n",
      "load DEM\n",
      "i: 1\n",
      "coreg no lut\n",
      "Save\n",
      "Save master intens\n",
      "i: 2\n",
      "coreg no lut\n",
      "Save\n",
      "VH\n",
      "i: 1\n",
      "coreg with lut\n",
      "Save\n",
      "Save master intens\n",
      "i: 2\n",
      "coreg with lut\n",
      "Save\n"
     ]
    },
    {
     "data": {
      "text/plain": [
       "1"
      ]
     },
     "execution_count": 5,
     "metadata": {},
     "output_type": "execute_result"
    }
   ],
   "source": [
    "result_folder = \"/Users/simon/Documents/DTU fag/Speciale/results/houston/city_center_BAB\"\n",
    "master_B_view = [7600:9500,11000:19000];\n",
    "\n",
    "preprocess3_v1(product_folders,master_B_view,dem_path,1, result_folder,dem_nan)"
   ]
  },
  {
   "cell_type": "markdown",
   "metadata": {},
   "source": [
    "### Resovior"
   ]
  },
  {
   "cell_type": "code",
   "execution_count": 9,
   "metadata": {},
   "outputs": [
    {
     "name": "stdout",
     "output_type": "stream",
     "text": [
      "VV\n",
      "load POD\n",
      "load DEM\n",
      "i: 1\n",
      "coreg no lut\n",
      "Save\n",
      "Save master intens\n",
      "i: 2\n",
      "coreg no lut\n",
      "Save\n",
      "VH\n",
      "i: 1\n",
      "coreg with lut\n",
      "Save\n",
      "Save master intens\n",
      "i: 2\n",
      "coreg with lut\n",
      "Save\n"
     ]
    },
    {
     "data": {
      "text/plain": [
       "1"
      ]
     },
     "execution_count": 9,
     "metadata": {},
     "output_type": "execute_result"
    }
   ],
   "source": [
    "result_folder = \"/Users/simon/Documents/DTU fag/Speciale/results/houston/resovoir_BAB\"\n",
    "master_B_view = [7000:9500,500:5000];\n",
    "\n",
    "preprocess3_v1(product_folders,master_B_view,dem_path,2, result_folder,dem_nan)"
   ]
  },
  {
   "cell_type": "markdown",
   "metadata": {},
   "source": [
    "## Vejle"
   ]
  },
  {
   "cell_type": "code",
   "execution_count": 3,
   "metadata": {},
   "outputs": [],
   "source": [
    "dem_path = \"/Users/simon/Data/DEM/denmark.jld\";\n",
    "dem_nan = 40;"
   ]
  },
  {
   "cell_type": "code",
   "execution_count": 4,
   "metadata": {},
   "outputs": [
    {
     "name": "stdout",
     "output_type": "stream",
     "text": [
      "VV\n",
      "load POD\n",
      "load DEM\n",
      "i: 1\n",
      "coreg no lut\n",
      "Save\n",
      "Save master intens\n",
      "i: 2\n",
      "coreg no lut\n",
      "Save\n",
      "VH\n",
      "i: 1\n",
      "coreg with lut\n",
      "Save\n",
      "Save master intens\n",
      "i: 2\n",
      "coreg with lut\n",
      "Save\n",
      "Save AUX info\n"
     ]
    },
    {
     "data": {
      "text/plain": [
       "1"
      ]
     },
     "execution_count": 4,
     "metadata": {},
     "output_type": "execute_result"
    }
   ],
   "source": [
    "\n",
    "\n",
    "co_folder =   \"/Users/simon/Data/Sentinel/vejle_2020/S1A_IW_SLC__1SDV_20200217T053252_20200217T053319_031288_03996E_8F3C.SAFE\"\n",
    "pre1_folder = \"/Users/simon/Data/Sentinel/vejle_2020/S1B_IW_SLC__1SDV_20200211T053200_20200211T053227_020217_026479_5817.SAFE\"\n",
    "pre2_folder = \"/Users/simon/Data/Sentinel/vejle_2020/S1A_IW_SLC__1SDV_20200205T053252_20200205T053319_031113_039360_7E5C.SAFE\"\n",
    "\n",
    "result_folder = \"/Users/simon/Documents/DTU fag/Speciale/results/vejle_2020/factory_kolding\"\n",
    "\n",
    "master_A_view = [7800:9600,10000:20000];\n",
    "product_folders = [co_folder,pre1_folder,pre2_folder];\n",
    "\n",
    "preprocess3_v1(product_folders,master_A_view,dem_path,3, result_folder,dem_nan)"
   ]
  },
  {
   "cell_type": "code",
   "execution_count": 4,
   "metadata": {},
   "outputs": [
    {
     "name": "stdout",
     "output_type": "stream",
     "text": [
      "VV\n",
      "load POD\n",
      "load DEM\n",
      "i: 1\n",
      "coreg no lut\n",
      "Save\n",
      "Save master intens\n",
      "i: 2\n",
      "coreg no lut\n",
      "Save\n",
      "VH\n",
      "i: 1\n",
      "coreg with lut\n",
      "Save\n",
      "Save master intens\n",
      "i: 2\n",
      "coreg with lut\n",
      "Save\n",
      "Save AUX info\n"
     ]
    },
    {
     "data": {
      "text/plain": [
       "1"
      ]
     },
     "execution_count": 4,
     "metadata": {},
     "output_type": "execute_result"
    }
   ],
   "source": [
    "co_folder =   \"/Users/simon/Data/Sentinel/vejle_2020/S1A_IW_SLC__1SDV_20200217T053252_20200217T053319_031288_03996E_8F3C.SAFE\"\n",
    "pre1_folder = \"/Users/simon/Data/Sentinel/vejle_2020/S1B_IW_SLC__1SDV_20200211T053200_20200211T053227_020217_026479_5817.SAFE\"\n",
    "pre2_folder = \"/Users/simon/Data/Sentinel/vejle_2020/S1A_IW_SLC__1SDV_20200205T053252_20200205T053319_031113_039360_7E5C.SAFE\"\n",
    "\n",
    "result_folder = \"/Users/simon/Documents/DTU fag/Speciale/results/vejle_2020/factory\"\n",
    "\n",
    "master_A_view = [6200:7800,10000:20000];;\n",
    "product_folders = [co_folder,pre1_folder,pre2_folder];\n",
    "\n",
    "preprocess3_v1(product_folders,master_A_view,dem_path,3, result_folder,dem_nan)\n"
   ]
  },
  {
   "cell_type": "code",
   "execution_count": 11,
   "metadata": {
    "scrolled": true
   },
   "outputs": [
    {
     "name": "stdout",
     "output_type": "stream",
     "text": [
      "VV\n",
      "load POD\n",
      "load DEM\n",
      "i: 1\n",
      "coreg no lut\n",
      "Save\n",
      "Save master intens\n",
      "i: 2\n",
      "coreg no lut\n",
      "Save\n",
      "VH\n",
      "i: 1\n",
      "coreg with lut\n",
      "Save\n",
      "Save master intens\n",
      "i: 2\n",
      "coreg with lut\n",
      "Save\n",
      "Save AUX info\n"
     ]
    },
    {
     "data": {
      "text/plain": [
       "1"
      ]
     },
     "execution_count": 11,
     "metadata": {},
     "output_type": "execute_result"
    }
   ],
   "source": [
    "co_folder = \"/Volumes/VERBATIM HD/Data_sentinel/vejle_oktober/S1A_IW_SLC__1SDV_20191011T170932_20191011T170959_029414_035865_06AB.SAFE\"\n",
    "pre1_folder = \"/Volumes/VERBATIM HD/Data_sentinel/vejle_oktober/S1A_IW_SLC__1SDV_20190929T170932_20190929T170959_029239_035263_C3F9.SAFE\"\n",
    "pre2_folder = \"/Volumes/VERBATIM HD/Data_sentinel/vejle_oktober/S1A_IW_SLC__1SDV_20190917T170931_20190917T170958_029064_034C5E_2484.SAFE\"\n",
    "result_folder = \"/Users/simon/Documents/DTU fag/Speciale/results/vejle_oktober_AAA\"\n",
    "\n",
    "master_A_view = [8000:10000,1200:6000];\n",
    "product_folders = [co_folder,pre1_folder,pre2_folder];\n",
    "\n",
    "preprocess3_v1(product_folders,master_A_view,dem_path,3, result_folder,dem_nan)"
   ]
  },
  {
   "cell_type": "code",
   "execution_count": 6,
   "metadata": {},
   "outputs": [
    {
     "name": "stdout",
     "output_type": "stream",
     "text": [
      "VV\n",
      "load POD\n",
      "load DEM\n",
      "i: 1\n",
      "coreg no lut\n",
      "Save\n",
      "Save master intens\n",
      "i: 2\n",
      "coreg no lut\n",
      "Save\n",
      "VH\n",
      "i: 1\n",
      "coreg with lut\n",
      "Save\n",
      "Save master intens\n",
      "i: 2\n",
      "coreg with lut\n",
      "Save\n",
      "Save AUX info\n"
     ]
    },
    {
     "data": {
      "text/plain": [
       "1"
      ]
     },
     "execution_count": 6,
     "metadata": {},
     "output_type": "execute_result"
    }
   ],
   "source": [
    "co_folder = \"/Users/simon/Data/Sentinel/vejle_oktober/S1A_IW_SLC__1SDV_20191011T170932_20191011T170959_029414_035865_06AB.SAFE\"\n",
    "pre1_folder = \"/Users/simon/Data/Sentinel/vejle_oktober/S1B_IW_SLC__1SDV_20191005T170849_20191005T170916_018343_0228DC_F565.SAFE\"\n",
    "pre2_folder = \"/Users/simon/Data/Sentinel/vejle_oktober/S1A_IW_SLC__1SDV_20190929T170932_20190929T170959_029239_035263_C3F9.SAFE\"\n",
    "\n",
    "result_folder = \"/Users/simon/Documents/DTU fag/Speciale/results/vejle_oktober_ABA\"\n",
    "\n",
    "product_folders = [co_folder,pre1_folder,pre2_folder];\n",
    "\n",
    "master_B_view = [9500:11500,1200:6000];\n",
    "\n",
    "preprocess3_v1(product_folders,master_B_view,dem_path,3, result_folder,dem_nan)"
   ]
  },
  {
   "cell_type": "markdown",
   "metadata": {},
   "source": [
    "## Vejle / ribe 4"
   ]
  },
  {
   "cell_type": "code",
   "execution_count": 3,
   "metadata": {},
   "outputs": [
    {
     "data": {
      "text/plain": [
       "\"/Users/simon/Data/Sentinel/south_jutland_jan/S1A_IW_SLC__1SDV_20200208T170928_20200208T170956_031164_03953C_E56D.SAFE\""
      ]
     },
     "execution_count": 3,
     "metadata": {},
     "output_type": "execute_result"
    }
   ],
   "source": [
    "dem_path = \"/Users/simon/Data/DEM/denmark.jld\";\n",
    "dem_nan = 40;\n",
    "\n",
    "co_folder =   \"/Users/simon/Data/Sentinel/south_jutland_jan/S1A_IW_SLC__1SDV_20200220T170928_20200220T170955_031339_039B3F_8FCB.SAFE\"\n",
    "pre1_folder = \"/Users/simon/Data/Sentinel/south_jutland_jan/S1B_IW_SLC__1SDV_20200214T170846_20200214T170913_020268_026619_0A0D.SAFE\"\n",
    "pre2_folder = \"/Users/simon/Data/Sentinel/south_jutland_jan/S1A_IW_SLC__1SDV_20200208T170928_20200208T170956_031164_03953C_E56D.SAFE\"\n"
   ]
  },
  {
   "cell_type": "code",
   "execution_count": 5,
   "metadata": {},
   "outputs": [
    {
     "name": "stdout",
     "output_type": "stream",
     "text": [
      "POE not found. Dowload initiated\n",
      "No POE avalible, Get RES instead\n"
     ]
    },
    {
     "name": "stderr",
     "output_type": "stream",
     "text": [
      "  % Total    % Received % Xferd  Average Speed   Time    Time     Time  Current\n",
      "                                 Dload  Upload   Total   Spent    Left  Speed\n",
      "\r",
      "  0     0    0     0    0     0      0      0 --:--:-- --:--:-- --:--:--     0"
     ]
    },
    {
     "name": "stdout",
     "output_type": "stream",
     "text": [
      "POE not found. Dowload initiated\n"
     ]
    },
    {
     "name": "stderr",
     "output_type": "stream",
     "text": [
      "\r",
      "100  546k  100  546k    0     0   732k      0 --:--:-- --:--:-- --:--:--  732k\n"
     ]
    },
    {
     "name": "stdout",
     "output_type": "stream",
     "text": [
      "No POE avalible, Get RES instead\n"
     ]
    },
    {
     "name": "stderr",
     "output_type": "stream",
     "text": [
      "  % Total    % Received % Xferd  Average Speed   Time    Time     Time  Current\n",
      "                                 Dload  Upload   Total   Spent    Left  Speed\n",
      "\r",
      "  0     0    0     0    0     0      0      0 --:--:-- --:--:-- --:--:--     0\r",
      "  0     0    0     0    0     0      0      0 --:--:-- --:--:-- --:--:--     0"
     ]
    },
    {
     "name": "stdout",
     "output_type": "stream",
     "text": [
      "VV\n"
     ]
    },
    {
     "name": "stderr",
     "output_type": "stream",
     "text": [
      "\r",
      "100  546k  100  546k    0     0   814k      0 --:--:-- --:--:-- --:--:--  813k\n"
     ]
    },
    {
     "name": "stdout",
     "output_type": "stream",
     "text": [
      "load POD\n",
      "load DEM\n",
      "i: 1\n",
      "coreg no lut\n",
      "Save\n",
      "Save master intens\n",
      "i: 2\n",
      "coreg no lut\n",
      "Save\n",
      "VH\n",
      "i: 1\n",
      "coreg with lut\n",
      "Save\n",
      "Save master intens\n",
      "i: 2\n",
      "coreg with lut\n",
      "Save\n",
      "Save AUX info\n"
     ]
    },
    {
     "data": {
      "text/plain": [
       "1"
      ]
     },
     "execution_count": 5,
     "metadata": {},
     "output_type": "execute_result"
    }
   ],
   "source": [
    "\n",
    "\n",
    "# Vejle \n",
    "result_folder = \"/Users/simon/Documents/DTU fag/Speciale/results/south_jutland_jan/vejle_1\"\n",
    "\n",
    "master_A_view = [9000:11300,1000:10000];\n",
    "product_folders = [co_folder,pre1_folder,pre2_folder];\n",
    "\n",
    "preprocess3_v1(product_folders,master_A_view,dem_path,3, result_folder,dem_nan)"
   ]
  },
  {
   "cell_type": "code",
   "execution_count": 6,
   "metadata": {},
   "outputs": [
    {
     "name": "stdout",
     "output_type": "stream",
     "text": [
      "VV\n",
      "load POD\n",
      "load DEM\n",
      "i: 1\n",
      "coreg no lut\n",
      "Save\n",
      "Save master intens\n",
      "i: 2\n",
      "coreg no lut\n",
      "Save\n",
      "VH\n",
      "i: 1\n",
      "coreg with lut\n",
      "Save\n",
      "Save master intens\n",
      "i: 2\n",
      "coreg with lut\n",
      "Save\n",
      "Save AUX info\n"
     ]
    },
    {
     "data": {
      "text/plain": [
       "1"
      ]
     },
     "execution_count": 6,
     "metadata": {},
     "output_type": "execute_result"
    }
   ],
   "source": [
    "# Vejle 2\n",
    "result_folder = \"/Users/simon/Documents/DTU fag/Speciale/results/south_jutland_jan/vejle_2\"\n",
    "\n",
    "master_A_view = [10500:12800,16000:25300];\n",
    "product_folders = [co_folder,pre1_folder,pre2_folder];\n",
    "\n",
    "preprocess3_v1(product_folders,master_A_view,dem_path,2, result_folder,dem_nan)\n",
    "\n"
   ]
  },
  {
   "cell_type": "code",
   "execution_count": 4,
   "metadata": {},
   "outputs": [
    {
     "name": "stdout",
     "output_type": "stream",
     "text": [
      "VV\n",
      "load POD\n",
      "load DEM\n",
      "i: 1\n",
      "coreg no lut\n",
      "Save\n",
      "Save master intens\n",
      "i: 2\n",
      "coreg no lut\n",
      "Save\n",
      "VH\n",
      "i: 1\n",
      "coreg with lut\n",
      "Save\n",
      "Save master intens\n",
      "i: 2\n",
      "coreg with lut\n",
      "Save\n",
      "Save AUX info\n"
     ]
    },
    {
     "data": {
      "text/plain": [
       "1"
      ]
     },
     "execution_count": 4,
     "metadata": {},
     "output_type": "execute_result"
    }
   ],
   "source": [
    "# Ribe \n",
    "result_folder = \"/Users/simon/Documents/DTU fag/Speciale/results/south_jutland_jan/ribe\"\n",
    "\n",
    "master_A_view = [6200:8000,4000:16000];\n",
    "product_folders = [co_folder,pre1_folder,pre2_folder];\n",
    "\n",
    "preprocess3_v1(product_folders,master_A_view,dem_path,2, result_folder,dem_nan)"
   ]
  },
  {
   "cell_type": "code",
   "execution_count": null,
   "metadata": {},
   "outputs": [],
   "source": []
  }
 ],
 "metadata": {
  "kernelspec": {
   "display_name": "Julia 1.0.4",
   "language": "julia",
   "name": "julia-1.0"
  },
  "language_info": {
   "file_extension": ".jl",
   "mimetype": "application/julia",
   "name": "julia",
   "version": "1.0.4"
  }
 },
 "nbformat": 4,
 "nbformat_minor": 2
}
