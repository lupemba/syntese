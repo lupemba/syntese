{
 "cells": [
  {
   "cell_type": "code",
   "execution_count": 1,
   "metadata": {},
   "outputs": [],
   "source": [
    "include(\"../ToolBox/ToolBox.jl\")\n",
    "import JLD\n",
    "import FileIO\n",
    "using .ToolBox\n",
    "using .Geometry\n",
    "using Colors"
   ]
  },
  {
   "cell_type": "code",
   "execution_count": 2,
   "metadata": {},
   "outputs": [],
   "source": [
    "dem_path = \"/Users/simon/Data/DEM/houston_small.jld\";\n",
    "dem_nan = -25;\n",
    "\n",
    "co_folder = \"/Users/simon/Data/Sentinel/houston/S1B_IW_SLC__1SDV_20170830T122203_20170830T122233_007169_00CA2C_C92C.SAFE\"\n",
    "pre1_folder = \"/Users/simon/Data/Sentinel/houston/S1A_IW_SLC__1SDV_20170824T122248_20170824T122318_018065_01E54E_5C27.SAFE\"\n",
    "pre2_folder = \"/Users/simon/Data/Sentinel/houston/S1B_IW_SLC__1SDV_20170818T122205_20170818T122235_006994_00C525_0F49.SAFE\"\n",
    "product_folders = [co_folder,pre1_folder,pre2_folder];"
   ]
  },
  {
   "cell_type": "code",
   "execution_count": 3,
   "metadata": {
    "scrolled": true
   },
   "outputs": [
    {
     "data": {
      "text/plain": [
       "2"
      ]
     },
     "execution_count": 3,
     "metadata": {},
     "output_type": "execute_result"
    }
   ],
   "source": [
    "target = 2"
   ]
  },
  {
   "cell_type": "code",
   "execution_count": 4,
   "metadata": {},
   "outputs": [
    {
     "data": {
      "text/plain": [
       "2"
      ]
     },
     "execution_count": 4,
     "metadata": {},
     "output_type": "execute_result"
    }
   ],
   "source": [
    "    n_coherence = length(product_folders)-1\n"
   ]
  },
  {
   "cell_type": "code",
   "execution_count": 18,
   "metadata": {},
   "outputs": [
    {
     "data": {
      "text/plain": [
       "2-element Array{Int64,1}:\n",
       " 1\n",
       " 3"
      ]
     },
     "execution_count": 18,
     "metadata": {},
     "output_type": "execute_result"
    }
   ],
   "source": [
    "master_idx = ones(n_coherence)*target\n",
    "slave_idx = collect(1:length(product_folders))\n",
    "slave_idx = slave[slave .!= target]"
   ]
  },
  {
   "cell_type": "code",
   "execution_count": null,
   "metadata": {},
   "outputs": [],
   "source": [
    "lut_array = Array{Any}(undef, n_coherence)"
   ]
  },
  {
   "cell_type": "code",
   "execution_count": 2,
   "metadata": {},
   "outputs": [
    {
     "data": {
      "text/plain": [
       "preprocess3_v1 (generic function with 2 methods)"
      ]
     },
     "execution_count": 2,
     "metadata": {},
     "output_type": "execute_result"
    }
   ],
   "source": [
    "function preprocess3_v1(product_folders, to_one, target, master_view, dem_path, subswath, result_folder, \n",
    "    dem_nan,kernel = ones(4,14))\n",
    "    \n",
    "    folder_idx = collect(1:length(product_folders))\n",
    "    n_coherence = length(product_folders)-1\n",
    "    \n",
    "    if to_one\n",
    "        master_idx = ones(n_coherence)*target\n",
    "        slave_idx = collect(1:length(product_folders))\n",
    "        slave_idx = folder_idx[folder_idx .!= target]\n",
    "    else\n",
    "        master_idx = folder_idx[2:end]\n",
    "        slave_idx = folder_idx[1:end-1]\n",
    "    end\n",
    "    \n",
    "    lut_array = Array{Any}(undef, n_coherence)\n",
    "    lut_array .= Missing\n",
    "    \n",
    "    dem = 0\n",
    "    \n",
    "    precise_orbit = 0\n",
    "    master_data = 0\n",
    "    lines = 0\n",
    "    samples = 0\n",
    "    \n",
    "    stride_line = floor(Int,size(kernel)[1]/2)\n",
    "    stride_sample = floor(Int,size(kernel)[2]/2)\n",
    "    \n",
    "    pod_paths = [Load.pod_path(folder) for folder in product_folders]\n",
    "    \n",
    "    for polarization in [\"VV\",\"VH\"]\n",
    "        \n",
    "        println(polarization)\n",
    "        file_paths = [Load.slc_paths(folder, polarization, subswath) for folder in product_folders]\n",
    "        meta = [Load.slc_meta(path[2]) for path in file_paths]\n",
    "        calibration = [Load.slc_calibration(file_paths[i][3],meta[i][\"t_0\"]) \n",
    "                                    for i in 1:length(product_folders)];\n",
    "        # load pod\n",
    "        if precise_orbit == 0\n",
    "            println(\"load POD\")\n",
    "            precise_orbit = [Load.precise_orbit(pod_paths[i],meta[i][\"t_0\"]) \n",
    "                                    for i in 1:length(product_folders)]\n",
    "        end\n",
    "        \n",
    "        # load DEM\n",
    "        if dem == 0\n",
    "            println(\"load DEM\")\n",
    "            pad = 0.1\n",
    "            dem = JLD.load(dem_path);\n",
    "            footprint = SlcUtil.footprint(meta[2], master_view)\n",
    "            latlon_window = ((minimum(footprint[1]), maximum(footprint[1])), (minimum(footprint[2]), maximum(footprint[2])))\n",
    "            idx1 =(latlon_window[1][1] - pad) .<dem[\"lat\"].< (latlon_window[1][2] + pad)\n",
    "            idx2 =(latlon_window[2][1] - pad) .<dem[\"lon\"].< (latlon_window[2][2] + pad)\n",
    "            dem = (dem[\"lat\"][idx1], dem[\"lon\"][idx2], dem[\"height\"][idx1,idx2]);\n",
    "            dem[3][dem[3].== -32768] .= dem_nan; \n",
    "        end\n",
    "        \n",
    "        for i in 1:n_coherence\n",
    "            println(\"i: \",i)\n",
    "            index = [master_idx[i], slave_idx[i]]\n",
    "            \n",
    "            # coreg_slave data\n",
    "            if lut_array[i] == Missing\n",
    "                println(\"coreg no lut\")\n",
    "                slave_data,flat,lut_array[i] =  coregister_slave(master_view,file_paths[index[2]][1],\n",
    "                                                           meta[index],precise_orbit[index],dem)\n",
    "                lut_path = joinpath(result_folder,string(index[1])*string(index[2])*\"_lut.jld\")\n",
    "                JLD.save(lut_path, \"data\", lut_array[i])\n",
    "                \n",
    "            else\n",
    "                println(\"coreg with lut\")\n",
    "                slave_data,flat =  coregister_slave(master_view,file_paths[index[2]][1],\n",
    "                                                        meta[index],precise_orbit[index],dem,lut_array[i])\n",
    "            end\n",
    "\n",
    "            slave_data,mosaic_view = SlcUtil.mosaic(slave_data,master_view,meta[index[1]]);\n",
    "            flat,mosaic_view = SlcUtil.mosaic(flat,master_view,meta[index[1]]);\n",
    "            slave_data = SlcUtil.calibrate_slave_data(slave_data, mosaic_view,lut1, calibration[index[2]]);\n",
    "            \n",
    "            master_data = Load.slc_data(file_paths[index[1]][1],master_view);\n",
    "            master_data,mosaic_view = SlcUtil.mosaic(master_data,master_view,meta[index[1]]);\n",
    "            master_data = SlcUtil.calibrate_data(master_data, Misc.flatten(mosaic_view...)..., calibration[index[1]]);\n",
    "\n",
    "            # Compute coherence\n",
    "            complex_coherence, master_intensity, slave_intensity, lines, samples = SlcUtil.complex_coherence(\n",
    "                                                                master_data, slave_data, flat, kernel, mosaic_view);\n",
    "            # subsample \n",
    "            complex_coherence = complex_coherence[1:stride_line:end,1:stride_sample:end]\n",
    "            slave_intensity = slave_intensity[1:stride_line:end,1:stride_sample:end]\n",
    "            \n",
    "            # Transform to target cordinates..............................\n",
    "            # Fuck this shit will not work.\n",
    "            # different master views for each coherence \n",
    "            # make to end only and then update old to transform to end image \n",
    "            # To general.\n",
    "            \n",
    "            # save \n",
    "            slave_path = joinpath(result_folder,string(index[2])*polarization*\"_itens.jld\")\n",
    "            master_path = joinpath(result_folder,string(index[1])*polarization*\"_itens.jld\")\n",
    "            coherence_path = joinpath(result_folder,string(index[1])*string(index[2])*\n",
    "                                                            polarization*\"_coher.jld\")\n",
    "            println(\"Save\")\n",
    "            JLD.save(slave_path, \"data\", slave_intensity)\n",
    "            JLD.save(coherence_path, \"data\", complex_coherence)\n",
    "            if i == 1\n",
    "                println(\"Save master intens\")\n",
    "                master_intensity = master_intensity[1:stride_line:end,1:stride_sample:end]\n",
    "                JLD.save(master_path, \"data\", master_intensity)\n",
    "            end\n",
    "            \n",
    "        end\n",
    "        \n",
    "    end\n",
    "    \n",
    "    println(\"Save AUX info\")\n",
    "    lines = lines[1:stride_line:end]\n",
    "    samples = samples[1:stride_sample:end]\n",
    "    \n",
    "    # save lines and samples \n",
    "    line_sample_path = joinpath(result_folder,\"line_sample.jld\")\n",
    "    JLD.save(line_sample_path, \"lines\", lines, \"samples\", samples)\n",
    "    \n",
    "    # Save heights\n",
    "    heights = Misc.interp_grid(lut1[\"master_line\"] ,lut1[\"master_sample\"],\n",
    "        reshape(lut1[\"heights\"],(length(lut1[\"master_line\"]),length(lut1[\"master_sample\"])))\n",
    "        ,lines, samples);\n",
    "    \n",
    "    heights_path = joinpath(result_folder,\"heights.jld\")\n",
    "    JLD.save(heights_path, \"data\", heights)\n",
    "    \n",
    "    return 1\n",
    "    \n",
    "end"
   ]
  },
  {
   "cell_type": "markdown",
   "metadata": {},
   "source": [
    "# Huston "
   ]
  },
  {
   "cell_type": "code",
   "execution_count": 3,
   "metadata": {},
   "outputs": [],
   "source": [
    "dem_path = \"/Users/simon/Data/DEM/houston_small.jld\";\n",
    "dem_nan = -25;\n",
    "\n",
    "co_folder = \"/Users/simon/Data/Sentinel/houston/S1B_IW_SLC__1SDV_20170830T122203_20170830T122233_007169_00CA2C_C92C.SAFE\"\n",
    "pre1_folder = \"/Users/simon/Data/Sentinel/houston/S1A_IW_SLC__1SDV_20170824T122248_20170824T122318_018065_01E54E_5C27.SAFE\"\n",
    "pre2_folder = \"/Users/simon/Data/Sentinel/houston/S1B_IW_SLC__1SDV_20170818T122205_20170818T122235_006994_00C525_0F49.SAFE\"\n",
    "product_folders = [co_folder,pre1_folder,pre2_folder];"
   ]
  },
  {
   "cell_type": "markdown",
   "metadata": {},
   "source": [
    "### River"
   ]
  },
  {
   "cell_type": "code",
   "execution_count": 4,
   "metadata": {},
   "outputs": [
    {
     "name": "stdout",
     "output_type": "stream",
     "text": [
      "VV\n",
      "load POD\n",
      "load DEM\n",
      "i: 1\n",
      "coreg no lut\n",
      "Save\n",
      "Save master intens\n",
      "i: 2\n",
      "coreg no lut\n",
      "Save\n",
      "VH\n",
      "i: 1\n",
      "coreg with lut\n",
      "Save\n",
      "Save master intens\n",
      "i: 2\n",
      "coreg with lut\n",
      "Save\n",
      "Save AUX info\n"
     ]
    },
    {
     "data": {
      "text/plain": [
       "1"
      ]
     },
     "execution_count": 4,
     "metadata": {},
     "output_type": "execute_result"
    }
   ],
   "source": [
    "result_folder = \"/Users/simon/Data/Sentinel/houston/river_BAB\"\n",
    "master_B_view = [7600:9500,7000:15000];\n",
    "\n",
    "preprocess3_v1(product_folders,master_B_view,dem_path,1, result_folder,dem_nan)"
   ]
  },
  {
   "cell_type": "markdown",
   "metadata": {},
   "source": [
    "### city center"
   ]
  },
  {
   "cell_type": "code",
   "execution_count": 4,
   "metadata": {},
   "outputs": [
    {
     "name": "stdout",
     "output_type": "stream",
     "text": [
      "VV\n",
      "load POD\n",
      "load DEM\n",
      "i: 1\n",
      "coreg no lut\n",
      "Save\n",
      "Save master intens\n",
      "i: 2\n",
      "coreg no lut\n",
      "Save\n",
      "VH\n",
      "i: 1\n",
      "coreg with lut\n",
      "Save\n",
      "Save master intens\n",
      "i: 2\n",
      "coreg with lut\n",
      "Save\n",
      "Save AUX info\n"
     ]
    },
    {
     "data": {
      "text/plain": [
       "1"
      ]
     },
     "execution_count": 4,
     "metadata": {},
     "output_type": "execute_result"
    }
   ],
   "source": [
    "result_folder = \"/Users/simon/Data/Sentinel/houston/city_center_BAB\"\n",
    "master_B_view = [7600:9500,11000:19000];\n",
    "\n",
    "preprocess3_v1(product_folders,master_B_view,dem_path,1, result_folder,dem_nan)"
   ]
  },
  {
   "cell_type": "markdown",
   "metadata": {},
   "source": [
    "### Resovior"
   ]
  },
  {
   "cell_type": "code",
   "execution_count": 5,
   "metadata": {},
   "outputs": [
    {
     "name": "stdout",
     "output_type": "stream",
     "text": [
      "VV\n",
      "load POD\n",
      "load DEM\n",
      "i: 1\n",
      "coreg no lut\n",
      "Save\n",
      "Save master intens\n",
      "i: 2\n",
      "coreg no lut\n",
      "Save\n",
      "VH\n",
      "i: 1\n",
      "coreg with lut\n",
      "Save\n",
      "Save master intens\n",
      "i: 2\n",
      "coreg with lut\n",
      "Save\n",
      "Save AUX info\n"
     ]
    },
    {
     "data": {
      "text/plain": [
       "1"
      ]
     },
     "execution_count": 5,
     "metadata": {},
     "output_type": "execute_result"
    }
   ],
   "source": [
    "result_folder = \"/Users/simon/Data/Sentinel/houston/resovoir_BAB\"\n",
    "master_B_view = [7000:9500,500:5000];\n",
    "\n",
    "preprocess3_v1(product_folders,master_B_view,dem_path,2, result_folder,dem_nan)"
   ]
  },
  {
   "cell_type": "markdown",
   "metadata": {},
   "source": [
    "## Vejle"
   ]
  },
  {
   "cell_type": "code",
   "execution_count": 6,
   "metadata": {},
   "outputs": [],
   "source": [
    "dem_path = \"/Users/simon/Data/DEM/denmark.jld\";\n",
    "dem_nan = 40;"
   ]
  },
  {
   "cell_type": "code",
   "execution_count": 7,
   "metadata": {},
   "outputs": [
    {
     "name": "stdout",
     "output_type": "stream",
     "text": [
      "VV\n",
      "load POD\n",
      "load DEM\n",
      "i: 1\n",
      "coreg no lut\n",
      "Save\n",
      "Save master intens\n",
      "i: 2\n",
      "coreg no lut\n",
      "Save\n",
      "VH\n",
      "i: 1\n",
      "coreg with lut\n",
      "Save\n",
      "Save master intens\n",
      "i: 2\n",
      "coreg with lut\n",
      "Save\n",
      "Save AUX info\n"
     ]
    },
    {
     "data": {
      "text/plain": [
       "1"
      ]
     },
     "execution_count": 7,
     "metadata": {},
     "output_type": "execute_result"
    }
   ],
   "source": [
    "co_folder = \"/Users/simon/Data/Sentinel/vejle_oktober/S1A_IW_SLC__1SDV_20191011T170932_20191011T170959_029414_035865_06AB.SAFE\"\n",
    "pre1_folder = \"/Users/simon/Data/Sentinel/vejle_oktober/S1A_IW_SLC__1SDV_20190929T170932_20190929T170959_029239_035263_C3F9.SAFE\"\n",
    "pre2_folder = \"/Users/simon/Data/Sentinel/vejle_oktober/S1A_IW_SLC__1SDV_20190917T170931_20190917T170958_029064_034C5E_2484.SAFE\"\n",
    "\n",
    "result_folder = \"/Users/simon/Data/Sentinel/vejle_oktober/factory_AAA\"\n",
    "\n",
    "master_A_view = [8000:10000,1200:6000];\n",
    "product_folders = [co_folder,pre1_folder,pre2_folder];\n",
    "\n",
    "preprocess3_v1(product_folders,master_A_view,dem_path,3, result_folder,dem_nan)"
   ]
  },
  {
   "cell_type": "code",
   "execution_count": 8,
   "metadata": {},
   "outputs": [
    {
     "name": "stdout",
     "output_type": "stream",
     "text": [
      "VV\n",
      "load POD\n",
      "load DEM\n",
      "i: 1\n",
      "coreg no lut\n",
      "Save\n",
      "Save master intens\n",
      "i: 2\n",
      "coreg no lut\n",
      "Save\n",
      "VH\n",
      "i: 1\n",
      "coreg with lut\n",
      "Save\n",
      "Save master intens\n",
      "i: 2\n",
      "coreg with lut\n",
      "Save\n",
      "Save AUX info\n"
     ]
    },
    {
     "data": {
      "text/plain": [
       "1"
      ]
     },
     "execution_count": 8,
     "metadata": {},
     "output_type": "execute_result"
    }
   ],
   "source": [
    "co_folder = \"/Users/simon/Data/Sentinel/vejle_oktober/S1A_IW_SLC__1SDV_20191011T170932_20191011T170959_029414_035865_06AB.SAFE\"\n",
    "pre1_folder = \"/Users/simon/Data/Sentinel/vejle_oktober/S1B_IW_SLC__1SDV_20191005T170849_20191005T170916_018343_0228DC_F565.SAFE\"\n",
    "pre2_folder = \"/Users/simon/Data/Sentinel/vejle_oktober/S1A_IW_SLC__1SDV_20190929T170932_20190929T170959_029239_035263_C3F9.SAFE\"\n",
    "\n",
    "result_folder = \"/Users/simon/Data/Sentinel/vejle_oktober/factory_ABA\"\n",
    "\n",
    "product_folders = [co_folder,pre1_folder,pre2_folder];\n",
    "\n",
    "master_B_view = [9500:11500,1200:6000];\n",
    "\n",
    "preprocess3_v1(product_folders,master_B_view,dem_path,3, result_folder,dem_nan)"
   ]
  },
  {
   "cell_type": "code",
   "execution_count": null,
   "metadata": {},
   "outputs": [],
   "source": []
  }
 ],
 "metadata": {
  "kernelspec": {
   "display_name": "Julia 1.0.4",
   "language": "julia",
   "name": "julia-1.0"
  },
  "language_info": {
   "file_extension": ".jl",
   "mimetype": "application/julia",
   "name": "julia",
   "version": "1.0.4"
  }
 },
 "nbformat": 4,
 "nbformat_minor": 2
}
