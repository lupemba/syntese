{
 "cells": [
  {
   "cell_type": "code",
   "execution_count": 1,
   "metadata": {},
   "outputs": [],
   "source": [
    "import Dates\n",
    "include(\"../ToolBox/ToolBox.jl\")\n",
    "using .ToolBox\n",
    "using .Geometry"
   ]
  },
  {
   "cell_type": "code",
   "execution_count": 2,
   "metadata": {},
   "outputs": [
    {
     "data": {
      "text/plain": [
       "2017-03-21T05:00:00"
      ]
     },
     "execution_count": 2,
     "metadata": {},
     "output_type": "execute_result"
    }
   ],
   "source": [
    "safe_folder = \"S1A_IW_SLC__1SDV_20170321T054035_20170321T054103_015786_019FEE_8439.SAFE\"\n",
    "mission_id = safe_folder[1:3]\n",
    "t_0 = Load._str2time_v2(safe_folder[18:end])"
   ]
  },
  {
   "cell_type": "code",
   "execution_count": 3,
   "metadata": {},
   "outputs": [
    {
     "data": {
      "text/plain": [
       "download_pod (generic function with 1 method)"
      ]
     },
     "execution_count": 3,
     "metadata": {},
     "output_type": "execute_result"
    }
   ],
   "source": [
    "import HTTP\n",
    "import JSON\n",
    "\n",
    "function download_pod(t_0,mission_id,pod_folder)\n",
    "    \n",
    "    url_base = \"https://qc.sentinel1.eo.esa.int/api/v1/?product_type=AUX_POEORB&validity_stop__gt=\"\n",
    "    url_request = url_base*repr(t_0)*\"&validity_start__lt=\"*repr(t_0)\n",
    "    r = HTTP.request(\"GET\", url_request)\n",
    "    \n",
    "    # check response\n",
    "    @assert r.status == 200\n",
    "    \n",
    "    response = JSON.parse(String(r.body))\n",
    "    \n",
    "    # Find one with correct mission id\n",
    "    names =  [elem[\"physical_name\"] for elem in response[\"results\"]]\n",
    "    index = [elem[1:3] == uppercase(mission_id) for elem in names]\n",
    "    pod_file = response[\"results\"][index][1]\n",
    "    \n",
    "    # download file\n",
    "    pod_path = joinpath(pod_folder,pod_file[\"physical_name\"])\n",
    "    download(pod_file[\"remote_url\"], pod_path)\n",
    "    \n",
    "    return pod_path\n",
    "end"
   ]
  },
  {
   "cell_type": "code",
   "execution_count": 4,
   "metadata": {},
   "outputs": [
    {
     "name": "stderr",
     "output_type": "stream",
     "text": [
      "  % Total    % Received % Xferd  Average Speed   Time    Time     Time  Current\n",
      "                                 Dload  Upload   Total   Spent    Left  Speed\n",
      "100 4306k  100 4306k    0     0  2372k      0  0:00:01  0:00:01 --:--:-- 2371k\n"
     ]
    },
    {
     "data": {
      "text/plain": [
       "\"/Users/simon/Data/Sentinel/POE/test/S1A_OPER_AUX_POEORB_OPOD_20170410T121606_V20170320T225942_20170322T005942.EOF\""
      ]
     },
     "execution_count": 4,
     "metadata": {},
     "output_type": "execute_result"
    }
   ],
   "source": [
    "download_pod(t_0,mission_id,\"/Users/simon/Data/Sentinel/POE/test\")"
   ]
  },
  {
   "cell_type": "code",
   "execution_count": null,
   "metadata": {},
   "outputs": [],
   "source": []
  },
  {
   "cell_type": "code",
   "execution_count": 4,
   "metadata": {
    "scrolled": true
   },
   "outputs": [
    {
     "data": {
      "text/plain": [
       "\"2019-10-05T17:00:00\""
      ]
     },
     "execution_count": 4,
     "metadata": {},
     "output_type": "execute_result"
    }
   ],
   "source": [
    "repr(t_0)"
   ]
  },
  {
   "cell_type": "code",
   "execution_count": null,
   "metadata": {},
   "outputs": [],
   "source": [
    "meta "
   ]
  },
  {
   "cell_type": "code",
   "execution_count": null,
   "metadata": {},
   "outputs": [],
   "source": [
    "url_base = \"https://qc.sentinel1.eo.esa.int/api/v1/?product_type=AUX_POEORB&validity_stop__gt=2019-10-05T17:08:00&validity_start__lt=2019-10-05T17:08:00\""
   ]
  },
  {
   "cell_type": "code",
   "execution_count": 5,
   "metadata": {
    "scrolled": true
   },
   "outputs": [
    {
     "data": {
      "text/plain": [
       "\"https://qc.sentinel1.eo.esa.int/api/v1/?product_type=AUX_POEORB&validity_stop__gt=2019-10-05T17:00:00&validity_start__lt=2019-10-05T17:00:00\""
      ]
     },
     "execution_count": 5,
     "metadata": {},
     "output_type": "execute_result"
    }
   ],
   "source": [
    "url_base = \"https://qc.sentinel1.eo.esa.int/api/v1/?product_type=AUX_POEORB&validity_stop__gt=\"\n",
    "url_request = url_base*repr(t_0)*\"&validity_start__lt=\"*repr(t_0)"
   ]
  },
  {
   "cell_type": "code",
   "execution_count": 6,
   "metadata": {},
   "outputs": [
    {
     "data": {
      "text/plain": [
       "Dict{String,Any} with 4 entries:\n",
       "  \"next\"     => nothing\n",
       "  \"previous\" => nothing\n",
       "  \"count\"    => 2\n",
       "  \"results\"  => Any[Dict{String,Any}(\"creation_date\"=>\"2019-10-25T11:05:47\",\"me…"
      ]
     },
     "execution_count": 6,
     "metadata": {},
     "output_type": "execute_result"
    }
   ],
   "source": [
    "url_base = \"https://qc.sentinel1.eo.esa.int/api/v1/?product_type=AUX_POEORB&validity_stop__gt=\"\n",
    "url_request = url_base*repr(t_0)*\"&validity_start__lt=\"*repr(t_0)\n",
    "r = HTTP.request(\"GET\", url_request)\n",
    "@assert r.status == 200\n",
    "response = JSON.parse(String(r.body))"
   ]
  },
  {
   "cell_type": "code",
   "execution_count": 7,
   "metadata": {},
   "outputs": [
    {
     "data": {
      "text/plain": [
       "Dict{String,Any} with 12 entries:\n",
       "  \"creation_date\"  => \"2019-10-25T11:05:47\"\n",
       "  \"metadata_date\"  => \"2019-10-25T11:20:02.710896\"\n",
       "  \"validity_start\" => \"2019-10-04T22:59:42\"\n",
       "  \"remote_url\"     => \"http://aux.sentinel1.eo.esa.int/POEORB/2019/10/25/S1B_OP…\n",
       "  \"footprint\"      => nothing\n",
       "  \"hash\"           => \"5318cb481f2b32645fa2259382ece81fe91290a7\"\n",
       "  \"product_type\"   => \"AUX_POEORB\"\n",
       "  \"size\"           => 4409730\n",
       "  \"product_name\"   => \"S1B_OPER_AUX_POEORB_OPOD_20191025T110547_V20191004T22594…\n",
       "  \"uuid\"           => \"f0ef40df-ee99-432f-b8b7-527fb6ce496a\"\n",
       "  \"physical_name\"  => \"S1B_OPER_AUX_POEORB_OPOD_20191025T110547_V20191004T22594…\n",
       "  \"validity_stop\"  => \"2019-10-06T00:59:42\""
      ]
     },
     "execution_count": 7,
     "metadata": {},
     "output_type": "execute_result"
    }
   ],
   "source": [
    "names =  [elem[\"physical_name\"] for elem in response[\"results\"]]\n",
    "index = [elem[1:3] == uppercase(mission_id) for elem in names]\n",
    "pod_file = response[\"results\"][index][1]"
   ]
  },
  {
   "cell_type": "code",
   "execution_count": 28,
   "metadata": {},
   "outputs": [
    {
     "data": {
      "text/plain": [
       "\"/Users/simon/Data/Sentinel/POE/test/S1B_OPER_AUX_POEORB_OPOD_20191025T110547_V20191004T225942_20191006T005942.EOF\""
      ]
     },
     "execution_count": 28,
     "metadata": {},
     "output_type": "execute_result"
    }
   ],
   "source": [
    "pod_folder = \"/Users/simon/Data/Sentinel/POE/test\"\n",
    "pod_path = joinpath(pod_folder,pod_file[\"physical_name\"])"
   ]
  },
  {
   "cell_type": "code",
   "execution_count": 29,
   "metadata": {},
   "outputs": [
    {
     "name": "stderr",
     "output_type": "stream",
     "text": [
      "  % Total    % Received % Xferd  Average Speed   Time    Time     Time  Current\n",
      "                                 Dload  Upload   Total   Spent    Left  Speed\n",
      "100 4306k  100 4306k    0     0  2136k      0  0:00:02  0:00:02 --:--:-- 2137k\n"
     ]
    },
    {
     "data": {
      "text/plain": [
       "\"/Users/simon/Data/Sentinel/POE/test/S1B_OPER_AUX_POEORB_OPOD_20191025T110547_V20191004T225942_20191006T005942.EOF\""
      ]
     },
     "execution_count": 29,
     "metadata": {},
     "output_type": "execute_result"
    }
   ],
   "source": [
    "download(pod_file[\"remote_url\"], pod_path)"
   ]
  },
  {
   "cell_type": "code",
   "execution_count": 30,
   "metadata": {},
   "outputs": [
    {
     "name": "stdout",
     "output_type": "stream",
     "text": [
      "search: \u001b[0m\u001b[1md\u001b[22m\u001b[0m\u001b[1mo\u001b[22m\u001b[0m\u001b[1mw\u001b[22m\u001b[0m\u001b[1mn\u001b[22m\u001b[0m\u001b[1ml\u001b[22m\u001b[0m\u001b[1mo\u001b[22m\u001b[0m\u001b[1ma\u001b[22m\u001b[0m\u001b[1md\u001b[22m\n",
      "\n"
     ]
    },
    {
     "data": {
      "text/latex": [
       "\\begin{verbatim}\n",
       "download(url::AbstractString, [localfile::AbstractString])\n",
       "\\end{verbatim}\n",
       "Download a file from the given url, optionally renaming it to the given local file name. Note that this function relies on the availability of external tools such as \\texttt{curl}, \\texttt{wget} or \\texttt{fetch} to download the file and is provided for convenience. For production use or situations in which more options are needed, please use a package that provides the desired functionality instead.\n",
       "\n"
      ],
      "text/markdown": [
       "```\n",
       "download(url::AbstractString, [localfile::AbstractString])\n",
       "```\n",
       "\n",
       "Download a file from the given url, optionally renaming it to the given local file name. Note that this function relies on the availability of external tools such as `curl`, `wget` or `fetch` to download the file and is provided for convenience. For production use or situations in which more options are needed, please use a package that provides the desired functionality instead.\n"
      ],
      "text/plain": [
       "\u001b[36m  download(url::AbstractString, [localfile::AbstractString])\u001b[39m\n",
       "\n",
       "  Download a file from the given url, optionally renaming it to the given\n",
       "  local file name. Note that this function relies on the availability of\n",
       "  external tools such as \u001b[36mcurl\u001b[39m, \u001b[36mwget\u001b[39m or \u001b[36mfetch\u001b[39m to download the file and is\n",
       "  provided for convenience. For production use or situations in which more\n",
       "  options are needed, please use a package that provides the desired\n",
       "  functionality instead."
      ]
     },
     "execution_count": 30,
     "metadata": {},
     "output_type": "execute_result"
    }
   ],
   "source": [
    "?download"
   ]
  },
  {
   "cell_type": "code",
   "execution_count": 9,
   "metadata": {},
   "outputs": [
    {
     "data": {
      "text/plain": [
       "download_pod (generic function with 1 method)"
      ]
     },
     "execution_count": 9,
     "metadata": {},
     "output_type": "execute_result"
    }
   ],
   "source": [
    "import HTTP\n",
    "import JSON\n",
    "\n",
    "function download_pod(t_0,mission_id,pod_folder)\n",
    "    \n",
    "    url_base = \"https://qc.sentinel1.eo.esa.int/api/v1/?product_type=AUX_POEORB&validity_stop__gt=\"\n",
    "    url_request = url_base*repr(t_0)*\"&validity_start__lt=\"*repr(t_0)\n",
    "    r = HTTP.request(\"GET\", url_request)\n",
    "    \n",
    "    # check response\n",
    "    @assert r.status == 200\n",
    "    \n",
    "    response = JSON.parse(String(r.body))\n",
    "    \n",
    "    # Find one with correct mission id\n",
    "    names =  [elem[\"physical_name\"] for elem in response[\"results\"]]\n",
    "    index = [elem[1:3] == uppercase(mission_id) for elem in names]\n",
    "    pod_file = response[\"results\"][index][1]\n",
    "    \n",
    "    # download file\n",
    "    pod_path = joinpath(pod_folder,pod_file[\"physical_name\"])\n",
    "    download(pod_file[\"remote_url\"], pod_path)\n",
    "    \n",
    "    return pod_path\n",
    "end"
   ]
  },
  {
   "cell_type": "code",
   "execution_count": null,
   "metadata": {},
   "outputs": [],
   "source": []
  },
  {
   "cell_type": "code",
   "execution_count": null,
   "metadata": {},
   "outputs": [],
   "source": []
  },
  {
   "cell_type": "code",
   "execution_count": null,
   "metadata": {},
   "outputs": [],
   "source": []
  },
  {
   "cell_type": "code",
   "execution_count": null,
   "metadata": {},
   "outputs": [],
   "source": [
    "aa"
   ]
  }
 ],
 "metadata": {
  "kernelspec": {
   "display_name": "Julia 1.3.1",
   "language": "julia",
   "name": "julia-1.3"
  },
  "language_info": {
   "file_extension": ".jl",
   "mimetype": "application/julia",
   "name": "julia",
   "version": "1.3.1"
  }
 },
 "nbformat": 4,
 "nbformat_minor": 2
}
