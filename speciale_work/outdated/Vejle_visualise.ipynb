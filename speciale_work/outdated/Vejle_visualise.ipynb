{
 "cells": [
  {
   "cell_type": "code",
   "execution_count": null,
   "metadata": {},
   "outputs": [],
   "source": [
    "import JLD\n",
    "using Colors"
   ]
  },
  {
   "cell_type": "code",
   "execution_count": null,
   "metadata": {},
   "outputs": [],
   "source": [
    "folder = \"/Users/simon/Data/Sentinel/vejle_oktober/factory_ABA\""
   ]
  },
  {
   "cell_type": "code",
   "execution_count": null,
   "metadata": {},
   "outputs": [],
   "source": [
    "# Load\n",
    "co_gamma = JLD.load(joinpath(folder,\"21VV_coher.jld\"),\"data\")\n",
    "pre_gamma = JLD.load(joinpath(folder,\"23VV_coher.jld\"),\"data\")\n",
    "\n",
    "VV_paths = [joinpath(folder,string(i)*\"VV_itens.jld\") for i=1:3]\n",
    "VV = [JLD.load(path,\"data\")[end:-1:1,:] for path in VV_paths]\n",
    "VH_paths = [joinpath(folder,string(i)*\"VH_itens.jld\") for i=1:3]\n",
    "VH = [JLD.load(path,\"data\")[end:-1:1,:] for path in VH_paths];"
   ]
  },
  {
   "cell_type": "code",
   "execution_count": null,
   "metadata": {},
   "outputs": [],
   "source": [
    "function db_scale_img(img , min , max)\n",
    "    log_img = (10*log10.(img).-min)./(max-min)\n",
    "    log_img[log_img.>1] .= 1\n",
    "    log_img[log_img.<0] .= 0\n",
    "    return log_img\n",
    "end\n",
    "\n",
    "\n",
    "function plot_co(img , min , max)\n",
    "    log_img = (10*log10.(img).-min)./(max-min)\n",
    "    log_img[log_img.>1] .= 1\n",
    "    log_img[log_img.<0] .= 0\n",
    "    return log_img\n",
    "end"
   ]
  },
  {
   "cell_type": "code",
   "execution_count": null,
   "metadata": {},
   "outputs": [],
   "source": [
    "size(VV[1])"
   ]
  },
  {
   "cell_type": "code",
   "execution_count": null,
   "metadata": {},
   "outputs": [],
   "source": [
    "eltype(VV)"
   ]
  },
  {
   "cell_type": "code",
   "execution_count": null,
   "metadata": {},
   "outputs": [],
   "source": [
    "test = db_scale_img(VV[1],-20,26);"
   ]
  },
  {
   "cell_type": "code",
   "execution_count": null,
   "metadata": {},
   "outputs": [],
   "source": [
    "test"
   ]
  },
  {
   "cell_type": "code",
   "execution_count": null,
   "metadata": {},
   "outputs": [],
   "source": [
    "hallo = Colors.Gray.(test)"
   ]
  },
  {
   "cell_type": "code",
   "execution_count": null,
   "metadata": {},
   "outputs": [],
   "source": []
  },
  {
   "cell_type": "code",
   "execution_count": null,
   "metadata": {},
   "outputs": [],
   "source": [
    "minimum(10*log10.(reshape(VH[1],:))),maximum(10*log10.(reshape(VH[1],:)))"
   ]
  },
  {
   "cell_type": "code",
   "execution_count": null,
   "metadata": {},
   "outputs": [],
   "source": [
    "co_ratio = co_VH./co_VV;\n",
    "co_event = Colors.RGB{Float32}.(scale(co_VV,12,17),scale(co_VH,10,15),scale(co_ratio,-3.5,1.5))[end:-2:1,1:7:end]"
   ]
  },
  {
   "cell_type": "code",
   "execution_count": null,
   "metadata": {},
   "outputs": [],
   "source": [
    "pre1_ratio = pre1_VH./pre1_VV;\n",
    "pre1_event = Colors.RGB{Float32}.(scale(pre1_VV,12,17),scale(pre1_VH,10,15),scale(pre1_ratio,-3.5,1.5))[end:-2:1,1:7:end]"
   ]
  },
  {
   "cell_type": "code",
   "execution_count": null,
   "metadata": {},
   "outputs": [],
   "source": [
    "pre2_ratio = pre2_VH./pre2_VV;\n",
    "pre2_event = Colors.RGB{Float32}.(scale(pre2_VV,12,17),scale(pre2_VH,10,15),scale(pre2_ratio,-3.5,1.5))[end:-2:1,1:7:end]"
   ]
  },
  {
   "cell_type": "code",
   "execution_count": null,
   "metadata": {},
   "outputs": [],
   "source": []
  },
  {
   "cell_type": "code",
   "execution_count": null,
   "metadata": {},
   "outputs": [],
   "source": [
    "## Scale intensity \n",
    "maximum(maximum(log.(co_VH))),minimum(minimum(log.(co_VH)))"
   ]
  },
  {
   "cell_type": "code",
   "execution_count": null,
   "metadata": {},
   "outputs": [],
   "source": [
    "intensVH1 = Colors.RGB{Float32}.(scale(co_VH,10,15),scale(pre1_VH,10,15),scale(pre2_VH,10,15))[end:-2:1,1:7:end]"
   ]
  },
  {
   "cell_type": "code",
   "execution_count": null,
   "metadata": {},
   "outputs": [],
   "source": [
    "preVH = (scale(pre1_VH,10,15) .+ scale(pre2_VH,10,15)) ./2\n",
    "intensVH2= Colors.RGB{Float32}.(scale(co_VH,10,15),preVH,preVH)[end:-2:1,1:7:end]"
   ]
  },
  {
   "cell_type": "code",
   "execution_count": null,
   "metadata": {},
   "outputs": [],
   "source": [
    "## Scale intensity \n",
    "maximum(maximum(log.(co_VV))),minimum(minimum(log.(co_VV)))"
   ]
  },
  {
   "cell_type": "code",
   "execution_count": null,
   "metadata": {},
   "outputs": [],
   "source": [
    "intens1 = Colors.RGB{Float32}.(scale(co_VV,12,17),scale(pre1_VV,12,17),scale(pre2_VV,12,17))[end:-2:1,1:7:end]"
   ]
  },
  {
   "cell_type": "code",
   "execution_count": null,
   "metadata": {},
   "outputs": [],
   "source": [
    "pre = (scale(pre1_VV,12,17) .+ scale(pre2_VV,12,17)) ./2\n",
    "intens2= Colors.RGB{Float32}.(scale(co_VV,12,17),pre,pre)[end:-2:1,1:7:end]"
   ]
  },
  {
   "cell_type": "code",
   "execution_count": null,
   "metadata": {},
   "outputs": [],
   "source": [
    "# show coherence \n",
    "coherence  = Colors.RGB{Float32}.(abs.(co_gamma),abs.(pre_gamma),abs.(pre_gamma))[end:-2:1,1:7:end]"
   ]
  },
  {
   "cell_type": "code",
   "execution_count": null,
   "metadata": {},
   "outputs": [],
   "source": [
    "# show coherence \n",
    "coherence_VH  = Colors.RGB{Float32}.(abs.(coVH_gamma),abs.(preVH_gamma),abs.(preVH_gamma))[end:-2:1,1:7:end]"
   ]
  },
  {
   "cell_type": "code",
   "execution_count": null,
   "metadata": {},
   "outputs": [],
   "source": [
    "import FileIO\n",
    "FileIO.save(\"coherence_coprepre.jpg\",coherence)\n",
    "FileIO.save(\"log_itens_copre1pre2.jpg\",intens1)\n",
    "FileIO.save(\"log_itens_coprepre.jpg\",intens2)\n",
    "FileIO.save(\"log_VH_copre1pre2.jpg\",intensVH1)\n",
    "FileIO.save(\"log_VH_coprepre.jpg\",intensVH2)"
   ]
  },
  {
   "cell_type": "code",
   "execution_count": null,
   "metadata": {},
   "outputs": [],
   "source": []
  }
 ],
 "metadata": {
  "kernelspec": {
   "display_name": "Julia 1.0.4",
   "language": "julia",
   "name": "julia-1.0"
  },
  "language_info": {
   "file_extension": ".jl",
   "mimetype": "application/julia",
   "name": "julia",
   "version": "1.0.4"
  }
 },
 "nbformat": 4,
 "nbformat_minor": 2
}
