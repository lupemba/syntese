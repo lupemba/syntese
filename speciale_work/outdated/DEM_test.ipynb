{
 "cells": [
  {
   "cell_type": "code",
   "execution_count": 5,
   "metadata": {},
   "outputs": [],
   "source": [
    "include(\"../ToolBox/ToolBox.jl\")\n",
    "import JLD\n",
    "import FileIO\n",
    "using .ToolBox\n",
    "using .Geometry\n",
    "using Colors"
   ]
  },
  {
   "cell_type": "markdown",
   "metadata": {},
   "source": [
    "## Houston "
   ]
  },
  {
   "cell_type": "code",
   "execution_count": 1,
   "metadata": {},
   "outputs": [],
   "source": [
    "dem_path = \"/Users/simon/Data/DEM/houston_small.jld\";\n",
    "\n",
    "co_folder = \"/Users/simon/Data/Sentinel/houston/S1B_IW_SLC__1SDV_20170830T122203_20170830T122233_007169_00CA2C_C92C.SAFE\"\n",
    "pre1_folder = \"/Users/simon/Data/Sentinel/houston/S1A_IW_SLC__1SDV_20170824T122248_20170824T122318_018065_01E54E_5C27.SAFE\"\n",
    "pre2_folder = \"/Users/simon/Data/Sentinel/houston/S1B_IW_SLC__1SDV_20170818T122205_20170818T122235_006994_00C525_0F49.SAFE\"\n",
    "product_folders = [co_folder,pre1_folder,pre2_folder];"
   ]
  },
  {
   "cell_type": "code",
   "execution_count": 8,
   "metadata": {},
   "outputs": [],
   "source": [
    "master_view = [7600:9500,7000:15000];"
   ]
  },
  {
   "cell_type": "code",
   "execution_count": 9,
   "metadata": {},
   "outputs": [],
   "source": [
    "file_paths = [Load.slc_paths(folder, \"VV\",1) for folder in product_folders]\n",
    "meta = [Load.slc_meta(path[2]) for path in file_paths];"
   ]
  },
  {
   "cell_type": "code",
   "execution_count": 10,
   "metadata": {},
   "outputs": [],
   "source": [
    " pad = 0.1\n",
    "dem = JLD.load(dem_path);\n",
    "footprint = SlcUtil.footprint(meta[2], master_view)\n",
    "latlon_window = ((minimum(footprint[1]), maximum(footprint[1])), (minimum(footprint[2]), maximum(footprint[2])))\n",
    "idx1 =(latlon_window[1][1] - pad) .<dem[\"lat\"].< (latlon_window[1][2] + pad)\n",
    "idx2 =(latlon_window[2][1] - pad) .<dem[\"lon\"].< (latlon_window[2][2] + pad)\n",
    "dem = (dem[\"lat\"][idx1], dem[\"lon\"][idx2], dem[\"height\"][idx1,idx2]);"
   ]
  },
  {
   "cell_type": "code",
   "execution_count": 11,
   "metadata": {},
   "outputs": [
    {
     "data": {
      "text/plain": [
       "-32768"
      ]
     },
     "execution_count": 11,
     "metadata": {},
     "output_type": "execute_result"
    }
   ],
   "source": [
    "minimum(reshape(dem[3],:))\n",
    "\n"
   ]
  },
  {
   "cell_type": "code",
   "execution_count": 12,
   "metadata": {},
   "outputs": [
    {
     "data": {
      "text/plain": [
       "-60"
      ]
     },
     "execution_count": 12,
     "metadata": {},
     "output_type": "execute_result"
    }
   ],
   "source": [
    "minimum(reshape(dem[3][dem[3] .!=-32768],:))"
   ]
  },
  {
   "cell_type": "code",
   "execution_count": 15,
   "metadata": {},
   "outputs": [],
   "source": [
    "test = dem[3]\n",
    "test[test .== -32768] .= -25;\n",
    "FileIO.save(\"test_small.jpg\",SlcUtil.show_img(test,1));"
   ]
  },
  {
   "cell_type": "markdown",
   "metadata": {},
   "source": [
    "## Vejle"
   ]
  },
  {
   "cell_type": "code",
   "execution_count": 16,
   "metadata": {},
   "outputs": [],
   "source": [
    "## Vejle\n",
    "dem_path = \"/Users/simon/Data/DEM/denmark.jld\";\n",
    "\n",
    "co_folder = \"/Users/simon/Data/Sentinel/vejle_oktober/S1A_IW_SLC__1SDV_20191011T170932_20191011T170959_029414_035865_06AB.SAFE\"\n",
    "pre1_folder = \"/Users/simon/Data/Sentinel/vejle_oktober/S1A_IW_SLC__1SDV_20190929T170932_20190929T170959_029239_035263_C3F9.SAFE\"\n",
    "pre2_folder = \"/Users/simon/Data/Sentinel/vejle_oktober/S1A_IW_SLC__1SDV_20190917T170931_20190917T170958_029064_034C5E_2484.SAFE\"\n",
    "\n",
    "result_folder = \"/Users/simon/Data/Sentinel/vejle_oktober/factory_AAA\"\n",
    "\n",
    "master_view = [8000:10000,1200:6000];\n",
    "product_folders = [co_folder,pre1_folder,pre2_folder];\n",
    "\n"
   ]
  },
  {
   "cell_type": "code",
   "execution_count": 22,
   "metadata": {},
   "outputs": [],
   "source": [
    "file_paths = [Load.slc_paths(folder, \"VV\",3) for folder in product_folders]\n",
    "meta = [Load.slc_meta(path[2]) for path in file_paths];\n",
    "\n",
    " pad = 0.1\n",
    "dem = JLD.load(dem_path);\n",
    "footprint = SlcUtil.footprint(meta[2], master_view)\n",
    "latlon_window = ((minimum(footprint[1]), maximum(footprint[1])), (minimum(footprint[2]), maximum(footprint[2])))\n",
    "idx1 =(latlon_window[1][1] - pad) .<dem[\"lat\"].< (latlon_window[1][2] + pad)\n",
    "idx2 =(latlon_window[2][1] - pad) .<dem[\"lon\"].< (latlon_window[2][2] + pad)\n",
    "dem = (dem[\"lat\"][idx1], dem[\"lon\"][idx2], dem[\"height\"][idx1,idx2]);"
   ]
  },
  {
   "cell_type": "code",
   "execution_count": 23,
   "metadata": {},
   "outputs": [
    {
     "data": {
      "text/plain": [
       "(-32768, 181)"
      ]
     },
     "execution_count": 23,
     "metadata": {},
     "output_type": "execute_result"
    }
   ],
   "source": [
    "minimum(reshape(dem[3],:)), maximum(reshape(dem[3],:))\n"
   ]
  },
  {
   "cell_type": "code",
   "execution_count": 25,
   "metadata": {},
   "outputs": [],
   "source": [
    "test = dem[3]\n",
    "test[test .== -32768] .= 40;\n",
    "FileIO.save(\"test_small.jpg\",SlcUtil.show_img(test.-40,1));"
   ]
  },
  {
   "cell_type": "code",
   "execution_count": null,
   "metadata": {},
   "outputs": [],
   "source": []
  }
 ],
 "metadata": {
  "kernelspec": {
   "display_name": "Julia 1.0.4",
   "language": "julia",
   "name": "julia-1.0"
  },
  "language_info": {
   "file_extension": ".jl",
   "mimetype": "application/julia",
   "name": "julia",
   "version": "1.0.4"
  }
 },
 "nbformat": 4,
 "nbformat_minor": 2
}
