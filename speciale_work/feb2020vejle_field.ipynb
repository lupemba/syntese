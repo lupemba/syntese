{
 "cells": [
  {
   "cell_type": "code",
   "execution_count": 1,
   "metadata": {},
   "outputs": [],
   "source": [
    "import JLD\n",
    "using Colors\n",
    "import FileIO"
   ]
  },
  {
   "cell_type": "code",
   "execution_count": 2,
   "metadata": {},
   "outputs": [],
   "source": [
    "folder = \"/Users/simon/Data/Sentinel/vejle_2020/factory\"\n",
    "ascending = false\n",
    "dem_nan = 40;"
   ]
  },
  {
   "cell_type": "code",
   "execution_count": 3,
   "metadata": {},
   "outputs": [],
   "source": [
    "if ascending \n",
    "   # Load\n",
    "    co_gamma = JLD.load(joinpath(folder,\"21VV_coher.jld\"),\"data\")[end:-1:1,:]\n",
    "    pre_gamma = JLD.load(joinpath(folder,\"23VV_coher.jld\"),\"data\")[end:-1:1,:]\n",
    "\n",
    "    VV_paths = [joinpath(folder,string(i)*\"VV_itens.jld\") for i=1:3]\n",
    "    VV = [JLD.load(path,\"data\")[end:-1:1,:] for path in VV_paths]\n",
    "    VH_paths = [joinpath(folder,string(i)*\"VH_itens.jld\") for i=1:3]\n",
    "    VH = [JLD.load(path,\"data\")[end:-1:1,:] for path in VH_paths];\n",
    "    heights = JLD.load(joinpath(folder,\"heights.jld\"),\"data\")[end:-1:1,:].-dem_nan;\n",
    "else\n",
    "    # Load\n",
    "    co_gamma = JLD.load(joinpath(folder,\"21VV_coher.jld\"),\"data\")[:,end:-1:1]\n",
    "    pre_gamma = JLD.load(joinpath(folder,\"23VV_coher.jld\"),\"data\")[:,end:-1:1]\n",
    "\n",
    "    VV_paths = [joinpath(folder,string(i)*\"VV_itens.jld\") for i=1:3]\n",
    "    VV = [JLD.load(path,\"data\")[:,end:-1:1] for path in VV_paths]\n",
    "    VH_paths = [joinpath(folder,string(i)*\"VH_itens.jld\") for i=1:3]\n",
    "    VH = [JLD.load(path,\"data\")[:,end:-1:1] for path in VH_paths];\n",
    "    heights = JLD.load(joinpath(folder,\"heights.jld\"),\"data\")[:,end:-1:1].-dem_nan;\n",
    "    end;"
   ]
  },
  {
   "cell_type": "code",
   "execution_count": 4,
   "metadata": {},
   "outputs": [
    {
     "data": {
      "text/plain": [
       "3-element Array{Array{Float64,2},1}:\n",
       " [-13.1038 -12.9753 … -14.1872 -12.736; -14.5283 -14.938 … -12.82 -11.9812; … ; -13.4383 -12.9467 … -15.5714 -14.9567; -12.6369 -11.1692 … -14.878 -15.3215]    \n",
       " [-12.5332 -8.68533 … -13.0896 -10.8059; -13.7524 -8.39921 … -11.8228 -10.8815; … ; -12.0233 -11.4611 … -18.0358 -18.7519; -10.1811 -8.95163 … -17.908 -18.8796]\n",
       " [-14.7107 -15.1116 … -16.4252 -16.1691; -15.7569 -14.5132 … -14.622 -14.5276; … ; -13.1954 -14.2279 … -20.2093 -20.6415; -13.0856 -12.55 … -20.4488 -21.5805]  "
      ]
     },
     "execution_count": 4,
     "metadata": {},
     "output_type": "execute_result"
    }
   ],
   "source": [
    "log_VV = [ 10*log10.(img) for img in VV]"
   ]
  },
  {
   "cell_type": "code",
   "execution_count": 47,
   "metadata": {},
   "outputs": [
    {
     "data": {
      "text/plain": [
       "0"
      ]
     },
     "execution_count": 47,
     "metadata": {},
     "output_type": "execute_result"
    }
   ],
   "source": [
    "function scale_img(img , min , max)\n",
    "    scale_img = (img.-min)./(max-min)\n",
    "    scale_img[scale_img.>1] .= 0.999\n",
    "    scale_img[scale_img.<0] .= 0.001\n",
    "    return scale_img\n",
    "end\n",
    "min_vv = -15\n",
    "max_vv = 0"
   ]
  },
  {
   "cell_type": "code",
   "execution_count": 48,
   "metadata": {},
   "outputs": [],
   "source": [
    "window = [670:690,840:860];"
   ]
  },
  {
   "cell_type": "code",
   "execution_count": 49,
   "metadata": {},
   "outputs": [],
   "source": [
    "test =  Colors.Gray.(scale_img(log_VV[1][window...],min_vv,max_vv))\n",
    "FileIO.save(\"test_co.jpg\",test);\n",
    "test =  Colors.Gray.(scale_img(log_VV[2][window...],min_vv,max_vv))\n",
    "FileIO.save(\"test_pre1.jpg\",test);\n",
    "test =  Colors.Gray.(scale_img(log_VV[3][window...],min_vv,max_vv))\n",
    "FileIO.save(\"test_pre2.jpg\",test);\n",
    "\n",
    "img = Colors.RGB{Float32}.(abs.(pre_gamma),abs.(co_gamma),abs.(co_gamma));\n",
    "FileIO.save(\"coherence.jpg\",img[window...]);"
   ]
  },
  {
   "cell_type": "code",
   "execution_count": 46,
   "metadata": {},
   "outputs": [],
   "source": [
    "using Statistics"
   ]
  },
  {
   "cell_type": "code",
   "execution_count": 34,
   "metadata": {},
   "outputs": [
    {
     "data": {
      "text/plain": [
       "0.3684827034089397"
      ]
     },
     "execution_count": 34,
     "metadata": {},
     "output_type": "execute_result"
    }
   ],
   "source": [
    "mean(reshape(abs.(pre_gamma[window...]),:))"
   ]
  },
  {
   "cell_type": "code",
   "execution_count": 35,
   "metadata": {},
   "outputs": [
    {
     "data": {
      "text/plain": [
       "0.6036907408579755"
      ]
     },
     "execution_count": 35,
     "metadata": {},
     "output_type": "execute_result"
    }
   ],
   "source": [
    "mean(reshape(abs.(co_gamma[window...]),:))"
   ]
  },
  {
   "cell_type": "code",
   "execution_count": 39,
   "metadata": {},
   "outputs": [
    {
     "data": {
      "text/plain": [
       "0.06475203073731668"
      ]
     },
     "execution_count": 39,
     "metadata": {},
     "output_type": "execute_result"
    }
   ],
   "source": [
    "mu1 = mean(reshape(abs.(VV[1][window...]),:))"
   ]
  },
  {
   "cell_type": "code",
   "execution_count": 40,
   "metadata": {},
   "outputs": [
    {
     "data": {
      "text/plain": [
       "0.09930129417011035"
      ]
     },
     "execution_count": 40,
     "metadata": {},
     "output_type": "execute_result"
    }
   ],
   "source": [
    "mu2 = mean(reshape(abs.(VV[2][window...]),:))"
   ]
  },
  {
   "cell_type": "code",
   "execution_count": 42,
   "metadata": {},
   "outputs": [
    {
     "data": {
      "text/plain": [
       "0.045376357299164616"
      ]
     },
     "execution_count": 42,
     "metadata": {},
     "output_type": "execute_result"
    }
   ],
   "source": [
    "mu3 = mean(reshape(abs.(VV[3][window...]),:))"
   ]
  },
  {
   "cell_type": "code",
   "execution_count": null,
   "metadata": {},
   "outputs": [],
   "source": [
    "(mu1*mu2)/"
   ]
  },
  {
   "cell_type": "code",
   "execution_count": 50,
   "metadata": {},
   "outputs": [
    {
     "data": {
      "text/plain": [
       "2-element Array{Any,1}:\n",
       " #undef\n",
       " #undef"
      ]
     },
     "execution_count": 50,
     "metadata": {},
     "output_type": "execute_result"
    }
   ],
   "source": [
    "B = Array{Any}(undef, 2)"
   ]
  },
  {
   "cell_type": "code",
   "execution_count": 55,
   "metadata": {},
   "outputs": [
    {
     "data": {
      "text/plain": [
       "2-element Array{Any,1}:\n",
       " Missing\n",
       " Missing"
      ]
     },
     "execution_count": 55,
     "metadata": {},
     "output_type": "execute_result"
    }
   ],
   "source": [
    "B .= Missing"
   ]
  },
  {
   "cell_type": "code",
   "execution_count": 57,
   "metadata": {},
   "outputs": [
    {
     "data": {
      "text/plain": [
       "true"
      ]
     },
     "execution_count": 57,
     "metadata": {},
     "output_type": "execute_result"
    }
   ],
   "source": [
    "B[1] == Missing"
   ]
  },
  {
   "cell_type": "code",
   "execution_count": 59,
   "metadata": {},
   "outputs": [],
   "source": [
    "B[1] = VV[1];"
   ]
  },
  {
   "cell_type": "code",
   "execution_count": 60,
   "metadata": {},
   "outputs": [
    {
     "data": {
      "text/plain": [
       "false"
      ]
     },
     "execution_count": 60,
     "metadata": {},
     "output_type": "execute_result"
    }
   ],
   "source": [
    "B[1] == Missing"
   ]
  },
  {
   "cell_type": "code",
   "execution_count": 62,
   "metadata": {},
   "outputs": [
    {
     "data": {
      "text/plain": [
       "2-element Array{Any,1}:\n",
       " [0.0489355 0.0504045 … 0.0381309 0.0532601; 0.0352506 0.0320778 … 0.0522397 0.0633696; … ; 0.0453072 0.0507371 … 0.0277243 0.0319398; 0.0544894 0.0763968 … 0.0325236 0.0293662]\n",
       " Missing                                                                                                                                                                         "
      ]
     },
     "execution_count": 62,
     "metadata": {},
     "output_type": "execute_result"
    }
   ],
   "source": [
    "B"
   ]
  },
  {
   "cell_type": "code",
   "execution_count": null,
   "metadata": {},
   "outputs": [],
   "source": []
  }
 ],
 "metadata": {
  "kernelspec": {
   "display_name": "Julia 1.0.4",
   "language": "julia",
   "name": "julia-1.0"
  },
  "language_info": {
   "file_extension": ".jl",
   "mimetype": "application/julia",
   "name": "julia",
   "version": "1.0.4"
  }
 },
 "nbformat": 4,
 "nbformat_minor": 2
}
