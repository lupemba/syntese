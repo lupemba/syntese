{
 "cells": [
  {
   "cell_type": "code",
   "execution_count": 1,
   "metadata": {},
   "outputs": [],
   "source": [
    "include(\"../ToolBox/ToolBox.jl\")\n",
    "using .ToolBox\n",
    "import EzXML\n",
    "import XMLDict"
   ]
  },
  {
   "cell_type": "code",
   "execution_count": null,
   "metadata": {},
   "outputs": [],
   "source": []
  },
  {
   "cell_type": "code",
   "execution_count": null,
   "metadata": {},
   "outputs": [],
   "source": []
  },
  {
   "cell_type": "code",
   "execution_count": null,
   "metadata": {},
   "outputs": [],
   "source": []
  },
  {
   "cell_type": "code",
   "execution_count": null,
   "metadata": {},
   "outputs": [],
   "source": []
  },
  {
   "cell_type": "code",
   "execution_count": null,
   "metadata": {},
   "outputs": [],
   "source": []
  },
  {
   "cell_type": "code",
   "execution_count": null,
   "metadata": {},
   "outputs": [],
   "source": []
  },
  {
   "cell_type": "code",
   "execution_count": null,
   "metadata": {},
   "outputs": [],
   "source": []
  },
  {
   "cell_type": "code",
   "execution_count": null,
   "metadata": {},
   "outputs": [],
   "source": []
  },
  {
   "cell_type": "code",
   "execution_count": 4,
   "metadata": {},
   "outputs": [
    {
     "data": {
      "text/plain": [
       "slc_calibration (generic function with 1 method)"
      ]
     },
     "execution_count": 4,
     "metadata": {},
     "output_type": "execute_result"
    }
   ],
   "source": [
    "function slc_calibration(path,t_0)\n",
    "    doc = EzXML.readxml(path)\n",
    "    cal_dict = XMLDict.xml_dict(doc)\n",
    "\n",
    "    s1_cal  = Dict{String,Any}()\n",
    "\n",
    "    abs_cal_constant = cal_dict[\"calibration\"][\"calibrationInformation\"][\"absoluteCalibrationConstant\"]\n",
    "    s1_cal[\"abs_cal_constant\"] = parse(Float64,abs_cal_constant)\n",
    "\n",
    "    cal_vectors = cal_dict[\"calibration\"][\"calibrationVectorList\"][\"calibrationVector\"]\n",
    "    s1_cal[\"azimuth_times\"] = [Load._str_date2float(elem[\"azimuthTime\"], t_0) for elem in cal_vectors]\n",
    "    s1_cal[\"line\"] = [parse(Int,elem[\"line\"]) for elem in cal_vectors] .+1\n",
    "    s1_cal[\"sample\"] = parse.(Int,split(cal_vectors[1][\"pixel\"][\"\"])) .+1\n",
    "    s1_cal[\"sigma\"] = vcat([parse.(Float64,split(elem[\"sigmaNought\"][\"\"]))' for elem in cal_vectors]...)\n",
    "    s1_cal[\"beta\"] = vcat([parse.(Float64,split(elem[\"betaNought\"][\"\"]))' for elem in cal_vectors]...)\n",
    "    s1_cal[\"gamma\"] = vcat([parse.(Float64,split(elem[\"gamma\"][\"\"]))' for elem in cal_vectors]...)\n",
    "    s1_cal[\"dn\"] = vcat([parse.(Float64,split(elem[\"dn\"][\"\"]))' for elem in cal_vectors]...)\n",
    "    return s1_cal\n",
    "end"
   ]
  },
  {
   "cell_type": "code",
   "execution_count": 5,
   "metadata": {},
   "outputs": [
    {
     "data": {
      "text/plain": [
       "\"/Users/simon/Data/Sentinel/vejle_oktober/S1A_IW_SLC__1SDV_20190917T170931_20190917T170958_029064_034C5E_2484.SAFE/annotation/s1a-iw2-slc-vv-20190917t170932-20190917t170957-029064-034c5e-005.xml\""
      ]
     },
     "execution_count": 5,
     "metadata": {},
     "output_type": "execute_result"
    }
   ],
   "source": [
    "cal_path = \"/Users/simon/Data/Sentinel/vejle_oktober/S1A_IW_SLC__1SDV_20190917T170931_20190917T170958_029064_034C5E_2484.SAFE/annotation/calibration/calibration-s1a-iw2-slc-vv-20190917t170932-20190917t170957-029064-034c5e-005.xml\"\n",
    "meta_path = \"/Users/simon/Data/Sentinel/vejle_oktober/S1A_IW_SLC__1SDV_20190917T170931_20190917T170958_029064_034C5E_2484.SAFE/annotation/s1a-iw2-slc-vv-20190917t170932-20190917t170957-029064-034c5e-005.xml\""
   ]
  },
  {
   "cell_type": "code",
   "execution_count": 6,
   "metadata": {},
   "outputs": [
    {
     "data": {
      "text/plain": [
       "Dict{String,Any} with 8 entries:\n",
       "  \"sigma\"            => [309.839 309.801 … 290.871 290.851; 309.846 309.807 … 2…\n",
       "  \"line\"             => [-627, 27, 514, 1000, 1655, 2141, 2628, 3282, 3769, 425…\n",
       "  \"abs_cal_constant\" => 1.0\n",
       "  \"dn\"               => [237.0 237.0 … 237.0 237.0; 237.0 237.0 … 237.0 237.0; …\n",
       "  \"gamma\"            => [279.022 278.97 … 251.537 251.506; 279.03 278.978 … 251…\n",
       "  \"sample\"           => [1, 41, 81, 121, 161, 201, 241, 281, 321, 361  …  25601…\n",
       "  \"azimuth_times\"    => [31.4712, 32.4712, 33.4712, 34.4712, 35.4712, 36.4712, …\n",
       "  \"beta\"             => [237.0 237.0 … 237.0 237.0; 237.0 237.0 … 237.0 237.0; …"
      ]
     },
     "execution_count": 6,
     "metadata": {},
     "output_type": "execute_result"
    }
   ],
   "source": [
    "meta = Load.slc_meta(meta_path);\n",
    "cal = slc_calibration(cal_path,meta[\"t_0\"])"
   ]
  },
  {
   "cell_type": "code",
   "execution_count": 8,
   "metadata": {},
   "outputs": [
    {
     "data": {
      "text/plain": [
       "\"S1A\""
      ]
     },
     "execution_count": 8,
     "metadata": {},
     "output_type": "execute_result"
    }
   ],
   "source": [
    "meta[\"mission_id\"]"
   ]
  },
  {
   "cell_type": "code",
   "execution_count": null,
   "metadata": {},
   "outputs": [],
   "source": []
  },
  {
   "cell_type": "code",
   "execution_count": null,
   "metadata": {},
   "outputs": [],
   "source": []
  }
 ],
 "metadata": {
  "kernelspec": {
   "display_name": "Julia 1.0.4",
   "language": "julia",
   "name": "julia-1.0"
  },
  "language_info": {
   "file_extension": ".jl",
   "mimetype": "application/julia",
   "name": "julia",
   "version": "1.0.4"
  }
 },
 "nbformat": 4,
 "nbformat_minor": 2
}
