{
 "cells": [
  {
   "cell_type": "code",
   "execution_count": 1,
   "metadata": {},
   "outputs": [],
   "source": [
    "include(\"../ToolBox/ToolBox.jl\")\n",
    "import JLD\n",
    "import FileIO\n",
    "using .ToolBox\n",
    "using .Geometry\n",
    "using Colors"
   ]
  },
  {
   "cell_type": "code",
   "execution_count": 2,
   "metadata": {},
   "outputs": [],
   "source": [
    "dem_path = \"/Users/simon/Data/DEM/denmark.jld\";"
   ]
  },
  {
   "cell_type": "code",
   "execution_count": 5,
   "metadata": {},
   "outputs": [
    {
     "data": {
      "text/plain": [
       "preprocess3_v1 (generic function with 2 methods)"
      ]
     },
     "execution_count": 5,
     "metadata": {},
     "output_type": "execute_result"
    }
   ],
   "source": [
    "function preprocess3_v1(product_folders, master_view, dem_path, subswath, result_folder, kernel = ones(4,14))\n",
    "    \n",
    "    n_coherence = length(product_folders)-1\n",
    "    dem = 0\n",
    "    lut1 = 0\n",
    "    lut2 = 0\n",
    "    lut_status = [false,false]\n",
    "    precise_orbit = 0\n",
    "    master_data = 0\n",
    "    lines = 0\n",
    "    samples = 0\n",
    "    \n",
    "    stride_line = floor(Int,size(kernel)[1]/2)\n",
    "    stride_sample = floor(Int,size(kernel)[2]/2)\n",
    "    \n",
    "    pod_paths = [Load.pod_path(folder) for folder in product_folders]\n",
    "    \n",
    "    for polarization in [\"VV\",\"VH\"]\n",
    "        \n",
    "        println(polarization)\n",
    "        file_paths = [Load.slc_paths(folder, polarization, subswath) for folder in product_folders]\n",
    "        meta = [Load.slc_meta(path[2]) for path in file_paths]\n",
    "        calibration = [Load.slc_calibration(file_paths[i][3],meta[i][\"t_0\"]) \n",
    "                                    for i in 1:length(product_folders)];\n",
    "        # load pod\n",
    "        if precise_orbit == 0\n",
    "            println(\"load POD\")\n",
    "            precise_orbit = [Load.precise_orbit(pod_paths[i],meta[i][\"t_0\"]) \n",
    "                                    for i in 1:length(product_folders)]\n",
    "        end\n",
    "        \n",
    "        # load DEM\n",
    "        if dem == 0\n",
    "            println(\"load DEM\")\n",
    "            pad = 0.1\n",
    "            dem = JLD.load(dem_path);\n",
    "            footprint = SlcUtil.footprint(meta[2], master_view)\n",
    "            latlon_window = ((minimum(footprint[1]), maximum(footprint[1])), (minimum(footprint[2]), maximum(footprint[2])))\n",
    "            idx1 =(latlon_window[1][1] - pad) .<dem[\"lat\"].< (latlon_window[1][2] + pad)\n",
    "            idx2 =(latlon_window[2][1] - pad) .<dem[\"lon\"].< (latlon_window[2][2] + pad)\n",
    "            dem = (dem[\"lat\"][idx1], dem[\"lon\"][idx2], dem[\"height\"][idx1,idx2]);\n",
    "            dem[3][dem[3].<0] .= 0; \n",
    "        end\n",
    "        \n",
    "        for i in 1:n_coherence\n",
    "            println(\"i: \",i)\n",
    "            if i == 1\n",
    "                lut = lut1\n",
    "                index = [2,1]\n",
    "            else\n",
    "                lut = lut2\n",
    "                index = [2,3]\n",
    "            end\n",
    "            \n",
    "            # coreg_slave data\n",
    "            if !(lut_status[i])\n",
    "                println(\"coreg no lut\")\n",
    "                slave_data,flat,lut =  coregister_slave(master_view,file_paths[index[2]][1],\n",
    "                                                        meta[index],precise_orbit[index],dem)\n",
    "                # save lut\n",
    "                if i==1\n",
    "                    lut1 = lut\n",
    "                else\n",
    "                    lut2 = lut\n",
    "                end\n",
    "                lut_status[i] = true\n",
    "                lut_path = joinpath(result_folder,string(index[1])*string(index[2])*\"_lut.jld\")\n",
    "                JLD.save(lut_path, \"data\", lut)\n",
    "                \n",
    "            else\n",
    "                println(\"coreg with lut\")\n",
    "                slave_data,flat =  coregister_slave(master_view,file_paths[index[2]][1],\n",
    "                                                        meta[index],precise_orbit[index],dem,lut)\n",
    "            end\n",
    "\n",
    "            slave_data,mosaic_view = SlcUtil.mosaic(slave_data,master_view,meta[index[1]]);\n",
    "            flat,mosaic_view = SlcUtil.mosaic(flat,master_view,meta[index[1]]);\n",
    "            slave_data = SlcUtil.calibrate_slave_data(slave_data, mosaic_view,lut1, calibration[index[2]]);\n",
    "            \n",
    "            if i == 1\n",
    "            # Get master data\n",
    "                master_data = Load.slc_data(file_paths[index[1]][1],master_view);\n",
    "                master_data,mosaic_view = SlcUtil.mosaic(master_data,master_view,meta[index[1]]);\n",
    "                master_data = SlcUtil.calibrate_data(master_data, Misc.flatten(mosaic_view...)..., calibration[index[1]]);\n",
    "            end\n",
    "\n",
    "            # Compute coherence\n",
    "            complex_coherence, master_intensity, slave_intensity, lines, samples = SlcUtil.complex_coherence(\n",
    "                                                                master_data, slave_data, flat, kernel, mosaic_view);\n",
    "\n",
    "            slave_data = 0\n",
    "\n",
    "            # subsample \n",
    "            complex_coherence = complex_coherence[1:stride_line:end,1:stride_sample:end]\n",
    "            slave_intensity = slave_intensity[1:stride_line:end,1:stride_sample:end]\n",
    "            \n",
    "            # save \n",
    "            slave_path = joinpath(result_folder,string(index[2])*polarization*\"_itens.jld\")\n",
    "            master_path = joinpath(result_folder,string(index[1])*polarization*\"_itens.jld\")\n",
    "            coherence_path = joinpath(result_folder,string(index[1])*string(index[2])*\n",
    "                                                            polarization*\"_coher.jld\")\n",
    "            println(\"Save\")\n",
    "            JLD.save(slave_path, \"data\", slave_intensity)\n",
    "            JLD.save(coherence_path, \"data\", complex_coherence)\n",
    "            if i == 1\n",
    "                println(\"Save master intens\")\n",
    "                master_intensity = master_intensity[1:stride_line:end,1:stride_sample:end]\n",
    "                JLD.save(master_path, \"data\", master_intensity)\n",
    "            end\n",
    "            \n",
    "        end\n",
    "        \n",
    "    end\n",
    "    # save lines and samples \n",
    "    line_sample_path = joinpath(result_folder,\"line_sample_path.jld\")\n",
    "    JLD.save(line_sample_path, \"lines\", lines, \"samples\", samples)\n",
    "    \n",
    "    return 1\n",
    "    \n",
    "end"
   ]
  },
  {
   "cell_type": "code",
   "execution_count": null,
   "metadata": {},
   "outputs": [],
   "source": [
    "co_folder = \"/Users/simon/Data/Sentinel/vejle_oktober/S1A_IW_SLC__1SDV_20191011T170932_20191011T170959_029414_035865_06AB.SAFE\"\n",
    "pre1_folder = \"/Users/simon/Data/Sentinel/vejle_oktober/S1A_IW_SLC__1SDV_20190929T170932_20190929T170959_029239_035263_C3F9.SAFE\"\n",
    "pre2_folder = \"/Users/simon/Data/Sentinel/vejle_oktober/S1A_IW_SLC__1SDV_20190917T170931_20190917T170958_029064_034C5E_2484.SAFE\"\n",
    "\n",
    "result_folder = \"/Users/simon/Data/Sentinel/vejle_oktober/factory_AAA\"\n",
    "\n",
    "master_A_view = [8000:10000,1200:6000];\n",
    "product_folders = [co_folder,pre1_folder,pre2_folder];\n",
    "\n",
    "preprocess3_v1(product_folders,master_A_view,dem_path,3, result_folder)"
   ]
  },
  {
   "cell_type": "code",
   "execution_count": 6,
   "metadata": {},
   "outputs": [
    {
     "name": "stdout",
     "output_type": "stream",
     "text": [
      "VV\n",
      "load POD\n",
      "load DEM\n",
      "i: 1\n",
      "coreg no lut\n",
      "Save\n",
      "Save master intens\n",
      "i: 2\n",
      "coreg no lut\n",
      "Save\n",
      "VH\n",
      "i: 1\n",
      "coreg with lut\n",
      "Save\n",
      "Save master intens\n",
      "i: 2\n",
      "coreg with lut\n",
      "Save\n"
     ]
    },
    {
     "data": {
      "text/plain": [
       "1"
      ]
     },
     "execution_count": 6,
     "metadata": {},
     "output_type": "execute_result"
    }
   ],
   "source": [
    "co_folder = \"/Users/simon/Data/Sentinel/vejle_oktober/S1A_IW_SLC__1SDV_20191011T170932_20191011T170959_029414_035865_06AB.SAFE\"\n",
    "pre1_folder = \"/Users/simon/Data/Sentinel/vejle_oktober/S1B_IW_SLC__1SDV_20191005T170849_20191005T170916_018343_0228DC_F565.SAFE\"\n",
    "pre2_folder = \"/Users/simon/Data/Sentinel/vejle_oktober/S1A_IW_SLC__1SDV_20190929T170932_20190929T170959_029239_035263_C3F9.SAFE\"\n",
    "\n",
    "result_folder = \"/Users/simon/Data/Sentinel/vejle_oktober/factory_ABA\"\n",
    "\n",
    "product_folders = [co_folder,pre1_folder,pre2_folder];\n",
    "\n",
    "master_B_view = [9500:11500,1200:6000];\n",
    "\n",
    "preprocess3_v1(product_folders,master_B_view,dem_path,3, result_folder)"
   ]
  },
  {
   "cell_type": "code",
   "execution_count": null,
   "metadata": {},
   "outputs": [],
   "source": []
  },
  {
   "cell_type": "code",
   "execution_count": null,
   "metadata": {},
   "outputs": [],
   "source": []
  },
  {
   "cell_type": "code",
   "execution_count": null,
   "metadata": {},
   "outputs": [],
   "source": []
  },
  {
   "cell_type": "code",
   "execution_count": null,
   "metadata": {},
   "outputs": [],
   "source": []
  },
  {
   "cell_type": "code",
   "execution_count": 38,
   "metadata": {
    "collapsed": true
   },
   "outputs": [
    {
     "name": "stdout",
     "output_type": "stream",
     "text": [
      "VV\n",
      "load POD\n",
      "load DEM\n"
     ]
    },
    {
     "data": {
      "text/plain": [
       "24083-element view(::Array{Int16,1}, [124020, 124550, 125080, 151331, 151332, 151858, 151859, 151860, 151861, 151862  …  335949, 335950, 335951, 335952, 335953, 335954, 335955, 335956, 335957, 335958]) with eltype Int16:\n",
       " 0\n",
       " 0\n",
       " 0\n",
       " 0\n",
       " 0\n",
       " 0\n",
       " 0\n",
       " 0\n",
       " 0\n",
       " 0\n",
       " 0\n",
       " 0\n",
       " 0\n",
       " ⋮\n",
       " 0\n",
       " 0\n",
       " 0\n",
       " 0\n",
       " 0\n",
       " 0\n",
       " 0\n",
       " 0\n",
       " 0\n",
       " 0\n",
       " 0\n",
       " 0"
      ]
     },
     "execution_count": 38,
     "metadata": {},
     "output_type": "execute_result"
    }
   ],
   "source": [
    "subswath = 3\n",
    "kernel = ones(4,14)\n",
    "n_coherence = length(product_folders)-1\n",
    "dem = 0\n",
    "lut1 = 0\n",
    "lut2 = 0\n",
    "lut_status = [false,false]\n",
    "precise_orbit = 0\n",
    "master_data = 0\n",
    "lines = 0\n",
    "samples = 0\n",
    "\n",
    "stride_line = floor(Int,size(kernel)[1]/2)\n",
    "stride_sample = floor(Int,size(kernel)[2]/2)\n",
    "\n",
    "pod_paths = [Load.pod_path(folder) for folder in product_folders];\n",
    "\n",
    "polarization = \"VV\"\n",
    "\n",
    " println(polarization)\n",
    "        file_paths = [Load.slc_paths(folder, polarization, subswath) for folder in product_folders]\n",
    "        meta = [Load.slc_meta(path[2]) for path in file_paths]\n",
    "        calibration = [Load.slc_calibration(file_paths[i][3],meta[i][\"t_0\"]) \n",
    "                                    for i in 1:length(product_folders)];\n",
    "        # load pod\n",
    "        if precise_orbit == 0\n",
    "            println(\"load POD\")\n",
    "            precise_orbit = [Load.precise_orbit(pod_paths[i],meta[i][\"t_0\"]) \n",
    "                                    for i in 1:length(product_folders)]\n",
    "        end\n",
    "        \n",
    "        # load DEM\n",
    "        if dem == 0\n",
    "            println(\"load DEM\")\n",
    "            pad = 0.1\n",
    "            dem = JLD.load(dem_path);\n",
    "            footprint = SlcUtil.footprint(meta[1], master_view)\n",
    "            latlon_window = ((minimum(footprint[1]), maximum(footprint[1])), (minimum(footprint[2]), maximum(footprint[2])))\n",
    "            idx1 =(latlon_window[1][1] - pad) .<dem[\"lat\"].< (latlon_window[1][2] + pad)\n",
    "            idx2 =(latlon_window[2][1] - pad) .<dem[\"lon\"].< (latlon_window[2][2] + pad)\n",
    "            dem = (dem[\"lat\"][idx1], dem[\"lon\"][idx2], dem[\"height\"][idx1,idx2]);\n",
    "            dem[3][dem[3].<0] .= 0; \n",
    "        end\n",
    "\n"
   ]
  },
  {
   "cell_type": "code",
   "execution_count": 39,
   "metadata": {},
   "outputs": [
    {
     "name": "stdout",
     "output_type": "stream",
     "text": [
      "i: 1\n"
     ]
    },
    {
     "data": {
      "text/plain": [
       "2-element Array{Int64,1}:\n",
       " 2\n",
       " 1"
      ]
     },
     "execution_count": 39,
     "metadata": {},
     "output_type": "execute_result"
    }
   ],
   "source": [
    "i = 1\n",
    "println(\"i: \",i)\n",
    "            if i == 1\n",
    "                lut = lut1\n",
    "                index = [2,1]\n",
    "            else\n",
    "                lut = lut2\n",
    "                index = [2,3]\n",
    "            end\n",
    "            "
   ]
  },
  {
   "cell_type": "code",
   "execution_count": 64,
   "metadata": {},
   "outputs": [
    {
     "data": {
      "text/plain": [
       "2-element Array{UnitRange{Int64},1}:\n",
       " 9500:11500\n",
       " 1200:6000 "
      ]
     },
     "execution_count": 64,
     "metadata": {},
     "output_type": "execute_result"
    }
   ],
   "source": [
    "meta = meta[index]\n",
    "precise_orbit[index]\n",
    "slave_data_path = file_paths[1][1]\n",
    "master_view = [9500:11500,1200:1400]"
   ]
  },
  {
   "cell_type": "code",
   "execution_count": 65,
   "metadata": {},
   "outputs": [],
   "source": [
    "mosaic_view = SlcUtil.mosaic_view(meta[1],master_view)\n",
    "lut = look_up_table(mosaic_view,meta,precise_orbit,dem);"
   ]
  },
  {
   "cell_type": "code",
   "execution_count": 73,
   "metadata": {},
   "outputs": [
    {
     "data": {
      "text/plain": [
       "(9807.114880273606, NaN, NaN)"
      ]
     },
     "execution_count": 73,
     "metadata": {},
     "output_type": "execute_result"
    }
   ],
   "source": [
    "minimum(lut[\"slave_line\"]),minimum(lut[\"slave_sample\"]),minimum(lut[\"heights\"])"
   ]
  },
  {
   "cell_type": "code",
   "execution_count": 74,
   "metadata": {},
   "outputs": [
    {
     "data": {
      "text/plain": [
       "(NaN, NaN)"
      ]
     },
     "execution_count": 74,
     "metadata": {},
     "output_type": "execute_result"
    }
   ],
   "source": [
    "minimum(lut[\"latitude\"]),minimum(lut[\"longitude\"])"
   ]
  },
  {
   "cell_type": "code",
   "execution_count": 81,
   "metadata": {},
   "outputs": [
    {
     "data": {
      "text/plain": [
       "0"
      ]
     },
     "execution_count": 81,
     "metadata": {},
     "output_type": "execute_result"
    }
   ],
   "source": [
    "sum(isnan.(lut[\"master_line\"]))"
   ]
  },
  {
   "cell_type": "code",
   "execution_count": null,
   "metadata": {},
   "outputs": [],
   "source": [
    "lut[\"slave_sample\"]"
   ]
  },
  {
   "cell_type": "code",
   "execution_count": null,
   "metadata": {},
   "outputs": [],
   "source": []
  },
  {
   "cell_type": "code",
   "execution_count": 66,
   "metadata": {},
   "outputs": [],
   "source": [
    "    c = 299792458\n",
    "    range_pixel_spacing =  c/(2*meta[1][\"range_sampling_rate\"])\n",
    "    lambda =  c/meta[1][\"radar_frequency\"]\n",
    "\n",
    "    # Get the midburst speed\n",
    "    v_mid = mid_burst_speed(precise_orbit[2], meta[2]);\n",
    "\n",
    "    # get master line and sample\n",
    "    mosaic_view = SlcUtil.mosaic_view(meta[1],master_view)\n",
    "    master_line, master_sample = Misc.flatten(mosaic_view...)\n",
    "\n",
    "    # interpolate slave line and sample\n",
    "    slave_line = Misc.interp_grid(lut[\"master_line\"] ,lut[\"master_sample\"],\n",
    "    reshape(lut[\"slave_line\"],(length(lut[\"master_line\"]),length(lut[\"master_sample\"])))\n",
    "    ,mosaic_view[1], mosaic_view[2])\n",
    "    slave_sample = Misc.interp_grid(lut[\"master_line\"] ,lut[\"master_sample\"],\n",
    "        reshape(lut[\"slave_sample\"],(length(lut[\"master_line\"]),length(lut[\"master_sample\"])))\n",
    "        ,mosaic_view[1], mosaic_view[2]);"
   ]
  },
  {
   "cell_type": "code",
   "execution_count": 67,
   "metadata": {},
   "outputs": [
    {
     "data": {
      "text/plain": [
       "(9807.114880273606, NaN)"
      ]
     },
     "execution_count": 67,
     "metadata": {},
     "output_type": "execute_result"
    }
   ],
   "source": [
    "minimum(slave_line),minimum(slave_sample)"
   ]
  },
  {
   "cell_type": "code",
   "execution_count": 52,
   "metadata": {},
   "outputs": [],
   "source": [
    "slave_line = Misc.interp_grid(lut[\"master_line\"] ,lut[\"master_sample\"],\n",
    "    reshape(lut[\"slave_line\"],(length(lut[\"master_line\"]),length(lut[\"master_sample\"])))\n",
    "    ,mosaic_view[1], mosaic_view[2])\n",
    "    slave_sample = Misc.interp_grid(lut[\"master_line\"] ,lut[\"master_sample\"],\n",
    "        reshape(lut[\"slave_sample\"],(length(lut[\"master_line\"]),length(lut[\"master_sample\"])))\n",
    "        ,mosaic_view[1], mosaic_view[2]);"
   ]
  },
  {
   "cell_type": "code",
   "execution_count": 56,
   "metadata": {},
   "outputs": [
    {
     "data": {
      "text/plain": [
       "2001×4801 Array{Complex{Float64},2}:\n",
       " 0.0+0.0im  0.0+0.0im  0.0+0.0im  …  0.0+0.0im  0.0+0.0im  0.0+0.0im\n",
       " 0.0+0.0im  0.0+0.0im  0.0+0.0im     0.0+0.0im  0.0+0.0im  0.0+0.0im\n",
       " 0.0+0.0im  0.0+0.0im  0.0+0.0im     0.0+0.0im  0.0+0.0im  0.0+0.0im\n",
       " 0.0+0.0im  0.0+0.0im  0.0+0.0im     0.0+0.0im  0.0+0.0im  0.0+0.0im\n",
       " 0.0+0.0im  0.0+0.0im  0.0+0.0im     0.0+0.0im  0.0+0.0im  0.0+0.0im\n",
       " 0.0+0.0im  0.0+0.0im  0.0+0.0im  …  0.0+0.0im  0.0+0.0im  0.0+0.0im\n",
       " 0.0+0.0im  0.0+0.0im  0.0+0.0im     0.0+0.0im  0.0+0.0im  0.0+0.0im\n",
       " 0.0+0.0im  0.0+0.0im  0.0+0.0im     0.0+0.0im  0.0+0.0im  0.0+0.0im\n",
       " 0.0+0.0im  0.0+0.0im  0.0+0.0im     0.0+0.0im  0.0+0.0im  0.0+0.0im\n",
       " 0.0+0.0im  0.0+0.0im  0.0+0.0im     0.0+0.0im  0.0+0.0im  0.0+0.0im\n",
       " 0.0+0.0im  0.0+0.0im  0.0+0.0im  …  0.0+0.0im  0.0+0.0im  0.0+0.0im\n",
       " 0.0+0.0im  0.0+0.0im  0.0+0.0im     0.0+0.0im  0.0+0.0im  0.0+0.0im\n",
       " 0.0+0.0im  0.0+0.0im  0.0+0.0im     0.0+0.0im  0.0+0.0im  0.0+0.0im\n",
       "    ⋮                             ⋱                           ⋮     \n",
       " 0.0+0.0im  0.0+0.0im  0.0+0.0im     0.0+0.0im  0.0+0.0im  0.0+0.0im\n",
       " 0.0+0.0im  0.0+0.0im  0.0+0.0im  …  0.0+0.0im  0.0+0.0im  0.0+0.0im\n",
       " 0.0+0.0im  0.0+0.0im  0.0+0.0im     0.0+0.0im  0.0+0.0im  0.0+0.0im\n",
       " 0.0+0.0im  0.0+0.0im  0.0+0.0im     0.0+0.0im  0.0+0.0im  0.0+0.0im\n",
       " 0.0+0.0im  0.0+0.0im  0.0+0.0im     0.0+0.0im  0.0+0.0im  0.0+0.0im\n",
       " 0.0+0.0im  0.0+0.0im  0.0+0.0im     0.0+0.0im  0.0+0.0im  0.0+0.0im\n",
       " 0.0+0.0im  0.0+0.0im  0.0+0.0im  …  0.0+0.0im  0.0+0.0im  0.0+0.0im\n",
       " 0.0+0.0im  0.0+0.0im  0.0+0.0im     0.0+0.0im  0.0+0.0im  0.0+0.0im\n",
       " 0.0+0.0im  0.0+0.0im  0.0+0.0im     0.0+0.0im  0.0+0.0im  0.0+0.0im\n",
       " 0.0+0.0im  0.0+0.0im  0.0+0.0im     0.0+0.0im  0.0+0.0im  0.0+0.0im\n",
       " 0.0+0.0im  0.0+0.0im  0.0+0.0im     0.0+0.0im  0.0+0.0im  0.0+0.0im\n",
       " 0.0+0.0im  0.0+0.0im  0.0+0.0im  …  0.0+0.0im  0.0+0.0im  0.0+0.0im"
      ]
     },
     "execution_count": 56,
     "metadata": {},
     "output_type": "execute_result"
    }
   ],
   "source": [
    "slave_line = reshape(slave_line,:)\n",
    "    slave_sample= reshape(slave_sample,:);\n",
    "\n",
    "    # master bursts\n",
    "    master_start_burst = ceil(Int,(master_view[1].start)/meta[1][\"lines_per_burst\"])\n",
    "    master_end_burst = ceil(Int,(master_view[1].stop-1)/meta[1][\"lines_per_burst\"])\n",
    "\n",
    "    # find the slave bursts\n",
    "    slave_start_line = minimum(slave_line)\n",
    "    slave_start_burst = sum([slave_start_line > elem ? 1 : 0 for elem in meta[2][\"burst_meta\"][\"first_line_mosaic\"]])\n",
    "\n",
    "    ## Get the number of lines in the first selected burst\n",
    "    lines_in_first_burst_master = master_start_burst*meta[1][\"lines_per_burst\"] - master_view[1].start\n",
    "    lines_in_first_burst_slave = meta[2][\"burst_meta\"][\"first_line_mosaic\"][slave_start_burst]+meta[2][\"lines_per_burst\"] - slave_start_line\n",
    "\n",
    "    ## Check if the number of lines are approximately the same\n",
    "    if lines_in_first_burst_slave > lines_in_first_burst_master + 100\n",
    "        # the number of lines are not the same. The slave burst before should be included\n",
    "        slave_start_burst = slave_start_burst -1\n",
    "        lines_in_first_burst_slave = slave_start_burst*meta[2][\"lines_per_burst\"] - slave_start_line\n",
    "    end\n",
    "\n",
    "    # compute the offset between the burst number in slave and master\n",
    "    delta_burst = slave_start_burst - master_start_burst\n",
    "\n",
    "    ## check if it is in slave image\n",
    "    slave_end_burst = master_end_burst + delta_burst\n",
    "\n",
    "    if slave_start_burst == 0\n",
    "        println(\"Warning: start line not in slave image\")\n",
    "    end\n",
    "\n",
    "    if slave_end_burst > meta[2][\"burst_count\"]\n",
    "        println(\"Warning: end line not in slave image\")\n",
    "    end\n",
    "\n",
    "    if minimum(slave_sample) < 1\n",
    "        println(\"Warning: start sample not in slave image\")\n",
    "    end\n",
    "\n",
    "    if maximum(slave_sample) > meta[2][\"samples_per_burst\"]\n",
    "        println(\"Warning: end sample not in slave image\")\n",
    "    end\n",
    "\n",
    "    # Initialize arrays for the results\n",
    "    coreg_slave = Array{Complex{Float64}}(undef,length.(master_view)...)\n",
    "    flat_inferogram = Array{Complex{Float64}}(undef,length.(master_view)...);\n"
   ]
  },
  {
   "cell_type": "code",
   "execution_count": 60,
   "metadata": {},
   "outputs": [
    {
     "data": {
      "text/plain": [
       "7097.885622660336"
      ]
     },
     "execution_count": 60,
     "metadata": {},
     "output_type": "execute_result"
    }
   ],
   "source": [
    "slave_start_line = minimum(slave_line)"
   ]
  },
  {
   "cell_type": "code",
   "execution_count": 61,
   "metadata": {},
   "outputs": [
    {
     "data": {
      "text/plain": [
       "6"
      ]
     },
     "execution_count": 61,
     "metadata": {},
     "output_type": "execute_result"
    }
   ],
   "source": [
    "slave_start_burst = sum([slave_start_line > elem ? 1 : 0 for elem in meta[2][\"burst_meta\"][\"first_line_mosaic\"]])"
   ]
  },
  {
   "cell_type": "code",
   "execution_count": 62,
   "metadata": {},
   "outputs": [
    {
     "data": {
      "text/plain": [
       "6"
      ]
     },
     "execution_count": 62,
     "metadata": {},
     "output_type": "execute_result"
    }
   ],
   "source": [
    "ceil(Int,(master_view[1].start)/meta[1][\"lines_per_burst\"])"
   ]
  },
  {
   "cell_type": "code",
   "execution_count": 63,
   "metadata": {},
   "outputs": [
    {
     "data": {
      "text/plain": [
       "8000:10000"
      ]
     },
     "execution_count": 63,
     "metadata": {},
     "output_type": "execute_result"
    }
   ],
   "source": [
    "master_view[1]"
   ]
  },
  {
   "cell_type": "code",
   "execution_count": 55,
   "metadata": {},
   "outputs": [
    {
     "data": {
      "text/plain": [
       "(7097.885622660336, 1533.4104282626326)"
      ]
     },
     "execution_count": 55,
     "metadata": {},
     "output_type": "execute_result"
    }
   ],
   "source": [
    "minimum(slave_line),minimum(slave_sample)"
   ]
  },
  {
   "cell_type": "code",
   "execution_count": null,
   "metadata": {},
   "outputs": [],
   "source": []
  }
 ],
 "metadata": {
  "kernelspec": {
   "display_name": "Julia 1.0.4",
   "language": "julia",
   "name": "julia-1.0"
  },
  "language_info": {
   "file_extension": ".jl",
   "mimetype": "application/julia",
   "name": "julia",
   "version": "1.0.4"
  }
 },
 "nbformat": 4,
 "nbformat_minor": 2
}
