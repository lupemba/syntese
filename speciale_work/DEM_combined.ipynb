{
 "cells": [
  {
   "cell_type": "code",
   "execution_count": null,
   "metadata": {
    "scrolled": true
   },
   "outputs": [],
   "source": [
    "#call_1 = `source activate sentinel`\n",
    "#call_2 = `gdalwarp -overwrite /Users/simon/Data/DEM/srtm_39_01/srtm_39_01.tif /Users/simon/Data/DEM/srtm_39_01/srtm_39_01_reproject.tif -s_srs EPSG:4326+5773 -t_srs EPSG:4979`"
   ]
  },
  {
   "cell_type": "code",
   "execution_count": null,
   "metadata": {},
   "outputs": [],
   "source": [
    "import PyCall"
   ]
  },
  {
   "cell_type": "code",
   "execution_count": null,
   "metadata": {},
   "outputs": [],
   "source": [
    "rasterio = PyCall.pyimport(\"rasterio\")\n",
    "dem39 = rasterio.open(\"/Users/simon/Data/DEM/srtm_39_01/srtm_39_01_reproject.tif\")\n",
    "dem38 = rasterio.open(\"/Users/simon/Data/DEM/srtm_38_01/srtm_38_01_transformed.tif\")"
   ]
  },
  {
   "cell_type": "code",
   "execution_count": null,
   "metadata": {},
   "outputs": [],
   "source": [
    "dem38.meta"
   ]
  },
  {
   "cell_type": "code",
   "execution_count": null,
   "metadata": {},
   "outputs": [],
   "source": [
    "dem39.meta"
   ]
  },
  {
   "cell_type": "code",
   "execution_count": null,
   "metadata": {},
   "outputs": [],
   "source": [
    "transform = dem38.get_transform()\n",
    "rows = collect(1:dem38.height).-1;\n",
    "columns = collect(1:dem38.width).-1;\n",
    "lon38 = transform[1] .+ rows .* transform[2];\n",
    "lat38  = transform[4] .+ columns .* transform[6];"
   ]
  },
  {
   "cell_type": "code",
   "execution_count": null,
   "metadata": {},
   "outputs": [],
   "source": [
    "lat38.-lat39"
   ]
  },
  {
   "cell_type": "code",
   "execution_count": null,
   "metadata": {},
   "outputs": [],
   "source": [
    "transform = dem39.get_transform()\n",
    "rows = collect(1:dem39.height).-1;\n",
    "columns = collect(1:dem39.width).-1;\n",
    "lon39 = transform[1] .+ rows .* transform[2];\n",
    "lat39  = transform[4] .+ columns .* transform[6];"
   ]
  },
  {
   "cell_type": "code",
   "execution_count": null,
   "metadata": {},
   "outputs": [],
   "source": [
    "lon38"
   ]
  },
  {
   "cell_type": "code",
   "execution_count": null,
   "metadata": {},
   "outputs": [],
   "source": [
    "lon39"
   ]
  },
  {
   "cell_type": "code",
   "execution_count": null,
   "metadata": {
    "scrolled": true
   },
   "outputs": [],
   "source": [
    "lon = cat(lon38,lon39,dims=1)\n",
    "heights = hcat(dem38.read(1),dem39.read(1))"
   ]
  },
  {
   "cell_type": "code",
   "execution_count": null,
   "metadata": {},
   "outputs": [],
   "source": [
    "import JLD"
   ]
  },
  {
   "cell_type": "code",
   "execution_count": null,
   "metadata": {},
   "outputs": [],
   "source": [
    "JLD.save(\"/Users/simon/Data/DEM/denmark.jld\", \"lat\", lat38, \"lon\", lon, \"height\", heights)"
   ]
  },
  {
   "cell_type": "code",
   "execution_count": null,
   "metadata": {},
   "outputs": [],
   "source": [
    "import Colors"
   ]
  },
  {
   "cell_type": "code",
   "execution_count": null,
   "metadata": {},
   "outputs": [],
   "source": [
    "test = heights;\n",
    "test = convert.(Float64,test)\n",
    "test[test .<0] .= 0.1 \n",
    "test[test .>0.5] .= 0.9;"
   ]
  },
  {
   "cell_type": "code",
   "execution_count": null,
   "metadata": {
    "scrolled": false
   },
   "outputs": [],
   "source": [
    "Colors.Gray.(test[1:10:end,1:10:end])"
   ]
  },
  {
   "cell_type": "markdown",
   "metadata": {},
   "source": [
    "# Huston"
   ]
  },
  {
   "cell_type": "code",
   "execution_count": 1,
   "metadata": {},
   "outputs": [],
   "source": [
    "import Colors\n",
    "import JLD\n",
    "import PyCall\n",
    "import FileIO"
   ]
  },
  {
   "cell_type": "code",
   "execution_count": 2,
   "metadata": {},
   "outputs": [
    {
     "data": {
      "text/plain": [
       "PyObject <open DatasetReader name='/Users/simon/Data/DEM/srtm_18_07/srtm_18_07_reproject.tif' mode='r'>"
      ]
     },
     "execution_count": 2,
     "metadata": {},
     "output_type": "execute_result"
    }
   ],
   "source": [
    "rasterio = PyCall.pyimport(\"rasterio\")\n",
    "dem76 = rasterio.open(\"/Users/simon/Data/DEM/srtm_17_06/srtm_17_06_reproject.tif\")\n",
    "dem77 = rasterio.open(\"/Users/simon/Data/DEM/srtm_17_07/srtm_17_07_reproject.tif\")\n",
    "dem86 = rasterio.open(\"/Users/simon/Data/DEM/srtm_18_06/srtm_18_06_reproject.tif\")\n",
    "dem87 = rasterio.open(\"/Users/simon/Data/DEM/srtm_18_07/srtm_18_07_reproject.tif\")"
   ]
  },
  {
   "cell_type": "code",
   "execution_count": 3,
   "metadata": {},
   "outputs": [
    {
     "data": {
      "text/plain": [
       "get_lat_lon (generic function with 1 method)"
      ]
     },
     "execution_count": 3,
     "metadata": {},
     "output_type": "execute_result"
    }
   ],
   "source": [
    "function get_lat_lon(dem)\n",
    "    transform = dem.get_transform()\n",
    "    rows = collect(1:dem.height).-1;\n",
    "    columns = collect(1:dem.width).-1;\n",
    "    lon = transform[1] .+ rows .* transform[2];\n",
    "    lat  = transform[4] .+ columns .* transform[6];\n",
    "    return lat,lon\n",
    "end"
   ]
  },
  {
   "cell_type": "code",
   "execution_count": 48,
   "metadata": {},
   "outputs": [],
   "source": [
    "heights = vcat(hcat(dem76.read(1),dem86.read(1)),hcat(dem77.read(1),dem87.read(1)));"
   ]
  },
  {
   "cell_type": "code",
   "execution_count": 49,
   "metadata": {},
   "outputs": [
    {
     "data": {
      "text/plain": [
       "(12000, 12000)"
      ]
     },
     "execution_count": 49,
     "metadata": {},
     "output_type": "execute_result"
    }
   ],
   "source": [
    "size(heights)"
   ]
  },
  {
   "cell_type": "code",
   "execution_count": 47,
   "metadata": {},
   "outputs": [],
   "source": [
    "test = heights[1:10:end,1:10:end];\n",
    "test = convert.(Float64,test)\n",
    "test[test .<0] .= 0.1 \n",
    "test[test .>0.5] .= 0.9;\n",
    "FileIO.save(\"test.jpg\",Colors.Gray.(test));"
   ]
  },
  {
   "cell_type": "code",
   "execution_count": 50,
   "metadata": {},
   "outputs": [],
   "source": [
    "lat_top,lon_left = get_lat_lon(dem76)\n",
    "lat_bot,lon_right = get_lat_lon(dem87)\n",
    "lat = cat(lat_top,lat_bot,dims=1);\n",
    "lon = cat(lon_left,lon_right,dims=1);"
   ]
  },
  {
   "cell_type": "code",
   "execution_count": 51,
   "metadata": {},
   "outputs": [],
   "source": [
    "JLD.save(\"/Users/simon/Data/DEM/houston_big.jld\", \"lat\", lat, \"lon\", lon, \"height\", heights)"
   ]
  },
  {
   "cell_type": "code",
   "execution_count": 52,
   "metadata": {},
   "outputs": [],
   "source": [
    "lat_max = 31\n",
    "lat_min = 28.5\n",
    "lon_max = -94\n",
    "lon_min = -97;\n"
   ]
  },
  {
   "cell_type": "code",
   "execution_count": 53,
   "metadata": {},
   "outputs": [],
   "source": [
    "idx1 = lat_min .< lat .< lat_max\n",
    "idx2 = lon_min .< lon .< lon_max;"
   ]
  },
  {
   "cell_type": "code",
   "execution_count": 54,
   "metadata": {},
   "outputs": [],
   "source": [
    "heights_small = heights[idx1,idx2];"
   ]
  },
  {
   "cell_type": "code",
   "execution_count": 55,
   "metadata": {
    "scrolled": true
   },
   "outputs": [
    {
     "data": {
      "text/plain": [
       "(3000, 3599)"
      ]
     },
     "execution_count": 55,
     "metadata": {},
     "output_type": "execute_result"
    }
   ],
   "source": [
    "size(heights_small)"
   ]
  },
  {
   "cell_type": "code",
   "execution_count": 43,
   "metadata": {},
   "outputs": [],
   "source": [
    "test = heights_small;\n",
    "test = convert.(Float64,test)\n",
    "test[heights_small .<-150] .= 0.01\n",
    "test[ -140 .< heights_small .< 1] .= 0.2\n",
    "test[  1 .< heights_small .< 11] .= 0.5\n",
    "test[heights_small .> 10] .= 0.9;\n",
    "FileIO.save(\"test_small.jpg\",Colors.Gray.(test));"
   ]
  },
  {
   "cell_type": "code",
   "execution_count": 57,
   "metadata": {
    "scrolled": true
   },
   "outputs": [],
   "source": [
    "JLD.save(\"/Users/simon/Data/DEM/houston_small.jld\", \"lat\", lat[idx1], \"lon\", lon[idx2], \"height\", heights[idx1,idx2])"
   ]
  },
  {
   "cell_type": "code",
   "execution_count": null,
   "metadata": {},
   "outputs": [],
   "source": []
  }
 ],
 "metadata": {
  "kernelspec": {
   "display_name": "Julia 1.0.4",
   "language": "julia",
   "name": "julia-1.0"
  },
  "language_info": {
   "file_extension": ".jl",
   "mimetype": "application/julia",
   "name": "julia",
   "version": "1.0.4"
  }
 },
 "nbformat": 4,
 "nbformat_minor": 2
}
