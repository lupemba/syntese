{
 "cells": [
  {
   "cell_type": "code",
   "execution_count": 6,
   "metadata": {
    "scrolled": true
   },
   "outputs": [
    {
     "data": {
      "text/plain": [
       "`\u001b[4mgdalwarp\u001b[24m \u001b[4m-overwrite\u001b[24m \u001b[4m/Users/simon/Data/DEM/srtm_39_01/srtm_39_01.tif\u001b[24m \u001b[4m/Users/simon/Data/DEM/srtm_39_01/srtm_39_01_reproject.tif\u001b[24m \u001b[4m-s_srs\u001b[24m \u001b[4mEPSG:4326+5773\u001b[24m \u001b[4m-t_srs\u001b[24m \u001b[4mEPSG:4979\u001b[24m`"
      ]
     },
     "execution_count": 6,
     "metadata": {},
     "output_type": "execute_result"
    }
   ],
   "source": [
    "#call_1 = `source activate sentinel`\n",
    "#call_2 = `gdalwarp -overwrite /Users/simon/Data/DEM/srtm_39_01/srtm_39_01.tif /Users/simon/Data/DEM/srtm_39_01/srtm_39_01_reproject.tif -s_srs EPSG:4326+5773 -t_srs EPSG:4979`"
   ]
  },
  {
   "cell_type": "code",
   "execution_count": 9,
   "metadata": {},
   "outputs": [],
   "source": [
    "import PyCall"
   ]
  },
  {
   "cell_type": "code",
   "execution_count": 10,
   "metadata": {},
   "outputs": [
    {
     "data": {
      "text/plain": [
       "PyObject <open DatasetReader name='/Users/simon/Data/DEM/srtm_38_01/srtm_38_01_transformed.tif' mode='r'>"
      ]
     },
     "execution_count": 10,
     "metadata": {},
     "output_type": "execute_result"
    }
   ],
   "source": [
    "rasterio = PyCall.pyimport(\"rasterio\")\n",
    "dem39 = rasterio.open(\"/Users/simon/Data/DEM/srtm_39_01/srtm_39_01_reproject.tif\")\n",
    "dem38 = rasterio.open(\"/Users/simon/Data/DEM/srtm_38_01/srtm_38_01_transformed.tif\")"
   ]
  },
  {
   "cell_type": "code",
   "execution_count": 11,
   "metadata": {},
   "outputs": [
    {
     "data": {
      "text/plain": [
       "Dict{Any,Any} with 8 entries:\n",
       "  \"driver\"    => \"GTiff\"\n",
       "  \"dtype\"     => \"int16\"\n",
       "  \"height\"    => 6000\n",
       "  \"nodata\"    => -32768.0\n",
       "  \"count\"     => 1\n",
       "  \"width\"     => 6000\n",
       "  \"transform\" => (0.000833333, 0.0, 5.0, 0.0, -0.000833333, 60.0, 0.0, 0.0, 1.0)\n",
       "  \"crs\"       => PyObject CRS.from_epsg(4979)"
      ]
     },
     "execution_count": 11,
     "metadata": {},
     "output_type": "execute_result"
    }
   ],
   "source": [
    "dem38.meta"
   ]
  },
  {
   "cell_type": "code",
   "execution_count": 12,
   "metadata": {},
   "outputs": [
    {
     "data": {
      "text/plain": [
       "Dict{Any,Any} with 8 entries:\n",
       "  \"driver\"    => \"GTiff\"\n",
       "  \"dtype\"     => \"int16\"\n",
       "  \"height\"    => 6000\n",
       "  \"nodata\"    => -32768.0\n",
       "  \"count\"     => 1\n",
       "  \"width\"     => 6000\n",
       "  \"transform\" => (0.000833333, 0.0, 10.0, 0.0, -0.000833333, 60.0, 0.0, 0.0, 1.…\n",
       "  \"crs\"       => PyObject CRS.from_epsg(4979)"
      ]
     },
     "execution_count": 12,
     "metadata": {},
     "output_type": "execute_result"
    }
   ],
   "source": [
    "dem39.meta"
   ]
  },
  {
   "cell_type": "code",
   "execution_count": 16,
   "metadata": {},
   "outputs": [],
   "source": [
    "transform = dem38.get_transform()\n",
    "rows = collect(1:dem38.height).-1;\n",
    "columns = collect(1:dem38.width).-1;\n",
    "lon38 = transform[1] .+ rows .* transform[2];\n",
    "lat38  = transform[4] .+ columns .* transform[6];"
   ]
  },
  {
   "cell_type": "code",
   "execution_count": 20,
   "metadata": {},
   "outputs": [
    {
     "data": {
      "text/plain": [
       "6000-element Array{Float64,1}:\n",
       " 0.0                  \n",
       " 0.0                  \n",
       " 0.0                  \n",
       " 0.0                  \n",
       " 0.0                  \n",
       " 0.0                  \n",
       " 0.0                  \n",
       " 0.0                  \n",
       " 0.0                  \n",
       " 0.0                  \n",
       " 0.0                  \n",
       " 0.0                  \n",
       " 0.0                  \n",
       " ⋮                    \n",
       " 0.0                  \n",
       " 0.0                  \n",
       " 7.105427357601002e-15\n",
       " 0.0                  \n",
       " 0.0                  \n",
       " 0.0                  \n",
       " 0.0                  \n",
       " 0.0                  \n",
       " 0.0                  \n",
       " 0.0                  \n",
       " 0.0                  \n",
       " 0.0                  "
      ]
     },
     "execution_count": 20,
     "metadata": {},
     "output_type": "execute_result"
    }
   ],
   "source": [
    "lat38.-lat39"
   ]
  },
  {
   "cell_type": "code",
   "execution_count": 19,
   "metadata": {},
   "outputs": [],
   "source": [
    "transform = dem39.get_transform()\n",
    "rows = collect(1:dem39.height).-1;\n",
    "columns = collect(1:dem39.width).-1;\n",
    "lon39 = transform[1] .+ rows .* transform[2];\n",
    "lat39  = transform[4] .+ columns .* transform[6];"
   ]
  },
  {
   "cell_type": "code",
   "execution_count": 23,
   "metadata": {},
   "outputs": [
    {
     "data": {
      "text/plain": [
       "6000-element Array{Float64,1}:\n",
       " 4.999999999999999 \n",
       " 5.000833333333333 \n",
       " 5.001666666666666 \n",
       " 5.0024999999999995\n",
       " 5.003333333333332 \n",
       " 5.0041666666666655\n",
       " 5.004999999999999 \n",
       " 5.0058333333333325\n",
       " 5.006666666666666 \n",
       " 5.007499999999999 \n",
       " 5.008333333333333 \n",
       " 5.009166666666665 \n",
       " 5.009999999999999 \n",
       " ⋮                 \n",
       " 9.989999999999995 \n",
       " 9.99083333333333  \n",
       " 9.991666666666662 \n",
       " 9.992499999999996 \n",
       " 9.993333333333329 \n",
       " 9.994166666666661 \n",
       " 9.994999999999996 \n",
       " 9.99583333333333  \n",
       " 9.996666666666663 \n",
       " 9.997499999999995 \n",
       " 9.998333333333328 \n",
       " 9.999166666666662 "
      ]
     },
     "execution_count": 23,
     "metadata": {},
     "output_type": "execute_result"
    }
   ],
   "source": [
    "lon38"
   ]
  },
  {
   "cell_type": "code",
   "execution_count": 22,
   "metadata": {},
   "outputs": [
    {
     "data": {
      "text/plain": [
       "6000-element Array{Float64,1}:\n",
       "  9.999999999999998\n",
       " 10.00083333333333 \n",
       " 10.001666666666665\n",
       " 10.002499999999998\n",
       " 10.003333333333332\n",
       " 10.004166666666665\n",
       " 10.004999999999999\n",
       " 10.005833333333332\n",
       " 10.006666666666664\n",
       " 10.007499999999999\n",
       " 10.008333333333331\n",
       " 10.009166666666665\n",
       " 10.009999999999998\n",
       "  ⋮                \n",
       " 14.989999999999995\n",
       " 14.990833333333327\n",
       " 14.991666666666662\n",
       " 14.992499999999996\n",
       " 14.993333333333329\n",
       " 14.994166666666661\n",
       " 14.994999999999996\n",
       " 14.995833333333328\n",
       " 14.996666666666663\n",
       " 14.997499999999995\n",
       " 14.998333333333328\n",
       " 14.999166666666662"
      ]
     },
     "execution_count": 22,
     "metadata": {},
     "output_type": "execute_result"
    }
   ],
   "source": [
    "lon39"
   ]
  },
  {
   "cell_type": "code",
   "execution_count": 39,
   "metadata": {
    "scrolled": true
   },
   "outputs": [
    {
     "data": {
      "text/plain": [
       "6000×12000 Array{Int16,2}:\n",
       " -32768  -32768  -32768  -32768  -32768  …  309  308  308  308  307  306  304\n",
       " -32768  -32768  -32768  -32768  -32768     312  311  310  308  306  304  302\n",
       " -32768  -32768  -32768  -32768  -32768     310  311  311  310  306  301  299\n",
       " -32768  -32768  -32768  -32768  -32768     309  308  308  308  306  304  302\n",
       " -32768  -32768  -32768  -32768  -32768     309  311  311  312  313  315  316\n",
       " -32768  -32768  -32768  -32768  -32768  …  311  312  316  320  321  323  325\n",
       " -32768  -32768  -32768  -32768  -32768     315  316  319  322  325  328  329\n",
       " -32768  -32768  -32768  -32768  -32768     317  316  319  323  328  333  332\n",
       " -32768  -32768  -32768  -32768  -32768     320  319  320  321  326  331  330\n",
       " -32768  -32768  -32768  -32768  -32768     314  315  317  319  323  327  326\n",
       " -32768  -32768  -32768  -32768  -32768  …  308  309  310  312  316  320  319\n",
       " -32768  -32768  -32768  -32768  -32768     301  302  303  304  307  310  311\n",
       " -32768  -32768  -32768  -32768  -32768     294  296  296  297  300  304  306\n",
       "      ⋮                                  ⋱              ⋮                    \n",
       " -32768  -32768  -32768  -32768  -32768      51   50   49   47   47   48   48\n",
       " -32768  -32768  -32768  -32768  -32768      46   46   46   45   45   46   46\n",
       " -32768  -32768  -32768  -32768  -32768  …   46   45   45   45   45   46   46\n",
       " -32768  -32768  -32768  -32768  -32768      45   44   45   46   46   46   46\n",
       " -32768  -32768  -32768  -32768  -32768      45   44   44   45   45   45   45\n",
       " -32768  -32768  -32768  -32768  -32768      45   44   44   44   44   43   44\n",
       " -32768  -32768  -32768  -32768  -32768      46   45   45   44   44   44   44\n",
       " -32768  -32768  -32768  -32768  -32768  …   47   46   46   46   45   44   44\n",
       " -32768  -32768  -32768  -32768  -32768      48   50   49   47   45   42   42\n",
       " -32768  -32768  -32768  -32768  -32768      49   50   49   47   46   44   44\n",
       " -32768  -32768  -32768  -32768  -32768      48   48   47   45   44   43   43\n",
       " -32768  -32768  -32768  -32768  -32768      41   43   43   42   42   43   43"
      ]
     },
     "execution_count": 39,
     "metadata": {},
     "output_type": "execute_result"
    }
   ],
   "source": [
    "lon = cat(lon38,lon39,dims=1)\n",
    "heights = hcat(dem38.read(1),dem39.read(1))"
   ]
  },
  {
   "cell_type": "code",
   "execution_count": 40,
   "metadata": {},
   "outputs": [],
   "source": [
    "import JLD"
   ]
  },
  {
   "cell_type": "code",
   "execution_count": 43,
   "metadata": {},
   "outputs": [],
   "source": [
    "JLD.save(\"/Users/simon/Data/DEM/denmark.jld\", \"lat\", lat38, \"lon\", lon, \"height\", heights)"
   ]
  },
  {
   "cell_type": "code",
   "execution_count": 28,
   "metadata": {},
   "outputs": [],
   "source": [
    "import Colors"
   ]
  },
  {
   "cell_type": "code",
   "execution_count": 36,
   "metadata": {},
   "outputs": [],
   "source": [
    "test = heights;\n",
    "test = convert.(Float64,test)\n",
    "test[test .<0] .= 0.1 \n",
    "test[test .>0.5] .= 0.9;"
   ]
  },
  {
   "cell_type": "code",
   "execution_count": null,
   "metadata": {
    "scrolled": false
   },
   "outputs": [],
   "source": [
    "Colors.Gray.(test[1:10:end,1:10:end])"
   ]
  },
  {
   "cell_type": "code",
   "execution_count": null,
   "metadata": {},
   "outputs": [],
   "source": []
  }
 ],
 "metadata": {
  "kernelspec": {
   "display_name": "Julia 1.0.4",
   "language": "julia",
   "name": "julia-1.0"
  },
  "language_info": {
   "file_extension": ".jl",
   "mimetype": "application/julia",
   "name": "julia",
   "version": "1.0.4"
  }
 },
 "nbformat": 4,
 "nbformat_minor": 2
}
