{
 "cells": [
  {
   "cell_type": "code",
   "execution_count": 1,
   "metadata": {},
   "outputs": [],
   "source": [
    "import JLD\n",
    "using Colors\n",
    "import FileIO"
   ]
  },
  {
   "cell_type": "code",
   "execution_count": 65,
   "metadata": {
    "scrolled": true
   },
   "outputs": [
    {
     "data": {
      "text/plain": [
       "\"/Users/simon/Data/Sentinel/vejle_oktober/factory_AAA\""
      ]
     },
     "execution_count": 65,
     "metadata": {},
     "output_type": "execute_result"
    }
   ],
   "source": [
    "folder = \"/Users/simon/Data/Sentinel/vejle_oktober/factory_AAA\""
   ]
  },
  {
   "cell_type": "code",
   "execution_count": 66,
   "metadata": {},
   "outputs": [],
   "source": [
    "# Load\n",
    "co_gamma = JLD.load(joinpath(folder,\"21VV_coher.jld\"),\"data\")[end:-1:1,:]\n",
    "pre_gamma = JLD.load(joinpath(folder,\"23VV_coher.jld\"),\"data\")[end:-1:1,:]\n",
    "\n",
    "VV_paths = [joinpath(folder,string(i)*\"VV_itens.jld\") for i=1:3]\n",
    "VV = [JLD.load(path,\"data\")[end:-1:1,:] for path in VV_paths]\n",
    "VH_paths = [joinpath(folder,string(i)*\"VH_itens.jld\") for i=1:3]\n",
    "VH = [JLD.load(path,\"data\")[end:-1:1,:] for path in VH_paths];"
   ]
  },
  {
   "cell_type": "code",
   "execution_count": 67,
   "metadata": {},
   "outputs": [
    {
     "data": {
      "text/plain": [
       "db_scale_img_diff (generic function with 1 method)"
      ]
     },
     "execution_count": 67,
     "metadata": {},
     "output_type": "execute_result"
    }
   ],
   "source": [
    "function db_scale_img(img , min , max)\n",
    "    log_img = (10*log10.(img).-min)./(max-min)\n",
    "    log_img[log_img.>1] .= 0.999\n",
    "    log_img[log_img.<0] .= 0.001\n",
    "    return log_img\n",
    "end\n",
    "\n",
    "\n",
    "function db_scale_img_diff(img1,img2 , min , max)\n",
    "    log_img = 10*log10.(img1).-10*log10.(img2)\n",
    "    log_img = (log_img.-min)./(max-min)\n",
    "    log_img[log_img.>1] .= 0.999\n",
    "    log_img[log_img.<0] .= 0.001\n",
    "    return log_img\n",
    "end"
   ]
  },
  {
   "cell_type": "code",
   "execution_count": 68,
   "metadata": {},
   "outputs": [],
   "source": [
    "min_vv = -19\n",
    "max_vv = 4\n",
    "\n",
    "min_vh = -26\n",
    "max_vh = -3\n",
    "\n",
    "min_r = -14\n",
    "max_r = 0;"
   ]
  },
  {
   "cell_type": "code",
   "execution_count": 69,
   "metadata": {},
   "outputs": [],
   "source": [
    "img = Colors.Gray.(db_scale_img(VV[1],min_vv,max_vv));\n",
    "img_path = joinpath(folder,\"VV1.jpg\")\n",
    "FileIO.save(img_path,img);\n",
    "\n",
    "img = Colors.Gray.(db_scale_img(VV[2],min_vv,max_vv));\n",
    "img_path = joinpath(folder,\"VV2.jpg\")\n",
    "FileIO.save(img_path,img);\n",
    "\n",
    "img = Colors.Gray.(db_scale_img(VV[3],min_vv,max_vv));\n",
    "img_path = joinpath(folder,\"VV3.jpg\")\n",
    "FileIO.save(img_path,img);\n",
    "\n",
    "\n",
    "img = Colors.Gray.(db_scale_img(VH[1],min_vh,max_vh));\n",
    "img_path = joinpath(folder,\"VH1.jpg\")\n",
    "FileIO.save(img_path,img);\n",
    "\n",
    "img = Colors.Gray.(db_scale_img(VH[2],min_vh,max_vh));\n",
    "img_path = joinpath(folder,\"VH2.jpg\")\n",
    "FileIO.save(img_path,img);\n",
    "\n",
    "img = Colors.Gray.(db_scale_img(VH[3],min_vh,max_vh));\n",
    "img_path = joinpath(folder,\"VH3.jpg\")\n",
    "FileIO.save(img_path,img);"
   ]
  },
  {
   "cell_type": "code",
   "execution_count": 70,
   "metadata": {},
   "outputs": [],
   "source": [
    "img = Colors.Gray.(abs.(co_gamma));\n",
    "img_path = joinpath(folder,\"co_gamma.jpg\")\n",
    "FileIO.save(img_path,img);\n",
    "\n",
    "img = Colors.Gray.(abs.(pre_gamma));\n",
    "img_path = joinpath(folder,\"pre_gamma.jpg\")\n",
    "FileIO.save(img_path,img);"
   ]
  },
  {
   "cell_type": "code",
   "execution_count": 71,
   "metadata": {},
   "outputs": [],
   "source": [
    "img = Colors.RGB{Float32}.(abs.(co_gamma),abs.(pre_gamma),abs.(pre_gamma));\n",
    "img_path = joinpath(folder,\"CoPrePre_coherence.jpg\")\n",
    "FileIO.save(img_path,img);"
   ]
  },
  {
   "cell_type": "code",
   "execution_count": 72,
   "metadata": {},
   "outputs": [],
   "source": [
    "bands = [db_scale_img(elem,min_vv,max_vv) for elem in VV]\n",
    "img = Colors.RGB{Float32}.(bands...);\n",
    "img_path = joinpath(folder,\"CoPre1Pre2_VV.jpg\")\n",
    "FileIO.save(img_path,img);\n",
    "\n",
    "bands = [db_scale_img(elem,min_vh,max_vh) for elem in VH]\n",
    "img = Colors.RGB{Float32}.(bands...);\n",
    "img_path = joinpath(folder,\"CoPre1Pre2_VH.jpg\")\n",
    "FileIO.save(img_path,img);"
   ]
  },
  {
   "cell_type": "code",
   "execution_count": 73,
   "metadata": {},
   "outputs": [],
   "source": [
    "pre = db_scale_img((VV[2] .+VV[3])./2,min_vv,max_vv) \n",
    "co = db_scale_img(VV[1],min_vv,max_vv) \n",
    "img = Colors.RGB{Float32}.(co,pre,pre);\n",
    "img_path = joinpath(folder,\"CoPrePre_VV.jpg\")\n",
    "FileIO.save(img_path,img);\n",
    "\n",
    "img = Colors.Gray.(db_scale_img_diff(co,pre,-3,3)); \n",
    "img_path = joinpath(folder,\"Co_minus_pre_VV.jpg\")\n",
    "FileIO.save(img_path,img);\n",
    "\n",
    "pre = db_scale_img((VH[2] .+VH[3])./2,min_vh,max_vh) \n",
    "co = db_scale_img(VH[1],min_vh,max_vh) \n",
    "img = Colors.RGB{Float32}.(co,pre,pre);\n",
    "img_path = joinpath(folder,\"CoPrePre_VH.jpg\")\n",
    "FileIO.save(img_path,img);\n",
    "\n",
    "img = Colors.Gray.(db_scale_img_diff(co,pre,-3,3)); \n",
    "img_path = joinpath(folder,\"Co_minus_pre_VH.jpg\")\n",
    "FileIO.save(img_path,img);"
   ]
  },
  {
   "cell_type": "code",
   "execution_count": 74,
   "metadata": {},
   "outputs": [],
   "source": [
    "bands = [[db_scale_img(VV[i],min_vv,max_vv),db_scale_img(VH[i],min_vh,max_vh),db_scale_img(VH[i]./VV[i],min_r,max_r)]\n",
    "        for i in 1:3]\n",
    "\n",
    "img = Colors.RGB{Float32}.(bands[1]...);\n",
    "img_path = joinpath(folder,\"Pol1.jpg\")\n",
    "FileIO.save(img_path,img);\n",
    "\n",
    "img = Colors.RGB{Float32}.(bands[2]...);\n",
    "img_path = joinpath(folder,\"Pol2.jpg\")\n",
    "FileIO.save(img_path,img);\n",
    "\n",
    "img = Colors.RGB{Float32}.(bands[3]...);\n",
    "img_path = joinpath(folder,\"Pol3.jpg\")\n",
    "FileIO.save(img_path,img);"
   ]
  },
  {
   "cell_type": "code",
   "execution_count": null,
   "metadata": {},
   "outputs": [],
   "source": []
  },
  {
   "cell_type": "code",
   "execution_count": null,
   "metadata": {},
   "outputs": [],
   "source": []
  },
  {
   "cell_type": "code",
   "execution_count": null,
   "metadata": {},
   "outputs": [],
   "source": []
  },
  {
   "cell_type": "code",
   "execution_count": null,
   "metadata": {},
   "outputs": [],
   "source": []
  }
 ],
 "metadata": {
  "kernelspec": {
   "display_name": "Julia 1.0.4",
   "language": "julia",
   "name": "julia-1.0"
  },
  "language_info": {
   "file_extension": ".jl",
   "mimetype": "application/julia",
   "name": "julia",
   "version": "1.0.4"
  }
 },
 "nbformat": 4,
 "nbformat_minor": 2
}
