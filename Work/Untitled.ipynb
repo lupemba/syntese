{
 "cells": [
  {
   "cell_type": "code",
   "execution_count": 1,
   "metadata": {},
   "outputs": [],
   "source": [
    "include(\"../ToolBox/ToolBox.jl\")\n",
    "using .ToolBox\n",
    "using .Geometry"
   ]
  },
  {
   "cell_type": "code",
   "execution_count": 4,
   "metadata": {},
   "outputs": [
    {
     "data": {
      "text/plain": [
       "\"/Users/simon/Data/Sentinel/S1B_IW_SLC__1SDV_20170327T053950_20170327T054018_004890_0088AE_3CC1.SAFE/annotation/s1b-iw3-slc-vv-20170327t053950-20170327t054018-004890-0088ae-006.xml\""
      ]
     },
     "execution_count": 4,
     "metadata": {},
     "output_type": "execute_result"
    }
   ],
   "source": [
    "slave_pod_path = \"/Users/simon/Data/Sentinel/S1B_OPER_AUX_POEORB_OPOD_20170416T111343_V20170326T225942_20170328T005942.EOF\"\n",
    "slave_meta_path = \"/Users/simon/Data/Sentinel/S1B_IW_SLC__1SDV_20170327T053950_20170327T054018_004890_0088AE_3CC1.SAFE/annotation/s1b-iw3-slc-vv-20170327t053950-20170327t054018-004890-0088ae-006.xml\""
   ]
  },
  {
   "cell_type": "code",
   "execution_count": 16,
   "metadata": {},
   "outputs": [],
   "source": [
    "meta = Load.slc_meta(slave_meta_path);\n",
    "precise_orbit = Load.precise_orbit(slave_pod_path,slave_meta[\"t_0\"]);"
   ]
  },
  {
   "cell_type": "code",
   "execution_count": 18,
   "metadata": {},
   "outputs": [
    {
     "data": {
      "text/plain": [
       "10-element Array{Float64,1}:\n",
       " 50.92108 \n",
       " 53.679637\n",
       " 56.434082\n",
       " 59.192639\n",
       " 61.951195\n",
       " 64.711807\n",
       " 67.470364\n",
       " 70.224809\n",
       " 72.985421\n",
       " 75.741922"
      ]
     },
     "execution_count": 18,
     "metadata": {},
     "output_type": "execute_result"
    }
   ],
   "source": [
    "meta[ \"burst_meta\"][\"burst_times\"]"
   ]
  },
  {
   "cell_type": "code",
   "execution_count": 19,
   "metadata": {},
   "outputs": [
    {
     "data": {
      "text/plain": [
       "10-element Array{Float64,1}:\n",
       " 52.487413900600004\n",
       " 55.2459709006     \n",
       " 58.0004159006     \n",
       " 60.7589729006     \n",
       " 63.5175289006     \n",
       " 66.2781409006     \n",
       " 69.0366979006     \n",
       " 71.7911429006     \n",
       " 74.5517549006     \n",
       " 77.3082559006     "
      ]
     },
     "execution_count": 19,
     "metadata": {},
     "output_type": "execute_result"
    }
   ],
   "source": [
    "time_mid_burst = meta[ \"burst_meta\"][\"burst_times\"].+ meta[\"lines_per_burst\"]/(2*meta[\"azimuth_frequency\"])"
   ]
  },
  {
   "cell_type": "code",
   "execution_count": 22,
   "metadata": {},
   "outputs": [
    {
     "data": {
      "text/plain": [
       "(Polynomials.Poly{Float64}[Poly(-0.377373 + 0.00704978*x - 2.12271e-6*x^2 - 1.37486e-9*x^3 + 2.25348e-13*x^4), Poly(0.751406 - 0.00372994*x - 2.09416e-5*x^2 + 2.4342e-9*x^3 + 2.71774e-12*x^4), Poly(0.510489 - 0.00607779*x - 5.45585e-6*x^2 + 1.1356e-9*x^3 + 4.91904e-13*x^4), Poly(0.517371 - 0.00602238*x - 5.86464e-6*x^2 + 1.1383e-9*x^3 + 5.65195e-13*x^4), Poly(0.393171 - 0.00696647*x + 1.2195e-6*x^2 + 1.8638e-9*x^3 - 2.32484e-13*x^4), Poly(0.375879 - 0.00705745*x + 2.20774e-6*x^2 + 1.32568e-9*x^3 - 2.18638e-13*x^4)], [3.85921e6, 1.15136e6, 5.70121e6, 6234.47, -333.798, -4143.4], [9.32573e5, 54773.5, 6.22221e5, 657.136, 329.351, 962.161])"
      ]
     },
     "execution_count": 22,
     "metadata": {},
     "output_type": "execute_result"
    }
   ],
   "source": [
    "t_start = meta[\"t_start\"]\n",
    "t_stop = meta[\"t_stop\"]\n",
    "state_vectors_poly, state_vectors_mean, state_vectors_std = Geometry.satellite_trajectory(precise_orbit..., t_start, t_stop)"
   ]
  },
  {
   "cell_type": "code",
   "execution_count": 27,
   "metadata": {},
   "outputs": [
    {
     "data": {
      "text/plain": [
       "10-element Array{Float64,1}:\n",
       " 7588.195779199304\n",
       " 7588.245111921055\n",
       " 7588.294460510536\n",
       " 7588.343970250796\n",
       " 7588.3935654617  \n",
       " 7588.44328116288 \n",
       " 7588.49304126563 \n",
       " 7588.542806346847\n",
       " 7588.592760159611\n",
       " 7588.642714764651"
      ]
     },
     "execution_count": 27,
     "metadata": {},
     "output_type": "execute_result"
    }
   ],
   "source": [
    "v_mid = [Geometry.polyval_state_vectors(state_vectors_poly,time,state_vectors_mean, state_vectors_std) for time in time_mid_burst]\n",
    "v_mid = [ sqrt(elem[4:6]'*elem[4:6]) for elem in v_mid]"
   ]
  },
  {
   "cell_type": "code",
   "execution_count": 28,
   "metadata": {},
   "outputs": [
    {
     "data": {
      "text/plain": [
       "mid_speed (generic function with 1 method)"
      ]
     },
     "execution_count": 28,
     "metadata": {},
     "output_type": "execute_result"
    }
   ],
   "source": [
    "function mid_speed(precise_orbit, meta)\n",
    "    \n",
    "    t_start = meta[\"t_start\"]\n",
    "    t_stop = meta[\"t_stop\"]\n",
    "    \n",
    "    state_vectors_poly, state_vectors_mean, state_vectors_std = Geometry.satellite_trajectory(precise_orbit..., t_start, t_stop)\n",
    "    \n",
    "    time_mid_burst = meta[ \"burst_meta\"][\"burst_times\"].+ meta[\"lines_per_burst\"]/(2*meta[\"azimuth_frequency\"])\n",
    "    \n",
    "    v_mid = [Geometry.polyval_state_vectors(state_vectors_poly,time,state_vectors_mean, state_vectors_std) for time in time_mid_burst]\n",
    "    v_mid = [ sqrt(elem[4:6]'*elem[4:6]) for elem in v_mid]\n",
    "end"
   ]
  },
  {
   "cell_type": "code",
   "execution_count": null,
   "metadata": {},
   "outputs": [],
   "source": [
    "midburstspeed"
   ]
  },
  {
   "cell_type": "code",
   "execution_count": null,
   "metadata": {},
   "outputs": [],
   "source": []
  },
  {
   "cell_type": "code",
   "execution_count": null,
   "metadata": {},
   "outputs": [],
   "source": []
  },
  {
   "cell_type": "code",
   "execution_count": null,
   "metadata": {},
   "outputs": [],
   "source": []
  }
 ],
 "metadata": {
  "kernelspec": {
   "display_name": "Julia 1.0.4",
   "language": "julia",
   "name": "julia-1.0"
  },
  "language_info": {
   "file_extension": ".jl",
   "mimetype": "application/julia",
   "name": "julia",
   "version": "1.0.4"
  }
 },
 "nbformat": 4,
 "nbformat_minor": 2
}
