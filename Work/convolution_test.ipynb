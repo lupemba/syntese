{
 "cells": [
  {
   "cell_type": "code",
   "execution_count": 1,
   "metadata": {},
   "outputs": [],
   "source": [
    "#import Pkg; Pkg.add(\"DSP\")\n",
    "#import Pkg; Pkg.add(\"BenchmarkTools\")"
   ]
  },
  {
   "cell_type": "code",
   "execution_count": 2,
   "metadata": {},
   "outputs": [],
   "source": [
    "using DSP\n",
    "using BenchmarkTools"
   ]
  },
  {
   "cell_type": "code",
   "execution_count": 16,
   "metadata": {},
   "outputs": [
    {
     "data": {
      "text/plain": [
       "5"
      ]
     },
     "execution_count": 16,
     "metadata": {},
     "output_type": "execute_result"
    }
   ],
   "source": [
    "B = zeros(7,7);\n",
    "k = ones(3,3)\n",
    "B[6, 4] = 5"
   ]
  },
  {
   "cell_type": "code",
   "execution_count": 17,
   "metadata": {},
   "outputs": [
    {
     "data": {
      "text/plain": [
       "3×3 Array{Float64,2}:\n",
       " 1.0  1.0  1.0\n",
       " 1.0  1.0  1.0\n",
       " 1.0  1.0  1.0"
      ]
     },
     "execution_count": 17,
     "metadata": {},
     "output_type": "execute_result"
    }
   ],
   "source": [
    "u1 = [1.,1.,1.]\n",
    "v1 = [1.,1.,1.];\n",
    "u1 * v1'"
   ]
  },
  {
   "cell_type": "code",
   "execution_count": 5,
   "metadata": {},
   "outputs": [
    {
     "data": {
      "text/plain": [
       "conv1 (generic function with 1 method)"
      ]
     },
     "execution_count": 5,
     "metadata": {},
     "output_type": "execute_result"
    }
   ],
   "source": [
    "function conv1(A, kernel)\n",
    "    number_of_rows = size(A)[1] - size(kernel)[1] + 1\n",
    "    number_of_cols = size(A)[2] - size(kernel)[2] + 1\n",
    "    new_arr = Array{Float64, 2}(undef, number_of_rows, number_of_cols)\n",
    "    count = 0\n",
    "    for i in 1:number_of_rows\n",
    "        for j in 1:number_of_cols\n",
    "                    i_range = i:i + size(kernel)[1] - 1\n",
    "                    j_range = j:j + size(kernel)[2] - 1\n",
    "                    new_arr[i, j] = sum(kernel .* A[i_range, j_range])\n",
    "        end\n",
    "    end\n",
    "    return new_arr\n",
    "end"
   ]
  },
  {
   "cell_type": "code",
   "execution_count": 6,
   "metadata": {},
   "outputs": [
    {
     "data": {
      "text/plain": [
       "conv2 (generic function with 1 method)"
      ]
     },
     "execution_count": 6,
     "metadata": {},
     "output_type": "execute_result"
    }
   ],
   "source": [
    "function conv2(u, v, A)\n",
    "    result = conv(u, v, A)\n",
    "    return result[size(u, 1):end-size(u, 1)+1, size(v, 1):end-size(v, 1)+1]\n",
    "end"
   ]
  },
  {
   "cell_type": "code",
   "execution_count": 7,
   "metadata": {},
   "outputs": [
    {
     "data": {
      "text/plain": [
       "BenchmarkTools.Trial: \n",
       "  memory estimate:  311.56 MiB\n",
       "  allocs estimate:  1992010\n",
       "  --------------\n",
       "  minimum time:     215.354 ms (3.68% GC)\n",
       "  median time:      227.396 ms (3.71% GC)\n",
       "  mean time:        252.183 ms (12.57% GC)\n",
       "  maximum time:     394.668 ms (40.28% GC)\n",
       "  --------------\n",
       "  samples:          20\n",
       "  evals/sample:     1"
      ]
     },
     "execution_count": 7,
     "metadata": {},
     "output_type": "execute_result"
    }
   ],
   "source": [
    "@benchmark conv1($B, $k)"
   ]
  },
  {
   "cell_type": "code",
   "execution_count": 8,
   "metadata": {},
   "outputs": [
    {
     "data": {
      "text/plain": [
       "BenchmarkTools.Trial: \n",
       "  memory estimate:  99.62 MiB\n",
       "  allocs estimate:  251\n",
       "  --------------\n",
       "  minimum time:     274.830 ms (2.68% GC)\n",
       "  median time:      340.596 ms (21.37% GC)\n",
       "  mean time:        326.202 ms (15.08% GC)\n",
       "  maximum time:     377.176 ms (23.15% GC)\n",
       "  --------------\n",
       "  samples:          16\n",
       "  evals/sample:     1"
      ]
     },
     "execution_count": 8,
     "metadata": {},
     "output_type": "execute_result"
    }
   ],
   "source": [
    "@benchmark conv2($u1, $v1, $B)"
   ]
  },
  {
   "cell_type": "code",
   "execution_count": 14,
   "metadata": {},
   "outputs": [
    {
     "data": {
      "text/plain": [
       "BenchmarkTools.Trial: \n",
       "  memory estimate:  7.66 MiB\n",
       "  allocs estimate:  9\n",
       "  --------------\n",
       "  minimum time:     15.777 ms (0.00% GC)\n",
       "  median time:      16.209 ms (0.00% GC)\n",
       "  mean time:        18.141 ms (6.86% GC)\n",
       "  maximum time:     97.430 ms (83.52% GC)\n",
       "  --------------\n",
       "  samples:          276\n",
       "  evals/sample:     1"
      ]
     },
     "execution_count": 14,
     "metadata": {},
     "output_type": "execute_result"
    }
   ],
   "source": [
    "@benchmark fastconv($B, $k)"
   ]
  },
  {
   "cell_type": "code",
   "execution_count": 18,
   "metadata": {},
   "outputs": [],
   "source": [
    "res1 = conv1(B, k)\n",
    "res2 = conv2(u1, v1, B)\n",
    "res3 = fastconv(B, k);"
   ]
  },
  {
   "cell_type": "code",
   "execution_count": 19,
   "metadata": {},
   "outputs": [
    {
     "data": {
      "text/plain": [
       "5×5 Array{Float64,2}:\n",
       " 0.0  0.0  0.0  0.0  0.0\n",
       " 0.0  0.0  0.0  0.0  0.0\n",
       " 0.0  0.0  0.0  0.0  0.0\n",
       " 0.0  5.0  5.0  5.0  0.0\n",
       " 0.0  5.0  5.0  5.0  0.0"
      ]
     },
     "execution_count": 19,
     "metadata": {},
     "output_type": "execute_result"
    }
   ],
   "source": [
    "res1"
   ]
  },
  {
   "cell_type": "code",
   "execution_count": 21,
   "metadata": {},
   "outputs": [
    {
     "data": {
      "text/plain": [
       "5×5 Array{Float64,2}:\n",
       " -0.0   0.0  0.0   0.0  -0.0\n",
       " -0.0  -0.0  0.0  -0.0  -0.0\n",
       "  0.0   0.0  0.0   0.0   0.0\n",
       "  0.0   5.0  5.0   5.0   0.0\n",
       " -0.0   5.0  5.0   5.0  -0.0"
      ]
     },
     "execution_count": 21,
     "metadata": {},
     "output_type": "execute_result"
    }
   ],
   "source": [
    "round.(res2)"
   ]
  },
  {
   "cell_type": "code",
   "execution_count": 24,
   "metadata": {},
   "outputs": [
    {
     "data": {
      "text/plain": [
       "5×5 Array{Float64,2}:\n",
       " 0.0  0.0  0.0  0.0  0.0\n",
       " 0.0  0.0  0.0  0.0  0.0\n",
       " 0.0  0.0  0.0  0.0  0.0\n",
       " 0.0  5.0  5.0  5.0  0.0\n",
       " 0.0  5.0  5.0  5.0  0.0"
      ]
     },
     "execution_count": 24,
     "metadata": {},
     "output_type": "execute_result"
    }
   ],
   "source": [
    "res3[size(u1, 1):end-size(u1, 1)+1, size(v1, 1):end-size(v1, 1)+1]"
   ]
  },
  {
   "cell_type": "code",
   "execution_count": 134,
   "metadata": {},
   "outputs": [
    {
     "data": {
      "text/plain": [
       "3×3 Array{Float64,2}:\n",
       " 1.0  1.0  1.0\n",
       " 1.0  1.0  1.0\n",
       " 1.0  1.0  1.0"
      ]
     },
     "execution_count": 134,
     "metadata": {},
     "output_type": "execute_result"
    }
   ],
   "source": [
    "u = [1.,1.,1.]\n",
    "v = [1.,1.,1.];\n",
    "u * v'"
   ]
  },
  {
   "cell_type": "code",
   "execution_count": 135,
   "metadata": {},
   "outputs": [
    {
     "data": {
      "text/plain": [
       "9×9 Array{Float64,2}:\n",
       "  0.0   0.0   0.0  -0.0   0.0  -0.0   0.0   0.0   0.0\n",
       "  0.0  -0.0  -0.0  -0.0  -0.0  -0.0   0.0   0.0   0.0\n",
       "  0.0  -0.0  -0.0   0.0   0.0   0.0  -0.0  -0.0   0.0\n",
       "  0.0  -0.0  -0.0  -0.0   0.0  -0.0  -0.0   0.0   0.0\n",
       " -0.0   0.0   0.0   0.0   0.0   0.0   0.0   0.0   0.0\n",
       "  0.0  -0.0   0.0   5.0   5.0   5.0   0.0   0.0   0.0\n",
       "  0.0  -0.0  -0.0   5.0   5.0   5.0  -0.0   0.0   0.0\n",
       "  0.0   0.0   0.0   5.0   5.0   5.0   0.0  -0.0  -0.0\n",
       "  0.0   0.0   0.0   0.0  -0.0  -0.0   0.0   0.0   0.0"
      ]
     },
     "execution_count": 135,
     "metadata": {},
     "output_type": "execute_result"
    }
   ],
   "source": [
    "number_of_rows = size(random)[1] - size(kernel)[1] + 1\n",
    "number_of_cols = size(random)[2] - size(kernel)[2] + 1\n",
    "m = length(u)+size(random,1)-1\n",
    "n = length(v)+size(random,2)-1\n",
    "result = conv(u, v, random)\n",
    "round.(result)"
   ]
  },
  {
   "cell_type": "code",
   "execution_count": 136,
   "metadata": {},
   "outputs": [
    {
     "data": {
      "text/plain": [
       "5×5 Array{Float64,2}:\n",
       " -0.0   0.0  0.0   0.0  -0.0\n",
       " -0.0  -0.0  0.0  -0.0  -0.0\n",
       "  0.0   0.0  0.0   0.0   0.0\n",
       "  0.0   5.0  5.0   5.0   0.0\n",
       " -0.0   5.0  5.0   5.0  -0.0"
      ]
     },
     "execution_count": 136,
     "metadata": {},
     "output_type": "execute_result"
    }
   ],
   "source": [
    "round.(result[size(kernel)[1]:end-size(kernel)[1]+1, size(kernel)[2]:end-size(kernel)[2]+1])"
   ]
  },
  {
   "cell_type": "code",
   "execution_count": 137,
   "metadata": {},
   "outputs": [
    {
     "data": {
      "text/plain": [
       "5×5 Array{Float64,2}:\n",
       " 0.0  0.0  0.0  0.0  0.0\n",
       " 0.0  0.0  0.0  0.0  0.0\n",
       " 0.0  0.0  0.0  0.0  0.0\n",
       " 0.0  5.0  5.0  5.0  0.0\n",
       " 0.0  5.0  5.0  5.0  0.0"
      ]
     },
     "execution_count": 137,
     "metadata": {},
     "output_type": "execute_result"
    }
   ],
   "source": [
    "new_arr"
   ]
  },
  {
   "cell_type": "code",
   "execution_count": 83,
   "metadata": {},
   "outputs": [
    {
     "data": {
      "text/plain": [
       "5×9 Array{Float64,2}:\n",
       " 0.0  0.0  0.0  0.0  0.0  0.0  0.0  0.0  0.0\n",
       " 0.0  0.0  0.0  0.0  0.0  0.0  0.0  0.0  0.0\n",
       " 0.0  0.0  0.0  0.0  0.0  0.0  0.0  0.0  0.0\n",
       " 0.0  0.0  0.0  0.0  0.0  0.0  0.0  0.0  0.0\n",
       " 0.0  0.0  0.0  0.0  0.0  0.0  0.0  0.0  0.0"
      ]
     },
     "execution_count": 83,
     "metadata": {},
     "output_type": "execute_result"
    }
   ],
   "source": [
    "T = random\n",
    "m = length(u)+size(random,1)-1\n",
    "n = length(v)+size(random,2)-1\n",
    "B = zeros(Float64, m, n)"
   ]
  },
  {
   "cell_type": "code",
   "execution_count": 85,
   "metadata": {},
   "outputs": [
    {
     "data": {
      "text/plain": [
       "5×9 Array{Float64,2}:\n",
       " 0.0  0.0  0.0  0.0  0.0  0.0  0.0  0.0  0.0\n",
       " 0.0  5.0  0.0  0.0  0.0  0.0  0.0  0.0  0.0\n",
       " 0.0  0.0  0.0  0.0  0.0  0.0  0.0  0.0  0.0\n",
       " 0.0  0.0  0.0  0.0  0.0  0.0  0.0  0.0  0.0\n",
       " 0.0  0.0  0.0  0.0  0.0  0.0  0.0  0.0  0.0"
      ]
     },
     "execution_count": 85,
     "metadata": {},
     "output_type": "execute_result"
    }
   ],
   "source": [
    "B[1:size(random,1),1:size(random,2)] = random\n",
    "B"
   ]
  },
  {
   "cell_type": "code",
   "execution_count": 93,
   "metadata": {},
   "outputs": [
    {
     "data": {
      "text/plain": [
       "5-element Array{Complex{Float64},1}:\n",
       "                 2.0 + 0.0im               \n",
       "  1.3090169943749475 - 0.9510565162951535im\n",
       " 0.19098300562505255 - 0.5877852522924731im\n",
       " 0.19098300562505255 + 0.5877852522924731im\n",
       "  1.3090169943749475 + 0.9510565162951535im"
      ]
     },
     "execution_count": 93,
     "metadata": {},
     "output_type": "execute_result"
    }
   ],
   "source": [
    "fft([u;zeros(Float64, m-length(u))])"
   ]
  },
  {
   "cell_type": "code",
   "execution_count": 94,
   "metadata": {},
   "outputs": [
    {
     "data": {
      "text/plain": [
       "9-element Array{Complex{Float64},1}:\n",
       "                 3.0 + 0.0im               \n",
       "  1.9396926207859084 - 1.6275953626987474im\n",
       " 0.23395555688102193 - 1.3268278963378768im\n",
       "                 0.0 + 0.0im               \n",
       "  0.8263518223330695 + 0.3007674663608707im\n",
       "  0.8263518223330695 - 0.3007674663608707im\n",
       "                 0.0 + 0.0im               \n",
       " 0.23395555688102193 + 1.3268278963378768im\n",
       "  1.9396926207859084 + 1.6275953626987474im"
      ]
     },
     "execution_count": 94,
     "metadata": {},
     "output_type": "execute_result"
    }
   ],
   "source": [
    "fft([v;zeros(Float64,n-length(v))])"
   ]
  },
  {
   "cell_type": "code",
   "execution_count": 13,
   "metadata": {},
   "outputs": [
    {
     "data": {
      "text/plain": [
       "convn! (generic function with 1 method)"
      ]
     },
     "execution_count": 13,
     "metadata": {},
     "output_type": "execute_result"
    }
   ],
   "source": [
    "using Base.Cartesian\n",
    "# direct version (do not check if threshold is satisfied)\n",
    "@generated function fastconv(E::Array{T,N}, k::Array{T,N}) where {T,N}\n",
    "    quote\n",
    "\n",
    "        retsize = [size(E)...] + [size(k)...] .- 1\n",
    "        retsize = tuple(retsize...)\n",
    "        ret = zeros(T, retsize)\n",
    "\n",
    "        convn!(ret,E,k)\n",
    "        return ret\n",
    "\n",
    "    end\n",
    "end\n",
    "\n",
    "\n",
    "# in place helper operation to speedup memory allocations\n",
    "@generated function convn!(out::Array{T}, E::Array{T,N}, k::Array{T,N}) where {T,N}\n",
    "    quote\n",
    "        @inbounds begin\n",
    "            @nloops $N x E begin\n",
    "                @nloops $N i k begin\n",
    "                    (@nref $N out d->(x_d + i_d - 1)) += (@nref $N E x) * (@nref $N k i)\n",
    "                end\n",
    "            end\n",
    "        end\n",
    "        return out\n",
    "    end\n",
    "end"
   ]
  },
  {
   "cell_type": "code",
   "execution_count": 12,
   "metadata": {},
   "outputs": [],
   "source": []
  },
  {
   "cell_type": "code",
   "execution_count": null,
   "metadata": {},
   "outputs": [],
   "source": []
  }
 ],
 "metadata": {
  "kernelspec": {
   "display_name": "Julia 1.1.1",
   "language": "julia",
   "name": "julia-1.1"
  },
  "language_info": {
   "file_extension": ".jl",
   "mimetype": "application/julia",
   "name": "julia",
   "version": "1.1.1"
  }
 },
 "nbformat": 4,
 "nbformat_minor": 2
}
