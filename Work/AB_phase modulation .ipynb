{
 "cells": [
  {
   "cell_type": "code",
   "execution_count": 1,
   "metadata": {},
   "outputs": [],
   "source": [
    "include(\"../path.jl\")\n",
    "include(\"../ToolBox/ToolBox.jl\")\n",
    "using .ToolBox\n",
    "using .Geometry"
   ]
  },
  {
   "cell_type": "code",
   "execution_count": 2,
   "metadata": {},
   "outputs": [],
   "source": [
    "# load meta and pod\n",
    "master_meta = Load.slc_meta(master_meta_path);\n",
    "master_precise_orbit = Load.precise_orbit(master_pod_path,master_meta[\"t_0\"]);"
   ]
  },
  {
   "cell_type": "code",
   "execution_count": 4,
   "metadata": {},
   "outputs": [
    {
     "data": {
      "text/plain": [
       "2"
      ]
     },
     "execution_count": 4,
     "metadata": {},
     "output_type": "execute_result"
    }
   ],
   "source": [
    "burst_number=2"
   ]
  },
  {
   "cell_type": "code",
   "execution_count": 5,
   "metadata": {},
   "outputs": [
    {
     "data": {
      "text/plain": [
       "7588.236578903831"
      ]
     },
     "execution_count": 5,
     "metadata": {},
     "output_type": "execute_result"
    }
   ],
   "source": [
    "meta = master_meta\n",
    "v_mid_full = mid_burst_speed(master_precise_orbit, meta);\n",
    "v_mid = v_mid_full[burst_number]"
   ]
  },
  {
   "cell_type": "code",
   "execution_count": 9,
   "metadata": {},
   "outputs": [
    {
     "data": {
      "text/plain": [
       "12665"
      ]
     },
     "execution_count": 9,
     "metadata": {},
     "output_type": "execute_result"
    }
   ],
   "source": [
    "samples = round(Int,meta[\"samples_per_burst\"]/2)"
   ]
  },
  {
   "cell_type": "code",
   "execution_count": 10,
   "metadata": {},
   "outputs": [],
   "source": [
    "    c = 299792458\n",
    "    k_psi = meta[\"azimuth_steering_rate\"] * pi/180\n",
    "    dc_coef = meta[\"burst_meta\"][\"data_dc_polynomial\"][burst_number, :]\n",
    "    dc_tau0 = meta[\"burst_meta\"][\"data_dc_t0\"][burst_number]\n",
    "    fm_coef = meta[\"burst_meta\"][\"azimuth_fm_rate_polynomial\"][burst_number, :]\n",
    "    fm_tau0 = meta[\"burst_meta\"][\"azimuth_fm_rate_t0\"][burst_number]\n",
    "    f_c = meta[\"radar_frequency\"]\n",
    "    lines_per_burst = meta[\"lines_per_burst\"]\n",
    "    number_of_samples = meta[\"number_of_samples\"]\n",
    "    Delta_t_s = meta[\"azimuth_time_interval\"]\n",
    "    Delta_tau_s = 1/meta[\"range_sampling_rate\"]\n",
    "    tau_0 = meta[\"slant_range_time\"]\n",
    "    v_s = v_mid\n",
    "\n",
    "    # Temporary functions, allows different x=tau inputs\n",
    "    k_a(x, fm_param, x0) = fm_param[1] .+ fm_param[2].*(x .- x0) .+ fm_param[3].*(x .- x0).^2 # Doppler FM rate, Eqn. 11\n",
    "    f_etac(x, dc_param, x0) = dc_param[1] .+ dc_param[2].*(x .- x0) .+ dc_param[3].*(x .- x0).^2; # Doppler centroid freq Eqn. 13\n",
    "\n",
    "    tau = tau_0 .+ (samples .- 1) .* Delta_tau_s # Slant range time of ith sample, Eqn. 12\n",
    "\n",
    "    # Doppler rate equations\n",
    "    k_s = 2 * v_s/c * f_c * k_psi; # Doppler rate from antenna scanning, Eqn. 4\n",
    "    alpha = 1 .- k_s ./ k_a(tau, fm_coef, fm_tau0); # conversion factor, Eqn. 3\n",
    "    k_t = k_s ./ alpha; # Doppler Centroid Rate, Eqn. 2"
   ]
  },
  {
   "cell_type": "code",
   "execution_count": 17,
   "metadata": {},
   "outputs": [
    {
     "data": {
      "text/plain": [
       "3.132667801199997"
      ]
     },
     "execution_count": 17,
     "metadata": {},
     "output_type": "execute_result"
    }
   ],
   "source": [
    "meta[\"lines_per_burst\"]*Delta_t_s"
   ]
  },
  {
   "cell_type": "code",
   "execution_count": 21,
   "metadata": {
    "scrolled": true
   },
   "outputs": [
    {
     "data": {
      "text/plain": [
       "2388.9699852337694"
      ]
     },
     "execution_count": 21,
     "metadata": {},
     "output_type": "execute_result"
    }
   ],
   "source": [
    "k_t*3.132667801199997/2"
   ]
  },
  {
   "cell_type": "code",
   "execution_count": 27,
   "metadata": {},
   "outputs": [
    {
     "data": {
      "text/plain": [
       "0.20363851923905543"
      ]
     },
     "execution_count": 27,
     "metadata": {},
     "output_type": "execute_result"
    }
   ],
   "source": [
    "1/(2388.9699852337694*Delta_t_s)"
   ]
  },
  {
   "cell_type": "code",
   "execution_count": 22,
   "metadata": {},
   "outputs": [
    {
     "data": {
      "text/plain": [
       "6.662073783916604e-5"
      ]
     },
     "execution_count": 22,
     "metadata": {},
     "output_type": "execute_result"
    }
   ],
   "source": [
    "1/ (pi *k_t*3.132667801199997)"
   ]
  },
  {
   "cell_type": "code",
   "execution_count": 30,
   "metadata": {},
   "outputs": [
    {
     "data": {
      "text/plain": [
       "0.44879724403478466"
      ]
     },
     "execution_count": 30,
     "metadata": {},
     "output_type": "execute_result"
    }
   ],
   "source": [
    "1/ (pi *k_t*3.132667801199997) /Delta_t_s *master_meta[\"azimuth_pixel_spacing\"]"
   ]
  },
  {
   "cell_type": "code",
   "execution_count": 31,
   "metadata": {},
   "outputs": [
    {
     "data": {
      "text/plain": [
       "0.5055339197847223"
      ]
     },
     "execution_count": 31,
     "metadata": {},
     "output_type": "execute_result"
    }
   ],
   "source": [
    "6.662073783916604e-5*v_mid"
   ]
  },
  {
   "cell_type": "code",
   "execution_count": null,
   "metadata": {},
   "outputs": [],
   "source": []
  }
 ],
 "metadata": {
  "kernelspec": {
   "display_name": "Julia 1.0.4",
   "language": "julia",
   "name": "julia-1.0"
  },
  "language_info": {
   "file_extension": ".jl",
   "mimetype": "application/julia",
   "name": "julia",
   "version": "1.0.4"
  }
 },
 "nbformat": 4,
 "nbformat_minor": 2
}
