{
 "cells": [
  {
   "cell_type": "code",
   "execution_count": null,
   "metadata": {
    "scrolled": true
   },
   "outputs": [],
   "source": [
    "include(\"../path.jl\")\n",
    "include(\"../ToolBox/ToolBox.jl\")\n",
    "using .ToolBox\n",
    "using .Geometry"
   ]
  },
  {
   "cell_type": "markdown",
   "metadata": {},
   "source": [
    "## Chose the burst"
   ]
  },
  {
   "cell_type": "code",
   "execution_count": null,
   "metadata": {},
   "outputs": [],
   "source": [
    "burst_n = 4;"
   ]
  },
  {
   "cell_type": "code",
   "execution_count": null,
   "metadata": {},
   "outputs": [],
   "source": [
    "# load meta and pod\n",
    "master_meta = Load.slc_meta(master_meta_path);\n",
    "master_precise_orbit = Load.precise_orbit(master_pod_path,master_meta[\"t_0\"]);\n",
    "slave_meta = Load.slc_meta(slave_meta_path);\n",
    "slave_precise_orbit = Load.precise_orbit(slave_pod_path,slave_meta[\"t_0\"]);\n",
    "\n",
    "meta = (master_meta,slave_meta)\n",
    "precise_orbit = (master_precise_orbit,slave_precise_orbit);"
   ]
  },
  {
   "cell_type": "code",
   "execution_count": null,
   "metadata": {},
   "outputs": [],
   "source": [
    "lines_per_burst = master_meta[\"lines_per_burst\"];"
   ]
  },
  {
   "cell_type": "code",
   "execution_count": null,
   "metadata": {},
   "outputs": [],
   "source": [
    "master_view = [3000:6500,3000:9000]\n",
    "master_data = Load.slc_data(master_data_path,master_view)\n",
    "SlcUtil.show_img(master_data,0.995)"
   ]
  },
  {
   "cell_type": "code",
   "execution_count": null,
   "metadata": {},
   "outputs": [],
   "source": [
    "# load DEM\n",
    "footprint = SlcUtil.footprint(master_meta, master_view)\n",
    "latlon_window = ((minimum(footprint[1]),maximum(footprint[1])),(minimum(footprint[2]),maximum(footprint[2])))\n",
    "dem = Load.dem(dem_path, latlon_window; nan_fill= 0, padding=[90,90]);"
   ]
  },
  {
   "cell_type": "markdown",
   "metadata": {},
   "source": [
    "## Handle ovelap"
   ]
  },
  {
   "cell_type": "code",
   "execution_count": null,
   "metadata": {},
   "outputs": [],
   "source": [
    "first_line_mosaic_master = master_meta[\"burst_meta\"][\"first_line_mosaic\"][burst_n]\n",
    "first_line_mosaic_slave = slave_meta[\"burst_meta\"][\"first_line_mosaic\"][burst_n]\n",
    "over_lap_master = lines_per_burst*(burst_n-1)+1 - (first_line_mosaic_master)\n",
    "over_lap_slave = lines_per_burst*(burst_n-1)+1 - (first_line_mosaic_slave)"
   ]
  },
  {
   "cell_type": "code",
   "execution_count": null,
   "metadata": {},
   "outputs": [],
   "source": [
    "mosaic_view = SlcUtil.mosaic_view(master_meta,master_view)"
   ]
  },
  {
   "cell_type": "code",
   "execution_count": null,
   "metadata": {},
   "outputs": [],
   "source": [
    "lut = look_up_table(mosaic_view,meta,precise_orbit,dem,stride=(2,8));"
   ]
  },
  {
   "cell_type": "code",
   "execution_count": null,
   "metadata": {},
   "outputs": [],
   "source": [
    "lut[\"master_line\"] = lut[\"master_line\"] .+ over_lap_master\n",
    "lut[\"slave_line\"] = lut[\"slave_line\"] .+ over_lap_slave;"
   ]
  },
  {
   "cell_type": "code",
   "execution_count": null,
   "metadata": {},
   "outputs": [],
   "source": [
    "slave_line = Misc.interp_grid(lut[\"master_line\"] ,lut[\"master_sample\"],\n",
    "    reshape(lut[\"slave_line\"],(length(lut[\"master_line\"]),length(lut[\"master_sample\"])))\n",
    "    ,master_view[1], master_view[2])\n",
    "slave_line = reshape(slave_line,:)\n",
    "\n",
    "slave_sample = Misc.interp_grid(lut[\"master_line\"] ,lut[\"master_sample\"],\n",
    "    reshape(lut[\"slave_sample\"],(length(lut[\"master_line\"]),length(lut[\"master_sample\"])))\n",
    "    ,master_view[1], master_view[2]);\n",
    "\n",
    "slave_sample= reshape(slave_sample,:);"
   ]
  },
  {
   "cell_type": "markdown",
   "metadata": {},
   "source": [
    "### resample"
   ]
  },
  {
   "cell_type": "code",
   "execution_count": null,
   "metadata": {},
   "outputs": [],
   "source": [
    "dim = (length(master_view[1]),length(master_view[2]))"
   ]
  },
  {
   "cell_type": "code",
   "execution_count": null,
   "metadata": {},
   "outputs": [],
   "source": [
    "padd = 2\n",
    "\n",
    "slave_view = round(Int,minimum(slave_line )-padd): round(Int,maximum(slave_line )+padd),\n",
    "            round(Int,minimum(slave_sample)-padd): round(Int,maximum(slave_sample)+padd)\n",
    "slave_data = Load.slc_data(slave_data_path, slave_view);"
   ]
  },
  {
   "cell_type": "code",
   "execution_count": null,
   "metadata": {},
   "outputs": [],
   "source": [
    "v_mid = Geometry.mid_burst_speed(precise_orbit[2], meta[2]);"
   ]
  },
  {
   "cell_type": "code",
   "execution_count": null,
   "metadata": {},
   "outputs": [],
   "source": [
    "phi = SlcUtil.phase_ramp(Misc.flatten(slave_view...)..., burst_n, meta[2], v_mid[burst_n]);\n",
    "de_ramp = slave_data .* reshape(exp.(-phi .* im),size(slave_data));"
   ]
  },
  {
   "cell_type": "code",
   "execution_count": null,
   "metadata": {},
   "outputs": [],
   "source": [
    "slave_resample = Misc.resample(slave_view,de_ramp,slave_line,slave_sample)\n",
    "slave_resample = reshape(slave_resample, dim);"
   ]
  },
  {
   "cell_type": "code",
   "execution_count": null,
   "metadata": {},
   "outputs": [],
   "source": [
    "phi = SlcUtil.phase_ramp(slave_line, slave_sample, burst_n, meta[2], v_mid[burst_n]) \n",
    "reramp = slave_resample .* reshape(exp.(phi .* im),dim);\n"
   ]
  },
  {
   "cell_type": "code",
   "execution_count": null,
   "metadata": {},
   "outputs": [],
   "source": [
    "infero = master_data .* conj.(reramp);\n",
    "SlcUtil.plot_phase(infero)"
   ]
  },
  {
   "cell_type": "code",
   "execution_count": null,
   "metadata": {},
   "outputs": [],
   "source": [
    "master_line, master_sample = Misc.flatten(master_view...)\n",
    "\n",
    "c = 299792458\n",
    "range_pixel_spacing =  c/(2*meta[1][\"range_sampling_rate\"])\n",
    "lambda =  c/meta[1][\"radar_frequency\"]\n",
    "lut[\"slave_sample\"]\n",
    "flat = exp.(4*pi.*(master_sample.-slave_sample).*range_pixel_spacing./lambda.*im)\n",
    "flat = reshape(flat,dim);\n"
   ]
  },
  {
   "cell_type": "code",
   "execution_count": null,
   "metadata": {},
   "outputs": [],
   "source": [
    "SlcUtil.plot_phase(infero.*flat)"
   ]
  },
  {
   "cell_type": "code",
   "execution_count": null,
   "metadata": {},
   "outputs": [],
   "source": [
    "SlcUtil._phase_colorbar()"
   ]
  }
 ],
 "metadata": {
  "kernelspec": {
   "display_name": "Julia 1.0.4",
   "language": "julia",
   "name": "julia-1.0"
  },
  "language_info": {
   "file_extension": ".jl",
   "mimetype": "application/julia",
   "name": "julia",
   "version": "1.0.4"
  }
 },
 "nbformat": 4,
 "nbformat_minor": 2
}
