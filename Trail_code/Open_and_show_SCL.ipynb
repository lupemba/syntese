{
 "cells": [
  {
   "cell_type": "code",
   "execution_count": 1,
   "metadata": {},
   "outputs": [],
   "source": [
    "#Install pakages\n",
    "#using Pkg \n",
    "#Pkg.add(\"PyCall\")\n",
    "#Pkg.add(\"Statistics\")\n",
    "#Pkg.add(\"Images\")\n",
    "#Pkg.add(\"QuartzImageIO\")\n",
    "#Pkg.add(\"ImageMagick\")"
   ]
  },
  {
   "cell_type": "code",
   "execution_count": 2,
   "metadata": {},
   "outputs": [],
   "source": [
    "using PyCall\n",
    "using Statistics\n",
    "using Images\n",
    "using ImageFiltering"
   ]
  },
  {
   "cell_type": "markdown",
   "metadata": {},
   "source": [
    "## !!! Restart Kernal after changing environment !!!"
   ]
  },
  {
   "cell_type": "code",
   "execution_count": 3,
   "metadata": {},
   "outputs": [],
   "source": [
    "# Set environment\n",
    "#ENV[\"PYTHON\"] = \"/anaconda3/bin/python3\"\n",
    "#using Pkg\n",
    "#Pkg.build(\"PyCall\")"
   ]
  },
  {
   "cell_type": "markdown",
   "metadata": {},
   "source": [
    "Check wich python is used"
   ]
  },
  {
   "cell_type": "code",
   "execution_count": 4,
   "metadata": {},
   "outputs": [
    {
     "data": {
      "text/plain": [
       "\"/anaconda3/bin/python3\""
      ]
     },
     "execution_count": 4,
     "metadata": {},
     "output_type": "execute_result"
    }
   ],
   "source": [
    "PyCall.pyprogramname"
   ]
  },
  {
   "cell_type": "markdown",
   "metadata": {},
   "source": [
    "#### Load raterio with PyCall\n",
    "The `pyimport` function is used to import python libaries\n"
   ]
  },
  {
   "cell_type": "code",
   "execution_count": 5,
   "metadata": {
    "scrolled": true
   },
   "outputs": [
    {
     "name": "stderr",
     "output_type": "stream",
     "text": [
      "proj_create: init=epsg:/init=IGNF: syntax not supported in non-PROJ4 emulation mode\n"
     ]
    },
    {
     "data": {
      "text/plain": [
       "PyObject <module 'rasterio' from '/anaconda3/lib/python3.6/site-packages/rasterio/__init__.py'>"
      ]
     },
     "execution_count": 5,
     "metadata": {},
     "output_type": "execute_result"
    }
   ],
   "source": [
    "rasterio = pyimport(\"rasterio\")"
   ]
  },
  {
   "cell_type": "markdown",
   "metadata": {},
   "source": [
    "The dataset can now be loaded with `rasterio.open()`, and a list of the keys"
   ]
  },
  {
   "cell_type": "code",
   "execution_count": 6,
   "metadata": {},
   "outputs": [
    {
     "name": "stderr",
     "output_type": "stream",
     "text": [
      "proj_create: init=epsg:/init=IGNF: syntax not supported in non-PROJ4 emulation mode\n"
     ]
    },
    {
     "data": {
      "text/plain": [
       "PyObject <open DatasetReader name='/Users/eyu/YOEO_local/data/S1B_IW_SLC__1SDV_20170315T053950_20170315T054018_004715_0083B0_7EE9.SAFE/measurement/s1b-iw3-slc-vv-20170315t053950-20170315t054018-004715-0083b0-006.tiff' mode='r'>"
      ]
     },
     "execution_count": 6,
     "metadata": {},
     "output_type": "execute_result"
    }
   ],
   "source": [
    "f = open(\"data_path.txt\")\n",
    "path = readlines(f)\n",
    "#path = \"/Users/eyu/YOEO_local/data/S1B_IW_SLC__1SDV_20170315T053950_20170315T054018_004715_0083B0_7EE9.SAFE/measurement/s1b-iw1-slc-vv-20170315t053951-20170315t054016-004715-0083b0-004.tiff\"\n",
    "dataset = rasterio.open(path[1])"
   ]
  },
  {
   "cell_type": "markdown",
   "metadata": {},
   "source": [
    "Get the methods and atribute names with `keys()`"
   ]
  },
  {
   "cell_type": "code",
   "execution_count": 7,
   "metadata": {},
   "outputs": [
    {
     "name": "stdout",
     "output_type": "stream",
     "text": [
      "Symbol[:__class__, :__delattr__, :__dict__, :__dir__, :__doc__, :__enter__, :__eq__, :__exit__, :__format__, :__ge__, :__getattribute__, :__gt__, :__hash__, :__init__, :__init_subclass__, :__le__, :__lt__, :__module__, :__ne__, :__new__, :__pyx_vtable__, :__reduce__, :__reduce_ex__, :__repr__, :__setattr__, :__setstate__, :__sizeof__, :__str__, :__subclasshook__, :__weakref__, :_block_shapes, :_closed, :_count, :_crs, :_crs_wkt, :_descriptions, :_dtypes, :_env, :_gcps, :_get_crs, :_handle_crswkt, :_has_band, :_mask_flags, :_nodatavals, :_offsets, :_read, :_scales, :_set_all_descriptions, :_set_all_offsets, :_set_all_scales, :_set_all_units, :_set_attrs_from_dataset_handle, :_set_crs, :_set_gcps, :_set_nodatavals, :_transform, :_units, :block_shapes, :block_size, :block_window, :block_windows, :bounds, :checksum, :close, :closed, :colorinterp, :colormap, :compression, :count, :crs, :dataset_mask, :descriptions, :driver, :dtypes, :files, :gcps, :get_gcps, :get_nodatavals, :get_tag_item, :get_transform, :height, :index, :indexes, :interleaving, :is_tiled, :lnglat, :mask_flag_enums, :meta, :mode, :name, :nodata, :nodatavals, :offsets, :options, :overviews, :photometric, :profile, :read, :read_crs, :read_masks, :read_transform, :res, :sample, :scales, :shape, :stop, :subdatasets, :tags, :transform, :units, :width, :window, :window_bounds, :window_transform, :write_transform, :xy]\n"
     ]
    },
    {
     "name": "stderr",
     "output_type": "stream",
     "text": [
      "proj_create_from_database: ellipsoid not found\n",
      "proj_create_from_database: ellipsoid not found\n"
     ]
    }
   ],
   "source": [
    "println(keys(dataset))"
   ]
  },
  {
   "cell_type": "markdown",
   "metadata": {},
   "source": [
    "Show meta data"
   ]
  },
  {
   "cell_type": "code",
   "execution_count": 8,
   "metadata": {},
   "outputs": [
    {
     "data": {
      "text/plain": [
       "Dict{Any,Any} with 8 entries:\n",
       "  \"driver\"    => \"GTiff\"\n",
       "  \"dtype\"     => \"complex\"\n",
       "  \"height\"    => 15240\n",
       "  \"nodata\"    => nothing\n",
       "  \"count\"     => 1\n",
       "  \"width\"     => 25330\n",
       "  \"transform\" => (1.0, 0.0, 0.0, 0.0, 1.0, 0.0, 0.0, 0.0, 1.0)\n",
       "  \"crs\"       => nothing"
      ]
     },
     "execution_count": 8,
     "metadata": {},
     "output_type": "execute_result"
    }
   ],
   "source": [
    "dataset.meta"
   ]
  },
  {
   "cell_type": "markdown",
   "metadata": {},
   "source": [
    "### Load image\n",
    "Here the indeces chosen focuses on the area near the corner reflectors. "
   ]
  },
  {
   "cell_type": "code",
   "execution_count": 181,
   "metadata": {},
   "outputs": [
    {
     "data": {
      "text/plain": [
       "Array{Complex{Float64},2}"
      ]
     },
     "execution_count": 181,
     "metadata": {},
     "output_type": "execute_result"
    }
   ],
   "source": [
    "VVraw = dataset.read(1,window = ((1110,1150), (6080,6120)))\n",
    "typeof(VVraw)"
   ]
  },
  {
   "cell_type": "code",
   "execution_count": 182,
   "metadata": {},
   "outputs": [
    {
     "data": {
      "text/plain": [
       "5×5 Array{Float64,2}:\n",
       " 27.8568  37.054   15.6205   83.2406  46.2385\n",
       " 19.9249  70.8308  49.6488   15.2971  74.6726\n",
       " 10.4403  41.4367   8.94427  54.9181  70.4344\n",
       " 28.6356  42.45    79.3095   81.2158  40.3609\n",
       " 53.0848  68.884   91.2195   17.8885  75.8222"
      ]
     },
     "execution_count": 182,
     "metadata": {},
     "output_type": "execute_result"
    }
   ],
   "source": [
    "abs.(VVraw[1:5, 1:5])"
   ]
  },
  {
   "cell_type": "markdown",
   "metadata": {},
   "source": [
    "### convert to real and normalise for show"
   ]
  },
  {
   "cell_type": "code",
   "execution_count": 183,
   "metadata": {},
   "outputs": [],
   "source": [
    "Show_img = abs.(copy(VVraw))\n",
    "Show_img = Show_img./quantile(reshape(Show_img, :), 0.98);"
   ]
  },
  {
   "cell_type": "markdown",
   "metadata": {},
   "source": [
    "### Show image"
   ]
  },
  {
   "cell_type": "code",
   "execution_count": 184,
   "metadata": {},
   "outputs": [
    {
     "data": {
      "image/png": "[encoded data removed]",
      "text/plain": [
       "40×40 Array{Gray{Float64},2} with eltype Gray{Float64}:\n",
       " Gray{Float64}(0.073353)   …  Gray{Float64}(0.101165) \n",
       " Gray{Float64}(0.0524665)     Gray{Float64}(0.0549832)\n",
       " Gray{Float64}(0.0274916)     Gray{Float64}(0.137458) \n",
       " Gray{Float64}(0.0754039)     Gray{Float64}(0.0496835)\n",
       " Gray{Float64}(0.139784)      Gray{Float64}(0.0453036)\n",
       " Gray{Float64}(0.154105)   …  Gray{Float64}(0.122154) \n",
       " Gray{Float64}(0.0882816)     Gray{Float64}(0.125762) \n",
       " Gray{Float64}(0.192297)      Gray{Float64}(0.0954156)\n",
       " Gray{Float64}(0.276801)      Gray{Float64}(0.0660408)\n",
       " Gray{Float64}(0.161681)      Gray{Float64}(0.0553603)\n",
       " Gray{Float64}(0.0484112)  …  Gray{Float64}(0.0728313)\n",
       " Gray{Float64}(0.020054)      Gray{Float64}(0.118991) \n",
       " Gray{Float64}(0.0857314)     Gray{Float64}(0.111966) \n",
       " ⋮                         ⋱                          \n",
       " Gray{Float64}(0.150186)      Gray{Float64}(0.0931728)\n",
       " Gray{Float64}(0.187403)      Gray{Float64}(0.293329) \n",
       " Gray{Float64}(0.133153)   …  Gray{Float64}(0.171342) \n",
       " Gray{Float64}(0.211741)      Gray{Float64}(0.0765448)\n",
       " Gray{Float64}(0.246231)      Gray{Float64}(0.172511) \n",
       " Gray{Float64}(0.269529)      Gray{Float64}(0.114325) \n",
       " Gray{Float64}(0.26265)       Gray{Float64}(0.0612471)\n",
       " Gray{Float64}(0.368688)   …  Gray{Float64}(0.0274916)\n",
       " Gray{Float64}(0.0854479)     Gray{Float64}(0.058467) \n",
       " Gray{Float64}(0.10027)       Gray{Float64}(0.0896842)\n",
       " Gray{Float64}(0.225367)      Gray{Float64}(0.0300233)\n",
       " Gray{Float64}(0.333827)      Gray{Float64}(0.0826428)"
      ]
     },
     "execution_count": 184,
     "metadata": {},
     "output_type": "execute_result"
    }
   ],
   "source": [
    "Gray.(Show_img)"
   ]
  },
  {
   "cell_type": "markdown",
   "metadata": {},
   "source": [
    "### Filter out noise\n",
    "Using julia ImageFiltering package and standard built in gaussian filter"
   ]
  },
  {
   "cell_type": "code",
   "execution_count": 258,
   "metadata": {},
   "outputs": [],
   "source": [
    "imgg = imfilter(Show_img, Kernel.gaussian(1));"
   ]
  },
  {
   "cell_type": "code",
   "execution_count": 259,
   "metadata": {},
   "outputs": [
    {
     "data": {
      "image/png": "[encoded data removed]",
      "text/plain": [
       "40×40 Array{Gray{Float64},2} with eltype Gray{Float64}:\n",
       " Gray{Float64}(0.0787796)  …  Gray{Float64}(0.0814625)\n",
       " Gray{Float64}(0.0756899)     Gray{Float64}(0.0750914)\n",
       " Gray{Float64}(0.0759052)     Gray{Float64}(0.0752158)\n",
       " Gray{Float64}(0.099482)      Gray{Float64}(0.0663957)\n",
       " Gray{Float64}(0.128642)      Gray{Float64}(0.06548)  \n",
       " Gray{Float64}(0.13199)    …  Gray{Float64}(0.0837953)\n",
       " Gray{Float64}(0.132461)      Gray{Float64}(0.0990254)\n",
       " Gray{Float64}(0.165471)      Gray{Float64}(0.0949983)\n",
       " Gray{Float64}(0.182045)      Gray{Float64}(0.0800863)\n",
       " Gray{Float64}(0.139606)      Gray{Float64}(0.0726133)\n",
       " Gray{Float64}(0.0849108)  …  Gray{Float64}(0.0787748)\n",
       " Gray{Float64}(0.0648029)     Gray{Float64}(0.0870075)\n",
       " Gray{Float64}(0.0864741)     Gray{Float64}(0.0798061)\n",
       " ⋮                         ⋱                          \n",
       " Gray{Float64}(0.449057)      Gray{Float64}(0.179948) \n",
       " Gray{Float64}(0.34183)       Gray{Float64}(0.222443) \n",
       " Gray{Float64}(0.260884)   …  Gray{Float64}(0.206332) \n",
       " Gray{Float64}(0.237692)      Gray{Float64}(0.160872) \n",
       " Gray{Float64}(0.245316)      Gray{Float64}(0.136527) \n",
       " Gray{Float64}(0.247738)      Gray{Float64}(0.113084) \n",
       " Gray{Float64}(0.252339)      Gray{Float64}(0.0860922)\n",
       " Gray{Float64}(0.240687)   …  Gray{Float64}(0.0782507)\n",
       " Gray{Float64}(0.191172)      Gray{Float64}(0.0908496)\n",
       " Gray{Float64}(0.178086)      Gray{Float64}(0.0953106)\n",
       " Gray{Float64}(0.224749)      Gray{Float64}(0.0838503)\n",
       " Gray{Float64}(0.284646)      Gray{Float64}(0.0845954)"
      ]
     },
     "execution_count": 259,
     "metadata": {},
     "output_type": "execute_result"
    }
   ],
   "source": [
    "Gray.(imgg)"
   ]
  },
  {
   "cell_type": "markdown",
   "metadata": {},
   "source": [
    "The corner reflectors are clearly seen, but geometry looks different from that of the SDFE report due to geometrical distortion. We can focus on each reflector, counting from left to right on the image above:"
   ]
  },
  {
   "cell_type": "markdown",
   "metadata": {},
   "source": [
    "### Indices of reflectors"
   ]
  },
  {
   "cell_type": "markdown",
   "metadata": {},
   "source": [
    "#### reflector 1"
   ]
  },
  {
   "cell_type": "code",
   "execution_count": 253,
   "metadata": {},
   "outputs": [
    {
     "data": {
      "image/png": "[encoded data removed]",
      "text/plain": [
       "5×5 Array{Gray{Float64},2} with eltype Gray{Float64}:\n",
       " Gray{Float64}(0.0184201)  …  Gray{Float64}(0.0206436)\n",
       " Gray{Float64}(0.0560285)     Gray{Float64}(0.0630816)\n",
       " Gray{Float64}(0.0953938)     Gray{Float64}(0.0420042)\n",
       " Gray{Float64}(0.147494)      Gray{Float64}(0.0864997)\n",
       " Gray{Float64}(0.231361)      Gray{Float64}(0.105288) "
      ]
     },
     "execution_count": 253,
     "metadata": {},
     "output_type": "execute_result"
    }
   ],
   "source": [
    "raw_1 = dataset.read(1,window = ((1123,1128), (6084,6089)))\n",
    "reflector_1 = abs.(copy(raw_1))\n",
    "reflector_1 = reflector_1./quantile(reshape(reflector_1, :), 0.98);\n",
    "Gray.(reflector_1)"
   ]
  },
  {
   "cell_type": "markdown",
   "metadata": {},
   "source": [
    "Centered at approx. (row, column): (1125,6086)"
   ]
  },
  {
   "cell_type": "markdown",
   "metadata": {},
   "source": [
    "#### reflector 2"
   ]
  },
  {
   "cell_type": "code",
   "execution_count": 254,
   "metadata": {},
   "outputs": [
    {
     "data": {
      "image/png": "[encoded data removed]",
      "text/plain": [
       "5×5 Array{Gray{Float64},2} with eltype Gray{Float64}:\n",
       " Gray{Float64}(0.0847595)  …  Gray{Float64}(0.0442867)\n",
       " Gray{Float64}(0.040611)      Gray{Float64}(0.0610371)\n",
       " Gray{Float64}(0.0953382)     Gray{Float64}(0.132453) \n",
       " Gray{Float64}(0.0694493)     Gray{Float64}(0.112518) \n",
       " Gray{Float64}(0.0294574)     Gray{Float64}(0.077682) "
      ]
     },
     "execution_count": 254,
     "metadata": {},
     "output_type": "execute_result"
    }
   ],
   "source": [
    "raw_2 = dataset.read(1,window = ((1120,1125), (6097,6102)))\n",
    "reflector_2 = abs.(copy(raw_2))\n",
    "reflector_2 = reflector_2./quantile(reshape(reflector_2, :), 0.98);\n",
    "Gray.(reflector_2)"
   ]
  },
  {
   "cell_type": "markdown",
   "metadata": {},
   "source": [
    "Centered at approx. (row, column): (1122,6099)"
   ]
  },
  {
   "cell_type": "markdown",
   "metadata": {},
   "source": [
    "#### reflector 3"
   ]
  },
  {
   "cell_type": "code",
   "execution_count": 255,
   "metadata": {},
   "outputs": [
    {
     "data": {
      "image/png": "[encoded data removed]",
      "text/plain": [
       "5×5 Array{Gray{Float64},2} with eltype Gray{Float64}:\n",
       " Gray{Float64}(0.0308841)  …  Gray{Float64}(0.111291)\n",
       " Gray{Float64}(0.0651034)     Gray{Float64}(0.132947)\n",
       " Gray{Float64}(0.162953)      Gray{Float64}(0.136086)\n",
       " Gray{Float64}(0.0968211)     Gray{Float64}(0.179628)\n",
       " Gray{Float64}(0.0586947)     Gray{Float64}(0.217453)"
      ]
     },
     "execution_count": 255,
     "metadata": {},
     "output_type": "execute_result"
    }
   ],
   "source": [
    "raw_3 = dataset.read(1,window = ((1123,1128), (6108,6113)))\n",
    "reflector_3 = abs.(copy(raw_3))\n",
    "reflector_3 = reflector_3./quantile(reshape(reflector_3, :), 0.98);\n",
    "Gray.(reflector_3)"
   ]
  },
  {
   "cell_type": "markdown",
   "metadata": {},
   "source": [
    "Centered at approx. (row, column): (1126, 6110)"
   ]
  },
  {
   "cell_type": "code",
   "execution_count": null,
   "metadata": {},
   "outputs": [],
   "source": []
  }
 ],
 "metadata": {
  "kernelspec": {
   "display_name": "Julia 1.1.1",
   "language": "julia",
   "name": "julia-1.1"
  },
  "language_info": {
   "file_extension": ".jl",
   "mimetype": "application/julia",
   "name": "julia",
   "version": "1.1.1"
  }
 },
 "nbformat": 4,
 "nbformat_minor": 2
}
