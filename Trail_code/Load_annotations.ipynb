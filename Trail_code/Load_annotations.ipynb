{
 "cells": [
  {
   "cell_type": "code",
   "execution_count": 1,
   "metadata": {},
   "outputs": [],
   "source": [
    "#using Pkg; Pkg.add(\"EzXML\"); Pkg.add(\"XMLDict\")"
   ]
  },
  {
   "cell_type": "code",
   "execution_count": 1,
   "metadata": {},
   "outputs": [],
   "source": [
    "import EzXML\n",
    "import XMLDict"
   ]
  },
  {
   "cell_type": "markdown",
   "metadata": {},
   "source": [
    "## Load the annotations and convert to dict"
   ]
  },
  {
   "cell_type": "code",
   "execution_count": 2,
   "metadata": {},
   "outputs": [
    {
     "data": {
      "text/plain": [
       "EzXML.Document(EzXML.Node(<DOCUMENT_NODE@0x00007f9910af06b0>))"
      ]
     },
     "execution_count": 2,
     "metadata": {},
     "output_type": "execute_result"
    }
   ],
   "source": [
    "doc = EzXML.readxml(\"/Users/simon/Data/Sentinel/S1B_IW_SLC__1SDV_20190808T165222_20190808T165249_017497_020E7C_E4E3.SAFE/annotation/s1b-iw1-slc-vv-20190808t165223-20190808t165248-017497-020e7c-004.xml\")"
   ]
  },
  {
   "cell_type": "code",
   "execution_count": 3,
   "metadata": {},
   "outputs": [
    {
     "data": {
      "text/plain": [
       "OrderedCollections.OrderedDict{Any,Any} with 3 entries:\n",
       "  :version  => \"1.0\"\n",
       "  :encoding => \"UTF-8\"\n",
       "  \"product\" => OrderedCollections.OrderedDict{Any,Any}(\"adsHeader\"=>OrderedColl…"
      ]
     },
     "execution_count": 3,
     "metadata": {},
     "output_type": "execute_result"
    }
   ],
   "source": [
    "annotations = XMLDict.xml_dict(doc)"
   ]
  },
  {
   "cell_type": "code",
   "execution_count": 4,
   "metadata": {},
   "outputs": [
    {
     "data": {
      "text/plain": [
       "OrderedCollections.OrderedDict{Any,Any} with 9 entries:\n",
       "  \"productInformation\"      => OrderedCollections.OrderedDict{Any,Any}(\"pass\"=>…\n",
       "  \"downlinkInformationList\" => OrderedCollections.OrderedDict{Any,Any}(:count=>…\n",
       "  \"orbitList\"               => OrderedCollections.OrderedDict{Any,Any}(:count=>…\n",
       "  \"attitudeList\"            => OrderedCollections.OrderedDict{Any,Any}(:count=>…\n",
       "  \"rawDataAnalysisList\"     => OrderedCollections.OrderedDict{Any,Any}(:count=>…\n",
       "  \"replicaInformationList\"  => OrderedCollections.OrderedDict{Any,Any}(:count=>…\n",
       "  \"noiseList\"               => OrderedCollections.OrderedDict{Any,Any}(:count=>…\n",
       "  \"terrainHeightList\"       => OrderedCollections.OrderedDict{Any,Any}(:count=>…\n",
       "  \"azimuthFmRateList\"       => OrderedCollections.OrderedDict{Any,Any}(:count=>…"
      ]
     },
     "execution_count": 4,
     "metadata": {},
     "output_type": "execute_result"
    }
   ],
   "source": [
    "annotations[\"product\"][\"generalAnnotation\"]"
   ]
  },
  {
   "cell_type": "markdown",
   "metadata": {},
   "source": [
    "### Get the azimuthSteeringRate and convert to float"
   ]
  },
  {
   "cell_type": "code",
   "execution_count": 5,
   "metadata": {},
   "outputs": [
    {
     "data": {
      "text/plain": [
       "1.590368784"
      ]
     },
     "execution_count": 5,
     "metadata": {},
     "output_type": "execute_result"
    }
   ],
   "source": [
    "azimuthSteeringRate = annotations[\"product\"][\"generalAnnotation\"][\"productInformation\"][\"azimuthSteeringRate\"]\n",
    "azimuthSteeringRate = parse(Float64,azimuthSteeringRate)"
   ]
  },
  {
   "cell_type": "markdown",
   "metadata": {},
   "source": [
    "### Get the azimuthFmRate and convert to arrays"
   ]
  },
  {
   "cell_type": "code",
   "execution_count": 6,
   "metadata": {},
   "outputs": [
    {
     "data": {
      "text/plain": [
       "OrderedCollections.OrderedDict{Any,Any} with 3 entries:\n",
       "  \"azimuthTime\"             => \"2019-08-08T16:52:22.267642\"\n",
       "  \"t0\"                      => \"5.331286693275861e-03\"\n",
       "  \"azimuthFmRatePolynomial\" => OrderedCollections.OrderedDict{Any,Any}(:count=>…"
      ]
     },
     "execution_count": 6,
     "metadata": {},
     "output_type": "execute_result"
    }
   ],
   "source": [
    "azimuthFmRate = annotations[\"product\"][\"generalAnnotation\"][\"azimuthFmRateList\"][\"azimuthFmRate\"]\n",
    "azimuthFmRate[1]"
   ]
  },
  {
   "cell_type": "code",
   "execution_count": 7,
   "metadata": {},
   "outputs": [],
   "source": [
    "azimuthTime = [elem[\"azimuthTime\"] for elem in azimuthFmRate]\n",
    "t0 = [parse(Float64,elem[\"t0\"]) for elem in azimuthFmRate]\n",
    "azimuthFmRatePolynomial = [ [parse(Float64,grandchild) for grandchild in split(child[\"azimuthFmRatePolynomial\"][\"\"])] for child in azimuthFmRate];"
   ]
  },
  {
   "cell_type": "code",
   "execution_count": 8,
   "metadata": {},
   "outputs": [
    {
     "data": {
      "text/plain": [
       "10-element Array{String,1}:\n",
       " \"2019-08-08T16:52:22.267642\"\n",
       " \"2019-08-08T16:52:25.025919\"\n",
       " \"2019-08-08T16:52:27.784196\"\n",
       " \"2019-08-08T16:52:30.542473\"\n",
       " \"2019-08-08T16:52:33.300750\"\n",
       " \"2019-08-08T16:52:36.059027\"\n",
       " \"2019-08-08T16:52:38.817304\"\n",
       " \"2019-08-08T16:52:41.575581\"\n",
       " \"2019-08-08T16:52:44.333858\"\n",
       " \"2019-08-08T16:52:47.092135\""
      ]
     },
     "execution_count": 8,
     "metadata": {},
     "output_type": "execute_result"
    }
   ],
   "source": [
    "azimuthTime "
   ]
  },
  {
   "cell_type": "code",
   "execution_count": 9,
   "metadata": {},
   "outputs": [
    {
     "data": {
      "text/plain": [
       "10-element Array{Float64,1}:\n",
       " 0.005331286693275861\n",
       " 0.005331286693275861\n",
       " 0.005331286693275861\n",
       " 0.005331286693275861\n",
       " 0.005331286693275861\n",
       " 0.005331286693275861\n",
       " 0.005331286693275861\n",
       " 0.005331286693275861\n",
       " 0.005331286693275861\n",
       " 0.005331286693275861"
      ]
     },
     "execution_count": 9,
     "metadata": {},
     "output_type": "execute_result"
    }
   ],
   "source": [
    "t0"
   ]
  },
  {
   "cell_type": "code",
   "execution_count": 10,
   "metadata": {},
   "outputs": [
    {
     "data": {
      "text/plain": [
       "10-element Array{Array{Float64,1},1}:\n",
       " [-2322.1, 4.52726e5, -7.97005e7] \n",
       " [-2322.03, 4.5274e5, -7.97102e7] \n",
       " [-2321.96, 4.52755e5, -7.97214e7]\n",
       " [-2321.9, 4.52767e5, -7.97274e7] \n",
       " [-2321.83, 4.5278e5, -7.97347e7] \n",
       " [-2321.76, 4.52794e5, -7.97439e7]\n",
       " [-2321.7, 4.52808e5, -7.9755e7]  \n",
       " [-2321.62, 4.52821e5, -7.9763e7] \n",
       " [-2321.55, 4.52835e5, -7.97746e7]\n",
       " [-2321.48, 4.52846e5, -7.978e7]  "
      ]
     },
     "execution_count": 10,
     "metadata": {},
     "output_type": "execute_result"
    }
   ],
   "source": [
    "azimuthFmRatePolynomial"
   ]
  },
  {
   "cell_type": "code",
   "execution_count": 11,
   "metadata": {},
   "outputs": [
    {
     "data": {
      "text/plain": [
       "-2321.89502825056"
      ]
     },
     "execution_count": 11,
     "metadata": {},
     "output_type": "execute_result"
    }
   ],
   "source": [
    "azimuthFmRatePolynomial[4][1]"
   ]
  },
  {
   "cell_type": "code",
   "execution_count": 13,
   "metadata": {},
   "outputs": [
    {
     "data": {
      "text/plain": [
       "OrderedCollections.OrderedDict{Any,Any} with 3 entries:\n",
       "  \"linesPerBurst\"   => \"1500\"\n",
       "  \"samplesPerBurst\" => \"23170\"\n",
       "  \"burstList\"       => OrderedCollections.OrderedDict{Any,Any}(:count=>\"9\",\"bur…"
      ]
     },
     "execution_count": 13,
     "metadata": {},
     "output_type": "execute_result"
    }
   ],
   "source": [
    "annotations[\"product\"][\"swathTiming\"]"
   ]
  },
  {
   "cell_type": "code",
   "execution_count": 1,
   "metadata": {},
   "outputs": [
    {
     "ename": "UndefVarError",
     "evalue": "UndefVarError: annotations not defined",
     "output_type": "error",
     "traceback": [
      "UndefVarError: annotations not defined",
      "",
      "Stacktrace:",
      " [1] top-level scope at In[1]:1"
     ]
    }
   ],
   "source": [
    "annotations[\"product\"][\"swathTiming\"][\"burstList\"][\"burst\"][9]"
   ]
  },
  {
   "cell_type": "code",
   "execution_count": null,
   "metadata": {},
   "outputs": [],
   "source": []
  }
 ],
 "metadata": {
  "kernelspec": {
   "display_name": "Julia 1.0.4",
   "language": "julia",
   "name": "julia-1.0"
  },
  "language_info": {
   "file_extension": ".jl",
   "mimetype": "application/julia",
   "name": "julia",
   "version": "1.0.4"
  }
 },
 "nbformat": 4,
 "nbformat_minor": 2
}
