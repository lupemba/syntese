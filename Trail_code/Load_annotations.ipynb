{
 "cells": [
  {
   "cell_type": "code",
   "execution_count": 4,
   "metadata": {},
   "outputs": [
    {
     "name": "stdout",
     "output_type": "stream",
     "text": [
      "\u001b[32m\u001b[1m  Updating\u001b[22m\u001b[39m registry at `~/.julia/registries/General`\n",
      "\u001b[32m\u001b[1m  Updating\u001b[22m\u001b[39m git-repo `https://github.com/JuliaRegistries/General.git`\n",
      "\u001b[2K\u001b[?25h\u001b[32m\u001b[1m Resolving\u001b[22m\u001b[39m package versions...\n",
      "\u001b[32m\u001b[1m Installed\u001b[22m\u001b[39m EzXML ────── v0.9.4\n",
      "\u001b[32m\u001b[1m Installed\u001b[22m\u001b[39m AxisArrays ─ v0.3.2\n",
      "\u001b[32m\u001b[1m Installed\u001b[22m\u001b[39m Colors ───── v0.9.6\n",
      "\u001b[32m\u001b[1m  Updating\u001b[22m\u001b[39m `~/.julia/environments/v1.1/Project.toml`\n",
      " \u001b[90m [8f5d6c58]\u001b[39m\u001b[92m + EzXML v0.9.4\u001b[39m\n",
      "\u001b[32m\u001b[1m  Updating\u001b[22m\u001b[39m `~/.julia/environments/v1.1/Manifest.toml`\n",
      " \u001b[90m [39de3d68]\u001b[39m\u001b[93m ↑ AxisArrays v0.3.0 ⇒ v0.3.2\u001b[39m\n",
      " \u001b[90m [5ae59095]\u001b[39m\u001b[93m ↑ Colors v0.9.5 ⇒ v0.9.6\u001b[39m\n",
      " \u001b[90m [8f5d6c58]\u001b[39m\u001b[92m + EzXML v0.9.4\u001b[39m\n",
      "\u001b[32m\u001b[1m  Building\u001b[22m\u001b[39m EzXML → `~/.julia/packages/EzXML/G0JeY/deps/build.log`\n",
      "\u001b[32m\u001b[1m Resolving\u001b[22m\u001b[39m package versions...\n",
      "\u001b[32m\u001b[1m Installed\u001b[22m\u001b[39m XMLDict ─ v0.3.0\n",
      "\u001b[32m\u001b[1m  Updating\u001b[22m\u001b[39m `~/.julia/environments/v1.1/Project.toml`\n",
      " \u001b[90m [228000da]\u001b[39m\u001b[92m + XMLDict v0.3.0\u001b[39m\n",
      "\u001b[32m\u001b[1m  Updating\u001b[22m\u001b[39m `~/.julia/environments/v1.1/Manifest.toml`\n",
      " \u001b[90m [228000da]\u001b[39m\u001b[92m + XMLDict v0.3.0\u001b[39m\n"
     ]
    }
   ],
   "source": [
    "using Pkg; Pkg.add(\"EzXML\"); Pkg.add(\"XMLDict\")"
   ]
  },
  {
   "cell_type": "code",
   "execution_count": 1,
   "metadata": {},
   "outputs": [
    {
     "name": "stderr",
     "output_type": "stream",
     "text": [
      "┌ Info: Precompiling EzXML [8f5d6c58-4d21-5cfd-889c-e3ad7ee6a615]\n",
      "└ @ Base loading.jl:1186\n",
      "┌ Info: Precompiling XMLDict [228000da-037f-5747-90a9-8195ccbf91a5]\n",
      "└ @ Base loading.jl:1186\n"
     ]
    }
   ],
   "source": [
    "import EzXML\n",
    "import XMLDict"
   ]
  },
  {
   "cell_type": "markdown",
   "metadata": {},
   "source": [
    "## Load the annotations and convert to dict"
   ]
  },
  {
   "cell_type": "code",
   "execution_count": 2,
   "metadata": {},
   "outputs": [
    {
     "data": {
      "text/plain": [
       "EzXML.Document(EzXML.Node(<DOCUMENT_NODE@0x00007f9910af06b0>))"
      ]
     },
     "execution_count": 2,
     "metadata": {},
     "output_type": "execute_result"
    }
   ],
   "source": [
    "doc = EzXML.readxml(\"/Users/eyu/YOEO_local/data/S1A_IW_SLC__1SDV_20190802T165301_20190802T165329_028393_03355E_B1D3.SAFE/annotation/s1a-iw1-slc-vv-20190802t165301-20190802t165329-028393-03355e-004.xml\")"
   ]
  },
  {
   "cell_type": "code",
   "execution_count": 3,
   "metadata": {},
   "outputs": [
    {
     "data": {
      "text/plain": [
       "OrderedCollections.OrderedDict{Any,Any} with 3 entries:\n",
       "  :version  => \"1.0\"\n",
       "  :encoding => \"UTF-8\"\n",
       "  \"product\" => OrderedCollections.OrderedDict{Any,Any}(\"adsHeader\"=>OrderedColl…"
      ]
     },
     "execution_count": 3,
     "metadata": {},
     "output_type": "execute_result"
    }
   ],
   "source": [
    "annotations = XMLDict.xml_dict(doc)"
   ]
  },
  {
   "cell_type": "code",
   "execution_count": 4,
   "metadata": {},
   "outputs": [
    {
     "data": {
      "text/plain": [
       "OrderedCollections.OrderedDict{Any,Any} with 9 entries:\n",
       "  \"productInformation\"      => OrderedCollections.OrderedDict{Any,Any}(\"pass\"=>…\n",
       "  \"downlinkInformationList\" => OrderedCollections.OrderedDict{Any,Any}(:count=>…\n",
       "  \"orbitList\"               => OrderedCollections.OrderedDict{Any,Any}(:count=>…\n",
       "  \"attitudeList\"            => OrderedCollections.OrderedDict{Any,Any}(:count=>…\n",
       "  \"rawDataAnalysisList\"     => OrderedCollections.OrderedDict{Any,Any}(:count=>…\n",
       "  \"replicaInformationList\"  => OrderedCollections.OrderedDict{Any,Any}(:count=>…\n",
       "  \"noiseList\"               => OrderedCollections.OrderedDict{Any,Any}(:count=>…\n",
       "  \"terrainHeightList\"       => OrderedCollections.OrderedDict{Any,Any}(:count=>…\n",
       "  \"azimuthFmRateList\"       => OrderedCollections.OrderedDict{Any,Any}(:count=>…"
      ]
     },
     "execution_count": 4,
     "metadata": {},
     "output_type": "execute_result"
    }
   ],
   "source": [
    "annotations[\"product\"][\"generalAnnotation\"]"
   ]
  },
  {
   "cell_type": "markdown",
   "metadata": {},
   "source": [
    "### Get the azimuthSteeringRate and convert to float"
   ]
  },
  {
   "cell_type": "code",
   "execution_count": 5,
   "metadata": {},
   "outputs": [
    {
     "data": {
      "text/plain": [
       "1.590368784"
      ]
     },
     "execution_count": 5,
     "metadata": {},
     "output_type": "execute_result"
    }
   ],
   "source": [
    "azimuthSteeringRate = annotations[\"product\"][\"generalAnnotation\"][\"productInformation\"][\"azimuthSteeringRate\"]\n",
    "azimuthSteeringRate = parse(Float64,azimuthSteeringRate)"
   ]
  },
  {
   "cell_type": "markdown",
   "metadata": {},
   "source": [
    "### Get the azimuthFmRate and convert to arrays"
   ]
  },
  {
   "cell_type": "code",
   "execution_count": 6,
   "metadata": {},
   "outputs": [
    {
     "data": {
      "text/plain": [
       "OrderedCollections.OrderedDict{Any,Any} with 3 entries:\n",
       "  \"azimuthTime\"             => \"2019-08-02T16:53:00.746374\"\n",
       "  \"t0\"                      => \"5.335550128806720e-03\"\n",
       "  \"azimuthFmRatePolynomial\" => OrderedCollections.OrderedDict{Any,Any}(:count=>…"
      ]
     },
     "execution_count": 6,
     "metadata": {},
     "output_type": "execute_result"
    }
   ],
   "source": [
    "azimuthFmRate = annotations[\"product\"][\"generalAnnotation\"][\"azimuthFmRateList\"][\"azimuthFmRate\"]\n",
    "azimuthFmRate[1]"
   ]
  },
  {
   "cell_type": "code",
   "execution_count": 7,
   "metadata": {},
   "outputs": [],
   "source": [
    "azimuthTime = [elem[\"azimuthTime\"] for elem in azimuthFmRate]\n",
    "t0 = [parse(Float64,elem[\"t0\"]) for elem in azimuthFmRate]\n",
    "azimuthFmRatePolynomial = [ [parse(Float64,grandchild) for grandchild in split(child[\"azimuthFmRatePolynomial\"][\"\"])] for child in azimuthFmRate];"
   ]
  },
  {
   "cell_type": "code",
   "execution_count": 8,
   "metadata": {},
   "outputs": [
    {
     "data": {
      "text/plain": [
       "11-element Array{String,1}:\n",
       " \"2019-08-02T16:53:00.746374\"\n",
       " \"2019-08-02T16:53:03.504651\"\n",
       " \"2019-08-02T16:53:06.262928\"\n",
       " \"2019-08-02T16:53:09.021205\"\n",
       " \"2019-08-02T16:53:11.779482\"\n",
       " \"2019-08-02T16:53:14.537759\"\n",
       " \"2019-08-02T16:53:17.296036\"\n",
       " \"2019-08-02T16:53:20.054313\"\n",
       " \"2019-08-02T16:53:22.812590\"\n",
       " \"2019-08-02T16:53:25.570867\"\n",
       " \"2019-08-02T16:53:28.329144\""
      ]
     },
     "execution_count": 8,
     "metadata": {},
     "output_type": "execute_result"
    }
   ],
   "source": [
    "azimuthTime "
   ]
  },
  {
   "cell_type": "code",
   "execution_count": 9,
   "metadata": {},
   "outputs": [
    {
     "data": {
      "text/plain": [
       "11-element Array{Float64,1}:\n",
       " 0.00533555012880672\n",
       " 0.00533555012880672\n",
       " 0.00533555012880672\n",
       " 0.00533555012880672\n",
       " 0.00533555012880672\n",
       " 0.00533555012880672\n",
       " 0.00533555012880672\n",
       " 0.00533555012880672\n",
       " 0.00533555012880672\n",
       " 0.00533555012880672\n",
       " 0.00533555012880672"
      ]
     },
     "execution_count": 9,
     "metadata": {},
     "output_type": "execute_result"
    }
   ],
   "source": [
    "t0"
   ]
  },
  {
   "cell_type": "code",
   "execution_count": 10,
   "metadata": {},
   "outputs": [
    {
     "data": {
      "text/plain": [
       "11-element Array{Array{Float64,1},1}:\n",
       " [-2320.22, 4.51979e5, -7.95526e7]\n",
       " [-2320.15, 4.51992e5, -7.95589e7]\n",
       " [-2320.08, 4.52006e5, -7.95699e7]\n",
       " [-2320.01, 4.52021e5, -7.9581e7] \n",
       " [-2319.94, 4.52033e5, -7.95892e7]\n",
       " [-2319.87, 4.52048e5, -7.96004e7]\n",
       " [-2319.81, 4.5206e5, -7.96047e7] \n",
       " [-2319.74, 4.52075e5, -7.96193e7]\n",
       " [-2319.67, 4.52086e5, -7.96223e7]\n",
       " [-2319.6, 4.521e5, -7.96346e7]   \n",
       " [-2319.53, 452113.0, -7.96428e7] "
      ]
     },
     "execution_count": 10,
     "metadata": {},
     "output_type": "execute_result"
    }
   ],
   "source": [
    "azimuthFmRatePolynomial"
   ]
  },
  {
   "cell_type": "code",
   "execution_count": 11,
   "metadata": {},
   "outputs": [
    {
     "data": {
      "text/plain": [
       "-2320.01070462741"
      ]
     },
     "execution_count": 11,
     "metadata": {},
     "output_type": "execute_result"
    }
   ],
   "source": [
    "azimuthFmRatePolynomial[4][1]"
   ]
  },
  {
   "cell_type": "code",
   "execution_count": 13,
   "metadata": {},
   "outputs": [
    {
     "data": {
      "text/plain": [
       "OrderedCollections.OrderedDict{Any,Any} with 3 entries:\n",
       "  \"linesPerBurst\"   => \"1500\"\n",
       "  \"samplesPerBurst\" => \"23170\"\n",
       "  \"burstList\"       => OrderedCollections.OrderedDict{Any,Any}(:count=>\"9\",\"bur…"
      ]
     },
     "execution_count": 13,
     "metadata": {},
     "output_type": "execute_result"
    }
   ],
   "source": [
    "annotations[\"product\"][\"swathTiming\"]"
   ]
  },
  {
   "cell_type": "code",
   "execution_count": 1,
   "metadata": {},
   "outputs": [
    {
     "ename": "UndefVarError",
     "evalue": "UndefVarError: annotations not defined",
     "output_type": "error",
     "traceback": [
      "UndefVarError: annotations not defined",
      "",
      "Stacktrace:",
      " [1] top-level scope at In[1]:1"
     ]
    }
   ],
   "source": [
    "annotations[\"product\"][\"swathTiming\"][\"burstList\"][\"burst\"][9]"
   ]
  },
  {
   "cell_type": "code",
   "execution_count": null,
   "metadata": {},
   "outputs": [],
   "source": []
  }
 ],
 "metadata": {
  "kernelspec": {
   "display_name": "Julia 1.1.1",
   "language": "julia",
   "name": "julia-1.1"
  },
  "language_info": {
   "file_extension": ".jl",
   "mimetype": "application/julia",
   "name": "julia",
   "version": "1.1.1"
  }
 },
 "nbformat": 4,
 "nbformat_minor": 2
}
