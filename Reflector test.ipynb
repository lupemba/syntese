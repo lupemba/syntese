{
 "cells": [
  {
   "cell_type": "code",
   "execution_count": 1,
   "metadata": {},
   "outputs": [],
   "source": [
    "include(\"ToolBox/ToolBox.jl\")\n",
    "using .ToolBox\n",
    "using .Geometry"
   ]
  },
  {
   "cell_type": "code",
   "execution_count": 2,
   "metadata": {},
   "outputs": [],
   "source": [
    "padding = 2; # to display images"
   ]
  },
  {
   "cell_type": "markdown",
   "metadata": {},
   "source": [
    "### Reflector in Image 1 15. Marts"
   ]
  },
  {
   "cell_type": "code",
   "execution_count": 3,
   "metadata": {},
   "outputs": [
    {
     "data": {
      "text/plain": [
       "\"/Users/simon/Data/DEM/srtm_38_01/srtm_38_01.tif\""
      ]
     },
     "execution_count": 3,
     "metadata": {},
     "output_type": "execute_result"
    }
   ],
   "source": [
    "path_img1 = \"/Users/simon/Data/Sentinel/S1B_IW_SLC__1SDV_20170315T053950_20170315T054018_004715_0083B0_7EE9.SAFE/measurement/s1b-iw3-slc-vv-20170315t053950-20170315t054018-004715-0083b0-006.tiff\"\n",
    "path_meta_1 = \"/Users/simon/Data/Sentinel/S1B_IW_SLC__1SDV_20170315T053950_20170315T054018_004715_0083B0_7EE9.SAFE/annotation/s1b-iw3-slc-vv-20170315t053950-20170315t054018-004715-0083b0-006.xml\"\n",
    "path_pod_1 = \"/Users/simon/Data/Sentinel/S1B_OPER_AUX_POEORB_OPOD_20170404T111500_V20170314T225942_20170316T005942.EOF\"\n",
    "dem_path = \"/Users/simon/Data/DEM/srtm_38_01/srtm_38_01.tif\""
   ]
  },
  {
   "cell_type": "code",
   "execution_count": 4,
   "metadata": {},
   "outputs": [
    {
     "data": {
      "text/plain": [
       "3×2 LinearAlgebra.Adjoint{Int64,Array{Int64,2}}:\n",
       " 1126  6087\n",
       " 1123  6100\n",
       " 1127  6111"
      ]
     },
     "execution_count": 4,
     "metadata": {},
     "output_type": "execute_result"
    }
   ],
   "source": [
    "reflector_index_1 = hcat([1126,6087],[1123, 6100],[1127, 6111])'"
   ]
  },
  {
   "cell_type": "code",
   "execution_count": 5,
   "metadata": {},
   "outputs": [
    {
     "data": {
      "image/png": "[encoded data removed]",
      "text/plain": [
       "5×5 Array{Gray{Float64},2} with eltype ColorTypes.Gray{Float64}:\n",
       " Gray{Float64}(0.0184201)  …  Gray{Float64}(0.0206436)\n",
       " Gray{Float64}(0.0560285)     Gray{Float64}(0.0630816)\n",
       " Gray{Float64}(0.0953938)     Gray{Float64}(0.0420042)\n",
       " Gray{Float64}(0.147494)      Gray{Float64}(0.0864997)\n",
       " Gray{Float64}(0.231361)      Gray{Float64}(0.105288) "
      ]
     },
     "execution_count": 5,
     "metadata": {},
     "output_type": "execute_result"
    }
   ],
   "source": [
    "index = reflector_index_1[1,:]\n",
    "view =[(index[1]-padding):(index[1]+padding), (index[2]-padding):(index[2]+padding)]\n",
    "SlcUtil.show_img(Load.slc_data(path_img1,view))"
   ]
  },
  {
   "cell_type": "code",
   "execution_count": 22,
   "metadata": {},
   "outputs": [
    {
     "data": {
      "image/png": "[encoded data removed]",
      "text/plain": [
       "5×5 Array{Gray{Float64},2} with eltype ColorTypes.Gray{Float64}:\n",
       " Gray{Float64}(0.0802536)  …  Gray{Float64}(0.0419324)\n",
       " Gray{Float64}(0.0384521)     Gray{Float64}(0.0577923)\n",
       " Gray{Float64}(0.0902699)     Gray{Float64}(0.125411) \n",
       " Gray{Float64}(0.0657573)     Gray{Float64}(0.106536) \n",
       " Gray{Float64}(0.0278914)     Gray{Float64}(0.0735523)"
      ]
     },
     "execution_count": 22,
     "metadata": {},
     "output_type": "execute_result"
    }
   ],
   "source": [
    "index = reflector_index_1[2,:]\n",
    "view =[(index[1]-padding):(index[1]+padding), (index[2]-padding):(index[2]+padding)]\n",
    "SlcUtil.show_img(Load.slc_data(path_img1,view))"
   ]
  },
  {
   "cell_type": "code",
   "execution_count": 23,
   "metadata": {},
   "outputs": [
    {
     "data": {
      "image/png": "[encoded data removed]",
      "text/plain": [
       "5×5 Array{Gray{Float64},2} with eltype ColorTypes.Gray{Float64}:\n",
       " Gray{Float64}(0.0600129)  …  Gray{Float64}(0.122552)\n",
       " Gray{Float64}(0.150212)      Gray{Float64}(0.125445)\n",
       " Gray{Float64}(0.0892506)     Gray{Float64}(0.165583)\n",
       " Gray{Float64}(0.0541053)     Gray{Float64}(0.20045) \n",
       " Gray{Float64}(0.114454)      Gray{Float64}(0.102844)"
      ]
     },
     "execution_count": 23,
     "metadata": {},
     "output_type": "execute_result"
    }
   ],
   "source": [
    "index = reflector_index_1[3,:]\n",
    "view =[(index[1]-padding):(index[1]+padding), (index[2]-padding):(index[2]+padding)]\n",
    "SlcUtil.show_img(Load.slc_data(path_img1,view))"
   ]
  },
  {
   "cell_type": "code",
   "execution_count": 8,
   "metadata": {},
   "outputs": [],
   "source": [
    "meta_1 = Load.slc_meta(path_meta_1);\n",
    "precise_orbit_1 = Load.precise_orbit(path_pod_1,meta_1[\"t_0\"]);"
   ]
  },
  {
   "cell_type": "markdown",
   "metadata": {},
   "source": [
    "### Get heights"
   ]
  },
  {
   "cell_type": "code",
   "execution_count": 9,
   "metadata": {},
   "outputs": [],
   "source": [
    "offset = 39;"
   ]
  },
  {
   "cell_type": "code",
   "execution_count": 10,
   "metadata": {},
   "outputs": [],
   "source": [
    "footprint = SlcUtil.footprint(meta_1, view)\n",
    "latlon_window = ((minimum(footprint[1]),maximum(footprint[1])),(minimum(footprint[2]),maximum(footprint[2])))\n",
    "lat_dem,lon_dem, dem = Load.dem(dem_path, latlon_window; nan_fill= 0, padding=[90,90]);\n",
    "dem .=  dem .+ offset;"
   ]
  },
  {
   "cell_type": "code",
   "execution_count": 11,
   "metadata": {},
   "outputs": [
    {
     "data": {
      "text/plain": [
       "3-element Array{Float64,1}:\n",
       " 42.42489916585899 \n",
       " 40.021494127411145\n",
       " 38.37926782443094 "
      ]
     },
     "execution_count": 11,
     "metadata": {},
     "output_type": "execute_result"
    }
   ],
   "source": [
    "lat_dem, lon_dem, dem = Misc.flatten(lat_dem,lon_dem,dem);\n",
    "line_sample_dem = to_line_sample(hcat(lat_dem,lon_dem),dem,precise_orbit_1...,meta_1);\n",
    "heights = Misc.interp(line_sample_dem[:,1], line_sample_dem[:,2], dem, \n",
    "                            reflector_index_1[:,1], reflector_index_1[:,2])"
   ]
  },
  {
   "cell_type": "markdown",
   "metadata": {},
   "source": [
    "### Convert to coordinates"
   ]
  },
  {
   "cell_type": "code",
   "execution_count": 12,
   "metadata": {},
   "outputs": [
    {
     "data": {
      "text/plain": [
       "3×2 Array{Float64,2}:\n",
       " 56.5619  8.30745\n",
       " 56.5623  8.30688\n",
       " 56.5619  8.30615"
      ]
     },
     "execution_count": 12,
     "metadata": {},
     "output_type": "execute_result"
    }
   ],
   "source": [
    "lat_lon = to_lat_lon(reflector_index_1, heights, precise_orbit_1..., meta_1)"
   ]
  },
  {
   "cell_type": "markdown",
   "metadata": {},
   "source": [
    "## Find Index in image 2  27. Marts"
   ]
  },
  {
   "cell_type": "code",
   "execution_count": 13,
   "metadata": {},
   "outputs": [
    {
     "data": {
      "text/plain": [
       "\"/Users/simon/Data/Sentinel/S1B_OPER_AUX_POEORB_OPOD_20170416T111343_V20170326T225942_20170328T005942.EOF\""
      ]
     },
     "execution_count": 13,
     "metadata": {},
     "output_type": "execute_result"
    }
   ],
   "source": [
    "path_img2 = \"/Users/simon/Data/Sentinel/S1B_IW_SLC__1SDV_20170327T053950_20170327T054018_004890_0088AE_3CC1.SAFE/measurement/s1b-iw3-slc-vv-20170327t053950-20170327t054018-004890-0088ae-006.tiff\"\n",
    "path_meta_2 = \"/Users/simon/Data/Sentinel/S1B_IW_SLC__1SDV_20170327T053950_20170327T054018_004890_0088AE_3CC1.SAFE/annotation/s1b-iw3-slc-vv-20170327t053950-20170327t054018-004890-0088ae-006.xml\"\n",
    "path_pod_2 = \"/Users/simon/Data/Sentinel/S1B_OPER_AUX_POEORB_OPOD_20170416T111343_V20170326T225942_20170328T005942.EOF\""
   ]
  },
  {
   "cell_type": "code",
   "execution_count": 14,
   "metadata": {},
   "outputs": [],
   "source": [
    "meta_2 = Load.slc_meta(path_meta_2);\n",
    "precise_orbit_2 = Load.precise_orbit(path_pod_2,meta_2[\"t_0\"]);"
   ]
  },
  {
   "cell_type": "code",
   "execution_count": 15,
   "metadata": {},
   "outputs": [
    {
     "data": {
      "text/plain": [
       "3×2 Array{Float64,2}:\n",
       " 1126.17  6070.31\n",
       " 1123.17  6083.31\n",
       " 1127.17  6094.31"
      ]
     },
     "execution_count": 15,
     "metadata": {},
     "output_type": "execute_result"
    }
   ],
   "source": [
    "reflector_index_2 = to_line_sample(lat_lon, heights, precise_orbit_2...,meta_2 )"
   ]
  },
  {
   "cell_type": "code",
   "execution_count": 16,
   "metadata": {},
   "outputs": [
    {
     "data": {
      "text/plain": [
       "3×2 Array{Int64,2}:\n",
       " 1126  6070\n",
       " 1123  6083\n",
       " 1127  6094"
      ]
     },
     "execution_count": 16,
     "metadata": {},
     "output_type": "execute_result"
    }
   ],
   "source": [
    "round.(Int,reflector_index_2)"
   ]
  },
  {
   "cell_type": "code",
   "execution_count": 17,
   "metadata": {
    "scrolled": true
   },
   "outputs": [
    {
     "data": {
      "image/png": "[encoded data removed]",
      "text/plain": [
       "5×5 Array{Gray{Float64},2} with eltype ColorTypes.Gray{Float64}:\n",
       " Gray{Float64}(0.0468263)  …  Gray{Float64}(0.0895375)\n",
       " Gray{Float64}(0.0288024)     Gray{Float64}(0.06166)  \n",
       " Gray{Float64}(0.106297)      Gray{Float64}(0.280225) \n",
       " Gray{Float64}(0.0389398)     Gray{Float64}(0.233878) \n",
       " Gray{Float64}(0.236469)      Gray{Float64}(0.0899881)"
      ]
     },
     "execution_count": 17,
     "metadata": {},
     "output_type": "execute_result"
    }
   ],
   "source": [
    "index = round.(Int,reflector_index_2[1,:])\n",
    "view =[(index[1]-padding):(index[1]+padding), (index[2]-padding):(index[2]+padding)]\n",
    "SlcUtil.show_img(Load.slc_data(path_img2,view))"
   ]
  },
  {
   "cell_type": "code",
   "execution_count": 18,
   "metadata": {},
   "outputs": [
    {
     "data": {
      "image/png": "[encoded data removed]",
      "text/plain": [
       "5×5 Array{Gray{Float64},2} with eltype ColorTypes.Gray{Float64}:\n",
       " Gray{Float64}(0.0685524)  …  Gray{Float64}(0.0791869)\n",
       " Gray{Float64}(0.013053)      Gray{Float64}(0.0505817)\n",
       " Gray{Float64}(0.0390697)     Gray{Float64}(0.16372)  \n",
       " Gray{Float64}(0.0969046)     Gray{Float64}(0.154852) \n",
       " Gray{Float64}(0.0157667)     Gray{Float64}(0.0531793)"
      ]
     },
     "execution_count": 18,
     "metadata": {},
     "output_type": "execute_result"
    }
   ],
   "source": [
    "index = round.(Int,reflector_index_2[2,:])\n",
    "view =[(index[1]-padding):(index[1]+padding), (index[2]-padding):(index[2]+padding)]\n",
    "SlcUtil.show_img(Load.slc_data(path_img2,view))"
   ]
  },
  {
   "cell_type": "code",
   "execution_count": 19,
   "metadata": {},
   "outputs": [
    {
     "data": {
      "image/png": "[encoded data removed]",
      "text/plain": [
       "5×5 Array{Gray{Float64},2} with eltype ColorTypes.Gray{Float64}:\n",
       " Gray{Float64}(0.0181748)  …  Gray{Float64}(0.106873) \n",
       " Gray{Float64}(0.0178899)     Gray{Float64}(0.247225) \n",
       " Gray{Float64}(0.0598513)     Gray{Float64}(0.309809) \n",
       " Gray{Float64}(0.101873)      Gray{Float64}(0.152519) \n",
       " Gray{Float64}(0.199456)      Gray{Float64}(0.0476875)"
      ]
     },
     "execution_count": 19,
     "metadata": {},
     "output_type": "execute_result"
    }
   ],
   "source": [
    "index = round.(Int,reflector_index_2[3,:])\n",
    "view =[(index[1]-padding):(index[1]+padding), (index[2]-padding):(index[2]+padding)]\n",
    "SlcUtil.show_img(Load.slc_data(path_img2,view))"
   ]
  }
 ],
 "metadata": {
  "kernelspec": {
   "display_name": "Julia 1.0.4",
   "language": "julia",
   "name": "julia-1.0"
  },
  "language_info": {
   "file_extension": ".jl",
   "mimetype": "application/julia",
   "name": "julia",
   "version": "1.0.4"
  }
 },
 "nbformat": 4,
 "nbformat_minor": 2
}
