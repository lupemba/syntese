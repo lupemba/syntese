{
 "cells": [
  {
   "cell_type": "code",
   "execution_count": 16,
   "metadata": {},
   "outputs": [],
   "source": [
    "include(\"/Users/simon/Documents/DTU fag/syntese/Code/syntese/coords2index/load_s1slc_ann.jl\");\n",
    "include(\"/Users/simon/Documents/DTU fag/syntese/Code/syntese/coords2index/load_pod.jl\");\n",
    "include(\"/Users/simon/Documents/DTU fag/syntese/Code/syntese/structs/SlcRaw.jl\");\n",
    "include(\"/Users/simon/Documents/DTU fag/syntese/Code/syntese/coords2index/salih2llh.jl\");\n",
    "include(\"/Users/simon/Documents/DTU fag/syntese/Code/syntese/coords2index/llh2sali.jl\");\n"
   ]
  },
  {
   "cell_type": "code",
   "execution_count": 2,
   "metadata": {},
   "outputs": [
    {
     "data": {
      "text/plain": [
       "3-element Array{Float64,1}:\n",
       " 42.753\n",
       " 43.282\n",
       " 44.475"
      ]
     },
     "execution_count": 2,
     "metadata": {},
     "output_type": "execute_result"
    }
   ],
   "source": [
    "reflector_heigt = [42.753,43.282,44.475]"
   ]
  },
  {
   "cell_type": "code",
   "execution_count": 41,
   "metadata": {},
   "outputs": [],
   "source": [
    "padding = 2; # to display images"
   ]
  },
  {
   "cell_type": "markdown",
   "metadata": {},
   "source": [
    "### Reflector in Image 1 15. Marts"
   ]
  },
  {
   "cell_type": "code",
   "execution_count": 4,
   "metadata": {},
   "outputs": [
    {
     "data": {
      "text/plain": [
       "\"/Users/simon/Data/Sentinel/S1B_OPER_AUX_POEORB_OPOD_20170404T111500_V20170314T225942_20170316T005942.EOF\""
      ]
     },
     "execution_count": 4,
     "metadata": {},
     "output_type": "execute_result"
    }
   ],
   "source": [
    "path_img1 = \"/Users/simon/Data/Sentinel/S1B_IW_SLC__1SDV_20170315T053950_20170315T054018_004715_0083B0_7EE9.SAFE/measurement/s1b-iw3-slc-vv-20170315t053950-20170315t054018-004715-0083b0-006.tiff\"\n",
    "path_ann_1 = \"/Users/simon/Data/Sentinel/S1B_IW_SLC__1SDV_20170315T053950_20170315T054018_004715_0083B0_7EE9.SAFE/annotation/s1b-iw3-slc-vv-20170315t053950-20170315t054018-004715-0083b0-006.xml\"\n",
    "path_pod_1 = \"/Users/simon/Data/Sentinel/S1B_OPER_AUX_POEORB_OPOD_20170404T111500_V20170314T225942_20170316T005942.EOF\""
   ]
  },
  {
   "cell_type": "code",
   "execution_count": 5,
   "metadata": {},
   "outputs": [
    {
     "data": {
      "text/plain": [
       "3-element Array{Array{Int64,1},1}:\n",
       " [1126, 6087]\n",
       " [1123, 6100]\n",
       " [1127, 6111]"
      ]
     },
     "execution_count": 5,
     "metadata": {},
     "output_type": "execute_result"
    }
   ],
   "source": [
    "reflector_index_img1 = [[1126,6087],[1123, 6100],[1127, 6111]]"
   ]
  },
  {
   "cell_type": "code",
   "execution_count": 33,
   "metadata": {},
   "outputs": [
    {
     "data": {
      "image/png": "[encoded data removed]",
      "text/plain": [
       "5×5 Array{Gray{Float64},2} with eltype ColorTypes.Gray{Float64}:\n",
       " Gray{Float64}(0.0184201)  …  Gray{Float64}(0.0206436)\n",
       " Gray{Float64}(0.0560285)     Gray{Float64}(0.0630816)\n",
       " Gray{Float64}(0.0953938)     Gray{Float64}(0.0420042)\n",
       " Gray{Float64}(0.147494)      Gray{Float64}(0.0864997)\n",
       " Gray{Float64}(0.231361)      Gray{Float64}(0.105288) "
      ]
     },
     "execution_count": 33,
     "metadata": {},
     "output_type": "execute_result"
    }
   ],
   "source": [
    "index = reflector_index_img1[1]\n",
    "view =[(index[1]-padding):(index[1]+padding), (index[2]-padding):(index[2]+padding)]\n",
    "show_img(load_s1slc_data(path_img1,view))"
   ]
  },
  {
   "cell_type": "code",
   "execution_count": 34,
   "metadata": {},
   "outputs": [
    {
     "data": {
      "image/png": "[encoded data removed]",
      "text/plain": [
       "5×5 Array{Gray{Float64},2} with eltype ColorTypes.Gray{Float64}:\n",
       " Gray{Float64}(0.0847595)  …  Gray{Float64}(0.0442867)\n",
       " Gray{Float64}(0.040611)      Gray{Float64}(0.0610371)\n",
       " Gray{Float64}(0.0953382)     Gray{Float64}(0.132453) \n",
       " Gray{Float64}(0.0694493)     Gray{Float64}(0.112518) \n",
       " Gray{Float64}(0.0294574)     Gray{Float64}(0.077682) "
      ]
     },
     "execution_count": 34,
     "metadata": {},
     "output_type": "execute_result"
    }
   ],
   "source": [
    "index = reflector_index_img1[2]\n",
    "view =[(index[1]-padding):(index[1]+padding), (index[2]-padding):(index[2]+padding)]\n",
    "show_img(load_s1slc_data(path_img1,view))"
   ]
  },
  {
   "cell_type": "code",
   "execution_count": 35,
   "metadata": {},
   "outputs": [
    {
     "data": {
      "image/png": "[encoded data removed]",
      "text/plain": [
       "5×5 Array{Gray{Float64},2} with eltype ColorTypes.Gray{Float64}:\n",
       " Gray{Float64}(0.0651034)  …  Gray{Float64}(0.132947)\n",
       " Gray{Float64}(0.162953)      Gray{Float64}(0.136086)\n",
       " Gray{Float64}(0.0968211)     Gray{Float64}(0.179628)\n",
       " Gray{Float64}(0.0586947)     Gray{Float64}(0.217453)\n",
       " Gray{Float64}(0.124163)      Gray{Float64}(0.111568)"
      ]
     },
     "execution_count": 35,
     "metadata": {},
     "output_type": "execute_result"
    }
   ],
   "source": [
    "index = reflector_index_img1[3]\n",
    "view =[(index[1]-padding):(index[1]+padding), (index[2]-padding):(index[2]+padding)]\n",
    "show_img(load_s1slc_data(path_img1,view))"
   ]
  },
  {
   "cell_type": "markdown",
   "metadata": {},
   "source": [
    "### Convert to coordinates"
   ]
  },
  {
   "cell_type": "code",
   "execution_count": 9,
   "metadata": {},
   "outputs": [
    {
     "data": {
      "text/plain": [
       "3×3 Array{Float64,2}:\n",
       " 1126.0  6087.0  42.753\n",
       " 1123.0  6100.0  43.282\n",
       " 1127.0  6111.0  44.475"
      ]
     },
     "execution_count": 9,
     "metadata": {},
     "output_type": "execute_result"
    }
   ],
   "source": [
    "salih = hcat(vcat(reflector_index_img1'...),reflector_heigt)"
   ]
  },
  {
   "cell_type": "code",
   "execution_count": 12,
   "metadata": {},
   "outputs": [],
   "source": [
    "meta_img1 = load_s1slc_ann(path_ann_1);\n",
    "osv_1,t_sv_1 = load_pod(path_pod_1,meta_img1[\"t_0\"]);"
   ]
  },
  {
   "cell_type": "code",
   "execution_count": 18,
   "metadata": {},
   "outputs": [
    {
     "data": {
      "text/plain": [
       "3×3 Array{Float64,2}:\n",
       " 56.5619  8.30744  42.7529\n",
       " 56.5623  8.30682  43.2819\n",
       " 56.5619  8.30604  44.4749"
      ]
     },
     "execution_count": 18,
     "metadata": {},
     "output_type": "execute_result"
    }
   ],
   "source": [
    "llh_1 = salih2llh(salih, osv_1, t_sv_1, meta_img1)"
   ]
  },
  {
   "cell_type": "markdown",
   "metadata": {},
   "source": [
    "## Find Indew in image 2  27. Marts"
   ]
  },
  {
   "cell_type": "code",
   "execution_count": 20,
   "metadata": {},
   "outputs": [
    {
     "data": {
      "text/plain": [
       "\"/Users/simon/Data/Sentinel/S1B_OPER_AUX_POEORB_OPOD_20170416T111343_V20170326T225942_20170328T005942.EOF\""
      ]
     },
     "execution_count": 20,
     "metadata": {},
     "output_type": "execute_result"
    }
   ],
   "source": [
    "path_img2 = \"/Users/simon/Data/Sentinel/S1B_IW_SLC__1SDV_20170327T053950_20170327T054018_004890_0088AE_3CC1.SAFE/measurement/s1b-iw3-slc-vv-20170327t053950-20170327t054018-004890-0088ae-006.tiff\"\n",
    "path_ann_2 = \"/Users/simon/Data/Sentinel/S1B_IW_SLC__1SDV_20170327T053950_20170327T054018_004890_0088AE_3CC1.SAFE/annotation/s1b-iw3-slc-vv-20170327t053950-20170327t054018-004890-0088ae-006.xml\"\n",
    "path_pod_2 = \"/Users/simon/Data/Sentinel/S1B_OPER_AUX_POEORB_OPOD_20170416T111343_V20170326T225942_20170328T005942.EOF\""
   ]
  },
  {
   "cell_type": "code",
   "execution_count": 21,
   "metadata": {},
   "outputs": [],
   "source": [
    "meta_img2 = load_s1slc_ann(path_ann_2);\n",
    "osv_2,t_sv_2 = load_pod(path_pod_2,meta_img2[\"t_0\"]);"
   ]
  },
  {
   "cell_type": "code",
   "execution_count": 22,
   "metadata": {},
   "outputs": [
    {
     "data": {
      "text/plain": [
       "3×2 Array{Float64,2}:\n",
       " 1126.17  6070.31\n",
       " 1123.17  6083.31\n",
       " 1127.17  6094.31"
      ]
     },
     "execution_count": 22,
     "metadata": {},
     "output_type": "execute_result"
    }
   ],
   "source": [
    "reflector_index_img2 = llh2sali(llh_1, osv_2, t_sv_2 ,meta_img2 )"
   ]
  },
  {
   "cell_type": "code",
   "execution_count": 28,
   "metadata": {},
   "outputs": [
    {
     "data": {
      "text/plain": [
       "3×2 Array{Int64,2}:\n",
       " 1126  6070\n",
       " 1123  6083\n",
       " 1127  6094"
      ]
     },
     "execution_count": 28,
     "metadata": {},
     "output_type": "execute_result"
    }
   ],
   "source": [
    "round.(Int,reflector_index_img2)"
   ]
  },
  {
   "cell_type": "code",
   "execution_count": 36,
   "metadata": {
    "scrolled": true
   },
   "outputs": [
    {
     "data": {
      "image/png": "[encoded data removed]",
      "text/plain": [
       "5×5 Array{Gray{Float64},2} with eltype ColorTypes.Gray{Float64}:\n",
       " Gray{Float64}(0.0468263)  …  Gray{Float64}(0.0895375)\n",
       " Gray{Float64}(0.0288024)     Gray{Float64}(0.06166)  \n",
       " Gray{Float64}(0.106297)      Gray{Float64}(0.280225) \n",
       " Gray{Float64}(0.0389398)     Gray{Float64}(0.233878) \n",
       " Gray{Float64}(0.236469)      Gray{Float64}(0.0899881)"
      ]
     },
     "execution_count": 36,
     "metadata": {},
     "output_type": "execute_result"
    }
   ],
   "source": [
    "index = round.(Int,reflector_index_img2[1,:])\n",
    "view =[(index[1]-padding):(index[1]+padding), (index[2]-padding):(index[2]+padding)]\n",
    "show_img(load_s1slc_data(path_img2,view))"
   ]
  },
  {
   "cell_type": "code",
   "execution_count": 39,
   "metadata": {},
   "outputs": [
    {
     "data": {
      "image/png": "[encoded data removed]",
      "text/plain": [
       "5×5 Array{Gray{Float64},2} with eltype ColorTypes.Gray{Float64}:\n",
       " Gray{Float64}(0.0685524)  …  Gray{Float64}(0.0791869)\n",
       " Gray{Float64}(0.013053)      Gray{Float64}(0.0505817)\n",
       " Gray{Float64}(0.0390697)     Gray{Float64}(0.16372)  \n",
       " Gray{Float64}(0.0969046)     Gray{Float64}(0.154852) \n",
       " Gray{Float64}(0.0157667)     Gray{Float64}(0.0531793)"
      ]
     },
     "execution_count": 39,
     "metadata": {},
     "output_type": "execute_result"
    }
   ],
   "source": [
    "index = round.(Int,reflector_index_img2[2,:])\n",
    "view =[(index[1]-padding):(index[1]+padding), (index[2]-padding):(index[2]+padding)]\n",
    "show_img(load_s1slc_data(path_img2,view))"
   ]
  },
  {
   "cell_type": "code",
   "execution_count": 40,
   "metadata": {},
   "outputs": [
    {
     "data": {
      "image/png": "[encoded data removed]",
      "text/plain": [
       "5×5 Array{Gray{Float64},2} with eltype ColorTypes.Gray{Float64}:\n",
       " Gray{Float64}(0.0181748)  …  Gray{Float64}(0.106873) \n",
       " Gray{Float64}(0.0178899)     Gray{Float64}(0.247225) \n",
       " Gray{Float64}(0.0598513)     Gray{Float64}(0.309809) \n",
       " Gray{Float64}(0.101873)      Gray{Float64}(0.152519) \n",
       " Gray{Float64}(0.199456)      Gray{Float64}(0.0476875)"
      ]
     },
     "execution_count": 40,
     "metadata": {},
     "output_type": "execute_result"
    }
   ],
   "source": [
    "index = round.(Int,reflector_index_img2[3,:])\n",
    "view =[(index[1]-padding):(index[1]+padding), (index[2]-padding):(index[2]+padding)]\n",
    "show_img(load_s1slc_data(path_img2,view))"
   ]
  },
  {
   "cell_type": "code",
   "execution_count": null,
   "metadata": {},
   "outputs": [],
   "source": []
  }
 ],
 "metadata": {
  "kernelspec": {
   "display_name": "Julia 1.0.4",
   "language": "julia",
   "name": "julia-1.0"
  },
  "language_info": {
   "file_extension": ".jl",
   "mimetype": "application/julia",
   "name": "julia",
   "version": "1.0.4"
  }
 },
 "nbformat": 4,
 "nbformat_minor": 2
}
