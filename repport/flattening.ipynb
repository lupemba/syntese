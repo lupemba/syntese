{
 "cells": [
  {
   "cell_type": "code",
   "execution_count": 1,
   "metadata": {},
   "outputs": [
    {
     "name": "stderr",
     "output_type": "stream",
     "text": [
      "┌ Info: Precompiling PyCall [438e738f-606a-5dbb-bf0a-cddfbfd45ab0]\n",
      "└ @ Base loading.jl:1186\n",
      "┌ Warning: Module MacroTools with build ID 12047338851717 is missing from the cache.\n",
      "│ This may mean MacroTools [1914dd2f-81c6-5fcd-8719-6d5c9610ff09] does not support precompilation but is imported by a module that does.\n",
      "└ @ Base loading.jl:947\n",
      "proj_create: init=epsg:/init=IGNF: syntax not supported in non-PROJ4 emulation mode\n"
     ]
    }
   ],
   "source": [
    "include(\"../path.jl\")\n",
    "include(\"../ToolBox/ToolBox.jl\")\n",
    "using .ToolBox\n",
    "using .Geometry"
   ]
  },
  {
   "cell_type": "code",
   "execution_count": 2,
   "metadata": {},
   "outputs": [
    {
     "data": {
      "text/plain": [
       "coregister_slave2 (generic function with 2 methods)"
      ]
     },
     "execution_count": 2,
     "metadata": {},
     "output_type": "execute_result"
    }
   ],
   "source": [
    "function coregister_slave2(master_view,slave_data_path,meta,precise_orbit,dem,stride=(2,8))\n",
    "    # get some coficents\n",
    "    c = 299792458\n",
    "    range_pixel_spacing =  c/(2*meta[1][\"range_sampling_rate\"])\n",
    "    lambda =  c/meta[1][\"radar_frequency\"]\n",
    "\n",
    "    # Get the midburst speed\n",
    "    v_mid = mid_burst_speed(precise_orbit[2], meta[2]);\n",
    "\n",
    "    # look_up_table\n",
    "    mosaic_view = SlcUtil.mosaic_view(meta[1],master_view)\n",
    "    lut = look_up_table(mosaic_view,meta,precise_orbit,dem,stride=(2,8))\n",
    "\n",
    "    # get master line and sample\n",
    "    master_line, master_sample = Misc.flatten(mosaic_view...)\n",
    "\n",
    "    # interpolate slave line and sample\n",
    "    slave_line = Misc.interp_grid(lut[\"master_line\"] ,lut[\"master_sample\"],\n",
    "    reshape(lut[\"slave_line\"],(length(lut[\"master_line\"]),length(lut[\"master_sample\"])))\n",
    "    ,mosaic_view[1], mosaic_view[2])\n",
    "    slave_sample = Misc.interp_grid(lut[\"master_line\"] ,lut[\"master_sample\"],\n",
    "        reshape(lut[\"slave_sample\"],(length(lut[\"master_line\"]),length(lut[\"master_sample\"])))\n",
    "        ,mosaic_view[1], mosaic_view[2]);\n",
    "\n",
    "    slave_line = reshape(slave_line,:)\n",
    "    slave_sample= reshape(slave_sample,:);\n",
    "\n",
    "    # master bursts\n",
    "    master_start_burst = ceil(Int,(master_view[1].start)/meta[1][\"lines_per_burst\"])\n",
    "    master_end_burst = ceil(Int,(master_view[1].stop-1)/meta[1][\"lines_per_burst\"])\n",
    "\n",
    "    # find the slave bursts\n",
    "    slave_start_line = minimum(slave_line)\n",
    "    slave_start_burst = sum([slave_start_line > elem ? 1 : 0 for elem in meta[2][\"burst_meta\"][\"first_line_mosaic\"]])\n",
    "\n",
    "    ## Get the number of lines in the first selected burst\n",
    "    lines_in_first_burst_master = master_start_burst*meta[1][\"lines_per_burst\"] - master_view[1].start\n",
    "    lines_in_first_burst_slave = meta[2][\"burst_meta\"][\"first_line_mosaic\"][slave_start_burst]+meta[2][\"lines_per_burst\"] - slave_start_line\n",
    "\n",
    "    ## Check if the number of lines are approximately the same\n",
    "    if lines_in_first_burst_slave > lines_in_first_burst_master + 100\n",
    "        # the number of lines are not the same. The slave burst before should be included\n",
    "        slave_start_burst = slave_start_burst -1\n",
    "        lines_in_first_burst_slave = slave_start_burst*meta[2][\"lines_per_burst\"] - slave_start_line\n",
    "    end\n",
    "\n",
    "    # compute the offset between the burst number in slave and master\n",
    "    delta_burst = slave_start_burst - master_start_burst\n",
    "\n",
    "    ## check if it is in slave image\n",
    "    slave_end_burst = master_end_burst + delta_burst\n",
    "\n",
    "    if slave_start_burst == 0\n",
    "        println(\"Warning: start line not in slave image\")\n",
    "    end\n",
    "\n",
    "    if slave_end_burst > meta[2][\"burst_count\"]\n",
    "        println(\"Warning: end line not in slave image\")\n",
    "    end\n",
    "\n",
    "    if minimum(slave_sample) < 1\n",
    "        println(\"Warning: start sample not in slave image\")\n",
    "    end\n",
    "\n",
    "    if maximum(slave_sample) > meta[2][\"samples_per_burst\"]\n",
    "        println(\"Warning: end sample not in slave image\")\n",
    "    end\n",
    "\n",
    "    # Initialize arrays for the results\n",
    "    coreg_slave = Array{Complex{Float64}}(undef,length.(master_view)...)\n",
    "    flat_inferogram = Array{Complex{Float64}}(undef,length.(master_view)...)\n",
    "\n",
    "    # load and resample one burst at a time\n",
    "    for n_master in master_start_burst:master_end_burst\n",
    "\n",
    "        n_slave =  n_master + delta_burst\n",
    "\n",
    "        start_line_master = meta[1][\"lines_per_burst\"] * (n_master-1)+1\n",
    "        end_line_master = meta[1][\"lines_per_burst\"] * n_master\n",
    "\n",
    "        ## offset cused by overlap between burts\n",
    "        over_lap_master = meta[1][\"lines_per_burst\"]*(n_master-1)+1 - meta[1][\"burst_meta\"][\"first_line_mosaic\"][n_master]\n",
    "        over_lap_slave = meta[2][\"lines_per_burst\"]*(n_slave-1)+1 - meta[2][\"burst_meta\"][\"first_line_mosaic\"][n_slave]\n",
    "\n",
    "        if n_master == master_start_burst\n",
    "            start_line_master = master_view[1].start\n",
    "        end\n",
    "\n",
    "        if n_master == master_end_burst\n",
    "            end_line_master = master_view[1].stop\n",
    "        end\n",
    "\n",
    "        # finds the lines in the burst\n",
    "        in_burst = (start_line_master-over_lap_master) .<= master_line .<= (end_line_master-over_lap_master)\n",
    "\n",
    "\n",
    "        # get lines\n",
    "        master_line_n = master_line[in_burst] .+ over_lap_master\n",
    "        slave_line_n = slave_line[in_burst] .+ over_lap_slave\n",
    "\n",
    "        # get samples\n",
    "        master_sample_n = master_sample[in_burst]\n",
    "        slave_sample_n = slave_sample[in_burst]\n",
    "\n",
    "        # load data\n",
    "        slave_view_n = round(Int,minimum(slave_line_n)): round(Int,maximum(slave_line_n)),\n",
    "                    round(Int,minimum(slave_sample_n)): round(Int,maximum(slave_sample_n))\n",
    "        slave_data = Load.slc_data(slave_data_path, slave_view_n);\n",
    "\n",
    "        # deramp\n",
    "        phi = SlcUtil.phase_ramp(Misc.flatten(slave_view_n...)..., n_slave, meta[2], v_mid[n_slave]);\n",
    "        slave_data = slave_data .* reshape(exp.(-phi .* im),size(slave_data));\n",
    "\n",
    "        # dimension of resample\n",
    "        dim = (convert(Int,length(master_line_n)/length(master_view[2])),length(master_view[2]))\n",
    "\n",
    "        #resample\n",
    "        slave_data = Misc.resample(slave_view_n,slave_data,slave_line_n,slave_sample_n)\n",
    "        slave_data = reshape(slave_data, dim);\n",
    "\n",
    "        # reramp\n",
    "        #phi = SlcUtil.phase_ramp(slave_line_n, slave_sample_n, n_slave, meta[2], v_mid[n_slave])\n",
    "        #slave_data = slave_data .* reshape(exp.(phi .* im),dim);\n",
    "\n",
    "        # flat_inferogram\n",
    "        flat = exp.(4*pi.*(master_sample_n.-slave_sample_n).*range_pixel_spacing./lambda.*im)\n",
    "        flat = reshape(flat,dim);\n",
    "\n",
    "        # store results\n",
    "        coreg_slave[(start_line_master:end_line_master) .- (master_view[1].start-1),:] .= slave_data\n",
    "        flat_inferogram[(start_line_master:end_line_master) .- (master_view[1].start-1),:] .= flat\n",
    "    end\n",
    "\n",
    "    # remove the slave goemtry and return the dict as geo_ref_table\n",
    "    delete!(lut, \"slave_sample\")\n",
    "    delete!(lut, \"slave_line\")\n",
    "    geo_ref_table = lut\n",
    "\n",
    "    return coreg_slave, flat_inferogram, geo_ref_table\n",
    "end"
   ]
  },
  {
   "cell_type": "code",
   "execution_count": 3,
   "metadata": {
    "scrolled": false
   },
   "outputs": [
    {
     "data": {
      "text/plain": [
       "5001:8001"
      ]
     },
     "execution_count": 3,
     "metadata": {},
     "output_type": "execute_result"
    }
   ],
   "source": [
    "master_view = [2000:6000,1000:9000]\n",
    "small = 5001:8001"
   ]
  },
  {
   "cell_type": "code",
   "execution_count": 4,
   "metadata": {},
   "outputs": [],
   "source": [
    "# load meta and pod\n",
    "master_meta = Load.slc_meta(master_meta_path);\n",
    "master_precise_orbit = Load.precise_orbit(master_pod_path,master_meta[\"t_0\"]);\n",
    "slave_meta = Load.slc_meta(slave_meta_path);\n",
    "slave_precise_orbit = Load.precise_orbit(slave_pod_path,slave_meta[\"t_0\"]);"
   ]
  },
  {
   "cell_type": "code",
   "execution_count": 5,
   "metadata": {},
   "outputs": [],
   "source": [
    "meta = (master_meta,slave_meta)\n",
    "precise_orbit = (master_precise_orbit,slave_precise_orbit);"
   ]
  },
  {
   "cell_type": "code",
   "execution_count": 6,
   "metadata": {},
   "outputs": [
    {
     "name": "stderr",
     "output_type": "stream",
     "text": [
      "proj_create: init=epsg:/init=IGNF: syntax not supported in non-PROJ4 emulation mode\n"
     ]
    }
   ],
   "source": [
    "# load DEM\n",
    "footprint = SlcUtil.footprint(master_meta, master_view)\n",
    "latlon_window = ((minimum(footprint[1]),maximum(footprint[1])),(minimum(footprint[2]),maximum(footprint[2])))\n",
    "dem = Load.dem(dem_path, latlon_window; nan_fill= 0, padding=[90,90]);"
   ]
  },
  {
   "cell_type": "code",
   "execution_count": 7,
   "metadata": {
    "scrolled": false
   },
   "outputs": [
    {
     "name": "stderr",
     "output_type": "stream",
     "text": [
      "proj_create: init=epsg:/init=IGNF: syntax not supported in non-PROJ4 emulation mode\n",
      "proj_create: init=epsg:/init=IGNF: syntax not supported in non-PROJ4 emulation mode\n",
      "proj_create: init=epsg:/init=IGNF: syntax not supported in non-PROJ4 emulation mode\n"
     ]
    }
   ],
   "source": [
    "slave_data, flat, lut =  coregister_slave2(master_view,slave_data_path,meta,precise_orbit,dem);"
   ]
  },
  {
   "cell_type": "code",
   "execution_count": 11,
   "metadata": {},
   "outputs": [],
   "source": [
    "import FileIO\n",
    "FileIO.save(\"flattening.jpg\", SlcUtil.plot_phase(flat))"
   ]
  }
 ],
 "metadata": {
  "kernelspec": {
   "display_name": "Julia 1.1.1",
   "language": "julia",
   "name": "julia-1.1"
  },
  "language_info": {
   "file_extension": ".jl",
   "mimetype": "application/julia",
   "name": "julia",
   "version": "1.1.1"
  }
 },
 "nbformat": 4,
 "nbformat_minor": 2
}
