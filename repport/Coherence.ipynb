{
 "cells": [
  {
   "cell_type": "code",
   "execution_count": 1,
   "metadata": {},
   "outputs": [],
   "source": [
    "include(\"../path.jl\")\n",
    "include(\"../ToolBox/ToolBox.jl\")\n",
    "import JLD\n",
    "import FileIO\n",
    "using .ToolBox\n",
    "using .Geometry\n",
    "using Colors"
   ]
  },
  {
   "cell_type": "code",
   "execution_count": 2,
   "metadata": {},
   "outputs": [
    {
     "data": {
      "text/plain": [
       "5001:8001"
      ]
     },
     "execution_count": 2,
     "metadata": {},
     "output_type": "execute_result"
    }
   ],
   "source": [
    "master_view = [2000:6000,1000:9000]\n",
    "small = 5001:8001"
   ]
  },
  {
   "cell_type": "code",
   "execution_count": 3,
   "metadata": {},
   "outputs": [],
   "source": [
    "# load meta and pod\n",
    "master_meta = Load.slc_meta(master_meta_path);\n",
    "master_precise_orbit = Load.precise_orbit(master_pod_path,master_meta[\"t_0\"]);\n",
    "slave_meta = Load.slc_meta(slave_meta_path);\n",
    "slave_precise_orbit = Load.precise_orbit(slave_pod_path,slave_meta[\"t_0\"]);\n",
    "\n",
    "meta = (master_meta,slave_meta)\n",
    "precise_orbit = (master_precise_orbit,slave_precise_orbit);"
   ]
  },
  {
   "cell_type": "code",
   "execution_count": 4,
   "metadata": {},
   "outputs": [],
   "source": [
    "# load DEM\n",
    "footprint = SlcUtil.footprint(master_meta, master_view)\n",
    "latlon_window = ((minimum(footprint[1]), maximum(footprint[1])), (minimum(footprint[2]), maximum(footprint[2])))\n",
    "dem = Load.dem(dem_path, latlon_window; nan_fill= 0, padding=[90,90]);"
   ]
  },
  {
   "cell_type": "code",
   "execution_count": null,
   "metadata": {},
   "outputs": [],
   "source": [
    "slave_data,flat,lut =  coregister_slave(master_view,slave_data_path,meta,precise_orbit,dem)\n",
    "slave_data,mosaic_view = SlcUtil.mosaic(slave_data,master_view,meta[1]);\n",
    "flat,mosaic_view = SlcUtil.mosaic(flat,master_view,meta[1]);\n",
    "\n",
    "master_data = Load.slc_data(master_data_path,master_view);\n",
    "master_data,mosaic_view = SlcUtil.mosaic(master_data,master_view,meta[1]);"
   ]
  },
  {
   "cell_type": "code",
   "execution_count": null,
   "metadata": {
    "scrolled": true
   },
   "outputs": [],
   "source": [
    "kernel = ones(4,14)\n",
    "complex_coherence, master_intensity, slave_intensity, lines, samples = SlcUtil.complex_coherence(master_data, slave_data, flat, kernel, mosaic_view);"
   ]
  },
  {
   "cell_type": "code",
   "execution_count": null,
   "metadata": {},
   "outputs": [],
   "source": [
    "coherence_img = Gray.(abs.(complex_coherence[1:2:end,1:7:end]))"
   ]
  },
  {
   "cell_type": "code",
   "execution_count": null,
   "metadata": {},
   "outputs": [],
   "source": [
    "#FileIO.save(\"Coherence_multiloock_coherence_sub.jpg\",coherence_img)"
   ]
  },
  {
   "cell_type": "code",
   "execution_count": null,
   "metadata": {
    "scrolled": false
   },
   "outputs": [],
   "source": [
    "phase_img = SlcUtil.plot_phase(complex_coherence[1:2:end,1:7:end])"
   ]
  },
  {
   "cell_type": "code",
   "execution_count": null,
   "metadata": {},
   "outputs": [],
   "source": [
    "#FileIO.save(\"Coherence_multiloock_phase_sub.jpg\",phase_img)"
   ]
  },
  {
   "cell_type": "code",
   "execution_count": null,
   "metadata": {},
   "outputs": [],
   "source": [
    "intensity = SlcUtil.show_img(master_intensity[1:3:end,1:10:end].-minimum(minimum(master_intensity[1:2:end,1:7:end])))"
   ]
  },
  {
   "cell_type": "code",
   "execution_count": null,
   "metadata": {
    "scrolled": true
   },
   "outputs": [],
   "source": [
    "#FileIO.save(\"Multiloock_master_intensity_sub.jpg\",intensity)"
   ]
  },
  {
   "cell_type": "code",
   "execution_count": null,
   "metadata": {},
   "outputs": [],
   "source": [
    "JLD.save(\"inten_VV.jld\", \"data\", master_intensity[1:2:end,1:7:end].-minimum(minimum(master_intensity[1:2:end,1:7:end])))\n",
    "JLD.save(\"Coherence_VV.jld\", \"data\", abs.(complex_coherence[1:2:end,1:7:end]))"
   ]
  },
  {
   "cell_type": "code",
   "execution_count": null,
   "metadata": {},
   "outputs": [],
   "source": []
  },
  {
   "cell_type": "code",
   "execution_count": null,
   "metadata": {},
   "outputs": [],
   "source": []
  }
 ],
 "metadata": {
  "kernelspec": {
   "display_name": "Julia 1.3.1",
   "language": "julia",
   "name": "julia-1.3"
  },
  "language_info": {
   "file_extension": ".jl",
   "mimetype": "application/julia",
   "name": "julia",
   "version": "1.3.1"
  }
 },
 "nbformat": 4,
 "nbformat_minor": 2
}
