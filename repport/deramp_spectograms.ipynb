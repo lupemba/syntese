{
 "cells": [
  {
   "cell_type": "code",
   "execution_count": 8,
   "metadata": {},
   "outputs": [
    {
     "name": "stderr",
     "output_type": "stream",
     "text": [
      "WARNING: replacing module ToolBox.\n",
      "WARNING: using ToolBox.Load in module Main conflicts with an existing identifier.\n",
      "WARNING: using ToolBox.SlcUtil in module Main conflicts with an existing identifier.\n",
      "WARNING: using ToolBox.Geometry in module Main conflicts with an existing identifier.\n",
      "WARNING: using ToolBox.Misc in module Main conflicts with an existing identifier.\n"
     ]
    }
   ],
   "source": [
    "include(\"../ToolBox/ToolBox.jl\")\n",
    "include(\"../path.jl\")\n",
    "using .ToolBox\n",
    "using .Geometry\n",
    "using .Load\n",
    "using .SlcUtil\n",
    "import .Misc\n",
    "using DelimitedFiles\n",
    "using Statistics"
   ]
  },
  {
   "cell_type": "code",
   "execution_count": null,
   "metadata": {},
   "outputs": [],
   "source": [
    "# for saving csv's\n",
    "function save_mean_data(data, name)\n",
    "    row_means = mean(data, dims=2);\n",
    "    writedlm(name*\"_real.csv\", real.(row_means));\n",
    "    writedlm(name*\"_imag.csv\", imag.(row_means));\n",
    "end"
   ]
  },
  {
   "cell_type": "markdown",
   "metadata": {},
   "source": [
    "### Data paths"
   ]
  },
  {
   "cell_type": "code",
   "execution_count": 5,
   "metadata": {},
   "outputs": [
    {
     "name": "stderr",
     "output_type": "stream",
     "text": [
      "proj_create: init=epsg:/init=IGNF: syntax not supported in non-PROJ4 emulation mode\n"
     ]
    }
   ],
   "source": [
    "# Approximate view for 2 burst in master\n",
    "master_view = [1551:3019, 946:24513]\n",
    "meta = (Load.slc_meta(master_meta_path), Load.slc_meta(slave_meta_path))\n",
    "precise_orbit = (Load.precise_orbit(master_pod_path, meta[1][\"t_0\"]), \n",
    "                 Load.precise_orbit(slave_pod_path, meta[2][\"t_0\"]))\n",
    "\n",
    "# load DEM\n",
    "footprint = SlcUtil.footprint(meta[1], master_view)\n",
    "latlon_window = ((minimum(footprint[1]),maximum(footprint[1])),(minimum(footprint[2]),maximum(footprint[2])))\n",
    "dem = Load.dem(dem_path, latlon_window; nan_fill= 0, padding=[90,90]);"
   ]
  },
  {
   "cell_type": "code",
   "execution_count": 9,
   "metadata": {},
   "outputs": [
    {
     "name": "stdout",
     "output_type": "stream",
     "text": [
      "(1469, 23567)"
     ]
    },
    {
     "name": "stderr",
     "output_type": "stream",
     "text": [
      "proj_create: init=epsg:/init=IGNF: syntax not supported in non-PROJ4 emulation mode\n"
     ]
    },
    {
     "data": {
      "text/plain": [
       "Dict{String,Any} with 5 entries:\n",
       "  \"master_sample\" => [946, 954, 962, 970, 978, 986, 994, 1002, 1010, 1018  …  2…\n",
       "  \"latitude\"      => [56.5054, 56.5052, 56.5049, 56.5047, 56.5044, 56.5042, 56.…\n",
       "  \"heights\"       => [49.2302, 48.7196, 47.9499, 46.5236, 45.2859, 44.0984, 30.…\n",
       "  \"master_line\"   => [1369, 1371, 1373, 1375, 1377, 1379, 1381, 1383, 1385, 138…\n",
       "  \"longitude\"     => [8.58565, 8.58559, 8.58552, 8.58547, 8.58542, 8.58537, 8.5…"
      ]
     },
     "execution_count": 9,
     "metadata": {},
     "output_type": "execute_result"
    }
   ],
   "source": [
    "stride=(2,8)\n",
    "\n",
    "# get some coficents\n",
    "c = 299792458\n",
    "range_pixel_spacing =  c/(2*meta[1][\"range_sampling_rate\"])\n",
    "lambda =  c/meta[1][\"radar_frequency\"]\n",
    "\n",
    "# Get the midburst speed\n",
    "v_mid = mid_burst_speed(precise_orbit[2], meta[2]);\n",
    "\n",
    "# look_up_table\n",
    "mosaic_view = SlcUtil.mosaic_view(meta[1],master_view)\n",
    "lut = look_up_table(mosaic_view,meta,precise_orbit,dem,stride=(2,8))\n",
    "\n",
    "# get master line and sample\n",
    "master_line, master_sample = Misc.flatten(mosaic_view...)\n",
    "\n",
    "# interpolate slave line and sample\n",
    "slave_line = Misc.interp_grid(lut[\"master_line\"] ,lut[\"master_sample\"],\n",
    "reshape(lut[\"slave_line\"],(length(lut[\"master_line\"]),length(lut[\"master_sample\"])))\n",
    ",mosaic_view[1], mosaic_view[2])\n",
    "slave_sample = Misc.interp_grid(lut[\"master_line\"] ,lut[\"master_sample\"],\n",
    "    reshape(lut[\"slave_sample\"],(length(lut[\"master_line\"]),length(lut[\"master_sample\"])))\n",
    "    ,mosaic_view[1], mosaic_view[2]);\n",
    "\n",
    "slave_line = reshape(slave_line,:)\n",
    "slave_sample= reshape(slave_sample,:);\n",
    "\n",
    "# master bursts\n",
    "master_start_burst = ceil(Int,(master_view[1].start)/meta[1][\"lines_per_burst\"])\n",
    "master_end_burst = ceil(Int,(master_view[1].stop-1)/meta[1][\"lines_per_burst\"])\n",
    "\n",
    "# find the slave bursts\n",
    "slave_start_line = minimum(slave_line)\n",
    "slave_start_burst = sum([slave_start_line > elem ? 1 : 0 for elem in meta[2][\"burst_meta\"][\"first_line_mosaic\"]])\n",
    "\n",
    "## Get the number of lines in the first selected burst\n",
    "lines_in_first_burst_master = master_start_burst*meta[1][\"lines_per_burst\"] - master_view[1].start\n",
    "lines_in_first_burst_slave = meta[2][\"burst_meta\"][\"first_line_mosaic\"][slave_start_burst]+meta[2][\"lines_per_burst\"] - slave_start_line\n",
    "\n",
    "## Check if the number of lines are approximately the same\n",
    "if lines_in_first_burst_slave > lines_in_first_burst_master + 100\n",
    "    # the number of lines are not the same. The slave burst before should be included\n",
    "    slave_start_burst = slave_start_burst -1\n",
    "    lines_in_first_burst_slave = slave_start_burst*meta[2][\"lines_per_burst\"] - slave_start_line\n",
    "end\n",
    "\n",
    "# compute the offset between the burst number in slave and master\n",
    "delta_burst = slave_start_burst - master_start_burst\n",
    "\n",
    "## check if it is in slave image\n",
    "slave_end_burst = master_end_burst + delta_burst\n",
    "\n",
    "if slave_start_burst == 0\n",
    "    println(\"Warning: start line not in slave image\")\n",
    "end\n",
    "\n",
    "if slave_end_burst > meta[2][\"burst_count\"]\n",
    "    println(\"Warning: end line not in slave image\")\n",
    "end\n",
    "\n",
    "if minimum(slave_sample) < 1\n",
    "    println(\"Warning: start sample not in slave image\")\n",
    "end\n",
    "\n",
    "if maximum(slave_sample) > meta[2][\"samples_per_burst\"]\n",
    "    println(\"Warning: end sample not in slave image\")\n",
    "end\n",
    "\n",
    "# Initialize arrays for the results\n",
    "coreg_slave = Array{Complex{Float64}}(undef,length.(master_view)...)\n",
    "flat_inferogram = Array{Complex{Float64}}(undef,length.(master_view)...)\n",
    "\n",
    "# load and resample one burst at a time\n",
    "for n_master in master_start_burst:master_end_burst\n",
    "\n",
    "    n_slave =  n_master + delta_burst\n",
    "\n",
    "    start_line_master = meta[1][\"lines_per_burst\"] * (n_master-1)+1\n",
    "    end_line_master = meta[1][\"lines_per_burst\"] * n_master\n",
    "\n",
    "    ## offset cused by overlap between burts\n",
    "    over_lap_master = meta[1][\"lines_per_burst\"]*(n_master-1)+1 - meta[1][\"burst_meta\"][\"first_line_mosaic\"][n_master]\n",
    "    over_lap_slave = meta[2][\"lines_per_burst\"]*(n_slave-1)+1 - meta[2][\"burst_meta\"][\"first_line_mosaic\"][n_slave]\n",
    "\n",
    "    if n_master == master_start_burst\n",
    "        start_line_master = master_view[1].start\n",
    "    end\n",
    "\n",
    "    if n_master == master_end_burst\n",
    "        end_line_master = master_view[1].stop\n",
    "    end\n",
    "\n",
    "    # finds the lines in the burst\n",
    "    in_burst = (start_line_master-over_lap_master) .<= master_line .<= (end_line_master-over_lap_master)\n",
    "\n",
    "\n",
    "    # get lines\n",
    "    master_line_n = master_line[in_burst] .+ over_lap_master\n",
    "    slave_line_n = slave_line[in_burst] .+ over_lap_slave\n",
    "\n",
    "    # get samples\n",
    "    master_sample_n = master_sample[in_burst]\n",
    "    slave_sample_n = slave_sample[in_burst]\n",
    "\n",
    "    # load data\n",
    "    slave_view_n = round(Int,minimum(slave_line_n)): round(Int,maximum(slave_line_n)),\n",
    "                round(Int,minimum(slave_sample_n)): round(Int,maximum(slave_sample_n))\n",
    "    slave_data = Load.slc_data(slave_data_path, slave_view_n);\n",
    "    save_mean_data(slave_data, \"original\")\n",
    "    \n",
    "    # deramp\n",
    "    phi = SlcUtil.phase_ramp(Misc.flatten(slave_view_n...)..., n_slave, meta[2], v_mid[n_slave]);\n",
    "    slave_data = slave_data .* reshape(exp.(-phi .* im), size(slave_data));\n",
    "    save_mean_data(slave_data, \"deramped\")\n",
    "    \n",
    "    # dimension of resample\n",
    "    dim = (convert(Int,length(master_line_n)/length(master_view[2])),length(master_view[2]))\n",
    "\n",
    "    #resample\n",
    "    slave_data = Misc.resample(slave_view_n,slave_data,slave_line_n,slave_sample_n)\n",
    "    slave_data = reshape(slave_data, dim);\n",
    "\n",
    "    # reramp\n",
    "    phi = SlcUtil.phase_ramp(slave_line_n, slave_sample_n, n_slave, meta[2], v_mid[n_slave])\n",
    "    slave_data = slave_data .* reshape(exp.(phi .* im), dim);\n",
    "    save_mean_data(slave_data, \"reramped\")\n",
    "    save_mean_data(reshape(exp.(phi .* im), dim), \"chirp\")\n",
    "\n",
    "    # flat_inferogram\n",
    "    flat = exp.(4*pi.*(master_sample_n.-slave_sample_n).*range_pixel_spacing./lambda.*im)\n",
    "    flat = reshape(flat,dim);\n",
    "\n",
    "    # store results\n",
    "    coreg_slave[(start_line_master:end_line_master) .- (master_view[1].start-1),:] .= slave_data\n",
    "    flat_inferogram[(start_line_master:end_line_master) .- (master_view[1].start-1),:] .= flat\n",
    "end\n",
    "\n",
    "# remove the slave goemtry and return the dict as geo_ref_table\n",
    "delete!(lut, \"slave_sample\")\n",
    "delete!(lut, \"slave_line\")\n",
    "geo_ref_table = lut;"
   ]
  },
  {
   "cell_type": "code",
   "execution_count": 14,
   "metadata": {},
   "outputs": [
    {
     "name": "stderr",
     "output_type": "stream",
     "text": [
      "proj_create: init=epsg:/init=IGNF: syntax not supported in non-PROJ4 emulation mode\n"
     ]
    }
   ],
   "source": [
    "# If you want to see the data\n",
    "# master_data = Load.slc_data(master_data_path,master_view);\n",
    "# SlcUtil.plot_phase(master_data.* conj.(coreg_slave) .* flat_inferogram)"
   ]
  }
 ],
 "metadata": {
  "kernelspec": {
   "display_name": "Julia 1.1.1",
   "language": "julia",
   "name": "julia-1.1"
  },
  "language_info": {
   "file_extension": ".jl",
   "mimetype": "application/julia",
   "name": "julia",
   "version": "1.1.1"
  }
 },
 "nbformat": 4,
 "nbformat_minor": 2
}
