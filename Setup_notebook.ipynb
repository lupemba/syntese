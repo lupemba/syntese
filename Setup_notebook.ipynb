{
 "cells": [
  {
   "cell_type": "markdown",
   "metadata": {},
   "source": [
    "# How to setup up julia"
   ]
  },
  {
   "cell_type": "markdown",
   "metadata": {},
   "source": [
    "### IJulia\n",
    "Start by installing IJulia if jupyter notebook does not work. It is done by opening julia in the terminal \\\n",
    "```$ julia``` \\\n",
    "Then install the IJulia pakage with\\\n",
    "```(julia)$ import Pkg```\\\n",
    "```(julia)$ Pkg.add(\"IJulia\")```"
   ]
  },
  {
   "cell_type": "markdown",
   "metadata": {},
   "source": [
    "### Setup Anaconda\n",
    "Install Anacondonda if not already installed. The ```curl``` bash command can be used to dowload the installer. Test instalation with ```$ conda --version``` you might have to restart the terminal \n",
    "\n",
    "#### setup environment\n",
    "Lets setup up af python enevironment with the right pakages. We will call it \"sentinel\"\n",
    "\n",
    "```$conda create -c conda-forge -n sentinel numpy rasterio scipy```\n",
    "\n"
   ]
  },
  {
   "cell_type": "markdown",
   "metadata": {},
   "source": [
    "### Install Julia pakages"
   ]
  },
  {
   "cell_type": "code",
   "execution_count": 3,
   "metadata": {},
   "outputs": [
    {
     "name": "stdout",
     "output_type": "stream",
     "text": [
      "\u001b[32m\u001b[1m  Updating\u001b[22m\u001b[39m registry at `~/.julia/registries/General`\n",
      "\u001b[32m\u001b[1m  Updating\u001b[22m\u001b[39m git-repo `https://github.com/JuliaRegistries/General.git`\n",
      "\u001b[2K\u001b[?25h[1mFetching:\u001b[22m\u001b[39m [========================================>]  100.0 %.0 %]  43.2 %\u001b[36m\u001b[1mFetching:\u001b[22m\u001b[39m [============================>            ]  68.7 %\u001b[32m\u001b[1m Resolving\u001b[22m\u001b[39m package versions...\n",
      "\u001b[32m\u001b[1m Installed\u001b[22m\u001b[39m IntelOpenMP_jll ─────────── v2018.0.3+0\n",
      "\u001b[32m\u001b[1m Installed\u001b[22m\u001b[39m RangeArrays ─────────────── v0.3.2\n",
      "\u001b[32m\u001b[1m Installed\u001b[22m\u001b[39m ImageShow ───────────────── v0.2.3\n",
      "\u001b[32m\u001b[1m Installed\u001b[22m\u001b[39m PaddedViews ─────────────── v0.5.3\n",
      "\u001b[32m\u001b[1m Installed\u001b[22m\u001b[39m ImageTransformations ────── v0.8.3\n",
      "\u001b[32m\u001b[1m Installed\u001b[22m\u001b[39m StatsBase ───────────────── v0.32.2\n",
      "\u001b[32m\u001b[1m Installed\u001b[22m\u001b[39m Images ──────────────────── v0.22.0\n",
      "\u001b[32m\u001b[1m Installed\u001b[22m\u001b[39m EllipsisNotation ────────── v0.4.0\n",
      "\u001b[32m\u001b[1m Installed\u001b[22m\u001b[39m Interpolations ──────────── v0.12.5\n",
      "\u001b[32m\u001b[1m Installed\u001b[22m\u001b[39m MacroTools ──────────────── v0.5.4\n",
      "\u001b[32m\u001b[1m Installed\u001b[22m\u001b[39m Ratios ──────────────────── v0.4.0\n",
      "\u001b[32m\u001b[1m Installed\u001b[22m\u001b[39m ImageDistances ──────────── v0.2.7\n",
      "\u001b[32m\u001b[1m Installed\u001b[22m\u001b[39m ComputationalResources ──── v0.3.1\n",
      "\u001b[32m\u001b[1m Installed\u001b[22m\u001b[39m FFTViews ────────────────── v0.3.1\n",
      "\u001b[32m\u001b[1m Installed\u001b[22m\u001b[39m DataAPI ─────────────────── v1.1.0\n",
      "\u001b[32m\u001b[1m Installed\u001b[22m\u001b[39m ImageCore ───────────────── v0.8.11\n",
      "\u001b[32m\u001b[1m Installed\u001b[22m\u001b[39m MappedArrays ────────────── v0.2.2\n",
      "\u001b[32m\u001b[1m Installed\u001b[22m\u001b[39m SimpleTraits ────────────── v0.9.1\n",
      "\u001b[32m\u001b[1m Installed\u001b[22m\u001b[39m FFTW ────────────────────── v1.2.0\n",
      "\u001b[32m\u001b[1m Installed\u001b[22m\u001b[39m ImageMetadata ───────────── v0.9.0\n",
      "\u001b[32m\u001b[1m Installed\u001b[22m\u001b[39m CoordinateTransformations ─ v0.5.1\n",
      "\u001b[32m\u001b[1m Installed\u001b[22m\u001b[39m IdentityRanges ──────────── v0.3.1\n",
      "\u001b[32m\u001b[1m Installed\u001b[22m\u001b[39m Requires ────────────────── v1.0.1\n",
      "\u001b[32m\u001b[1m Installed\u001b[22m\u001b[39m Distances ───────────────── v0.8.2\n",
      "\u001b[32m\u001b[1m Installed\u001b[22m\u001b[39m CatIndices ──────────────── v0.2.1\n",
      "\u001b[32m\u001b[1m Installed\u001b[22m\u001b[39m Graphics ────────────────── v1.0.1\n",
      "\u001b[32m\u001b[1m Installed\u001b[22m\u001b[39m AxisArrays ──────────────── v0.4.2\n",
      "\u001b[32m\u001b[1m Installed\u001b[22m\u001b[39m ColorTypes ──────────────── v0.9.1\n",
      "\u001b[32m\u001b[1m Installed\u001b[22m\u001b[39m Compat ──────────────────── v3.8.0\n",
      "\u001b[32m\u001b[1m Installed\u001b[22m\u001b[39m WoodburyMatrices ────────── v0.5.1\n",
      "\u001b[32m\u001b[1m Installed\u001b[22m\u001b[39m ColorVectorSpace ────────── v0.8.3\n",
      "\u001b[32m\u001b[1m Installed\u001b[22m\u001b[39m OffsetArrays ────────────── v1.0.3\n",
      "\u001b[32m\u001b[1m Installed\u001b[22m\u001b[39m FixedPointNumbers ───────── v0.7.1\n",
      "\u001b[32m\u001b[1m Installed\u001b[22m\u001b[39m ImageMorphology ─────────── v0.2.5\n",
      "\u001b[32m\u001b[1m Installed\u001b[22m\u001b[39m AbstractFFTs ────────────── v0.5.0\n",
      "\u001b[32m\u001b[1m Installed\u001b[22m\u001b[39m CustomUnitRanges ────────── v1.0.0\n",
      "\u001b[32m\u001b[1m Installed\u001b[22m\u001b[39m IntervalSets ────────────── v0.4.0\n",
      "\u001b[32m\u001b[1m Installed\u001b[22m\u001b[39m Colors ──────────────────── v0.11.2\n",
      "\u001b[32m\u001b[1m Installed\u001b[22m\u001b[39m SortingAlgorithms ───────── v0.3.1\n",
      "\u001b[32m\u001b[1m Installed\u001b[22m\u001b[39m AxisAlgorithms ──────────── v1.0.0\n",
      "\u001b[32m\u001b[1m Installed\u001b[22m\u001b[39m Rotations ───────────────── v0.13.0\n",
      "\u001b[32m\u001b[1m Installed\u001b[22m\u001b[39m Reexport ────────────────── v0.2.0\n",
      "\u001b[32m\u001b[1m Installed\u001b[22m\u001b[39m ImageContrastAdjustment ─── v0.3.3\n",
      "\u001b[32m\u001b[1m Installed\u001b[22m\u001b[39m ImageAxes ───────────────── v0.6.4\n",
      "\u001b[32m\u001b[1m Installed\u001b[22m\u001b[39m TiledIteration ──────────── v0.2.4\n",
      "\u001b[32m\u001b[1m Installed\u001b[22m\u001b[39m Parameters ──────────────── v0.12.0\n",
      "\u001b[32m\u001b[1m Installed\u001b[22m\u001b[39m ImageQualityIndexes ─────── v0.1.3\n",
      "\u001b[32m\u001b[1m Installed\u001b[22m\u001b[39m MKL_jll ─────────────────── v2019.0.117+2\n",
      "\u001b[32m\u001b[1m Installed\u001b[22m\u001b[39m Missings ────────────────── v0.4.3\n",
      "\u001b[32m\u001b[1m Installed\u001b[22m\u001b[39m IndirectArrays ──────────── v0.5.1\n",
      "\u001b[32m\u001b[1m Installed\u001b[22m\u001b[39m FFTW_jll ────────────────── v3.3.9+4\n",
      "\u001b[32m\u001b[1m Installed\u001b[22m\u001b[39m ImageFiltering ──────────── v0.6.11\n",
      "\u001b[32m\u001b[1m Installed\u001b[22m\u001b[39m FileIO ──────────────────── v1.2.3\n",
      "\u001b[32m\u001b[1m  Updating\u001b[22m\u001b[39m `~/.julia/environments/v1.3/Project.toml`\n",
      " \u001b[90m [916415d5]\u001b[39m\u001b[92m + Images v0.22.0\u001b[39m\n",
      "\u001b[32m\u001b[1m  Updating\u001b[22m\u001b[39m `~/.julia/environments/v1.3/Manifest.toml`\n",
      " \u001b[90m [621f4979]\u001b[39m\u001b[92m + AbstractFFTs v0.5.0\u001b[39m\n",
      " \u001b[90m [13072b0f]\u001b[39m\u001b[92m + AxisAlgorithms v1.0.0\u001b[39m\n",
      " \u001b[90m [39de3d68]\u001b[39m\u001b[92m + AxisArrays v0.4.2\u001b[39m\n",
      " \u001b[90m [aafaddc9]\u001b[39m\u001b[92m + CatIndices v0.2.1\u001b[39m\n",
      " \u001b[90m [3da002f7]\u001b[39m\u001b[92m + ColorTypes v0.9.1\u001b[39m\n",
      " \u001b[90m [c3611d14]\u001b[39m\u001b[92m + ColorVectorSpace v0.8.3\u001b[39m\n",
      " \u001b[90m [5ae59095]\u001b[39m\u001b[92m + Colors v0.11.2\u001b[39m\n",
      " \u001b[90m [34da2185]\u001b[39m\u001b[92m + Compat v3.8.0\u001b[39m\n",
      " \u001b[90m [ed09eef8]\u001b[39m\u001b[92m + ComputationalResources v0.3.1\u001b[39m\n",
      " \u001b[90m [150eb455]\u001b[39m\u001b[92m + CoordinateTransformations v0.5.1\u001b[39m\n",
      " \u001b[90m [dc8bdbbb]\u001b[39m\u001b[92m + CustomUnitRanges v1.0.0\u001b[39m\n",
      " \u001b[90m [9a962f9c]\u001b[39m\u001b[92m + DataAPI v1.1.0\u001b[39m\n",
      " \u001b[90m [b4f34e82]\u001b[39m\u001b[92m + Distances v0.8.2\u001b[39m\n",
      " \u001b[90m [da5c29d0]\u001b[39m\u001b[92m + EllipsisNotation v0.4.0\u001b[39m\n",
      " \u001b[90m [4f61f5a4]\u001b[39m\u001b[92m + FFTViews v0.3.1\u001b[39m\n",
      " \u001b[90m [7a1cc6ca]\u001b[39m\u001b[92m + FFTW v1.2.0\u001b[39m\n",
      " \u001b[90m [f5851436]\u001b[39m\u001b[92m + FFTW_jll v3.3.9+4\u001b[39m\n",
      " \u001b[90m [5789e2e9]\u001b[39m\u001b[92m + FileIO v1.2.3\u001b[39m\n",
      " \u001b[90m [53c48c17]\u001b[39m\u001b[92m + FixedPointNumbers v0.7.1\u001b[39m\n",
      " \u001b[90m [a2bd30eb]\u001b[39m\u001b[92m + Graphics v1.0.1\u001b[39m\n",
      " \u001b[90m [bbac6d45]\u001b[39m\u001b[92m + IdentityRanges v0.3.1\u001b[39m\n",
      " \u001b[90m [2803e5a7]\u001b[39m\u001b[92m + ImageAxes v0.6.4\u001b[39m\n",
      " \u001b[90m [f332f351]\u001b[39m\u001b[92m + ImageContrastAdjustment v0.3.3\u001b[39m\n",
      " \u001b[90m [a09fc81d]\u001b[39m\u001b[92m + ImageCore v0.8.11\u001b[39m\n",
      " \u001b[90m [51556ac3]\u001b[39m\u001b[92m + ImageDistances v0.2.7\u001b[39m\n",
      " \u001b[90m [6a3955dd]\u001b[39m\u001b[92m + ImageFiltering v0.6.11\u001b[39m\n",
      " \u001b[90m [bc367c6b]\u001b[39m\u001b[92m + ImageMetadata v0.9.0\u001b[39m\n",
      " \u001b[90m [787d08f9]\u001b[39m\u001b[92m + ImageMorphology v0.2.5\u001b[39m\n",
      " \u001b[90m [2996bd0c]\u001b[39m\u001b[92m + ImageQualityIndexes v0.1.3\u001b[39m\n",
      " \u001b[90m [4e3cecfd]\u001b[39m\u001b[92m + ImageShow v0.2.3\u001b[39m\n",
      " \u001b[90m [02fcd773]\u001b[39m\u001b[92m + ImageTransformations v0.8.3\u001b[39m\n",
      " \u001b[90m [916415d5]\u001b[39m\u001b[92m + Images v0.22.0\u001b[39m\n",
      " \u001b[90m [9b13fd28]\u001b[39m\u001b[92m + IndirectArrays v0.5.1\u001b[39m\n",
      " \u001b[90m [1d5cc7b8]\u001b[39m\u001b[92m + IntelOpenMP_jll v2018.0.3+0\u001b[39m\n",
      " \u001b[90m [a98d9a8b]\u001b[39m\u001b[92m + Interpolations v0.12.5\u001b[39m\n",
      " \u001b[90m [8197267c]\u001b[39m\u001b[92m + IntervalSets v0.4.0\u001b[39m\n",
      " \u001b[90m [856f044c]\u001b[39m\u001b[92m + MKL_jll v2019.0.117+2\u001b[39m\n",
      " \u001b[90m [1914dd2f]\u001b[39m\u001b[92m + MacroTools v0.5.4\u001b[39m\n",
      " \u001b[90m [dbb5928d]\u001b[39m\u001b[92m + MappedArrays v0.2.2\u001b[39m\n",
      " \u001b[90m [e1d29d7a]\u001b[39m\u001b[92m + Missings v0.4.3\u001b[39m\n",
      " \u001b[90m [6fe1bfb0]\u001b[39m\u001b[92m + OffsetArrays v1.0.3\u001b[39m\n",
      " \u001b[90m [5432bcbf]\u001b[39m\u001b[92m + PaddedViews v0.5.3\u001b[39m\n",
      " \u001b[90m [d96e819e]\u001b[39m\u001b[92m + Parameters v0.12.0\u001b[39m\n",
      " \u001b[90m [b3c3ace0]\u001b[39m\u001b[92m + RangeArrays v0.3.2\u001b[39m\n",
      " \u001b[90m [c84ed2f1]\u001b[39m\u001b[92m + Ratios v0.4.0\u001b[39m\n",
      " \u001b[90m [189a3867]\u001b[39m\u001b[92m + Reexport v0.2.0\u001b[39m\n",
      " \u001b[90m [ae029012]\u001b[39m\u001b[92m + Requires v1.0.1\u001b[39m\n",
      " \u001b[90m [6038ab10]\u001b[39m\u001b[92m + Rotations v0.13.0\u001b[39m\n",
      " \u001b[90m [699a6c99]\u001b[39m\u001b[92m + SimpleTraits v0.9.1\u001b[39m\n",
      " \u001b[90m [a2af1166]\u001b[39m\u001b[92m + SortingAlgorithms v0.3.1\u001b[39m\n",
      " \u001b[90m [2913bbd2]\u001b[39m\u001b[92m + StatsBase v0.32.2\u001b[39m\n",
      " \u001b[90m [06e1c1a7]\u001b[39m\u001b[92m + TiledIteration v0.2.4\u001b[39m\n",
      " \u001b[90m [efce3f68]\u001b[39m\u001b[92m + WoodburyMatrices v0.5.1\u001b[39m\n",
      " \u001b[90m [8bb1440f]\u001b[39m\u001b[92m + DelimitedFiles \u001b[39m\n",
      " \u001b[90m [1a1011a3]\u001b[39m\u001b[92m + SharedArrays \u001b[39m\n",
      "\u001b[32m\u001b[1m  Building\u001b[22m\u001b[39m FFTW → `~/.julia/packages/FFTW/qqcBj/deps/build.log`\n",
      "\u001b[32m\u001b[1m Resolving\u001b[22m\u001b[39m package versions...\n",
      "\u001b[32m\u001b[1m Installed\u001b[22m\u001b[39m PyCall ─ v1.91.4\n",
      "\u001b[32m\u001b[1m  Updating\u001b[22m\u001b[39m `~/.julia/environments/v1.3/Project.toml`\n",
      " \u001b[90m [438e738f]\u001b[39m\u001b[92m + PyCall v1.91.4\u001b[39m\n",
      "\u001b[32m\u001b[1m  Updating\u001b[22m\u001b[39m `~/.julia/environments/v1.3/Manifest.toml`\n",
      " \u001b[90m [438e738f]\u001b[39m\u001b[92m + PyCall v1.91.4\u001b[39m\n",
      "\u001b[32m\u001b[1m  Building\u001b[22m\u001b[39m PyCall → `~/.julia/packages/PyCall/zqDXB/deps/build.log`\n",
      "\u001b[32m\u001b[1m Resolving\u001b[22m\u001b[39m package versions...\n",
      "\u001b[32m\u001b[1m  Updating\u001b[22m\u001b[39m `~/.julia/environments/v1.3/Project.toml`\n",
      " \u001b[90m [8f5d6c58]\u001b[39m\u001b[92m + EzXML v1.1.0\u001b[39m\n",
      "\u001b[32m\u001b[1m  Updating\u001b[22m\u001b[39m `~/.julia/environments/v1.3/Manifest.toml`\n",
      "\u001b[90m [no changes]\u001b[39m\n",
      "\u001b[32m\u001b[1m Resolving\u001b[22m\u001b[39m package versions...\n",
      "\u001b[32m\u001b[1m  Updating\u001b[22m\u001b[39m `~/.julia/environments/v1.3/Project.toml`\n",
      " \u001b[90m [cd3eb016]\u001b[39m\u001b[92m + HTTP v0.8.12\u001b[39m\n",
      "\u001b[32m\u001b[1m  Updating\u001b[22m\u001b[39m `~/.julia/environments/v1.3/Manifest.toml`\n",
      "\u001b[90m [no changes]\u001b[39m\n",
      "\u001b[32m\u001b[1m Resolving\u001b[22m\u001b[39m package versions...\n",
      "\u001b[32m\u001b[1m  Updating\u001b[22m\u001b[39m `~/.julia/environments/v1.3/Project.toml`\n",
      " \u001b[90m [682c06a0]\u001b[39m\u001b[92m + JSON v0.21.0\u001b[39m\n",
      "\u001b[32m\u001b[1m  Updating\u001b[22m\u001b[39m `~/.julia/environments/v1.3/Manifest.toml`\n",
      "\u001b[90m [no changes]\u001b[39m\n",
      "\u001b[32m\u001b[1m Resolving\u001b[22m\u001b[39m package versions...\n"
     ]
    },
    {
     "name": "stdout",
     "output_type": "stream",
     "text": [
      "\u001b[32m\u001b[1m Installed\u001b[22m\u001b[39m RecipesBase ─ v0.8.0\n",
      "\u001b[32m\u001b[1m Installed\u001b[22m\u001b[39m Polynomials ─ v0.6.1\n",
      "\u001b[32m\u001b[1m  Updating\u001b[22m\u001b[39m `~/.julia/environments/v1.3/Project.toml`\n",
      " \u001b[90m [f27b6e38]\u001b[39m\u001b[92m + Polynomials v0.6.1\u001b[39m\n",
      "\u001b[32m\u001b[1m  Updating\u001b[22m\u001b[39m `~/.julia/environments/v1.3/Manifest.toml`\n",
      " \u001b[90m [f27b6e38]\u001b[39m\u001b[92m + Polynomials v0.6.1\u001b[39m\n",
      " \u001b[90m [3cdcf5f2]\u001b[39m\u001b[92m + RecipesBase v0.8.0\u001b[39m\n",
      "\u001b[32m\u001b[1m Resolving\u001b[22m\u001b[39m package versions...\n",
      "\u001b[32m\u001b[1m Installed\u001b[22m\u001b[39m libpng_jll ────── v1.6.37+2\n",
      "\u001b[32m\u001b[1m Installed\u001b[22m\u001b[39m Libtiff_jll ───── v4.0.10+0\n",
      "\u001b[32m\u001b[1m Installed\u001b[22m\u001b[39m Zstd_jll ──────── v1.4.4+0\n",
      "\u001b[32m\u001b[1m Installed\u001b[22m\u001b[39m ImageMagick_jll ─ v6.9.10-12+0\n",
      "\u001b[32m\u001b[1m Installed\u001b[22m\u001b[39m ImageMagick ───── v1.1.3\n",
      "\u001b[32m\u001b[1m Installed\u001b[22m\u001b[39m JpegTurbo_jll ─── v2.0.1+0\n",
      "\u001b[32m\u001b[1m  Updating\u001b[22m\u001b[39m `~/.julia/environments/v1.3/Project.toml`\n",
      " \u001b[90m [6218d12a]\u001b[39m\u001b[92m + ImageMagick v1.1.3\u001b[39m\n",
      "\u001b[32m\u001b[1m  Updating\u001b[22m\u001b[39m `~/.julia/environments/v1.3/Manifest.toml`\n",
      " \u001b[90m [6218d12a]\u001b[39m\u001b[92m + ImageMagick v1.1.3\u001b[39m\n",
      " \u001b[90m [c73af94c]\u001b[39m\u001b[92m + ImageMagick_jll v6.9.10-12+0\u001b[39m\n",
      " \u001b[90m [aacddb02]\u001b[39m\u001b[92m + JpegTurbo_jll v2.0.1+0\u001b[39m\n",
      " \u001b[90m [89763e89]\u001b[39m\u001b[92m + Libtiff_jll v4.0.10+0\u001b[39m\n",
      " \u001b[90m [3161d3a3]\u001b[39m\u001b[92m + Zstd_jll v1.4.4+0\u001b[39m\n",
      " \u001b[90m [b53b4c65]\u001b[39m\u001b[92m + libpng_jll v1.6.37+2\u001b[39m\n"
     ]
    }
   ],
   "source": [
    "using Pkg \n",
    "Pkg.add(\"Images\")\n",
    "Pkg.add(\"Colors\")\n",
    "Pkg.add(\"PyCall\")\n",
    "Pkg.add(\"EzXML\")\n",
    "Pkg.add(\"XMLDict\")\n",
    "Pkg.add(\"HTTP\")\n",
    "Pkg.add(\"JSON\")\n",
    "Pkg.add(\"Polynomials\")\n",
    "Pkg.add(\"ImageMagick\")"
   ]
  },
  {
   "cell_type": "markdown",
   "metadata": {},
   "source": [
    "## Link PyCall with python environment\n",
    "First step is to find the python executable of the environment. This is done by activating the environment and then asking for the path \\\n",
    "```$ source activate sentinel```\\\n",
    "```(sentinel)$ which python3``` \\\n",
    "In my case this returns \"/home/data/simon/anaconda3/envs/sentinel/bin/python3\"\\\n",
    "We are biw ready to update PyCall"
   ]
  },
  {
   "cell_type": "code",
   "execution_count": 6,
   "metadata": {},
   "outputs": [
    {
     "name": "stderr",
     "output_type": "stream",
     "text": [
      "┌ Info: Precompiling PyCall [438e738f-606a-5dbb-bf0a-cddfbfd45ab0]\n",
      "└ @ Base loading.jl:1273\n"
     ]
    },
    {
     "name": "stdout",
     "output_type": "stream",
     "text": [
      "\u001b[32m\u001b[1m  Building\u001b[22m\u001b[39m Conda ─→ `~/.julia/packages/Conda/3rPhK/deps/build.log`\n",
      "\u001b[32m\u001b[1m  Building\u001b[22m\u001b[39m PyCall → `~/.julia/packages/PyCall/zqDXB/deps/build.log`\n"
     ]
    },
    {
     "data": {
      "text/plain": [
       "false"
      ]
     },
     "execution_count": 6,
     "metadata": {},
     "output_type": "execute_result"
    }
   ],
   "source": [
    "using Pkg\n",
    "using PyCall\n",
    "ENV[\"PYTHON\"] = \"/home/data/simon/anaconda3/envs/sentinel/bin/python3\"\n",
    "Pkg.build(\"PyCall\")"
   ]
  },
  {
   "cell_type": "markdown",
   "metadata": {},
   "source": [
    "#### Chek (You may have to restart the kernel to do this)"
   ]
  },
  {
   "cell_type": "markdown",
   "metadata": {},
   "source": [
    "Check wich python is used. It should return the path to your python environment"
   ]
  },
  {
   "cell_type": "code",
   "execution_count": 11,
   "metadata": {
    "scrolled": true
   },
   "outputs": [
    {
     "data": {
      "text/plain": [
       "\"/home/data/simon/anaconda3/envs/sentinel/bin/python3\""
      ]
     },
     "execution_count": 11,
     "metadata": {},
     "output_type": "execute_result"
    }
   ],
   "source": [
    "PyCall.pyprogramname"
   ]
  },
  {
   "cell_type": "markdown",
   "metadata": {},
   "source": [
    "Check that pycall can import rasterio without error"
   ]
  },
  {
   "cell_type": "code",
   "execution_count": 12,
   "metadata": {},
   "outputs": [],
   "source": [
    "rasterio = pyimport(\"rasterio\");"
   ]
  },
  {
   "cell_type": "markdown",
   "metadata": {},
   "source": [
    "### End\n",
    "You should now be ready to use the toolbox and all its functions \n"
   ]
  }
 ],
 "metadata": {
  "kernelspec": {
   "display_name": "Julia 1.3.1",
   "language": "julia",
   "name": "julia-1.3"
  },
  "language_info": {
   "file_extension": ".jl",
   "mimetype": "application/julia",
   "name": "julia",
   "version": "1.3.1"
  }
 },
 "nbformat": 4,
 "nbformat_minor": 2
}
